{
  "nbformat": 4,
  "nbformat_minor": 0,
  "metadata": {
    "colab": {
      "name": "YCSA.ipynb",
      "provenance": [],
      "collapsed_sections": [],
      "toc_visible": true,
      "authorship_tag": "ABX9TyM1jY/+rz62StW0PQ3/99ab",
      "include_colab_link": true
    },
    "kernelspec": {
      "name": "python3",
      "display_name": "Python 3"
    },
    "language_info": {
      "name": "python"
    }
  },
  "cells": [
    {
      "cell_type": "markdown",
      "metadata": {
        "id": "view-in-github",
        "colab_type": "text"
      },
      "source": [
        "<a href=\"https://colab.research.google.com/github/Adiboy77/YCSA/blob/main/YCSA.ipynb\" target=\"_parent\"><img src=\"https://colab.research.google.com/assets/colab-badge.svg\" alt=\"Open In Colab\"/></a>"
      ]
    },
    {
      "cell_type": "code",
      "execution_count": 1,
      "metadata": {
        "colab": {
          "base_uri": "https://localhost:8080/"
        },
        "id": "6D5tEV6USOhm",
        "outputId": "814e66df-0f1d-4e35-99f9-8510b4829cf9"
      },
      "outputs": [
        {
          "output_type": "stream",
          "name": "stdout",
          "text": [
            "Mounted at /gdrive\n"
          ]
        }
      ],
      "source": [
        "from google.colab import drive\n",
        "drive.mount('/gdrive')"
      ]
    },
    {
      "cell_type": "code",
      "source": [
        "pip install -U scikit-learn"
      ],
      "metadata": {
        "colab": {
          "base_uri": "https://localhost:8080/"
        },
        "id": "tkKMIuC6SfBd",
        "outputId": "7e86cd94-5bc7-447d-d2a1-7cbb77c35bc7"
      },
      "execution_count": 2,
      "outputs": [
        {
          "output_type": "stream",
          "name": "stdout",
          "text": [
            "Looking in indexes: https://pypi.org/simple, https://us-python.pkg.dev/colab-wheels/public/simple/\n",
            "Requirement already satisfied: scikit-learn in /usr/local/lib/python3.7/dist-packages (1.0.2)\n",
            "Requirement already satisfied: scipy>=1.1.0 in /usr/local/lib/python3.7/dist-packages (from scikit-learn) (1.4.1)\n",
            "Requirement already satisfied: joblib>=0.11 in /usr/local/lib/python3.7/dist-packages (from scikit-learn) (1.1.0)\n",
            "Requirement already satisfied: threadpoolctl>=2.0.0 in /usr/local/lib/python3.7/dist-packages (from scikit-learn) (3.1.0)\n",
            "Requirement already satisfied: numpy>=1.14.6 in /usr/local/lib/python3.7/dist-packages (from scikit-learn) (1.21.6)\n"
          ]
        }
      ]
    },
    {
      "cell_type": "code",
      "source": [
        "from google.colab import drive\n",
        "drive.mount('/content/drive')"
      ],
      "metadata": {
        "colab": {
          "base_uri": "https://localhost:8080/"
        },
        "id": "N8OUmqF-TW9Q",
        "outputId": "18ebb67f-f02c-4c72-de63-c3568060f4ee"
      },
      "execution_count": 3,
      "outputs": [
        {
          "output_type": "stream",
          "name": "stdout",
          "text": [
            "Mounted at /content/drive\n"
          ]
        }
      ]
    },
    {
      "cell_type": "code",
      "source": [
        "import numpy as np # linear algebra\n",
        "import pandas as pd # data processing, CSV file I/O (e.g. pd.read_csv)\n",
        "import os\n",
        "import scipy\n",
        "\n",
        "\n",
        "import warnings\n",
        "warnings.filterwarnings(\"ignore\")"
      ],
      "metadata": {
        "id": "EGy1dx-3Taev"
      },
      "execution_count": 6,
      "outputs": []
    },
    {
      "cell_type": "code",
      "source": [
        "from textblob import TextBlob\n",
        "from sklearn import metrics\n",
        "from mlxtend.plotting import plot_confusion_matrix"
      ],
      "metadata": {
        "id": "-K6v1AlUUaMx"
      },
      "execution_count": 7,
      "outputs": []
    },
    {
      "cell_type": "code",
      "source": [
        "ls"
      ],
      "metadata": {
        "colab": {
          "base_uri": "https://localhost:8080/"
        },
        "id": "XPgQD2zTUdVW",
        "outputId": "870c84b0-35cb-4365-b7f3-b3783b1e26a4"
      },
      "execution_count": 8,
      "outputs": [
        {
          "output_type": "stream",
          "name": "stdout",
          "text": [
            "\u001b[0m\u001b[01;34mdrive\u001b[0m/  \u001b[01;34msample_data\u001b[0m/\n"
          ]
        }
      ]
    },
    {
      "cell_type": "code",
      "source": [
        "import os\n",
        "os.chdir(\"/content/drive/MyDrive/\")"
      ],
      "metadata": {
        "id": "r2MdPJEZUimE"
      },
      "execution_count": 13,
      "outputs": []
    },
    {
      "cell_type": "code",
      "source": [
        "data = pd.read_csv(\"uthoobComm - Sheet4.csv\")"
      ],
      "metadata": {
        "id": "EV_5SPVwWFPN"
      },
      "execution_count": 14,
      "outputs": []
    },
    {
      "cell_type": "code",
      "source": [
        "data.head()"
      ],
      "metadata": {
        "colab": {
          "base_uri": "https://localhost:8080/",
          "height": 206
        },
        "id": "mQnvVl6qWSqu",
        "outputId": "52db64e0-38c7-4a34-b8b9-314eb7b2c482"
      },
      "execution_count": 15,
      "outputs": [
        {
          "output_type": "execute_result",
          "data": {
            "text/plain": [
              "              Name                                            Comment  \\\n",
              "0     Daljit Babbu                                              🙏🙏🙏🙏🙏   \n",
              "1   Rupinder Singh                  No words for this beautiful qwali   \n",
              "2    Kiran Mahajan                             Best qawali ever👍👍♥️♥️   \n",
              "3            Grace  🌹🙏 महान कलाकार रूहों का कमाल का संगम <br>परम प...   \n",
              "4  Apne desi vlogs                                 Peachfull lyrics 😌   \n",
              "\n",
              "                   Time  Likes  Reply Count  \n",
              "0  2022-07-03T20:23:31Z      1            0  \n",
              "1  2022-07-03T17:31:08Z      1            0  \n",
              "2  2022-07-03T14:34:25Z      1            0  \n",
              "3  2022-07-03T13:24:50Z      1            0  \n",
              "4  2022-07-03T13:06:21Z      0            0  "
            ],
            "text/html": [
              "\n",
              "  <div id=\"df-6b7a40b1-c0d8-4ee9-a11c-9bf625a351f6\">\n",
              "    <div class=\"colab-df-container\">\n",
              "      <div>\n",
              "<style scoped>\n",
              "    .dataframe tbody tr th:only-of-type {\n",
              "        vertical-align: middle;\n",
              "    }\n",
              "\n",
              "    .dataframe tbody tr th {\n",
              "        vertical-align: top;\n",
              "    }\n",
              "\n",
              "    .dataframe thead th {\n",
              "        text-align: right;\n",
              "    }\n",
              "</style>\n",
              "<table border=\"1\" class=\"dataframe\">\n",
              "  <thead>\n",
              "    <tr style=\"text-align: right;\">\n",
              "      <th></th>\n",
              "      <th>Name</th>\n",
              "      <th>Comment</th>\n",
              "      <th>Time</th>\n",
              "      <th>Likes</th>\n",
              "      <th>Reply Count</th>\n",
              "    </tr>\n",
              "  </thead>\n",
              "  <tbody>\n",
              "    <tr>\n",
              "      <th>0</th>\n",
              "      <td>Daljit Babbu</td>\n",
              "      <td>🙏🙏🙏🙏🙏</td>\n",
              "      <td>2022-07-03T20:23:31Z</td>\n",
              "      <td>1</td>\n",
              "      <td>0</td>\n",
              "    </tr>\n",
              "    <tr>\n",
              "      <th>1</th>\n",
              "      <td>Rupinder Singh</td>\n",
              "      <td>No words for this beautiful qwali</td>\n",
              "      <td>2022-07-03T17:31:08Z</td>\n",
              "      <td>1</td>\n",
              "      <td>0</td>\n",
              "    </tr>\n",
              "    <tr>\n",
              "      <th>2</th>\n",
              "      <td>Kiran Mahajan</td>\n",
              "      <td>Best qawali ever👍👍♥️♥️</td>\n",
              "      <td>2022-07-03T14:34:25Z</td>\n",
              "      <td>1</td>\n",
              "      <td>0</td>\n",
              "    </tr>\n",
              "    <tr>\n",
              "      <th>3</th>\n",
              "      <td>Grace</td>\n",
              "      <td>🌹🙏 महान कलाकार रूहों का कमाल का संगम &lt;br&gt;परम प...</td>\n",
              "      <td>2022-07-03T13:24:50Z</td>\n",
              "      <td>1</td>\n",
              "      <td>0</td>\n",
              "    </tr>\n",
              "    <tr>\n",
              "      <th>4</th>\n",
              "      <td>Apne desi vlogs</td>\n",
              "      <td>Peachfull lyrics 😌</td>\n",
              "      <td>2022-07-03T13:06:21Z</td>\n",
              "      <td>0</td>\n",
              "      <td>0</td>\n",
              "    </tr>\n",
              "  </tbody>\n",
              "</table>\n",
              "</div>\n",
              "      <button class=\"colab-df-convert\" onclick=\"convertToInteractive('df-6b7a40b1-c0d8-4ee9-a11c-9bf625a351f6')\"\n",
              "              title=\"Convert this dataframe to an interactive table.\"\n",
              "              style=\"display:none;\">\n",
              "        \n",
              "  <svg xmlns=\"http://www.w3.org/2000/svg\" height=\"24px\"viewBox=\"0 0 24 24\"\n",
              "       width=\"24px\">\n",
              "    <path d=\"M0 0h24v24H0V0z\" fill=\"none\"/>\n",
              "    <path d=\"M18.56 5.44l.94 2.06.94-2.06 2.06-.94-2.06-.94-.94-2.06-.94 2.06-2.06.94zm-11 1L8.5 8.5l.94-2.06 2.06-.94-2.06-.94L8.5 2.5l-.94 2.06-2.06.94zm10 10l.94 2.06.94-2.06 2.06-.94-2.06-.94-.94-2.06-.94 2.06-2.06.94z\"/><path d=\"M17.41 7.96l-1.37-1.37c-.4-.4-.92-.59-1.43-.59-.52 0-1.04.2-1.43.59L10.3 9.45l-7.72 7.72c-.78.78-.78 2.05 0 2.83L4 21.41c.39.39.9.59 1.41.59.51 0 1.02-.2 1.41-.59l7.78-7.78 2.81-2.81c.8-.78.8-2.07 0-2.86zM5.41 20L4 18.59l7.72-7.72 1.47 1.35L5.41 20z\"/>\n",
              "  </svg>\n",
              "      </button>\n",
              "      \n",
              "  <style>\n",
              "    .colab-df-container {\n",
              "      display:flex;\n",
              "      flex-wrap:wrap;\n",
              "      gap: 12px;\n",
              "    }\n",
              "\n",
              "    .colab-df-convert {\n",
              "      background-color: #E8F0FE;\n",
              "      border: none;\n",
              "      border-radius: 50%;\n",
              "      cursor: pointer;\n",
              "      display: none;\n",
              "      fill: #1967D2;\n",
              "      height: 32px;\n",
              "      padding: 0 0 0 0;\n",
              "      width: 32px;\n",
              "    }\n",
              "\n",
              "    .colab-df-convert:hover {\n",
              "      background-color: #E2EBFA;\n",
              "      box-shadow: 0px 1px 2px rgba(60, 64, 67, 0.3), 0px 1px 3px 1px rgba(60, 64, 67, 0.15);\n",
              "      fill: #174EA6;\n",
              "    }\n",
              "\n",
              "    [theme=dark] .colab-df-convert {\n",
              "      background-color: #3B4455;\n",
              "      fill: #D2E3FC;\n",
              "    }\n",
              "\n",
              "    [theme=dark] .colab-df-convert:hover {\n",
              "      background-color: #434B5C;\n",
              "      box-shadow: 0px 1px 3px 1px rgba(0, 0, 0, 0.15);\n",
              "      filter: drop-shadow(0px 1px 2px rgba(0, 0, 0, 0.3));\n",
              "      fill: #FFFFFF;\n",
              "    }\n",
              "  </style>\n",
              "\n",
              "      <script>\n",
              "        const buttonEl =\n",
              "          document.querySelector('#df-6b7a40b1-c0d8-4ee9-a11c-9bf625a351f6 button.colab-df-convert');\n",
              "        buttonEl.style.display =\n",
              "          google.colab.kernel.accessAllowed ? 'block' : 'none';\n",
              "\n",
              "        async function convertToInteractive(key) {\n",
              "          const element = document.querySelector('#df-6b7a40b1-c0d8-4ee9-a11c-9bf625a351f6');\n",
              "          const dataTable =\n",
              "            await google.colab.kernel.invokeFunction('convertToInteractive',\n",
              "                                                     [key], {});\n",
              "          if (!dataTable) return;\n",
              "\n",
              "          const docLinkHtml = 'Like what you see? Visit the ' +\n",
              "            '<a target=\"_blank\" href=https://colab.research.google.com/notebooks/data_table.ipynb>data table notebook</a>'\n",
              "            + ' to learn more about interactive tables.';\n",
              "          element.innerHTML = '';\n",
              "          dataTable['output_type'] = 'display_data';\n",
              "          await google.colab.output.renderOutput(dataTable, element);\n",
              "          const docLink = document.createElement('div');\n",
              "          docLink.innerHTML = docLinkHtml;\n",
              "          element.appendChild(docLink);\n",
              "        }\n",
              "      </script>\n",
              "    </div>\n",
              "  </div>\n",
              "  "
            ]
          },
          "metadata": {},
          "execution_count": 15
        }
      ]
    },
    {
      "cell_type": "code",
      "source": [
        "data.shape"
      ],
      "metadata": {
        "colab": {
          "base_uri": "https://localhost:8080/"
        },
        "id": "Qv82ljUfW5Ru",
        "outputId": "8f72c77f-880c-42d8-b61e-37081eed9bba"
      },
      "execution_count": 16,
      "outputs": [
        {
          "output_type": "execute_result",
          "data": {
            "text/plain": [
              "(989, 5)"
            ]
          },
          "metadata": {},
          "execution_count": 16
        }
      ]
    },
    {
      "cell_type": "code",
      "source": [
        "data['polarity'] = data['Comment'].apply(lambda x: TextBlob(x).sentiment.polarity)"
      ],
      "metadata": {
        "id": "FQg66bA2W5C5"
      },
      "execution_count": 17,
      "outputs": []
    },
    {
      "cell_type": "code",
      "source": [
        "data.head"
      ],
      "metadata": {
        "colab": {
          "base_uri": "https://localhost:8080/"
        },
        "id": "bU-NbqQQXI9u",
        "outputId": "a435bc83-b21b-49d6-fdf9-ba9294270e7e"
      },
      "execution_count": 18,
      "outputs": [
        {
          "output_type": "execute_result",
          "data": {
            "text/plain": [
              "<bound method NDFrame.head of                 Name                                            Comment  \\\n",
              "0       Daljit Babbu                                              🙏🙏🙏🙏🙏   \n",
              "1     Rupinder Singh                  No words for this beautiful qwali   \n",
              "2      Kiran Mahajan                             Best qawali ever👍👍♥️♥️   \n",
              "3              Grace  🌹🙏 महान कलाकार रूहों का कमाल का संगम <br>परम प...   \n",
              "4    Apne desi vlogs                                 Peachfull lyrics 😌   \n",
              "..               ...                                                ...   \n",
              "984      Jassi kumar                                         ♥️♥️♥️♥️♥️   \n",
              "985   Gaurav Konshal                              ❤️❤️❤️❤️❤️❤️❤️❤️❤️❤️🙏   \n",
              "986   Tanveer Haider                                               Good   \n",
              "987  Mr Mahla Pb04 👈             Very very very very very nice 👍🙂👌👌👌👌👌👌   \n",
              "988             abid                                               Nice   \n",
              "\n",
              "                     Time  Likes  Reply Count  polarity  \n",
              "0    2022-07-03T20:23:31Z      1            0      0.00  \n",
              "1    2022-07-03T17:31:08Z      1            0      0.85  \n",
              "2    2022-07-03T14:34:25Z      1            0      1.00  \n",
              "3    2022-07-03T13:24:50Z      1            0      0.00  \n",
              "4    2022-07-03T13:06:21Z      0            0      0.00  \n",
              "..                    ...    ...          ...       ...  \n",
              "984  2021-06-10T07:59:32Z     18            0      0.00  \n",
              "985  2021-06-07T16:27:54Z     30            3      0.00  \n",
              "986  2021-04-16T05:52:20Z      6            0      0.70  \n",
              "987  2021-01-20T16:09:08Z     14            1      0.78  \n",
              "988  2021-01-04T09:16:07Z     10            0      0.60  \n",
              "\n",
              "[989 rows x 6 columns]>"
            ]
          },
          "metadata": {},
          "execution_count": 18
        }
      ]
    },
    {
      "cell_type": "code",
      "source": [
        ""
      ],
      "metadata": {
        "id": "pDbFbQjpXN1p"
      },
      "execution_count": null,
      "outputs": []
    },
    {
      "cell_type": "markdown",
      "source": [
        "# Shuffling the dataset\n"
      ],
      "metadata": {
        "id": "fmsCGHQdXSes"
      }
    },
    {
      "cell_type": "code",
      "source": [
        "data = data.sample(frac=1).reset_index(drop=True)"
      ],
      "metadata": {
        "id": "u6lp3skkXcBP"
      },
      "execution_count": 19,
      "outputs": []
    },
    {
      "cell_type": "code",
      "source": [
        "data['pol_cat']  = 0"
      ],
      "metadata": {
        "id": "RGsEIO8UXiYb"
      },
      "execution_count": 20,
      "outputs": []
    },
    {
      "cell_type": "markdown",
      "source": [
        "Continuous to categorical"
      ],
      "metadata": {
        "id": "kfL4V8HgXnFV"
      }
    },
    {
      "cell_type": "code",
      "source": [
        "# data['pol_cat'][data.polarity == 0] = 0\n",
        "data['pol_cat'][data.polarity > 0] = 1\n",
        "data['pol_cat'][data.polarity <= 0] = -1"
      ],
      "metadata": {
        "id": "uQStzQeEXoGh"
      },
      "execution_count": 21,
      "outputs": []
    },
    {
      "cell_type": "code",
      "source": [
        "data.head()"
      ],
      "metadata": {
        "colab": {
          "base_uri": "https://localhost:8080/",
          "height": 206
        },
        "id": "3eVFW9SgXtax",
        "outputId": "99b1766e-a993-4e9b-cbf2-eb36ba639a0d"
      },
      "execution_count": 22,
      "outputs": [
        {
          "output_type": "execute_result",
          "data": {
            "text/plain": [
              "          Name                      Comment                  Time  Likes  \\\n",
              "0    khan army                         Nice  2022-01-25T01:45:56Z      0   \n",
              "1   SARIF KHAN  Who is listen in this month  2022-06-15T11:45:50Z      1   \n",
              "2        Vg Yh                        🙏🙏💝💝💝  2022-04-01T03:34:17Z      0   \n",
              "3  mango mango             Reality of life.  2022-04-27T15:53:46Z      0   \n",
              "4    BRAR JASS                       ❤️❤️❤️  2022-03-26T14:16:21Z      0   \n",
              "\n",
              "   Reply Count  polarity  pol_cat  \n",
              "0            0       0.6        1  \n",
              "1            0       0.0       -1  \n",
              "2            0       0.0       -1  \n",
              "3            0       0.0       -1  \n",
              "4            0       0.0       -1  "
            ],
            "text/html": [
              "\n",
              "  <div id=\"df-4cb9d30f-c772-4ea7-800f-1d6d49e6c12b\">\n",
              "    <div class=\"colab-df-container\">\n",
              "      <div>\n",
              "<style scoped>\n",
              "    .dataframe tbody tr th:only-of-type {\n",
              "        vertical-align: middle;\n",
              "    }\n",
              "\n",
              "    .dataframe tbody tr th {\n",
              "        vertical-align: top;\n",
              "    }\n",
              "\n",
              "    .dataframe thead th {\n",
              "        text-align: right;\n",
              "    }\n",
              "</style>\n",
              "<table border=\"1\" class=\"dataframe\">\n",
              "  <thead>\n",
              "    <tr style=\"text-align: right;\">\n",
              "      <th></th>\n",
              "      <th>Name</th>\n",
              "      <th>Comment</th>\n",
              "      <th>Time</th>\n",
              "      <th>Likes</th>\n",
              "      <th>Reply Count</th>\n",
              "      <th>polarity</th>\n",
              "      <th>pol_cat</th>\n",
              "    </tr>\n",
              "  </thead>\n",
              "  <tbody>\n",
              "    <tr>\n",
              "      <th>0</th>\n",
              "      <td>khan army</td>\n",
              "      <td>Nice</td>\n",
              "      <td>2022-01-25T01:45:56Z</td>\n",
              "      <td>0</td>\n",
              "      <td>0</td>\n",
              "      <td>0.6</td>\n",
              "      <td>1</td>\n",
              "    </tr>\n",
              "    <tr>\n",
              "      <th>1</th>\n",
              "      <td>SARIF KHAN</td>\n",
              "      <td>Who is listen in this month</td>\n",
              "      <td>2022-06-15T11:45:50Z</td>\n",
              "      <td>1</td>\n",
              "      <td>0</td>\n",
              "      <td>0.0</td>\n",
              "      <td>-1</td>\n",
              "    </tr>\n",
              "    <tr>\n",
              "      <th>2</th>\n",
              "      <td>Vg Yh</td>\n",
              "      <td>🙏🙏💝💝💝</td>\n",
              "      <td>2022-04-01T03:34:17Z</td>\n",
              "      <td>0</td>\n",
              "      <td>0</td>\n",
              "      <td>0.0</td>\n",
              "      <td>-1</td>\n",
              "    </tr>\n",
              "    <tr>\n",
              "      <th>3</th>\n",
              "      <td>mango mango</td>\n",
              "      <td>Reality of life.</td>\n",
              "      <td>2022-04-27T15:53:46Z</td>\n",
              "      <td>0</td>\n",
              "      <td>0</td>\n",
              "      <td>0.0</td>\n",
              "      <td>-1</td>\n",
              "    </tr>\n",
              "    <tr>\n",
              "      <th>4</th>\n",
              "      <td>BRAR JASS</td>\n",
              "      <td>❤️❤️❤️</td>\n",
              "      <td>2022-03-26T14:16:21Z</td>\n",
              "      <td>0</td>\n",
              "      <td>0</td>\n",
              "      <td>0.0</td>\n",
              "      <td>-1</td>\n",
              "    </tr>\n",
              "  </tbody>\n",
              "</table>\n",
              "</div>\n",
              "      <button class=\"colab-df-convert\" onclick=\"convertToInteractive('df-4cb9d30f-c772-4ea7-800f-1d6d49e6c12b')\"\n",
              "              title=\"Convert this dataframe to an interactive table.\"\n",
              "              style=\"display:none;\">\n",
              "        \n",
              "  <svg xmlns=\"http://www.w3.org/2000/svg\" height=\"24px\"viewBox=\"0 0 24 24\"\n",
              "       width=\"24px\">\n",
              "    <path d=\"M0 0h24v24H0V0z\" fill=\"none\"/>\n",
              "    <path d=\"M18.56 5.44l.94 2.06.94-2.06 2.06-.94-2.06-.94-.94-2.06-.94 2.06-2.06.94zm-11 1L8.5 8.5l.94-2.06 2.06-.94-2.06-.94L8.5 2.5l-.94 2.06-2.06.94zm10 10l.94 2.06.94-2.06 2.06-.94-2.06-.94-.94-2.06-.94 2.06-2.06.94z\"/><path d=\"M17.41 7.96l-1.37-1.37c-.4-.4-.92-.59-1.43-.59-.52 0-1.04.2-1.43.59L10.3 9.45l-7.72 7.72c-.78.78-.78 2.05 0 2.83L4 21.41c.39.39.9.59 1.41.59.51 0 1.02-.2 1.41-.59l7.78-7.78 2.81-2.81c.8-.78.8-2.07 0-2.86zM5.41 20L4 18.59l7.72-7.72 1.47 1.35L5.41 20z\"/>\n",
              "  </svg>\n",
              "      </button>\n",
              "      \n",
              "  <style>\n",
              "    .colab-df-container {\n",
              "      display:flex;\n",
              "      flex-wrap:wrap;\n",
              "      gap: 12px;\n",
              "    }\n",
              "\n",
              "    .colab-df-convert {\n",
              "      background-color: #E8F0FE;\n",
              "      border: none;\n",
              "      border-radius: 50%;\n",
              "      cursor: pointer;\n",
              "      display: none;\n",
              "      fill: #1967D2;\n",
              "      height: 32px;\n",
              "      padding: 0 0 0 0;\n",
              "      width: 32px;\n",
              "    }\n",
              "\n",
              "    .colab-df-convert:hover {\n",
              "      background-color: #E2EBFA;\n",
              "      box-shadow: 0px 1px 2px rgba(60, 64, 67, 0.3), 0px 1px 3px 1px rgba(60, 64, 67, 0.15);\n",
              "      fill: #174EA6;\n",
              "    }\n",
              "\n",
              "    [theme=dark] .colab-df-convert {\n",
              "      background-color: #3B4455;\n",
              "      fill: #D2E3FC;\n",
              "    }\n",
              "\n",
              "    [theme=dark] .colab-df-convert:hover {\n",
              "      background-color: #434B5C;\n",
              "      box-shadow: 0px 1px 3px 1px rgba(0, 0, 0, 0.15);\n",
              "      filter: drop-shadow(0px 1px 2px rgba(0, 0, 0, 0.3));\n",
              "      fill: #FFFFFF;\n",
              "    }\n",
              "  </style>\n",
              "\n",
              "      <script>\n",
              "        const buttonEl =\n",
              "          document.querySelector('#df-4cb9d30f-c772-4ea7-800f-1d6d49e6c12b button.colab-df-convert');\n",
              "        buttonEl.style.display =\n",
              "          google.colab.kernel.accessAllowed ? 'block' : 'none';\n",
              "\n",
              "        async function convertToInteractive(key) {\n",
              "          const element = document.querySelector('#df-4cb9d30f-c772-4ea7-800f-1d6d49e6c12b');\n",
              "          const dataTable =\n",
              "            await google.colab.kernel.invokeFunction('convertToInteractive',\n",
              "                                                     [key], {});\n",
              "          if (!dataTable) return;\n",
              "\n",
              "          const docLinkHtml = 'Like what you see? Visit the ' +\n",
              "            '<a target=\"_blank\" href=https://colab.research.google.com/notebooks/data_table.ipynb>data table notebook</a>'\n",
              "            + ' to learn more about interactive tables.';\n",
              "          element.innerHTML = '';\n",
              "          dataTable['output_type'] = 'display_data';\n",
              "          await google.colab.output.renderOutput(dataTable, element);\n",
              "          const docLink = document.createElement('div');\n",
              "          docLink.innerHTML = docLinkHtml;\n",
              "          element.appendChild(docLink);\n",
              "        }\n",
              "      </script>\n",
              "    </div>\n",
              "  </div>\n",
              "  "
            ]
          },
          "metadata": {},
          "execution_count": 22
        }
      ]
    },
    {
      "cell_type": "code",
      "source": [
        "data['pol_cat'].value_counts()"
      ],
      "metadata": {
        "colab": {
          "base_uri": "https://localhost:8080/"
        },
        "id": "RAHzrTwKXyRj",
        "outputId": "0f6256ca-455f-45d2-d62e-cbc73e2be011"
      },
      "execution_count": 23,
      "outputs": [
        {
          "output_type": "execute_result",
          "data": {
            "text/plain": [
              "-1    699\n",
              " 1    290\n",
              "Name: pol_cat, dtype: int64"
            ]
          },
          "metadata": {},
          "execution_count": 23
        }
      ]
    },
    {
      "cell_type": "markdown",
      "source": [
        "Creating separate dataframes for Negative,Positive & Neutral comments"
      ],
      "metadata": {
        "id": "oIz58j-tX3d3"
      }
    },
    {
      "cell_type": "code",
      "source": [
        "data_pos = data[data['pol_cat'] == 1]\n",
        "data_pos = data_pos.reset_index(drop = True)\n",
        "\n",
        "data_neg = data[data['pol_cat'] == -1]\n",
        "data_neg = data_neg.reset_index(drop = True)\n",
        "\n",
        "# data_neutral = data[data['pol_cat'] == 0]\n",
        "# data_neutral = data_neutral.reset_index(drop = True)"
      ],
      "metadata": {
        "id": "E5Mm7gT5X5G-"
      },
      "execution_count": 24,
      "outputs": []
    },
    {
      "cell_type": "code",
      "source": [
        "data_pos.head()"
      ],
      "metadata": {
        "colab": {
          "base_uri": "https://localhost:8080/",
          "height": 206
        },
        "id": "FwFYWVPnX_I4",
        "outputId": "aff85025-2463-4abb-e81a-a3b74bfd7af7"
      },
      "execution_count": 25,
      "outputs": [
        {
          "output_type": "execute_result",
          "data": {
            "text/plain": [
              "                    Name                                            Comment  \\\n",
              "0              khan army                                               Nice   \n",
              "1  Jassi Singh Mushe ala                                  I love this quali   \n",
              "2               It's ADi  Xtra Ordinary Selection Of Each Word Full Of D...   \n",
              "3         Msiddiq Siddiq                                   Love you ustad g   \n",
              "4                    T S  Straight touches to the heart. Mind blowing Qa...   \n",
              "\n",
              "                   Time  Likes  Reply Count  polarity  pol_cat  \n",
              "0  2022-01-25T01:45:56Z      0            0       0.6        1  \n",
              "1  2022-05-03T03:43:52Z      2            0       0.5        1  \n",
              "2  2022-02-25T19:33:37Z      0            0       0.2        1  \n",
              "3  2021-10-20T22:28:38Z     17            0       0.5        1  \n",
              "4  2022-06-21T00:32:52Z      2            0       0.2        1  "
            ],
            "text/html": [
              "\n",
              "  <div id=\"df-19f92d88-21c2-44a3-a800-ce9c5a170f99\">\n",
              "    <div class=\"colab-df-container\">\n",
              "      <div>\n",
              "<style scoped>\n",
              "    .dataframe tbody tr th:only-of-type {\n",
              "        vertical-align: middle;\n",
              "    }\n",
              "\n",
              "    .dataframe tbody tr th {\n",
              "        vertical-align: top;\n",
              "    }\n",
              "\n",
              "    .dataframe thead th {\n",
              "        text-align: right;\n",
              "    }\n",
              "</style>\n",
              "<table border=\"1\" class=\"dataframe\">\n",
              "  <thead>\n",
              "    <tr style=\"text-align: right;\">\n",
              "      <th></th>\n",
              "      <th>Name</th>\n",
              "      <th>Comment</th>\n",
              "      <th>Time</th>\n",
              "      <th>Likes</th>\n",
              "      <th>Reply Count</th>\n",
              "      <th>polarity</th>\n",
              "      <th>pol_cat</th>\n",
              "    </tr>\n",
              "  </thead>\n",
              "  <tbody>\n",
              "    <tr>\n",
              "      <th>0</th>\n",
              "      <td>khan army</td>\n",
              "      <td>Nice</td>\n",
              "      <td>2022-01-25T01:45:56Z</td>\n",
              "      <td>0</td>\n",
              "      <td>0</td>\n",
              "      <td>0.6</td>\n",
              "      <td>1</td>\n",
              "    </tr>\n",
              "    <tr>\n",
              "      <th>1</th>\n",
              "      <td>Jassi Singh Mushe ala</td>\n",
              "      <td>I love this quali</td>\n",
              "      <td>2022-05-03T03:43:52Z</td>\n",
              "      <td>2</td>\n",
              "      <td>0</td>\n",
              "      <td>0.5</td>\n",
              "      <td>1</td>\n",
              "    </tr>\n",
              "    <tr>\n",
              "      <th>2</th>\n",
              "      <td>It's ADi</td>\n",
              "      <td>Xtra Ordinary Selection Of Each Word Full Of D...</td>\n",
              "      <td>2022-02-25T19:33:37Z</td>\n",
              "      <td>0</td>\n",
              "      <td>0</td>\n",
              "      <td>0.2</td>\n",
              "      <td>1</td>\n",
              "    </tr>\n",
              "    <tr>\n",
              "      <th>3</th>\n",
              "      <td>Msiddiq Siddiq</td>\n",
              "      <td>Love you ustad g</td>\n",
              "      <td>2021-10-20T22:28:38Z</td>\n",
              "      <td>17</td>\n",
              "      <td>0</td>\n",
              "      <td>0.5</td>\n",
              "      <td>1</td>\n",
              "    </tr>\n",
              "    <tr>\n",
              "      <th>4</th>\n",
              "      <td>T S</td>\n",
              "      <td>Straight touches to the heart. Mind blowing Qa...</td>\n",
              "      <td>2022-06-21T00:32:52Z</td>\n",
              "      <td>2</td>\n",
              "      <td>0</td>\n",
              "      <td>0.2</td>\n",
              "      <td>1</td>\n",
              "    </tr>\n",
              "  </tbody>\n",
              "</table>\n",
              "</div>\n",
              "      <button class=\"colab-df-convert\" onclick=\"convertToInteractive('df-19f92d88-21c2-44a3-a800-ce9c5a170f99')\"\n",
              "              title=\"Convert this dataframe to an interactive table.\"\n",
              "              style=\"display:none;\">\n",
              "        \n",
              "  <svg xmlns=\"http://www.w3.org/2000/svg\" height=\"24px\"viewBox=\"0 0 24 24\"\n",
              "       width=\"24px\">\n",
              "    <path d=\"M0 0h24v24H0V0z\" fill=\"none\"/>\n",
              "    <path d=\"M18.56 5.44l.94 2.06.94-2.06 2.06-.94-2.06-.94-.94-2.06-.94 2.06-2.06.94zm-11 1L8.5 8.5l.94-2.06 2.06-.94-2.06-.94L8.5 2.5l-.94 2.06-2.06.94zm10 10l.94 2.06.94-2.06 2.06-.94-2.06-.94-.94-2.06-.94 2.06-2.06.94z\"/><path d=\"M17.41 7.96l-1.37-1.37c-.4-.4-.92-.59-1.43-.59-.52 0-1.04.2-1.43.59L10.3 9.45l-7.72 7.72c-.78.78-.78 2.05 0 2.83L4 21.41c.39.39.9.59 1.41.59.51 0 1.02-.2 1.41-.59l7.78-7.78 2.81-2.81c.8-.78.8-2.07 0-2.86zM5.41 20L4 18.59l7.72-7.72 1.47 1.35L5.41 20z\"/>\n",
              "  </svg>\n",
              "      </button>\n",
              "      \n",
              "  <style>\n",
              "    .colab-df-container {\n",
              "      display:flex;\n",
              "      flex-wrap:wrap;\n",
              "      gap: 12px;\n",
              "    }\n",
              "\n",
              "    .colab-df-convert {\n",
              "      background-color: #E8F0FE;\n",
              "      border: none;\n",
              "      border-radius: 50%;\n",
              "      cursor: pointer;\n",
              "      display: none;\n",
              "      fill: #1967D2;\n",
              "      height: 32px;\n",
              "      padding: 0 0 0 0;\n",
              "      width: 32px;\n",
              "    }\n",
              "\n",
              "    .colab-df-convert:hover {\n",
              "      background-color: #E2EBFA;\n",
              "      box-shadow: 0px 1px 2px rgba(60, 64, 67, 0.3), 0px 1px 3px 1px rgba(60, 64, 67, 0.15);\n",
              "      fill: #174EA6;\n",
              "    }\n",
              "\n",
              "    [theme=dark] .colab-df-convert {\n",
              "      background-color: #3B4455;\n",
              "      fill: #D2E3FC;\n",
              "    }\n",
              "\n",
              "    [theme=dark] .colab-df-convert:hover {\n",
              "      background-color: #434B5C;\n",
              "      box-shadow: 0px 1px 3px 1px rgba(0, 0, 0, 0.15);\n",
              "      filter: drop-shadow(0px 1px 2px rgba(0, 0, 0, 0.3));\n",
              "      fill: #FFFFFF;\n",
              "    }\n",
              "  </style>\n",
              "\n",
              "      <script>\n",
              "        const buttonEl =\n",
              "          document.querySelector('#df-19f92d88-21c2-44a3-a800-ce9c5a170f99 button.colab-df-convert');\n",
              "        buttonEl.style.display =\n",
              "          google.colab.kernel.accessAllowed ? 'block' : 'none';\n",
              "\n",
              "        async function convertToInteractive(key) {\n",
              "          const element = document.querySelector('#df-19f92d88-21c2-44a3-a800-ce9c5a170f99');\n",
              "          const dataTable =\n",
              "            await google.colab.kernel.invokeFunction('convertToInteractive',\n",
              "                                                     [key], {});\n",
              "          if (!dataTable) return;\n",
              "\n",
              "          const docLinkHtml = 'Like what you see? Visit the ' +\n",
              "            '<a target=\"_blank\" href=https://colab.research.google.com/notebooks/data_table.ipynb>data table notebook</a>'\n",
              "            + ' to learn more about interactive tables.';\n",
              "          element.innerHTML = '';\n",
              "          dataTable['output_type'] = 'display_data';\n",
              "          await google.colab.output.renderOutput(dataTable, element);\n",
              "          const docLink = document.createElement('div');\n",
              "          docLink.innerHTML = docLinkHtml;\n",
              "          element.appendChild(docLink);\n",
              "        }\n",
              "      </script>\n",
              "    </div>\n",
              "  </div>\n",
              "  "
            ]
          },
          "metadata": {},
          "execution_count": 25
        }
      ]
    },
    {
      "cell_type": "code",
      "source": [
        "data_pos.shape"
      ],
      "metadata": {
        "colab": {
          "base_uri": "https://localhost:8080/"
        },
        "id": "7pZYChkAYFg_",
        "outputId": "22ea653d-d3d2-423c-a228-0c480499ec5b"
      },
      "execution_count": 26,
      "outputs": [
        {
          "output_type": "execute_result",
          "data": {
            "text/plain": [
              "(290, 7)"
            ]
          },
          "metadata": {},
          "execution_count": 26
        }
      ]
    },
    {
      "cell_type": "code",
      "source": [
        "data_neg.head()"
      ],
      "metadata": {
        "colab": {
          "base_uri": "https://localhost:8080/",
          "height": 206
        },
        "id": "ellSPH5QYIc_",
        "outputId": "632a320a-8bdf-4a3b-fd60-7e6c53e4b31b"
      },
      "execution_count": 27,
      "outputs": [
        {
          "output_type": "execute_result",
          "data": {
            "text/plain": [
              "             Name                                            Comment  \\\n",
              "0      SARIF KHAN                        Who is listen in this month   \n",
              "1           Vg Yh                                              🙏🙏💝💝💝   \n",
              "2     mango mango                                   Reality of life.   \n",
              "3       BRAR JASS                                             ❤️❤️❤️   \n",
              "4  Shubham Dhiman  Padi namaaz te riyaaz na sikhya, teri kis kaam...   \n",
              "\n",
              "                   Time  Likes  Reply Count  polarity  pol_cat  \n",
              "0  2022-06-15T11:45:50Z      1            0       0.0       -1  \n",
              "1  2022-04-01T03:34:17Z      0            0       0.0       -1  \n",
              "2  2022-04-27T15:53:46Z      0            0       0.0       -1  \n",
              "3  2022-03-26T14:16:21Z      0            0       0.0       -1  \n",
              "4  2021-11-10T15:31:04Z    524           31       0.0       -1  "
            ],
            "text/html": [
              "\n",
              "  <div id=\"df-edcfc231-0e2c-4f4f-925c-88889c1adbff\">\n",
              "    <div class=\"colab-df-container\">\n",
              "      <div>\n",
              "<style scoped>\n",
              "    .dataframe tbody tr th:only-of-type {\n",
              "        vertical-align: middle;\n",
              "    }\n",
              "\n",
              "    .dataframe tbody tr th {\n",
              "        vertical-align: top;\n",
              "    }\n",
              "\n",
              "    .dataframe thead th {\n",
              "        text-align: right;\n",
              "    }\n",
              "</style>\n",
              "<table border=\"1\" class=\"dataframe\">\n",
              "  <thead>\n",
              "    <tr style=\"text-align: right;\">\n",
              "      <th></th>\n",
              "      <th>Name</th>\n",
              "      <th>Comment</th>\n",
              "      <th>Time</th>\n",
              "      <th>Likes</th>\n",
              "      <th>Reply Count</th>\n",
              "      <th>polarity</th>\n",
              "      <th>pol_cat</th>\n",
              "    </tr>\n",
              "  </thead>\n",
              "  <tbody>\n",
              "    <tr>\n",
              "      <th>0</th>\n",
              "      <td>SARIF KHAN</td>\n",
              "      <td>Who is listen in this month</td>\n",
              "      <td>2022-06-15T11:45:50Z</td>\n",
              "      <td>1</td>\n",
              "      <td>0</td>\n",
              "      <td>0.0</td>\n",
              "      <td>-1</td>\n",
              "    </tr>\n",
              "    <tr>\n",
              "      <th>1</th>\n",
              "      <td>Vg Yh</td>\n",
              "      <td>🙏🙏💝💝💝</td>\n",
              "      <td>2022-04-01T03:34:17Z</td>\n",
              "      <td>0</td>\n",
              "      <td>0</td>\n",
              "      <td>0.0</td>\n",
              "      <td>-1</td>\n",
              "    </tr>\n",
              "    <tr>\n",
              "      <th>2</th>\n",
              "      <td>mango mango</td>\n",
              "      <td>Reality of life.</td>\n",
              "      <td>2022-04-27T15:53:46Z</td>\n",
              "      <td>0</td>\n",
              "      <td>0</td>\n",
              "      <td>0.0</td>\n",
              "      <td>-1</td>\n",
              "    </tr>\n",
              "    <tr>\n",
              "      <th>3</th>\n",
              "      <td>BRAR JASS</td>\n",
              "      <td>❤️❤️❤️</td>\n",
              "      <td>2022-03-26T14:16:21Z</td>\n",
              "      <td>0</td>\n",
              "      <td>0</td>\n",
              "      <td>0.0</td>\n",
              "      <td>-1</td>\n",
              "    </tr>\n",
              "    <tr>\n",
              "      <th>4</th>\n",
              "      <td>Shubham Dhiman</td>\n",
              "      <td>Padi namaaz te riyaaz na sikhya, teri kis kaam...</td>\n",
              "      <td>2021-11-10T15:31:04Z</td>\n",
              "      <td>524</td>\n",
              "      <td>31</td>\n",
              "      <td>0.0</td>\n",
              "      <td>-1</td>\n",
              "    </tr>\n",
              "  </tbody>\n",
              "</table>\n",
              "</div>\n",
              "      <button class=\"colab-df-convert\" onclick=\"convertToInteractive('df-edcfc231-0e2c-4f4f-925c-88889c1adbff')\"\n",
              "              title=\"Convert this dataframe to an interactive table.\"\n",
              "              style=\"display:none;\">\n",
              "        \n",
              "  <svg xmlns=\"http://www.w3.org/2000/svg\" height=\"24px\"viewBox=\"0 0 24 24\"\n",
              "       width=\"24px\">\n",
              "    <path d=\"M0 0h24v24H0V0z\" fill=\"none\"/>\n",
              "    <path d=\"M18.56 5.44l.94 2.06.94-2.06 2.06-.94-2.06-.94-.94-2.06-.94 2.06-2.06.94zm-11 1L8.5 8.5l.94-2.06 2.06-.94-2.06-.94L8.5 2.5l-.94 2.06-2.06.94zm10 10l.94 2.06.94-2.06 2.06-.94-2.06-.94-.94-2.06-.94 2.06-2.06.94z\"/><path d=\"M17.41 7.96l-1.37-1.37c-.4-.4-.92-.59-1.43-.59-.52 0-1.04.2-1.43.59L10.3 9.45l-7.72 7.72c-.78.78-.78 2.05 0 2.83L4 21.41c.39.39.9.59 1.41.59.51 0 1.02-.2 1.41-.59l7.78-7.78 2.81-2.81c.8-.78.8-2.07 0-2.86zM5.41 20L4 18.59l7.72-7.72 1.47 1.35L5.41 20z\"/>\n",
              "  </svg>\n",
              "      </button>\n",
              "      \n",
              "  <style>\n",
              "    .colab-df-container {\n",
              "      display:flex;\n",
              "      flex-wrap:wrap;\n",
              "      gap: 12px;\n",
              "    }\n",
              "\n",
              "    .colab-df-convert {\n",
              "      background-color: #E8F0FE;\n",
              "      border: none;\n",
              "      border-radius: 50%;\n",
              "      cursor: pointer;\n",
              "      display: none;\n",
              "      fill: #1967D2;\n",
              "      height: 32px;\n",
              "      padding: 0 0 0 0;\n",
              "      width: 32px;\n",
              "    }\n",
              "\n",
              "    .colab-df-convert:hover {\n",
              "      background-color: #E2EBFA;\n",
              "      box-shadow: 0px 1px 2px rgba(60, 64, 67, 0.3), 0px 1px 3px 1px rgba(60, 64, 67, 0.15);\n",
              "      fill: #174EA6;\n",
              "    }\n",
              "\n",
              "    [theme=dark] .colab-df-convert {\n",
              "      background-color: #3B4455;\n",
              "      fill: #D2E3FC;\n",
              "    }\n",
              "\n",
              "    [theme=dark] .colab-df-convert:hover {\n",
              "      background-color: #434B5C;\n",
              "      box-shadow: 0px 1px 3px 1px rgba(0, 0, 0, 0.15);\n",
              "      filter: drop-shadow(0px 1px 2px rgba(0, 0, 0, 0.3));\n",
              "      fill: #FFFFFF;\n",
              "    }\n",
              "  </style>\n",
              "\n",
              "      <script>\n",
              "        const buttonEl =\n",
              "          document.querySelector('#df-edcfc231-0e2c-4f4f-925c-88889c1adbff button.colab-df-convert');\n",
              "        buttonEl.style.display =\n",
              "          google.colab.kernel.accessAllowed ? 'block' : 'none';\n",
              "\n",
              "        async function convertToInteractive(key) {\n",
              "          const element = document.querySelector('#df-edcfc231-0e2c-4f4f-925c-88889c1adbff');\n",
              "          const dataTable =\n",
              "            await google.colab.kernel.invokeFunction('convertToInteractive',\n",
              "                                                     [key], {});\n",
              "          if (!dataTable) return;\n",
              "\n",
              "          const docLinkHtml = 'Like what you see? Visit the ' +\n",
              "            '<a target=\"_blank\" href=https://colab.research.google.com/notebooks/data_table.ipynb>data table notebook</a>'\n",
              "            + ' to learn more about interactive tables.';\n",
              "          element.innerHTML = '';\n",
              "          dataTable['output_type'] = 'display_data';\n",
              "          await google.colab.output.renderOutput(dataTable, element);\n",
              "          const docLink = document.createElement('div');\n",
              "          docLink.innerHTML = docLinkHtml;\n",
              "          element.appendChild(docLink);\n",
              "        }\n",
              "      </script>\n",
              "    </div>\n",
              "  </div>\n",
              "  "
            ]
          },
          "metadata": {},
          "execution_count": 27
        }
      ]
    },
    {
      "cell_type": "code",
      "source": [
        "data_neg['Comment'][40]"
      ],
      "metadata": {
        "colab": {
          "base_uri": "https://localhost:8080/",
          "height": 35
        },
        "id": "2fcg_-dsYNas",
        "outputId": "e3863d2a-fbb6-49ca-cab5-0733facf8c79"
      },
      "execution_count": 29,
      "outputs": [
        {
          "output_type": "execute_result",
          "data": {
            "text/plain": [
              "'Galbatt'"
            ],
            "application/vnd.google.colaboratory.intrinsic+json": {
              "type": "string"
            }
          },
          "metadata": {},
          "execution_count": 29
        }
      ]
    },
    {
      "cell_type": "code",
      "source": [
        "data.pol_cat.value_counts().plot.bar()\n",
        "data.pol_cat.value_counts()"
      ],
      "metadata": {
        "colab": {
          "base_uri": "https://localhost:8080/",
          "height": 319
        },
        "id": "NUWBUGfQYVIV",
        "outputId": "29c74f37-6822-4912-edef-6e964ef00306"
      },
      "execution_count": 30,
      "outputs": [
        {
          "output_type": "execute_result",
          "data": {
            "text/plain": [
              "-1    699\n",
              " 1    290\n",
              "Name: pol_cat, dtype: int64"
            ]
          },
          "metadata": {},
          "execution_count": 30
        },
        {
          "output_type": "display_data",
          "data": {
            "text/plain": [
              "<Figure size 432x288 with 1 Axes>"
            ],
            "image/png": "[encoded data removed]"
          },
          "metadata": {
            "needs_background": "light"
          }
        }
      ]
    },
    {
      "cell_type": "markdown",
      "source": [
        "# Data Preprocessing"
      ],
      "metadata": {
        "id": "qWoBo6ynYqX1"
      }
    },
    {
      "cell_type": "markdown",
      "source": [
        "Lower casing the text in comments"
      ],
      "metadata": {
        "id": "C1ubMA0LYtud"
      }
    },
    {
      "cell_type": "code",
      "source": [
        "data['Comment'] = data['Comment'].str.lower()"
      ],
      "metadata": {
        "id": "FeUce2l7Yxkk"
      },
      "execution_count": 31,
      "outputs": []
    },
    {
      "cell_type": "code",
      "source": [
        "data['Comment'].head()"
      ],
      "metadata": {
        "colab": {
          "base_uri": "https://localhost:8080/"
        },
        "id": "XiJ5qNnyY8m_",
        "outputId": "fa3ba078-a75d-4c10-e074-53ed95c5a552"
      },
      "execution_count": 32,
      "outputs": [
        {
          "output_type": "execute_result",
          "data": {
            "text/plain": [
              "0                           nice\n",
              "1    who is listen in this month\n",
              "2                          🙏🙏💝💝💝\n",
              "3               reality of life.\n",
              "4                         ❤️❤️❤️\n",
              "Name: Comment, dtype: object"
            ]
          },
          "metadata": {},
          "execution_count": 32
        }
      ]
    },
    {
      "cell_type": "code",
      "source": [
        "data.describe()"
      ],
      "metadata": {
        "colab": {
          "base_uri": "https://localhost:8080/",
          "height": 300
        },
        "id": "gKNdvk_SZAUZ",
        "outputId": "bb2f7b91-d45a-4b35-a401-9a9dd1c33e79"
      },
      "execution_count": 33,
      "outputs": [
        {
          "output_type": "execute_result",
          "data": {
            "text/plain": [
              "             Likes  Reply Count    polarity     pol_cat\n",
              "count   989.000000   989.000000  989.000000  989.000000\n",
              "mean      8.356926     0.433771    0.158932   -0.413549\n",
              "std      90.213708     5.052849    0.295305    0.910942\n",
              "min       0.000000     0.000000   -0.800000   -1.000000\n",
              "25%       0.000000     0.000000    0.000000   -1.000000\n",
              "50%       1.000000     0.000000    0.000000   -1.000000\n",
              "75%       4.000000     0.000000    0.250000    1.000000\n",
              "max    2766.000000   152.000000    1.000000    1.000000"
            ],
            "text/html": [
              "\n",
              "  <div id=\"df-54766aa7-8750-4d31-96ab-c203e1231bd9\">\n",
              "    <div class=\"colab-df-container\">\n",
              "      <div>\n",
              "<style scoped>\n",
              "    .dataframe tbody tr th:only-of-type {\n",
              "        vertical-align: middle;\n",
              "    }\n",
              "\n",
              "    .dataframe tbody tr th {\n",
              "        vertical-align: top;\n",
              "    }\n",
              "\n",
              "    .dataframe thead th {\n",
              "        text-align: right;\n",
              "    }\n",
              "</style>\n",
              "<table border=\"1\" class=\"dataframe\">\n",
              "  <thead>\n",
              "    <tr style=\"text-align: right;\">\n",
              "      <th></th>\n",
              "      <th>Likes</th>\n",
              "      <th>Reply Count</th>\n",
              "      <th>polarity</th>\n",
              "      <th>pol_cat</th>\n",
              "    </tr>\n",
              "  </thead>\n",
              "  <tbody>\n",
              "    <tr>\n",
              "      <th>count</th>\n",
              "      <td>989.000000</td>\n",
              "      <td>989.000000</td>\n",
              "      <td>989.000000</td>\n",
              "      <td>989.000000</td>\n",
              "    </tr>\n",
              "    <tr>\n",
              "      <th>mean</th>\n",
              "      <td>8.356926</td>\n",
              "      <td>0.433771</td>\n",
              "      <td>0.158932</td>\n",
              "      <td>-0.413549</td>\n",
              "    </tr>\n",
              "    <tr>\n",
              "      <th>std</th>\n",
              "      <td>90.213708</td>\n",
              "      <td>5.052849</td>\n",
              "      <td>0.295305</td>\n",
              "      <td>0.910942</td>\n",
              "    </tr>\n",
              "    <tr>\n",
              "      <th>min</th>\n",
              "      <td>0.000000</td>\n",
              "      <td>0.000000</td>\n",
              "      <td>-0.800000</td>\n",
              "      <td>-1.000000</td>\n",
              "    </tr>\n",
              "    <tr>\n",
              "      <th>25%</th>\n",
              "      <td>0.000000</td>\n",
              "      <td>0.000000</td>\n",
              "      <td>0.000000</td>\n",
              "      <td>-1.000000</td>\n",
              "    </tr>\n",
              "    <tr>\n",
              "      <th>50%</th>\n",
              "      <td>1.000000</td>\n",
              "      <td>0.000000</td>\n",
              "      <td>0.000000</td>\n",
              "      <td>-1.000000</td>\n",
              "    </tr>\n",
              "    <tr>\n",
              "      <th>75%</th>\n",
              "      <td>4.000000</td>\n",
              "      <td>0.000000</td>\n",
              "      <td>0.250000</td>\n",
              "      <td>1.000000</td>\n",
              "    </tr>\n",
              "    <tr>\n",
              "      <th>max</th>\n",
              "      <td>2766.000000</td>\n",
              "      <td>152.000000</td>\n",
              "      <td>1.000000</td>\n",
              "      <td>1.000000</td>\n",
              "    </tr>\n",
              "  </tbody>\n",
              "</table>\n",
              "</div>\n",
              "      <button class=\"colab-df-convert\" onclick=\"convertToInteractive('df-54766aa7-8750-4d31-96ab-c203e1231bd9')\"\n",
              "              title=\"Convert this dataframe to an interactive table.\"\n",
              "              style=\"display:none;\">\n",
              "        \n",
              "  <svg xmlns=\"http://www.w3.org/2000/svg\" height=\"24px\"viewBox=\"0 0 24 24\"\n",
              "       width=\"24px\">\n",
              "    <path d=\"M0 0h24v24H0V0z\" fill=\"none\"/>\n",
              "    <path d=\"M18.56 5.44l.94 2.06.94-2.06 2.06-.94-2.06-.94-.94-2.06-.94 2.06-2.06.94zm-11 1L8.5 8.5l.94-2.06 2.06-.94-2.06-.94L8.5 2.5l-.94 2.06-2.06.94zm10 10l.94 2.06.94-2.06 2.06-.94-2.06-.94-.94-2.06-.94 2.06-2.06.94z\"/><path d=\"M17.41 7.96l-1.37-1.37c-.4-.4-.92-.59-1.43-.59-.52 0-1.04.2-1.43.59L10.3 9.45l-7.72 7.72c-.78.78-.78 2.05 0 2.83L4 21.41c.39.39.9.59 1.41.59.51 0 1.02-.2 1.41-.59l7.78-7.78 2.81-2.81c.8-.78.8-2.07 0-2.86zM5.41 20L4 18.59l7.72-7.72 1.47 1.35L5.41 20z\"/>\n",
              "  </svg>\n",
              "      </button>\n",
              "      \n",
              "  <style>\n",
              "    .colab-df-container {\n",
              "      display:flex;\n",
              "      flex-wrap:wrap;\n",
              "      gap: 12px;\n",
              "    }\n",
              "\n",
              "    .colab-df-convert {\n",
              "      background-color: #E8F0FE;\n",
              "      border: none;\n",
              "      border-radius: 50%;\n",
              "      cursor: pointer;\n",
              "      display: none;\n",
              "      fill: #1967D2;\n",
              "      height: 32px;\n",
              "      padding: 0 0 0 0;\n",
              "      width: 32px;\n",
              "    }\n",
              "\n",
              "    .colab-df-convert:hover {\n",
              "      background-color: #E2EBFA;\n",
              "      box-shadow: 0px 1px 2px rgba(60, 64, 67, 0.3), 0px 1px 3px 1px rgba(60, 64, 67, 0.15);\n",
              "      fill: #174EA6;\n",
              "    }\n",
              "\n",
              "    [theme=dark] .colab-df-convert {\n",
              "      background-color: #3B4455;\n",
              "      fill: #D2E3FC;\n",
              "    }\n",
              "\n",
              "    [theme=dark] .colab-df-convert:hover {\n",
              "      background-color: #434B5C;\n",
              "      box-shadow: 0px 1px 3px 1px rgba(0, 0, 0, 0.15);\n",
              "      filter: drop-shadow(0px 1px 2px rgba(0, 0, 0, 0.3));\n",
              "      fill: #FFFFFF;\n",
              "    }\n",
              "  </style>\n",
              "\n",
              "      <script>\n",
              "        const buttonEl =\n",
              "          document.querySelector('#df-54766aa7-8750-4d31-96ab-c203e1231bd9 button.colab-df-convert');\n",
              "        buttonEl.style.display =\n",
              "          google.colab.kernel.accessAllowed ? 'block' : 'none';\n",
              "\n",
              "        async function convertToInteractive(key) {\n",
              "          const element = document.querySelector('#df-54766aa7-8750-4d31-96ab-c203e1231bd9');\n",
              "          const dataTable =\n",
              "            await google.colab.kernel.invokeFunction('convertToInteractive',\n",
              "                                                     [key], {});\n",
              "          if (!dataTable) return;\n",
              "\n",
              "          const docLinkHtml = 'Like what you see? Visit the ' +\n",
              "            '<a target=\"_blank\" href=https://colab.research.google.com/notebooks/data_table.ipynb>data table notebook</a>'\n",
              "            + ' to learn more about interactive tables.';\n",
              "          element.innerHTML = '';\n",
              "          dataTable['output_type'] = 'display_data';\n",
              "          await google.colab.output.renderOutput(dataTable, element);\n",
              "          const docLink = document.createElement('div');\n",
              "          docLink.innerHTML = docLinkHtml;\n",
              "          element.appendChild(docLink);\n",
              "        }\n",
              "      </script>\n",
              "    </div>\n",
              "  </div>\n",
              "  "
            ]
          },
          "metadata": {},
          "execution_count": 33
        }
      ]
    },
    {
      "cell_type": "code",
      "source": [
        "data.info()"
      ],
      "metadata": {
        "colab": {
          "base_uri": "https://localhost:8080/"
        },
        "id": "EUgumEopZG_1",
        "outputId": "99e81123-b267-4f40-b06f-d57adf0aae5a"
      },
      "execution_count": 34,
      "outputs": [
        {
          "output_type": "stream",
          "name": "stdout",
          "text": [
            "<class 'pandas.core.frame.DataFrame'>\n",
            "RangeIndex: 989 entries, 0 to 988\n",
            "Data columns (total 7 columns):\n",
            " #   Column       Non-Null Count  Dtype  \n",
            "---  ------       --------------  -----  \n",
            " 0   Name         989 non-null    object \n",
            " 1   Comment      989 non-null    object \n",
            " 2   Time         989 non-null    object \n",
            " 3   Likes        989 non-null    int64  \n",
            " 4   Reply Count  989 non-null    int64  \n",
            " 5   polarity     989 non-null    float64\n",
            " 6   pol_cat      989 non-null    int64  \n",
            "dtypes: float64(1), int64(3), object(3)\n",
            "memory usage: 54.2+ KB\n"
          ]
        }
      ]
    },
    {
      "cell_type": "code",
      "source": [
        "data['Comment'][0]\n",
        "#try out with a more english specific youtube video so there are no language issues in comments"
      ],
      "metadata": {
        "colab": {
          "base_uri": "https://localhost:8080/",
          "height": 35
        },
        "id": "oaXKo43RZJP4",
        "outputId": "2c1d093f-ecac-46e8-958d-edcf1cd83d3f"
      },
      "execution_count": 42,
      "outputs": [
        {
          "output_type": "execute_result",
          "data": {
            "text/plain": [
              "'nice'"
            ],
            "application/vnd.google.colaboratory.intrinsic+json": {
              "type": "string"
            }
          },
          "metadata": {},
          "execution_count": 42
        }
      ]
    },
    {
      "cell_type": "code",
      "source": [
        "data['Comment'][0].strip()"
      ],
      "metadata": {
        "colab": {
          "base_uri": "https://localhost:8080/",
          "height": 35
        },
        "id": "GqZAPQP4ZM1D",
        "outputId": "7587b7b3-9782-46e2-ff78-7869edb19bbb"
      },
      "execution_count": 36,
      "outputs": [
        {
          "output_type": "execute_result",
          "data": {
            "text/plain": [
              "'nice'"
            ],
            "application/vnd.google.colaboratory.intrinsic+json": {
              "type": "string"
            }
          },
          "metadata": {},
          "execution_count": 36
        }
      ]
    },
    {
      "cell_type": "code",
      "source": [
        "import nltk\n",
        "nltk.download(\"stopwords\")"
      ],
      "metadata": {
        "colab": {
          "base_uri": "https://localhost:8080/"
        },
        "id": "ZX9iBBAxZnO-",
        "outputId": "3ae392c0-a3e8-41fa-d798-255d90fc776d"
      },
      "execution_count": 43,
      "outputs": [
        {
          "output_type": "stream",
          "name": "stderr",
          "text": [
            "[nltk_data] Downloading package stopwords to /root/nltk_data...\n",
            "[nltk_data]   Unzipping corpora/stopwords.zip.\n"
          ]
        },
        {
          "output_type": "execute_result",
          "data": {
            "text/plain": [
              "True"
            ]
          },
          "metadata": {},
          "execution_count": 43
        }
      ]
    },
    {
      "cell_type": "code",
      "source": [
        "nltk.download(\"punkt\")"
      ],
      "metadata": {
        "colab": {
          "base_uri": "https://localhost:8080/"
        },
        "id": "gu--DimTZqqA",
        "outputId": "288a9f4f-b660-4572-902d-e7ef22ea2e89"
      },
      "execution_count": 44,
      "outputs": [
        {
          "output_type": "stream",
          "name": "stderr",
          "text": [
            "[nltk_data] Downloading package punkt to /root/nltk_data...\n",
            "[nltk_data]   Unzipping tokenizers/punkt.zip.\n"
          ]
        },
        {
          "output_type": "execute_result",
          "data": {
            "text/plain": [
              "True"
            ]
          },
          "metadata": {},
          "execution_count": 44
        }
      ]
    },
    {
      "cell_type": "code",
      "source": [
        "from nltk.corpus import stopwords\n",
        "from nltk import word_tokenize\n",
        "import string\n",
        "import re\n",
        "import nltk"
      ],
      "metadata": {
        "id": "weQvuYKeZuQ5"
      },
      "execution_count": 45,
      "outputs": []
    },
    {
      "cell_type": "code",
      "source": [
        "print(stopwords.words('english'))"
      ],
      "metadata": {
        "colab": {
          "base_uri": "https://localhost:8080/"
        },
        "id": "DkF2bbuoZx3w",
        "outputId": "a24dbaf1-fd9b-4b1e-ce03-abf780efcb23"
      },
      "execution_count": 46,
      "outputs": [
        {
          "output_type": "stream",
          "name": "stdout",
          "text": [
            "['i', 'me', 'my', 'myself', 'we', 'our', 'ours', 'ourselves', 'you', \"you're\", \"you've\", \"you'll\", \"you'd\", 'your', 'yours', 'yourself', 'yourselves', 'he', 'him', 'his', 'himself', 'she', \"she's\", 'her', 'hers', 'herself', 'it', \"it's\", 'its', 'itself', 'they', 'them', 'their', 'theirs', 'themselves', 'what', 'which', 'who', 'whom', 'this', 'that', \"that'll\", 'these', 'those', 'am', 'is', 'are', 'was', 'were', 'be', 'been', 'being', 'have', 'has', 'had', 'having', 'do', 'does', 'did', 'doing', 'a', 'an', 'the', 'and', 'but', 'if', 'or', 'because', 'as', 'until', 'while', 'of', 'at', 'by', 'for', 'with', 'about', 'against', 'between', 'into', 'through', 'during', 'before', 'after', 'above', 'below', 'to', 'from', 'up', 'down', 'in', 'out', 'on', 'off', 'over', 'under', 'again', 'further', 'then', 'once', 'here', 'there', 'when', 'where', 'why', 'how', 'all', 'any', 'both', 'each', 'few', 'more', 'most', 'other', 'some', 'such', 'no', 'nor', 'not', 'only', 'own', 'same', 'so', 'than', 'too', 'very', 's', 't', 'can', 'will', 'just', 'don', \"don't\", 'should', \"should've\", 'now', 'd', 'll', 'm', 'o', 're', 've', 'y', 'ain', 'aren', \"aren't\", 'couldn', \"couldn't\", 'didn', \"didn't\", 'doesn', \"doesn't\", 'hadn', \"hadn't\", 'hasn', \"hasn't\", 'haven', \"haven't\", 'isn', \"isn't\", 'ma', 'mightn', \"mightn't\", 'mustn', \"mustn't\", 'needn', \"needn't\", 'shan', \"shan't\", 'shouldn', \"shouldn't\", 'wasn', \"wasn't\", 'weren', \"weren't\", 'won', \"won't\", 'wouldn', \"wouldn't\"]\n"
          ]
        }
      ]
    },
    {
      "cell_type": "code",
      "source": [
        "stop_words = set(stopwords.words('english'))"
      ],
      "metadata": {
        "id": "AT2Va92UZ1ws"
      },
      "execution_count": 47,
      "outputs": []
    },
    {
      "cell_type": "code",
      "source": [
        "data['Comment'] = data['Comment'].str.strip()"
      ],
      "metadata": {
        "id": "fJGWPz5mZ4wF"
      },
      "execution_count": 48,
      "outputs": []
    },
    {
      "cell_type": "code",
      "source": [
        "train = data.copy()"
      ],
      "metadata": {
        "id": "V9K4bBuPZ91w"
      },
      "execution_count": 49,
      "outputs": []
    },
    {
      "cell_type": "code",
      "source": [
        "train['Comment'] = train['Comment'].str.strip()"
      ],
      "metadata": {
        "id": "mOI9nSeKaApr"
      },
      "execution_count": 50,
      "outputs": []
    },
    {
      "cell_type": "code",
      "source": [
        "train['Comment'][0]"
      ],
      "metadata": {
        "colab": {
          "base_uri": "https://localhost:8080/",
          "height": 35
        },
        "id": "-NL11SqUaG40",
        "outputId": "b51125d3-66c5-49f9-e1e8-c1c009702522"
      },
      "execution_count": 52,
      "outputs": [
        {
          "output_type": "execute_result",
          "data": {
            "text/plain": [
              "'nice'"
            ],
            "application/vnd.google.colaboratory.intrinsic+json": {
              "type": "string"
            }
          },
          "metadata": {},
          "execution_count": 52
        }
      ]
    },
    {
      "cell_type": "code",
      "source": [
        "def remove_stopwords(line):\n",
        "    word_tokens = word_tokenize(line)\n",
        "    filtered_sentence = [w for w in word_tokens if not w in stop_words]\n",
        "    return \" \".join(filtered_sentence)"
      ],
      "metadata": {
        "id": "ICOTHxXBaLn-"
      },
      "execution_count": 53,
      "outputs": []
    },
    {
      "cell_type": "code",
      "source": [
        "data['stop_comments'] = data['Comment'].apply(lambda x : remove_stopwords(x))"
      ],
      "metadata": {
        "id": "---qs2QyaQDX"
      },
      "execution_count": 54,
      "outputs": []
    },
    {
      "cell_type": "code",
      "source": [
        "data.head()"
      ],
      "metadata": {
        "colab": {
          "base_uri": "https://localhost:8080/",
          "height": 206
        },
        "id": "wQOOiW5-aURA",
        "outputId": "8a015cbd-b1ce-4bc6-f896-b68e6f2d0079"
      },
      "execution_count": 55,
      "outputs": [
        {
          "output_type": "execute_result",
          "data": {
            "text/plain": [
              "          Name                      Comment                  Time  Likes  \\\n",
              "0    khan army                         nice  2022-01-25T01:45:56Z      0   \n",
              "1   SARIF KHAN  who is listen in this month  2022-06-15T11:45:50Z      1   \n",
              "2        Vg Yh                        🙏🙏💝💝💝  2022-04-01T03:34:17Z      0   \n",
              "3  mango mango             reality of life.  2022-04-27T15:53:46Z      0   \n",
              "4    BRAR JASS                       ❤️❤️❤️  2022-03-26T14:16:21Z      0   \n",
              "\n",
              "   Reply Count  polarity  pol_cat   stop_comments  \n",
              "0            0       0.6        1            nice  \n",
              "1            0       0.0       -1    listen month  \n",
              "2            0       0.0       -1           🙏🙏💝💝💝  \n",
              "3            0       0.0       -1  reality life .  \n",
              "4            0       0.0       -1          ❤️❤️❤️  "
            ],
            "text/html": [
              "\n",
              "  <div id=\"df-5dedd43e-b2f1-4af3-8d47-2c7c479487d6\">\n",
              "    <div class=\"colab-df-container\">\n",
              "      <div>\n",
              "<style scoped>\n",
              "    .dataframe tbody tr th:only-of-type {\n",
              "        vertical-align: middle;\n",
              "    }\n",
              "\n",
              "    .dataframe tbody tr th {\n",
              "        vertical-align: top;\n",
              "    }\n",
              "\n",
              "    .dataframe thead th {\n",
              "        text-align: right;\n",
              "    }\n",
              "</style>\n",
              "<table border=\"1\" class=\"dataframe\">\n",
              "  <thead>\n",
              "    <tr style=\"text-align: right;\">\n",
              "      <th></th>\n",
              "      <th>Name</th>\n",
              "      <th>Comment</th>\n",
              "      <th>Time</th>\n",
              "      <th>Likes</th>\n",
              "      <th>Reply Count</th>\n",
              "      <th>polarity</th>\n",
              "      <th>pol_cat</th>\n",
              "      <th>stop_comments</th>\n",
              "    </tr>\n",
              "  </thead>\n",
              "  <tbody>\n",
              "    <tr>\n",
              "      <th>0</th>\n",
              "      <td>khan army</td>\n",
              "      <td>nice</td>\n",
              "      <td>2022-01-25T01:45:56Z</td>\n",
              "      <td>0</td>\n",
              "      <td>0</td>\n",
              "      <td>0.6</td>\n",
              "      <td>1</td>\n",
              "      <td>nice</td>\n",
              "    </tr>\n",
              "    <tr>\n",
              "      <th>1</th>\n",
              "      <td>SARIF KHAN</td>\n",
              "      <td>who is listen in this month</td>\n",
              "      <td>2022-06-15T11:45:50Z</td>\n",
              "      <td>1</td>\n",
              "      <td>0</td>\n",
              "      <td>0.0</td>\n",
              "      <td>-1</td>\n",
              "      <td>listen month</td>\n",
              "    </tr>\n",
              "    <tr>\n",
              "      <th>2</th>\n",
              "      <td>Vg Yh</td>\n",
              "      <td>🙏🙏💝💝💝</td>\n",
              "      <td>2022-04-01T03:34:17Z</td>\n",
              "      <td>0</td>\n",
              "      <td>0</td>\n",
              "      <td>0.0</td>\n",
              "      <td>-1</td>\n",
              "      <td>🙏🙏💝💝💝</td>\n",
              "    </tr>\n",
              "    <tr>\n",
              "      <th>3</th>\n",
              "      <td>mango mango</td>\n",
              "      <td>reality of life.</td>\n",
              "      <td>2022-04-27T15:53:46Z</td>\n",
              "      <td>0</td>\n",
              "      <td>0</td>\n",
              "      <td>0.0</td>\n",
              "      <td>-1</td>\n",
              "      <td>reality life .</td>\n",
              "    </tr>\n",
              "    <tr>\n",
              "      <th>4</th>\n",
              "      <td>BRAR JASS</td>\n",
              "      <td>❤️❤️❤️</td>\n",
              "      <td>2022-03-26T14:16:21Z</td>\n",
              "      <td>0</td>\n",
              "      <td>0</td>\n",
              "      <td>0.0</td>\n",
              "      <td>-1</td>\n",
              "      <td>❤️❤️❤️</td>\n",
              "    </tr>\n",
              "  </tbody>\n",
              "</table>\n",
              "</div>\n",
              "      <button class=\"colab-df-convert\" onclick=\"convertToInteractive('df-5dedd43e-b2f1-4af3-8d47-2c7c479487d6')\"\n",
              "              title=\"Convert this dataframe to an interactive table.\"\n",
              "              style=\"display:none;\">\n",
              "        \n",
              "  <svg xmlns=\"http://www.w3.org/2000/svg\" height=\"24px\"viewBox=\"0 0 24 24\"\n",
              "       width=\"24px\">\n",
              "    <path d=\"M0 0h24v24H0V0z\" fill=\"none\"/>\n",
              "    <path d=\"M18.56 5.44l.94 2.06.94-2.06 2.06-.94-2.06-.94-.94-2.06-.94 2.06-2.06.94zm-11 1L8.5 8.5l.94-2.06 2.06-.94-2.06-.94L8.5 2.5l-.94 2.06-2.06.94zm10 10l.94 2.06.94-2.06 2.06-.94-2.06-.94-.94-2.06-.94 2.06-2.06.94z\"/><path d=\"M17.41 7.96l-1.37-1.37c-.4-.4-.92-.59-1.43-.59-.52 0-1.04.2-1.43.59L10.3 9.45l-7.72 7.72c-.78.78-.78 2.05 0 2.83L4 21.41c.39.39.9.59 1.41.59.51 0 1.02-.2 1.41-.59l7.78-7.78 2.81-2.81c.8-.78.8-2.07 0-2.86zM5.41 20L4 18.59l7.72-7.72 1.47 1.35L5.41 20z\"/>\n",
              "  </svg>\n",
              "      </button>\n",
              "      \n",
              "  <style>\n",
              "    .colab-df-container {\n",
              "      display:flex;\n",
              "      flex-wrap:wrap;\n",
              "      gap: 12px;\n",
              "    }\n",
              "\n",
              "    .colab-df-convert {\n",
              "      background-color: #E8F0FE;\n",
              "      border: none;\n",
              "      border-radius: 50%;\n",
              "      cursor: pointer;\n",
              "      display: none;\n",
              "      fill: #1967D2;\n",
              "      height: 32px;\n",
              "      padding: 0 0 0 0;\n",
              "      width: 32px;\n",
              "    }\n",
              "\n",
              "    .colab-df-convert:hover {\n",
              "      background-color: #E2EBFA;\n",
              "      box-shadow: 0px 1px 2px rgba(60, 64, 67, 0.3), 0px 1px 3px 1px rgba(60, 64, 67, 0.15);\n",
              "      fill: #174EA6;\n",
              "    }\n",
              "\n",
              "    [theme=dark] .colab-df-convert {\n",
              "      background-color: #3B4455;\n",
              "      fill: #D2E3FC;\n",
              "    }\n",
              "\n",
              "    [theme=dark] .colab-df-convert:hover {\n",
              "      background-color: #434B5C;\n",
              "      box-shadow: 0px 1px 3px 1px rgba(0, 0, 0, 0.15);\n",
              "      filter: drop-shadow(0px 1px 2px rgba(0, 0, 0, 0.3));\n",
              "      fill: #FFFFFF;\n",
              "    }\n",
              "  </style>\n",
              "\n",
              "      <script>\n",
              "        const buttonEl =\n",
              "          document.querySelector('#df-5dedd43e-b2f1-4af3-8d47-2c7c479487d6 button.colab-df-convert');\n",
              "        buttonEl.style.display =\n",
              "          google.colab.kernel.accessAllowed ? 'block' : 'none';\n",
              "\n",
              "        async function convertToInteractive(key) {\n",
              "          const element = document.querySelector('#df-5dedd43e-b2f1-4af3-8d47-2c7c479487d6');\n",
              "          const dataTable =\n",
              "            await google.colab.kernel.invokeFunction('convertToInteractive',\n",
              "                                                     [key], {});\n",
              "          if (!dataTable) return;\n",
              "\n",
              "          const docLinkHtml = 'Like what you see? Visit the ' +\n",
              "            '<a target=\"_blank\" href=https://colab.research.google.com/notebooks/data_table.ipynb>data table notebook</a>'\n",
              "            + ' to learn more about interactive tables.';\n",
              "          element.innerHTML = '';\n",
              "          dataTable['output_type'] = 'display_data';\n",
              "          await google.colab.output.renderOutput(dataTable, element);\n",
              "          const docLink = document.createElement('div');\n",
              "          docLink.innerHTML = docLinkHtml;\n",
              "          element.appendChild(docLink);\n",
              "        }\n",
              "      </script>\n",
              "    </div>\n",
              "  </div>\n",
              "  "
            ]
          },
          "metadata": {},
          "execution_count": 55
        }
      ]
    },
    {
      "cell_type": "code",
      "source": [
        "from sklearn.model_selection import train_test_split"
      ],
      "metadata": {
        "id": "ihaLtZtraapM"
      },
      "execution_count": 56,
      "outputs": []
    },
    {
      "cell_type": "code",
      "source": [
        "X_train,X_test,y_train,y_test = train_test_split(data['stop_comments'],data['pol_cat'],test_size = 0.2,random_state = 324)"
      ],
      "metadata": {
        "id": "mRZumNOxad7P"
      },
      "execution_count": 57,
      "outputs": []
    },
    {
      "cell_type": "code",
      "source": [
        "X_train.shape"
      ],
      "metadata": {
        "colab": {
          "base_uri": "https://localhost:8080/"
        },
        "id": "bp2hSiwJahdR",
        "outputId": "2543c07e-3002-4c4d-d443-cbf3d4aa561c"
      },
      "execution_count": 58,
      "outputs": [
        {
          "output_type": "execute_result",
          "data": {
            "text/plain": [
              "(791,)"
            ]
          },
          "metadata": {},
          "execution_count": 58
        }
      ]
    },
    {
      "cell_type": "code",
      "source": [
        "X_test.shape"
      ],
      "metadata": {
        "colab": {
          "base_uri": "https://localhost:8080/"
        },
        "id": "I-KABVDbajzx",
        "outputId": "25200013-f8c1-4aef-f63c-2f9e4ed9397b"
      },
      "execution_count": 59,
      "outputs": [
        {
          "output_type": "execute_result",
          "data": {
            "text/plain": [
              "(198,)"
            ]
          },
          "metadata": {},
          "execution_count": 59
        }
      ]
    },
    {
      "cell_type": "code",
      "source": [
        "data['pol_cat'].value_counts()"
      ],
      "metadata": {
        "colab": {
          "base_uri": "https://localhost:8080/"
        },
        "id": "2dqjD5IranFw",
        "outputId": "4a977f49-29bf-4595-be60-d38aa2871208"
      },
      "execution_count": 60,
      "outputs": [
        {
          "output_type": "execute_result",
          "data": {
            "text/plain": [
              "-1    699\n",
              " 1    290\n",
              "Name: pol_cat, dtype: int64"
            ]
          },
          "metadata": {},
          "execution_count": 60
        }
      ]
    },
    {
      "cell_type": "markdown",
      "source": [
        "# Applying Logistic Regression"
      ],
      "metadata": {
        "id": "1nj-x5Hiaqdr"
      }
    },
    {
      "cell_type": "code",
      "source": [
        "from sklearn.feature_extraction.text import CountVectorizer"
      ],
      "metadata": {
        "id": "CPC6otEBatZ6"
      },
      "execution_count": 61,
      "outputs": []
    },
    {
      "cell_type": "code",
      "source": [
        "from sklearn.feature_extraction.text import CountVectorizer, TfidfVectorizer \n",
        "vect = CountVectorizer()\n",
        "tf_train = vect.fit_transform(X_train)\n",
        "tf_test = vect.transform(X_test)"
      ],
      "metadata": {
        "id": "l7nLMI89axiM"
      },
      "execution_count": 62,
      "outputs": []
    },
    {
      "cell_type": "code",
      "source": [
        "tf_train.shape"
      ],
      "metadata": {
        "colab": {
          "base_uri": "https://localhost:8080/"
        },
        "id": "dhcha7i2a0bV",
        "outputId": "b43c04c1-1263-431c-f6e1-3293f8149da3"
      },
      "execution_count": 63,
      "outputs": [
        {
          "output_type": "execute_result",
          "data": {
            "text/plain": [
              "(791, 1791)"
            ]
          },
          "metadata": {},
          "execution_count": 63
        }
      ]
    },
    {
      "cell_type": "markdown",
      "source": [
        "# Printing the Vocabulary"
      ],
      "metadata": {
        "id": "HoDw-J7xa2-1"
      }
    },
    {
      "cell_type": "code",
      "source": [
        "print(vect.vocabulary_)"
      ],
      "metadata": {
        "colab": {
          "base_uri": "https://localhost:8080/"
        },
        "id": "rdajZZT6a6Q3",
        "outputId": "330e1bb2-03e9-4607-8c0c-c20b64675813"
      },
      "execution_count": 64,
      "outputs": [
        {
          "output_type": "stream",
          "name": "stdout",
          "text": [
            "{'ਕਮ': 1770, 'ਇਕ': 1762, 'legend': 826, 'ਸਰਤ': 1788, 'ਫਤ': 1782, 'ਅਲ': 1758, 'let': 830, 'add': 71, 'one': 1044, 'line': 837, 'kalaam': 713, 'miyan': 946, 'mohammad': 950, 'bakshh': 174, 'br': 264, 'quot': 1161, 'ikk': 617, 'gunaah': 546, 'mere': 929, 'maa': 870, 'pe': 1086, 'vekhn': 1514, 'devann': 375, 'des': 374, 'nikaala': 1017, 'lakhh': 815, 'gunah': 547, 'mera': 928, 'allah': 92, 'vekhe': 1513, 'parde': 1078, 'pawann': 1084, 'waala': 1525, 'love': 860, 'qawalli': 1152, 'lovs': 862, 'jesus': 668, 'please': 1111, 'parents': 1079, 'treasure': 1453, 'dil': 386, 'barae': 191, 'farokht': 460, 'ek': 423, 'meetha': 916, 'bhol': 228, 'reality': 1189, 'life': 833, 'wooww': 1549, 'kawali': 733, 'amazing': 97, 'nice': 1014, 'ultra': 1475, 'pro': 1128, 'sachai': 1245, 'aa': 43, 'waheguru': 1527, 'ya': 1564, 'hmen': 592, 'apni': 120, 'bas': 193, 'makhluq': 883, 'ki': 759, 'khidmat': 748, 'krny': 794, 'toufeeq': 1451, 'atta': 127, 'frmaye': 490, 'ameem': 98, 'sari': 1287, 'dunya': 409, 'tha': 1424, 'fankar': 455, 'ustaad': 1492, 'nusrat': 1029, 'fateh': 463, 'ali': 89, 'khan': 745, 'sahib': 1260, 'jai': 649, 'sai': 1261, 'baba': 157, 'ji': 678, 'apke': 116, 'jaisa': 650, 'sir': 1335, 'koi': 784, 'ni': 1011, 'ho': 593, 'sakta': 1270, 'ba': 149, 'kamal': 718, 'bitter': 245, 'come': 325, 'empty': 428, 'go': 531, 'good': 536, 'deeds': 364, 'back': 159, 'forever': 482, 'hit': 590, 'babeh': 158, 'dee': 363, '1313': 10, 'broken': 268, 'heart': 574, '39': 28, 'touch': 1447, 'came': 282, 'arslan': 122, 'liaqat': 832, 'background': 160, 'video': 1520, 'bless': 246, 'brother': 269, 'di': 379, 'saab': 1233, 'khaan': 742, 'hi': 582, 'beautiful': 201, 'blissful': 248, 'need': 998, 'act': 69, 'upon': 1484, 'understand': 1478, 'punjabi': 1138, 'properly': 1129, 'masterpiece': 907, 'touches': 1449, 'soul': 1354, 'sidhu': 1323, 'wala': 1529, 'padi': 1065, 'namaaz': 985, 'te': 1413, 'riyaaz': 1218, 'na': 969, 'sikhya': 1328, 'teri': 1420, 'kis': 763, 'kaam': 700, 'padiyan': 1066, 'namaaza': 986, 'ghar': 522, 'ditha': 394, 'gharwala': 524, 'kitiyan': 775, 'niyaaza': 1021, 'ilam': 618, 'padaya': 1061, 'amal': 96, 'kita': 772, 'kaza': 736, 'great': 542, 'true': 1455, 'sura': 1390, 'da': 341, 'baadshah': 151, 'marvelous': 898, 'verry': 1516, 'nece': 997, 'believe': 208, 'legendary': 827, 'song': 1350, 'written': 1561, '14': 11, 'year': 1571, 'old': 1042, 'kid': 760, 'miracle': 938, 'say': 1295, 'words': 1553, 'arun': 123, 'kumar': 800, 'favourite': 467, 'word': 1550, 'really': 1191, 'like': 835, 'wards': 1536, 'totally': 1446, 'speechless': 1356, 'cheema': 307, 'jatt': 660, 'deh': 367, 'uddneh': 1473, 'kaboor': 703, 'chineh': 314, '47': 30, 'bolan': 259, 'lageh': 810, 'mint': 937, 'laoundee': 817, 'aah': 47, '11': 7, '13': 9, 'tereh': 1419, 'hee': 578, 'brar': 265, 'border': 263, 'walleh': 1533, 'wajdeh': 1528, 'jjj': 691, 'kisan': 764, 'pawounee': 1085, 'soulheeyeehah': 1355, 'kadndee': 709, 'okhee': 1041, 'mossewalah': 957, 'seeh': 1305, 'keh': 739, 'bul': 271, 'toor': 1442, 'gya': 550, 'jannat': 657, 'tainoo': 1401, 'naseed': 991, 'gayee': 507, 'sajna': 1267, 'star': 1362, 'naman': 988, 'never': 1004, 'die': 381, 'always': 95, 'leave': 823, 'hearts': 576, 'meaning': 912, 'nabede': 975, 'luv': 866, 'listen': 840, 'ur': 1487, 'fantastic': 457, 'chanderhas': 296, 'sharma': 1315, 'jethwin': 669, 'jhandutta': 673, 'bilaspur': 241, 'himachal': 586, 'pradesh': 1124, 'india': 622, 'masta': 903, 'sain': 1262, 'murad': 965, 'shah': 1312, 'je': 663, 'laadi': 803, 'mehar': 918, 'kroo': 796, 'sardar': 1284, 'pr': 1122, 'meri': 930, 'jholi': 674, 'mai': 877, 'bahar': 165, 'doo': 402, 'baksh': 173, 'karna': 725, 'raba': 1169, 'sade': 1250, 'pakistan': 1071, 'tae': 1400, 'attt': 130, 'got': 539, 'goosebumps': 537, 'listening': 842, 'amen': 100, 'hallelujahjesus': 557, 'lajawab': 812, 'quali': 1158, 'aur': 134, 'awaj': 139, 'salam': 1274, 'othe': 1055, 'amla': 102, 'de': 358, 'hone': 597, 'ne': 995, 'truth': 1457, 'reveals': 1213, 'qawali': 1151, 'aukaaat': 131, 'bande': 183, 'dss': 406, 'tiii': 1434, 'touching': 1450, 'bilkul': 242, 'sehi': 1308, 'ustad': 1494, 'festival': 473, 'gone': 535, 'divinely': 398, 'addictive': 72, 'thanks': 1427, 'uploader': 1483, 'gem': 514, 'dislike': 391, 'deeply': 365, 'crying': 339, 'hear': 573, 'ਓਥ': 1768, 'ਅਮਲ': 1757, 'ਨਬ': 1778, 'ਛਣ': 1773, 'subhanallah': 1375, 'peera': 1091, 'kya': 801, 'baat': 153, 'kise': 765, 'kol': 785, 'ghari': 523, 'pal': 1072, 'khalona': 743, 'hai': 554, 'kiti': 774, 'nu': 1028, 'sareya': 1286, 'rona': 1221, 'ruhi': 1226, 'awaaz': 138, 'frishtaaa': 488, 'sukkon': 1377, 'href': 602, 'http': 604, 'www': 1562, 'youtube': 1576, 'com': 324, 'results': 1212, 'search_query': 1302, '23': 20, 'e0': 414, 'a8': 41, '9c': 39, 'a9': 42, '88': 35, 'ਫਕ': 1781, 'ਨਰਕ': 1779, 'ਸਵਰਗ': 1789, 'ਇਥ': 1763, 'ਬਸ': 1783, 'ਕਰਨ': 1771, 'ਉਥ': 1767, '2022': 16, 'kon': 787, 'sune': 1381, 'ga': 497, 'iss': 631, 'ganee': 505, 'ko': 783, 'ke': 738, 'fan': 454, 'kro': 795, 'kiya': 778, 'fteh': 492, 'busy': 278, 'world': 1554, 'live': 846, 'beautifull': 202, 'تیری': 1592, 'آنکھیں': 1586, 'کمال': 1620, 'کرتی': 1619, 'ہیں': 1626, 'میرا': 1607, 'جینا': 1593, 'محال': 1606, 'hote': 600, 'hen': 581, 'wah': 1526, 'guruji': 549, 'prnam': 1127, 'finaly': 477, 'find': 478, 'thank': 1426, 'miss': 939, 'aapko': 57, 'kabhi': 702, 'nahi': 978, 'bhula': 235, 'sakti': 1271, 'aap': 56, 'logo': 852, 'dilo': 387, 'base': 194, 'dii': 383, 'bulleh': 275, 'lyrics': 867, 'mashallah': 902, 'wow': 1557, 'message': 931, 'leaving': 824, 'comment': 327, 's0': 1230, 'days': 357, 'm0nths': 868, 's0me0ne': 1231, 'get': 516, 'reminder': 1206, '0f': 2, '23nfak': 22, 'nfak': 1007, 'ਬੜ': 1784, 'ਆਰ': 1760, 'ਗਰ': 1772, 'ਇਸ': 1765, 'ਜਣ': 1775, 'hazrat': 571, 'muhammad': 959, 'sa': 1232, 'sadqy': 1255, 'nusrt': 1031, 'fhte': 474, 'janat': 655, 'mn': 947, 'ala': 87, 'muqam': 964, 'frmayn': 491, 'ameen': 99, 'waah': 1524, 'subban': 1373, 'qwalie': 1165, 'sadak': 1249, 'ronde': 1222, 'nain': 982, 'nimane': 1019, 'jis': 688, 'lagdi': 809, 'ohio': 1037, 'jane': 656, 'hma': 591, 'apna': 118, 'hifzo': 584, 'iman': 621, 'rakhna': 1180, 'jaat': 640, 'puchni': 1136, 'mind': 936, 'blowing': 249, 'voice': 1521, 'god': 533, 'ì⁹7': 1585, 'schhhhhhh': 1299, 'best': 212, 'ever': 438, 'feel': 469, 'rahmat': 1174, 'gal': 500, 'sachi': 1246, 'ha': 552, 'bule': 272, 'saint': 1263, 'punjab': 1137, 'origin': 1050, 'kisi': 767, 'zat': 1580, 'nai': 980, 'awesome': 144, 'something': 1349, 'qawwali': 1156, 'represent': 1208, 'particular': 1081, 'religion': 1201, 'whole': 1544, 'humanity': 610, 'decide': 361, 'fate': 462, 'death': 359, 'bhulle': 237, 'pata': 1083, 'tad': 1399, 'lag': 807, 'si': 1322, 'jado': 646, 'chidi': 311, 'fasi': 461, 'hath': 568, 'baaza': 155, 'oithe': 1039, 'nabade': 974, 'kissie': 771, 'jhoothe': 675, 'maan': 873, 'tere': 1418, 'sab': 1238, 'chede': 306, 'nahin': 979, 'jo': 692, 'ghadya': 520, 'bhajna': 220, 'din': 388, 'banaya': 181, 'dhena': 378, 'aakhir': 52, 'chadne': 291, 'mahal': 875, 'minare': 935, 'bhaith': 219, 'sada': 1248, 'rehna': 1200, 'char': 303, 'dina': 389, 'mela': 922, 'bahuti': 168, 'deer': 366, 'behna': 206, 'bhi': 226, 'cheda': 305, 'chalya': 294, 'ohi': 1036, 'manna': 893, 'pena': 1095, 'bhain': 218, 'bharava': 223, 'vich': 1518, 'ja': 636, 'dafnana': 343, 'tur': 1460, 'jana': 654, 'tenu': 1417, 'chad': 289, 'bahuta': 167, 'chir': 315, 'lana': 816, 'muk': 961, 'jaane': 639, 'haith': 556, 'mitti': 944, 'jad': 645, 'aana': 55, 'us': 1488, 'russe': 1228, 'aan': 54, 'manauna': 888, 'moda': 948, 'torna': 1445, 'jhaan': 671, 'thale': 1425, 'terti': 1423, 'uchi': 1467, 'shaan': 1311, 'suche': 1376, 'tu': 1458, 'vedhe': 1511, 'aakhad': 51, 'jhooyhiyan': 677, 'terian': 1421, 'bata': 197, 'gallan': 504, 'naal': 970, 'banave': 178, 'kaliyan': 716, 'raatan': 1167, 'manare': 887, 'jhoothiyan': 676, 'teriyan': 1422, 'jaata': 641, 'bajo': 172, 'leniyan': 829, 'kadi': 707, 'kholana': 750, 'ae': 74, 'kitti': 776, 'sareiyan': 1285, 'vakho': 1506, 'vakh': 1505, 'sakhi': 1268, 'sathi': 1290, 'puchini': 1134, 'panchi': 1074, 'vangu': 1508, 'udd': 1471, 'ik': 616, 'mar': 895, 'udari': 1470, 'kadar': 704, 'ohna': 1038, 'peni': 1097, 'jinna': 686, 'bhari': 224, 'har': 562, 'che': 304, 'chadni': 292, 'bandaya': 182, 'jaan': 638, 'jedi': 665, 'pyari': 1147, 'aaj': 49, 'tureya': 1463, 'kal': 712, 'varo': 1510, 'vari': 1509, 'bol': 258, 'jabaan': 644, 'changa': 297, 'mithe': 943, 'jag': 647, 'hunda': 612, 'manda': 889, 'kade': 705, 'muho': 960, 'kadiye': 708, 'tikha': 1435, 'teer': 1415, 'vicho': 1519, 'rabb': 1170, 'dinda': 390, 'akhseer': 85, 'change': 300, 'boleya': 261, 'ucha': 1466, 'akhher': 83, 'kissi': 770, 'hasaya': 565, 'das': 350, 'haan': 553, 'bhukhe': 233, 'rajaya': 1178, 'dass': 351, 'raah': 1166, 'cho': 316, 'rode': 1220, 'hataya': 567, 'ta': 1397, 'zakhmi': 1579, 'kisse': 769, 'phat': 1105, 'seeta': 1306, 'ave': 136, 'pher': 1107, 'kakh': 711, 'insan': 625, 'ak': 81, 'ka': 699, 'putla': 1144, 'big': 240, 'sahab': 1256, 'months': 953, 'years': 1572, 'decade': 360, 'someone': 1348, 'haqiqat': 561, 'jindgi': 685, 'eh': 421, 'peeran': 1092, 'lakhan': 813, 'data': 354, 'lakhdata': 814, 'peer': 1090, 'bahi': 166, 'ye': 1570, 'krne': 793, 'vale': 1507, 'kha': 741, 'se': 1301, 'atte': 128, 'bagwan': 164, 'shod': 1318, 'plees': 1112, 'sakoon': 1269, 'full': 493, 'explanation': 447, 'hsha': 603, 'bhut': 238, 'vadia': 1502, 'beshak': 210, 'aise': 78, 'hoga': 594, 'sb': 1298, 'sath': 1289, 'hum': 608, 'maaf': 872, 'kre': 791, 'amin': 101, 'freshing': 486, 'ehi': 422, 'lok': 854, 'samjh': 1280, 'duniya': 408, 'kini': 762, 'sohni': 1345, 'howe': 601, 'songs': 1351, 'aahl': 48, 'hun': 611, 'zaddan': 1578, 'reh': 1196, 'geia': 513, 'palle': 1073, 'schia': 1300, 'glaaan': 529, 'late': 819, 'night': 1016, 'volume': 1522, 'stars': 1363, '30': 27, 'takes': 1404, 'another': 109, 'wording': 1552, 'feeling': 470, 'much': 958, '0p': 3, 'superb': 1387, 'sunte': 1385, 'raho': 1175, 'isko': 629, 'itna': 634, 'pyara': 1146, 'gaya': 506, 'apne': 119, 'शब': 1743, 'कड़व': 1667, 'सच': 1744, 'king': 761, 'salute': 1276, 'lots': 859, '95': 37, 'time': 1438, 'favorite': 466, 'anything': 112, 'beyond': 214, 'this': 1430, 'krn': 792, 'sabhh': 1241, 'journey': 694, 'ends': 430, '100': 5, 'percent': 1100, 'sachian': 1247, 'baatan': 154, 'satnam': 1291, 'shri': 1320, 'greatness': 544, 'master': 906, 'kawal': 732, 'मह': 1726, 'कल': 1666, 'कम': 1662, 'गम': 1671, 'परम': 1711, 'सर': 1749, 'वशक': 1742, 'ईश': 1645, 'वर': 1740, 'जम': 1684, 'पर': 1710, 'इस': 1644, 'अनम': 1631, 'कर': 1663, 'सल': 1750, 'करत': 1664, 'still': 1367, 'https': 605, 'youtu': 1575, 'be': 199, 'ruyenlgwieu': 1229, 'human': 609, 'karma': 724, 'niberhe': 1012, 'puchhni': 1133, 'accountability': 66, 'ask': 125, 'caste': 286, 'religions': 1202, 'even': 437, 'gentle': 515, 'man': 885, 'lady': 806, 'accounted': 67, 'body': 251, 'siraa': 1336, 'जब': 1683, 'नत': 1704, 'आस': 1641, 'बन': 1718, 'बह': 1719, 'चन': 1675, 'मजब': 1724, 'galbatt': 502, 'uncompareable': 1477, 'agar': 76, 'ghamnd': 521, 'bar': 189, 'sun': 1379, 'lo': 850, 'bandgi': 184, 'nic': 1013, 'lines': 838, 'remind': 1205, 'channel': 301, 'ucz3aw21setcow1ejmaudntw': 1469, 'salaam': 1273, 'sadiq': 1253, 'actually': 70, 'means': 914, 'anyone': 111, 'translate': 1452, 'ortsum': 1052, 'spirit': 1357, 'possible': 1119, 'یاددہانی': 1627, 'درود': 1595, 'شریف': 1599, 'پڑھ': 1618, 'لیجیے': 1605, 'صلی': 1601, 'اللہ': 1589, 'علیہ': 1603, 'وآلہ': 1608, 'واصحابہ': 1609, 'وسلم': 1611, 'may': 910, 'nusrath': 1030, 'qwali': 1164, 'eade': 415, 'upper': 1485, 'kuj': 799, 'skda': 1342, 'touched': 1448, 'maind': 879, 'strongly': 1371, 'someday': 1347, 'notified': 1026, 'chance': 295, 'listn': 844, 'piece': 1109, 'battan': 198, 'sarkarji': 1288, 'meaningful': 913, 'अल': 1634, 'every': 440, 'living': 848, 'ge': 510, 'farnders': 459, 'somebody': 1346, 'wonderful': 1548, 'qalaam': 1148, 'shka': 1317, 'waoooooo': 1535, 'alaaaa': 88, 'kamall': 719, 'nyc': 1033, 'kay': 735, 'bat': 196, 'ture': 1462, 'nabere': 976, 'zaat': 1577, 'pochni': 1117, 'no': 1023, 'singer': 1330, 'respect': 1209, 'till': 1437, 'date': 355, 'nobody': 1024, 'near': 996, 'ziyda': 1583, 'panjabi': 1075, 'nahe': 977, 'janta': 658, 'likan': 834, 'es': 434, 'qawle': 1153, 'pa': 1060, 'laga': 808, 'bohat': 252, 'khoshish': 751, 'bad': 161, 'mila': 933, 'mumbai': 962, 'dekhe': 368, 'fer': 472, 'hisab': 589, 'bulleshah': 276, '1000': 6, 'puri': 1140, 'zindagi': 1581, 'nichor': 1015, 'kawwali': 734, 'mein': 921, 'bhar': 222, 'diya': 399, 'qawli': 1154, 'sahb': 1257, 'heaven': 577, 'ears': 417, 'blessed': 247, 'ਹਗ': 1790, 'kouda': 788, 'sach': 1243, 'writer': 1560, 'performance': 1101, 'super': 1386, 'care': 285, 'think': 1429, 'kbhi': 737, 'daru': 349, 'pee': 1089, 'aawaj': 62, 'suno': 1384, 'kissay': 768, 'tare': 1410, 'puchne': 1135, 'tau': 1411, 'saheb': 1258, 'contected': 334, 'uprwala': 1486, '18': 14, 'fav': 465, 'shey': 1316, 'paini': 1070, 'bndya': 250, 'jan': 653, 'jeri': 667, 'gazal': 509, 'instagram': 626, 'kar': 720, 'aya': 147, 'huge': 606, 'frm': 489, 'lovly': 861, 'ਅਸਲ': 1759, 'meet': 915, 'bhai': 217, 'khus': 757, 'jata': 659, 'neki': 1002, 'karne': 726, 'mann': 892, 'karta': 727, 'sehat': 1307, 'lumbi': 865, 'umar': 1476, 'tarakki': 1408, 'emotional': 426, 'commenting': 328, 'liking': 836, 'bhot': 231, 'vadiya': 1503, 'thodi': 1431, 'easy': 418, 'knowing': 781, 'bullay': 273, 'allama': 93, 'iqbal': 627, 'joan': 693, 'eliya': 424, 'excellency': 445, 'awosame': 146, 'laddi': 805, 'hiii': 585, 'ਪਫਬਭ': 1780, 'literally': 845, 'captures': 284, 'spirituality': 1358, 'nutshell': 1032, 'proud': 1130, 'muslim': 967, 'heartfelt': 575, 'damn': 344, 'wretch': 1559, 'wowwwwwww': 1558, 'tuhadi': 1459, 'atma': 126, 'shannti': 1314, 'dvvve': 411, 'sabb': 1239, 'sachaaii': 1244, 'watch': 1537, 'cxbiact_r9w': 340, 'amp': 105, '7m47s': 33, 'raha': 1172, 'bai': 169, 'bhul': 234, 'gai': 499, 'khuda': 754, '10': 4, 'cry': 338, 'lot': 858, 'respected': 1210, 'jiiiii': 680, 'father': 464, 'when': 1541, 'use': 1489, 'make': 881, 'fly': 480, 'head': 572, 'now': 1027, 'remembering': 1204, 'plz': 1115, 'english': 431, 'bohot': 253, '44': 29, 'street': 1369, 'see': 1304, 'dr': 404, 'khullna': 755, 'kitab': 773, 'karm': 723, 'hisaab': 588, 'dena': 370, 'yaha': 1568, 'kuch': 798, 'pending': 1096, 'rakha': 1179, 'reesa': 1194, '26': 26, 'mbt': 911, 't1pyvre': 1396, '__': 40, 'missed': 940, 'jiiiiiiiiiiiiiiiiiiii': 682, 'single': 1333, 'day': 356, 'provide': 1131, 'mental': 927, 'peace': 1087, 'tears': 1414, 'eyes': 449, 'ustaaaadddddd': 1491, 'jiiiiii': 681, 'family': 453, 'xtra': 1563, 'ordinary': 1049, 'selection': 1309, 'depth': 372, 'sinking': 1334, 'gifted': 525, 'searching': 1303, 'owner': 1059, 'g0lden': 496, 'erra': 433, 'forget': 483, 'end': 429, 'also': 94, 'future': 495, 'whenever': 1542, 'listened': 841, 'sukoon': 1378, 'anywhere': 113, 'justttt': 697, 'la': 802, 'jawab': 661, 'sajan': 1265, 'kehya': 740, 'express': 448, 'awaze': 142, 'real': 1187, 'friend': 487, 'person': 1102, 'fake': 452, 'everyone': 441, 'shows': 1319, 'opposite': 1048, 'swarg': 1392, 'nfk': 1008, 'ok': 1040, 'anadpur': 106, 'jaisairam': 651, 'khawwali': 747, 'gpnnmmln': 540, 'pvn': 1145, 'hio': 587, 'part': 1080, 'starts': 1365, '14m00s': 12, '00': 0, 'bhoot': 230, 'achi': 68, 'mashahallha': 901, 'pls': 1113, 'call': 279, 'najare': 983, 'aage': 46, 'hv': 614, 'nav': 992, 'mehra': 920, 'sweetsweet': 1394, 'oustad': 1058, 'right': 1215, 'only': 1045, '2030': 17, 'gets': 517, 'top': 1443, 'nothing': 1025, 'happens': 559, 'chod': 317, 'karke': 722, 'suna': 1380, 'yaaron': 1567, 'hurt': 613, 'enjoying': 432, 'jii': 679, 'bara': 190, 'naiii': 981, 'luk': 864, 'saude': 1292, 'bin': 243, 'mehnat': 919, 'bojjey': 257, 'pparna': 1121, 'saadhaan': 1235, 'chor': 318, 'banavey': 180, 'allaah': 91, 'kolo': 786, 'darna': 348, 'chal': 293, 'ਕਦ': 1769, 'ਵਰ': 1786, 'ਇਆ': 1761, 'ਦਸ': 1777, 'ਰਜ': 1785, 'rab': 1168, 'sadiqqe': 1254, 'poet': 1118, 'suppose': 1389, 'lucky': 863, 'met': 932, 'recordings': 1193, 'osa': 1053, 'label': 804, 'personally': 1103, 'concerts': 330, 'would': 1556, 'sit': 1341, 'together': 1440, 'eat': 419, 'talk': 1407, 'referred': 1195, 'reha': 1197, 'itne': 635, 'bade': 162, 'kalakar': 714, 'jaise': 652, 'log': 851, 'iswar': 632, 'bheje': 225, 'farishte': 458, 'khud': 753, 'rah': 1171, 'dikhate': 384, 'الصلوة': 1587, 'والسلام': 1610, 'عليك': 1602, 'يا': 1613, 'سيدى': 1598, 'يارسول': 1615, 'اللهﷺ': 1588, 'ياحبيب': 1614, 'music': 966, 'तन': 1693, 'हर': 1756, 'लम': 1735, 'दग': 1696, 'समझन': 1748, 'एक': 1651, 'अच': 1629, 'और': 1657, 'आन': 1639, 'बदलत': 1717, 'हम': 1755, 'लगत': 1733, 'अपन': 1632, 'कभ': 1661, 'नह': 1707, 'जय': 1685, 'misuc': 941, '999999989oo9b': 38, 'uhh': 1474, 'bu': 270, 'hibnj9': 583, 'niknnonoboobkb0': 1018, 'mom': 951, 'moo': 954, 'm1m1': 869, 'factfully': 451, 'rest': 1211, 'bro': 267, 'moosewala': 955, 'cant': 283, 'starting': 1364, 'attract': 129, '66666666u66666u6666u6766666666666666666666666u666666666666666666666u66666666666666u666666666u66666u66666666666u666u6666666u6u666666666u666666666u6666666666666666666666666666666666u666666666666': 31, 'better': 213, 'makes': 882, 'stress': 1370, 'free': 485, 'give': 526, 'helps': 580, 'raise': 1176, 'confidence': 331, 'lose': 857, 'it': 633, 'gives': 528, 'power': 1120, 'fight': 475, 'emotions': 427, 'called': 280, 'पढ': 1708, 'नम': 1705, 'खय': 1668, 'घर': 1674, 'इल': 1643, 'अमल': 1633, 'पत': 1709, 'तद': 1692, 'लग': 1732, 'जद': 1681, 'फस': 1715, 'हथ': 1753, 'ओथ': 1654, 'नव': 1706, 'छन': 1678, 'सब': 1747, 'घड': 1673, 'भज': 1721, 'जन': 1682, 'ढहन': 1691, 'आख': 1638, 'छड': 1677, 'डन': 1688, 'महल': 1727, 'सद': 1746, 'रहन': 1731, 'एथ': 1652, 'बहन': 1720, 'धक': 1701, 'झल': 1687, 'ओह': 1655, 'वड': 1739, 'रखन': 1728, 'भर': 1722, 'पल': 1712, 'दफ': 1697, 'ऊन': 1650, 'आऊन': 1636, 'उस': 1649, 'आउन': 1635, 'मन': 1725, 'उन': 1648, 'रन': 1730, 'जह': 1686, 'थल': 1695, 'उच': 1646, 'हड': 1752, 'आकड': 1637, 'गल': 1672, 'लन': 1734, 'खल': 1669, 'वख': 1738, 'वक': 1737, 'उड': 1647, 'इक': 1642, 'दर': 1699, 'ओहन': 1656, 'अज': 1630, 'जग': 1680, 'कद': 1660, 'कड': 1659, 'सज': 1745, 'रध': 1729, 'अकस': 1628, 'लय': 1736, 'दस': 1700, 'हट': 1751, 'जख': 1679, 'फट': 1714, 'ऐव': 1653, 'तस': 1694, 'कख': 1658, 'डय': 1689, 'दय': 1698, 'वल': 1741, 'चर': 1676, 'बद': 1716, 'करन': 1665, 'हनत': 1754, 'भरन': 1723, 'डरन': 1690, 'पहल': 1713, 'आप': 1640, 'नख': 1703, 'jiya': 690, 'sindh': 1329, 'aabad': 44, 'huje': 607, 'mahar': 876, 'kari': 721, 'stuff': 1372, 'im': 620, 'sorry': 1353, 'according': 65, 'bible': 239, 'qu': 1157, 'ran': 1181, 'salvation': 1277, 'children': 313, 'bani': 188, 'israheal': 630, 'kaum': 730, 'consists': 333, '12': 8, 'differnt': 382, 'tribes': 1454, 'jaath': 643, 'thought': 1432, 'aĺi': 148, 'ruhani': 1225, 'salot': 1275, '23ustad': 25, 'ustada': 1495, 'subhan': 1374, 'want': 1534, 'hard': 563, 'rajaea': 1177, 'ethe': 436, 'bali': 175, 'yeh': 1573, 'awesomeness': 145, 'sakuun': 1272, 'padhi': 1062, 'namaz': 989, 'niyaaz': 1020, 'sikhayaa': 1327, 'kam': 717, 'padhiyan': 1063, 'namaazan': 987, 'dheedha': 377, 'dikhayi': 385, 'dityan': 396, 'niyaazan': 1022, 'ilm': 619, 'padhya': 1064, 'kityan': 777, 'vaadan': 1498, 'bhule': 236, 'sii': 1324, 'chidii': 312, 'phasi': 1104, 'baazaan': 156, 'read': 1186, 'prayer': 1125, 'learnt': 822, 'offering': 1034, 'help': 579, 'purpose': 1141, 'prayers': 1126, 'neither': 1000, 'could': 335, 'home': 596, 'members': 925, 'given': 527, 'offerings': 1035, 'knowledge': 782, 'education': 420, 'practiced': 1123, 'worships': 1555, 'bulle': 274, 'says': 1297, 'know': 780, 'bird': 244, 'hands': 558, 'eagle': 416, 'close': 323, 'take': 1402, 'realize': 1190, 'navede': 993, 'counted': 336, 'aaee': 45, 'chehre': 308, 'ghadiya': 519, 'bajna': 171, 'paina': 1069, 'akhir': 84, 'mehal': 917, 'manaare': 886, 'baith': 170, 'bohti': 255, 'der': 373, 'beejega': 204, 'sadik': 1252, 'vadna': 1504, 'kaul': 728, 'behan': 205, 'sister': 1340, 'dafanuan': 342, 'chhad': 309, 'bohtaa': 254, 'launa': 820, 'auuna': 135, 'uss': 1490, 'aaun': 61, 'modaa': 949, 'taur': 1412, 'jahan': 648, 'aounaa': 114, 'oochi': 1047, 'sunjhe': 1382, 'vehade': 1512, 'aakad': 50, 'galaan': 501, 'jaatan': 642, 'amlan': 104, 'baajho': 152, 'uthe': 1496, 'ghadi': 518, 'khalonaa': 744, 'standing': 1361, 'aee': 75, 'aapni': 58, 'saariyan': 1236, 'sangi': 1283, 'saathi': 1237, 'jede': 664, 'vaangu': 1499, 'maar': 874, 'uddaari': 1472, 'unna': 1480, 'paeni': 1067, 'jina': 683, 'shai': 1313, 'chhadni': 310, 'bandiya': 185, 'toh': 1441, 'jehdi': 666, 'turaya': 1461, 'vaar': 1500, 'vaari': 1501, 'zuban': 1584, 'changaa': 298, 'aaseer': 60, 'haunda': 570, 'mandaa': 890, 'munho': 963, 'tikhaa': 1436, 'neera': 999, 'akseer': 86, 'changay': 299, 'boliya': 262, 'oocha': 1046, 'akheer': 82, 'raunde': 1183, 'hassaya': 566, 'taan': 1398, 'bhookhe': 229, 'razaya': 1184, 'chaon': 302, 'roaday': 1219, 'stable': 1360, 'phatt': 1106, 'siitaa': 1325, 'stitch': 1368, 'awen': 143, 'phir': 1108, 'vi': 1517, 'chaddeya': 290, 'dyankdaari': 413, 'wall': 1532, 'dasse': 352, 'chro': 320, 'yari': 1569, 'naas': 971, 'neko': 1003, 'kaari': 701, 'neka': 1001, 'badi': 163, 'sikhawe': 1326, 'bojhe': 256, 'barna': 192, 'par': 1077, 'mit': 942, 'saadan': 1234, 'saints': 1264, 'banaven': 179, 'making': 884, 'kaulon': 729, 'dardan': 347, 'fear': 468, 'pehlan': 1093, 'amlaan': 103, 'khulna': 756, 'pehlaun': 1094, 'aapo': 59, 'nakhede': 984, 'long': 856, 'wordig': 1551, 'ustaadji': 1493, 'well': 1540, 'quawali': 1160, 'calm': 281, 'hatts': 569, 'nfa': 1006, 'ise': 628, 'sirf': 1338, 'gaana': 498, 'samjha': 1281, 'jaye': 662, 'sacchai': 1242, 'zindgi': 1582, 'khatam': 746, 'baad': 150, 'shuru': 1321, 'yaadan': 1565, 'ban': 176, 'gyea': 551, 'dosto': 403, 'mainu': 880, '940': 36, 'anpad': 110, 'andh': 107, 'bhakt': 221, 'chutiya': 321, 'lokan': 855, 'aqal': 121, 'utte': 1497, 'taras': 1409, 'riha': 1216, 'ess': 435, 'lahnat': 811, 'aisi': 79, 'soch': 1344, 'beautfull': 200, 'qwaali': 1163, 'adhbudh': 73, 'holi': 595, 'avsar': 137, 'hoon': 598, 'rang': 1182, 'jindagi': 684, 'khusion': 758, 'jye': 698, 'follow': 481, 'ch': 288, 'rea': 1185, 'llllll': 849, 'reham': 1198, 'sirra': 1339, 'gmndj': 530, 'first': 479, 'because': 203, 'lisean': 839, 'repeat': 1207, 'felling': 471, 'roya': 1224, 'kr': 789, 'sawal': 1294, 'nh': 1009, 'pure': 1139, 'realised': 1188, 'new': 1005, 'pain': 1068, 'happiness': 560, 'bekhabar': 207, 'mastan': 904, 'greatest': 543, 'type': 1465, 'apki': 117, '7thnfqv60hc': 34, 'masha': 899, 'osm': 1054, 'dy': 412, 'diamond': 380, 'last': 818, 'wish': 1546, 'kalam': 715, 'tor': 1444, 'jhan': 672, 'jinne': 687, 'rahe': 1173, 'ihi': 615, 'rouna': 1223, 'layi': 821, 'ditta': 395, 'aj': 80, 'aun': 132, 'wale': 1531, 'bandiyan': 186, 'unha': 1479, 'dard': 346, 'times': 1439, 'morning': 956, 'passed': 1082, 'away': 140, 'left': 825, 'golden': 534, 'memories': 926, 'willlove': 1545, 'oms': 1043, 'sss': 1359, 'singh': 1331, 'dont': 401, 'many': 894, 'sure': 1391, 'bring': 266, 'smile': 1343, 'face': 450, 'explain': 446, 'denga': 371, 'plzz': 1116, 'awaz': 141, 'orq': 1051, 'walah': 1530, 'dukhao': 407, 'absolutely': 64, 'marvellous': 897, 'aunna': 133, 'mittili': 945, 'talay': 1405, 'ouchi': 1057, 'naay': 973, 'wawawawa': 1538, 'gt': 545, 'everything': 442, 'gayi': 508, 'evergreen': 439, 'melodious': 924, 'गई': 1670, 'नकर': 1702, 'qawaali': 1149, 'people': 1098, 'consider': 332, 'superior': 1388, 'others': 1056, 'belong': 209, 'class': 322, 'distinction': 393, 'based': 195, 'creed': 337, 'done': 400, 'whether': 1543, 'sahi': 1259, 'bhaee': 216, 'thousands': 1433, 'melodies': 923, 'talented': 1406, 'devine': 376, 'century': 287, 'justice': 696, 'naat': 972, 'quwali': 1162, 'بے': 1591, 'شک': 1600, 'وہاں': 1612, 'بات': 1590, 'عملوں': 1604, 'پر': 1617, 'ہی': 1625, 'ختم': 1594, 'ہو': 1624, 'گی': 1622, 'پاکطہم': 1616, 'سب': 1597, 'کو': 1621, 'ہدائیت': 1623, 'دے': 1596, 'qawal': 1150, 'bhohat': 227, 'bolea': 260, 'tusi': 1464, 'qawlia': 1155, 'asal': 124, 'dasseya': 353, 'divine': 397, 'sweet': 1393, 'save': 1293, 'animals': 108, 'plssss': 1114, 'indian': 623, 'influence': 624, 'separate': 1310, 'yessssssssss': 1574, 'truly': 1456, 'qualli': 1159, 'dan': 345, 'bully': 277, 'mashaallah': 900, 'listinig': 843, '17': 13, '04': 1, 'else': 425, 'pushni': 1142, 'dedicate': 362, 'christ': 319, 'taken': 1403, 'dislikes': 392, 'aale': 53, 'bhadwe': 215, 'marjo': 896, 'siraaaaa': 1337, 'ku': 797, 'jaaat': 637, 'krdi': 790, 'khtm': 752, 'singing': 1332, 'lejand': 828, 'bana': 177, 'aisa': 77, 'bane': 187, 'delhi': 369, 'alive': 90, 'sandaar': 1282, 'fantactic': 456, 'realy': 1192, 'states': 1366, 'nd': 994, 'guru': 548, 'harshil': 564, '23respect': 24, '23punjab': 23, '23india': 21, 'jtkfjdmcu': 695, 'maaaaafiyaaaan': 871, 'mangni': 891, 'hain': 555, 'bht': 232, 'logoooon': 853, 'sy': 1395, '786': 32, 'tell': 1416, 'saying': 1296, 'kaveta': 731, 'wax': 1539, 'samajhe': 1279, 'wo': 1547, 'khiladi': 749, 'duper': 410, 'waa': 1523, 'soo': 1352, 'yaadein': 1566, 'papa': 1076, 'kader': 706, 'nhi': 1010, 'hota': 599, 'running': 1227, 'grab': 541, 'materlistic': 908, 'things': 1428, 'gall': 503, 'sajjna': 1266, 'jism': 689, 'samaan': 1278, 'matlqb': 909, 'ਇਬ': 1764, 'ਦਤ': 1776, 'untaadu': 1481, 'exactly': 443, 'absolute': 63, 'fill': 476, 'forgiveness': 484, 'verrrrrrrry': 1515, 'kisey': 766, 'kaha': 710, 'main': 878, 'jeye': 670, 'geet': 512, 'funtastic': 494, '222nice': 19, 'uchkbhheklzdyem8nrisxpuq': 1468, 'remember': 1203, 'narrated': 990, 'mastana': 905, 'kmall': 779, 'commendable': 326, 'gee': 511, 'rehmat': 1199, 'ap': 115, 'per': 1099, 'goat': 532, 'rha': 1214, 'ਜਗਜ': 1774, 'lives': 847, 'compare': 329, 'excellence': 444, 'muslims': 968, '20': 15, 'ਇਹ': 1766, 'ਸਭ': 1787, 'month': 952, 'sunk': 1383, 'milda': 934, 'rip': 1217, 'drugs': 405, 'pir': 1110, 'sadi': 1251, 'puslo': 1143, 'sabh': 1240, 'uper': 1482, 'pta': 1132, 'lgna': 831, 'gopy': 538, 'beshaq': 211, 'peachfull': 1088, '2035': 18}\n"
          ]
        }
      ]
    },
    {
      "cell_type": "code",
      "source": [
        "vocab = vect.vocabulary_"
      ],
      "metadata": {
        "id": "grkc6EtGbDUj"
      },
      "execution_count": 65,
      "outputs": []
    },
    {
      "cell_type": "code",
      "source": [
        "# for key,value in vocab.items():\n",
        "#     if(value == 162):\n",
        "#         print(key)"
      ],
      "metadata": {
        "id": "pzwnNCC2bGBx"
      },
      "execution_count": 66,
      "outputs": []
    },
    {
      "cell_type": "markdown",
      "source": [
        "Importing the logistic regression classifer and fitting on the training dataset"
      ],
      "metadata": {
        "id": "NniK8VkEbIfB"
      }
    },
    {
      "cell_type": "code",
      "source": [
        "from sklearn.linear_model import LogisticRegression\n",
        "lr = LogisticRegression()\n",
        "lr.fit(tf_train,y_train)"
      ],
      "metadata": {
        "colab": {
          "base_uri": "https://localhost:8080/"
        },
        "id": "jxnXwh5abMEG",
        "outputId": "3850aade-77b2-4332-db8f-2e023ba04d18"
      },
      "execution_count": 67,
      "outputs": [
        {
          "output_type": "execute_result",
          "data": {
            "text/plain": [
              "LogisticRegression()"
            ]
          },
          "metadata": {},
          "execution_count": 67
        }
      ]
    },
    {
      "cell_type": "markdown",
      "source": [
        "# Accuracy score on training dataset"
      ],
      "metadata": {
        "id": "U8Yhr5lNbSFf"
      }
    },
    {
      "cell_type": "code",
      "source": [
        "lr.score(tf_train,y_train)"
      ],
      "metadata": {
        "colab": {
          "base_uri": "https://localhost:8080/"
        },
        "id": "QqnYQ2u5bUkI",
        "outputId": "d33f9759-8740-423a-9ced-b818e0720c70"
      },
      "execution_count": 68,
      "outputs": [
        {
          "output_type": "execute_result",
          "data": {
            "text/plain": [
              "0.9608091024020228"
            ]
          },
          "metadata": {},
          "execution_count": 68
        }
      ]
    },
    {
      "cell_type": "markdown",
      "source": [
        "# Accuracy score on test dataset i.e got from the splitting"
      ],
      "metadata": {
        "id": "--PmMe6xbZpn"
      }
    },
    {
      "cell_type": "code",
      "source": [
        "lr.score(tf_test,y_test)"
      ],
      "metadata": {
        "colab": {
          "base_uri": "https://localhost:8080/"
        },
        "id": "HRLVQymQbcDg",
        "outputId": "b73aa64b-c570-4532-b7f1-ae418f30d9c8"
      },
      "execution_count": 69,
      "outputs": [
        {
          "output_type": "execute_result",
          "data": {
            "text/plain": [
              "0.8939393939393939"
            ]
          },
          "metadata": {},
          "execution_count": 69
        }
      ]
    },
    {
      "cell_type": "markdown",
      "source": [
        "# Make predictions on the test dataset i.e. unseen data to the model"
      ],
      "metadata": {
        "id": "jssbyaIbbhQc"
      }
    },
    {
      "cell_type": "code",
      "source": [
        "expected = y_test\n",
        "predicted = lr.predict(tf_test)"
      ],
      "metadata": {
        "id": "ynFaNO6mbjRz"
      },
      "execution_count": 70,
      "outputs": []
    },
    {
      "cell_type": "markdown",
      "source": [
        "Plot confusion matrix for the test dataset"
      ],
      "metadata": {
        "id": "xPk8TQatbozB"
      }
    },
    {
      "cell_type": "code",
      "source": [
        "from mlxtend.plotting import plot_confusion_matrix\n",
        "import matplotlib.pyplot as plt\n",
        "import numpy as np"
      ],
      "metadata": {
        "id": "Nse82Fogbqe6"
      },
      "execution_count": 71,
      "outputs": []
    },
    {
      "cell_type": "code",
      "source": [
        "pip install mlxtend"
      ],
      "metadata": {
        "colab": {
          "base_uri": "https://localhost:8080/"
        },
        "id": "hAX6wS_RbuX6",
        "outputId": "8880f1ef-8693-4c7f-fe44-9e020492904b"
      },
      "execution_count": 72,
      "outputs": [
        {
          "output_type": "stream",
          "name": "stdout",
          "text": [
            "Looking in indexes: https://pypi.org/simple, https://us-python.pkg.dev/colab-wheels/public/simple/\n",
            "Requirement already satisfied: mlxtend in /usr/local/lib/python3.7/dist-packages (0.14.0)\n",
            "Requirement already satisfied: setuptools in /usr/local/lib/python3.7/dist-packages (from mlxtend) (57.4.0)\n",
            "Requirement already satisfied: scipy>=0.17 in /usr/local/lib/python3.7/dist-packages (from mlxtend) (1.4.1)\n",
            "Requirement already satisfied: numpy>=1.10.4 in /usr/local/lib/python3.7/dist-packages (from mlxtend) (1.21.6)\n",
            "Requirement already satisfied: pandas>=0.17.1 in /usr/local/lib/python3.7/dist-packages (from mlxtend) (1.3.5)\n",
            "Requirement already satisfied: matplotlib>=1.5.1 in /usr/local/lib/python3.7/dist-packages (from mlxtend) (3.2.2)\n",
            "Requirement already satisfied: scikit-learn>=0.18 in /usr/local/lib/python3.7/dist-packages (from mlxtend) (1.0.2)\n",
            "Requirement already satisfied: cycler>=0.10 in /usr/local/lib/python3.7/dist-packages (from matplotlib>=1.5.1->mlxtend) (0.11.0)\n",
            "Requirement already satisfied: pyparsing!=2.0.4,!=2.1.2,!=2.1.6,>=2.0.1 in /usr/local/lib/python3.7/dist-packages (from matplotlib>=1.5.1->mlxtend) (3.0.9)\n",
            "Requirement already satisfied: kiwisolver>=1.0.1 in /usr/local/lib/python3.7/dist-packages (from matplotlib>=1.5.1->mlxtend) (1.4.3)\n",
            "Requirement already satisfied: python-dateutil>=2.1 in /usr/local/lib/python3.7/dist-packages (from matplotlib>=1.5.1->mlxtend) (2.8.2)\n",
            "Requirement already satisfied: typing-extensions in /usr/local/lib/python3.7/dist-packages (from kiwisolver>=1.0.1->matplotlib>=1.5.1->mlxtend) (4.1.1)\n",
            "Requirement already satisfied: pytz>=2017.3 in /usr/local/lib/python3.7/dist-packages (from pandas>=0.17.1->mlxtend) (2022.1)\n",
            "Requirement already satisfied: six>=1.5 in /usr/local/lib/python3.7/dist-packages (from python-dateutil>=2.1->matplotlib>=1.5.1->mlxtend) (1.15.0)\n",
            "Requirement already satisfied: threadpoolctl>=2.0.0 in /usr/local/lib/python3.7/dist-packages (from scikit-learn>=0.18->mlxtend) (3.1.0)\n",
            "Requirement already satisfied: joblib>=0.11 in /usr/local/lib/python3.7/dist-packages (from scikit-learn>=0.18->mlxtend) (1.1.0)\n"
          ]
        }
      ]
    },
    {
      "cell_type": "code",
      "source": [
        "cf = metrics.confusion_matrix(expected,predicted,labels = [1,-1])\n",
        "print(cf)\n",
        "## this command is only for google collab \n",
        "## in the below figure \" 1 is actually showing -1 and 0 is actually showing 1\"\n",
        "fig, ax = plot_confusion_matrix(conf_mat = cf)\n",
        "                                \n",
        "## It canbe used in any platform\n",
        "# fig, ax = plot_confusion_matrix(conf_mat = cf, class_names = [1,-1])\n",
        "plt.show()"
      ],
      "metadata": {
        "colab": {
          "base_uri": "https://localhost:8080/",
          "height": 315
        },
        "id": "tQSl5VVmbyap",
        "outputId": "337b3c8b-c13c-4391-ba82-cb25271829c7"
      },
      "execution_count": 73,
      "outputs": [
        {
          "output_type": "stream",
          "name": "stdout",
          "text": [
            "[[ 38  19]\n",
            " [  2 139]]\n"
          ]
        },
        {
          "output_type": "display_data",
          "data": {
            "text/plain": [
              "<Figure size 432x288 with 1 Axes>"
            ],
            "image/png": "[encoded data removed]"
          },
          "metadata": {
            "needs_background": "light"
          }
        }
      ]
    },
    {
      "cell_type": "code",
      "source": [
        "from sklearn import metrics\n",
        "print(metrics.classification_report(expected, predicted))\n",
        "# print(metrics.confusion_matrix(expected,predicted))"
      ],
      "metadata": {
        "colab": {
          "base_uri": "https://localhost:8080/"
        },
        "id": "BqekRau-b2A_",
        "outputId": "a92e5e7c-fff2-4546-bc0c-4c7afbc9a3d8"
      },
      "execution_count": 74,
      "outputs": [
        {
          "output_type": "stream",
          "name": "stdout",
          "text": [
            "              precision    recall  f1-score   support\n",
            "\n",
            "          -1       0.88      0.99      0.93       141\n",
            "           1       0.95      0.67      0.78        57\n",
            "\n",
            "    accuracy                           0.89       198\n",
            "   macro avg       0.91      0.83      0.86       198\n",
            "weighted avg       0.90      0.89      0.89       198\n",
            "\n"
          ]
        }
      ]
    },
    {
      "cell_type": "markdown",
      "source": [
        "Finding the F1 score"
      ],
      "metadata": {
        "id": "TI_yS5NSb7Dz"
      }
    },
    {
      "cell_type": "code",
      "source": [
        "from sklearn.metrics import f1_score\n",
        "f1_score(expected, predicted, average='macro')"
      ],
      "metadata": {
        "colab": {
          "base_uri": "https://localhost:8080/"
        },
        "id": "25U3dV3-b84E",
        "outputId": "fe136987-0575-47ec-80fb-b4724dc0631e"
      },
      "execution_count": 75,
      "outputs": [
        {
          "output_type": "execute_result",
          "data": {
            "text/plain": [
              "0.8566355204634004"
            ]
          },
          "metadata": {},
          "execution_count": 75
        }
      ]
    }
  ]
}