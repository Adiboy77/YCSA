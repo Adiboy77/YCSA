{
  "nbformat": 4,
  "nbformat_minor": 0,
  "metadata": {
    "colab": {
      "name": "SidemenYCSA.ipynb",
      "provenance": [],
      "collapsed_sections": [],
      "toc_visible": true,
      "authorship_tag": "ABX9TyObLb1fE6jyrxN4kjopBfFl",
      "include_colab_link": true
    },
    "kernelspec": {
      "name": "python3",
      "display_name": "Python 3"
    },
    "language_info": {
      "name": "python"
    }
  },
  "cells": [
    {
      "cell_type": "markdown",
      "metadata": {
        "id": "view-in-github",
        "colab_type": "text"
      },
      "source": [
        "<a href=\"https://colab.research.google.com/github/Adiboy77/YCSA/blob/main/SidemenYCSA.ipynb\" target=\"_parent\"><img src=\"https://colab.research.google.com/assets/colab-badge.svg\" alt=\"Open In Colab\"/></a>"
      ]
    },
    {
      "cell_type": "code",
      "execution_count": 1,
      "metadata": {
        "colab": {
          "base_uri": "https://localhost:8080/"
        },
        "id": "aKjRBt-8YZfc",
        "outputId": "d0b93f0c-17b7-4897-86ef-2a6e4b8500f6"
      },
      "outputs": [
        {
          "output_type": "stream",
          "name": "stdout",
          "text": [
            "Mounted at /gdrive\n"
          ]
        }
      ],
      "source": [
        "from google.colab import drive\n",
        "drive.mount('/gdrive')"
      ]
    },
    {
      "cell_type": "code",
      "source": [
        "pip install -U scikit-learn"
      ],
      "metadata": {
        "colab": {
          "base_uri": "https://localhost:8080/"
        },
        "id": "_ybqB1dEY1xV",
        "outputId": "d8f817b1-28c9-427f-80aa-2283790c7f68"
      },
      "execution_count": 2,
      "outputs": [
        {
          "output_type": "stream",
          "name": "stdout",
          "text": [
            "Looking in indexes: https://pypi.org/simple, https://us-python.pkg.dev/colab-wheels/public/simple/\n",
            "Requirement already satisfied: scikit-learn in /usr/local/lib/python3.7/dist-packages (1.0.2)\n",
            "Requirement already satisfied: numpy>=1.14.6 in /usr/local/lib/python3.7/dist-packages (from scikit-learn) (1.21.6)\n",
            "Requirement already satisfied: scipy>=1.1.0 in /usr/local/lib/python3.7/dist-packages (from scikit-learn) (1.4.1)\n",
            "Requirement already satisfied: threadpoolctl>=2.0.0 in /usr/local/lib/python3.7/dist-packages (from scikit-learn) (3.1.0)\n",
            "Requirement already satisfied: joblib>=0.11 in /usr/local/lib/python3.7/dist-packages (from scikit-learn) (1.1.0)\n"
          ]
        }
      ]
    },
    {
      "cell_type": "code",
      "source": [
        "from google.colab import drive\n",
        "drive.mount('/content/drive')"
      ],
      "metadata": {
        "colab": {
          "base_uri": "https://localhost:8080/"
        },
        "id": "HthbmrobY7YH",
        "outputId": "dcdc9196-0030-481f-c8ec-d89c75c1d067"
      },
      "execution_count": 3,
      "outputs": [
        {
          "output_type": "stream",
          "name": "stdout",
          "text": [
            "Mounted at /content/drive\n"
          ]
        }
      ]
    },
    {
      "cell_type": "code",
      "source": [
        "import os\n",
        "os.chdir(\"/content/drive/MyDrive/\")"
      ],
      "metadata": {
        "id": "k9e5YZsBZAWt"
      },
      "execution_count": 4,
      "outputs": []
    },
    {
      "cell_type": "code",
      "source": [
        "import numpy as np # linear algebra\n",
        "import pandas as pd # data processing, CSV file I/O (e.g. pd.read_csv)\n",
        "import os\n",
        "import scipy\n",
        "\n",
        "\n",
        "import warnings\n",
        "warnings.filterwarnings(\"ignore\")"
      ],
      "metadata": {
        "id": "8KBx3q6NZHrp"
      },
      "execution_count": 5,
      "outputs": []
    },
    {
      "cell_type": "code",
      "source": [
        "from textblob import TextBlob\n",
        "from sklearn import metrics\n",
        "from mlxtend.plotting import plot_confusion_matrix"
      ],
      "metadata": {
        "id": "4ibRptRsZKsh"
      },
      "execution_count": 6,
      "outputs": []
    },
    {
      "cell_type": "code",
      "source": [
        "ls"
      ],
      "metadata": {
        "colab": {
          "base_uri": "https://localhost:8080/"
        },
        "id": "QK28nCr5ZOBK",
        "outputId": "db3168ea-610f-469b-ef82-62ed656038d5"
      },
      "execution_count": 7,
      "outputs": [
        {
          "output_type": "stream",
          "name": "stdout",
          "text": [
            " 101903063_classification.ipynb\n",
            " 101903063-data.csv\n",
            "'101903063-result-1 (1).csv'\n",
            "'101903063-result-1 (2).csv'\n",
            " 101903063-result-1.csv\n",
            " 101903063-result-2.csv\n",
            " 101903063_topsis.py\n",
            "'adi_cv2-converted (1).pdf'\n",
            " adityaKaggle.csv\n",
            "'Aditya_Resume04 (1).pdf'\n",
            " Aditya_Resume04.pdf\n",
            "'Aditya Vikram Tiwari (1).png'\n",
            "'Aditya Vikram Tiwari.png'\n",
            "'AdityaVikramTiwari_ThaparInstituteOfEngineering&Technology.jpeg'\n",
            "\u001b[0m\u001b[01;34m'Colab Notebooks'\u001b[0m/\n",
            "'Copy of Untitled form.gform'\n",
            " dowhile.c\n",
            "'eCode_Security Pledge Form(1)-converted-converted.pdf'\n",
            "'Getting started.pdf'\n",
            " kjdfkjnfd.gdoc\n",
            "'Lecture -13_BJT-Part2_Biasing-updated-01May (1).pdf'\n",
            "'Lecture -13_BJT-Part2_Biasing-updated-01May.pdf'\n",
            " Lecture-1_Semiconductor_Part1a.ppt\n",
            "'Links for video lectures (1).docx'\n",
            "'Links for video lectures.docx'\n",
            " MO14TU_ADITYA.pdf\n",
            " outAss3.txt\n",
            "'PI 2.gslides'\n",
            "'PROFF COMM PRESENTATION (1) (1).pptx'\n",
            " Responses.gsheet\n",
            "'resume-f86734 (1).pdf'\n",
            " resume-f86734.pdf\n",
            " Sidemen.gsheet\n",
            "'Sidemen - Sheet2.csv'\n",
            "'Untitled document (1).gdoc'\n",
            "'Untitled document.gdoc'\n",
            "'Untitled form.gform'\n",
            " uthoobComm.gsheet\n",
            "'uthoobComm - Sheet4.csv'\n",
            "'WhatsApp Image 2021-08-22 at 6.50.14 PM.jpeg'\n"
          ]
        }
      ]
    },
    {
      "cell_type": "code",
      "source": [
        "data = pd.read_csv(\"Sidemen - Sheet2.csv\")"
      ],
      "metadata": {
        "id": "mQOXfKMFZZLS"
      },
      "execution_count": 8,
      "outputs": []
    },
    {
      "cell_type": "code",
      "source": [
        "data.head()"
      ],
      "metadata": {
        "colab": {
          "base_uri": "https://localhost:8080/",
          "height": 206
        },
        "id": "AKoVgfYUZgSX",
        "outputId": "3644cc24-c302-4705-d8ae-e77cda73cb85"
      },
      "execution_count": 9,
      "outputs": [
        {
          "output_type": "execute_result",
          "data": {
            "text/plain": [
              "              Name                                            Comment  \\\n",
              "0      Modzfordayz  <a href=\"https://www.youtube.com/watch?v=DUrBI...   \n",
              "1          unknown  Damn this funny as helllll🤣🤣🤣🤣<br>Please do a ...   \n",
              "2              J2k  Whos the girl in the blue jacket and skirt wer...   \n",
              "3  Krishna Marandi                       Best date🤯 in dating history   \n",
              "4        Zoro Unik                                   This one is epic   \n",
              "\n",
              "                   Time  Likes  Reply Count  \n",
              "0  2022-07-06T11:46:56Z      0            0  \n",
              "1  2022-07-06T10:52:53Z      0            0  \n",
              "2  2022-07-06T09:34:26Z      0            0  \n",
              "3  2022-07-06T09:10:51Z      0            0  \n",
              "4  2022-07-06T08:56:06Z      0            0  "
            ],
            "text/html": [
              "\n",
              "  <div id=\"df-30f924e1-7854-473b-b4bf-564cb995495c\">\n",
              "    <div class=\"colab-df-container\">\n",
              "      <div>\n",
              "<style scoped>\n",
              "    .dataframe tbody tr th:only-of-type {\n",
              "        vertical-align: middle;\n",
              "    }\n",
              "\n",
              "    .dataframe tbody tr th {\n",
              "        vertical-align: top;\n",
              "    }\n",
              "\n",
              "    .dataframe thead th {\n",
              "        text-align: right;\n",
              "    }\n",
              "</style>\n",
              "<table border=\"1\" class=\"dataframe\">\n",
              "  <thead>\n",
              "    <tr style=\"text-align: right;\">\n",
              "      <th></th>\n",
              "      <th>Name</th>\n",
              "      <th>Comment</th>\n",
              "      <th>Time</th>\n",
              "      <th>Likes</th>\n",
              "      <th>Reply Count</th>\n",
              "    </tr>\n",
              "  </thead>\n",
              "  <tbody>\n",
              "    <tr>\n",
              "      <th>0</th>\n",
              "      <td>Modzfordayz</td>\n",
              "      <td>&lt;a href=\"https://www.youtube.com/watch?v=DUrBI...</td>\n",
              "      <td>2022-07-06T11:46:56Z</td>\n",
              "      <td>0</td>\n",
              "      <td>0</td>\n",
              "    </tr>\n",
              "    <tr>\n",
              "      <th>1</th>\n",
              "      <td>unknown</td>\n",
              "      <td>Damn this funny as helllll🤣🤣🤣🤣&lt;br&gt;Please do a ...</td>\n",
              "      <td>2022-07-06T10:52:53Z</td>\n",
              "      <td>0</td>\n",
              "      <td>0</td>\n",
              "    </tr>\n",
              "    <tr>\n",
              "      <th>2</th>\n",
              "      <td>J2k</td>\n",
              "      <td>Whos the girl in the blue jacket and skirt wer...</td>\n",
              "      <td>2022-07-06T09:34:26Z</td>\n",
              "      <td>0</td>\n",
              "      <td>0</td>\n",
              "    </tr>\n",
              "    <tr>\n",
              "      <th>3</th>\n",
              "      <td>Krishna Marandi</td>\n",
              "      <td>Best date🤯 in dating history</td>\n",
              "      <td>2022-07-06T09:10:51Z</td>\n",
              "      <td>0</td>\n",
              "      <td>0</td>\n",
              "    </tr>\n",
              "    <tr>\n",
              "      <th>4</th>\n",
              "      <td>Zoro Unik</td>\n",
              "      <td>This one is epic</td>\n",
              "      <td>2022-07-06T08:56:06Z</td>\n",
              "      <td>0</td>\n",
              "      <td>0</td>\n",
              "    </tr>\n",
              "  </tbody>\n",
              "</table>\n",
              "</div>\n",
              "      <button class=\"colab-df-convert\" onclick=\"convertToInteractive('df-30f924e1-7854-473b-b4bf-564cb995495c')\"\n",
              "              title=\"Convert this dataframe to an interactive table.\"\n",
              "              style=\"display:none;\">\n",
              "        \n",
              "  <svg xmlns=\"http://www.w3.org/2000/svg\" height=\"24px\"viewBox=\"0 0 24 24\"\n",
              "       width=\"24px\">\n",
              "    <path d=\"M0 0h24v24H0V0z\" fill=\"none\"/>\n",
              "    <path d=\"M18.56 5.44l.94 2.06.94-2.06 2.06-.94-2.06-.94-.94-2.06-.94 2.06-2.06.94zm-11 1L8.5 8.5l.94-2.06 2.06-.94-2.06-.94L8.5 2.5l-.94 2.06-2.06.94zm10 10l.94 2.06.94-2.06 2.06-.94-2.06-.94-.94-2.06-.94 2.06-2.06.94z\"/><path d=\"M17.41 7.96l-1.37-1.37c-.4-.4-.92-.59-1.43-.59-.52 0-1.04.2-1.43.59L10.3 9.45l-7.72 7.72c-.78.78-.78 2.05 0 2.83L4 21.41c.39.39.9.59 1.41.59.51 0 1.02-.2 1.41-.59l7.78-7.78 2.81-2.81c.8-.78.8-2.07 0-2.86zM5.41 20L4 18.59l7.72-7.72 1.47 1.35L5.41 20z\"/>\n",
              "  </svg>\n",
              "      </button>\n",
              "      \n",
              "  <style>\n",
              "    .colab-df-container {\n",
              "      display:flex;\n",
              "      flex-wrap:wrap;\n",
              "      gap: 12px;\n",
              "    }\n",
              "\n",
              "    .colab-df-convert {\n",
              "      background-color: #E8F0FE;\n",
              "      border: none;\n",
              "      border-radius: 50%;\n",
              "      cursor: pointer;\n",
              "      display: none;\n",
              "      fill: #1967D2;\n",
              "      height: 32px;\n",
              "      padding: 0 0 0 0;\n",
              "      width: 32px;\n",
              "    }\n",
              "\n",
              "    .colab-df-convert:hover {\n",
              "      background-color: #E2EBFA;\n",
              "      box-shadow: 0px 1px 2px rgba(60, 64, 67, 0.3), 0px 1px 3px 1px rgba(60, 64, 67, 0.15);\n",
              "      fill: #174EA6;\n",
              "    }\n",
              "\n",
              "    [theme=dark] .colab-df-convert {\n",
              "      background-color: #3B4455;\n",
              "      fill: #D2E3FC;\n",
              "    }\n",
              "\n",
              "    [theme=dark] .colab-df-convert:hover {\n",
              "      background-color: #434B5C;\n",
              "      box-shadow: 0px 1px 3px 1px rgba(0, 0, 0, 0.15);\n",
              "      filter: drop-shadow(0px 1px 2px rgba(0, 0, 0, 0.3));\n",
              "      fill: #FFFFFF;\n",
              "    }\n",
              "  </style>\n",
              "\n",
              "      <script>\n",
              "        const buttonEl =\n",
              "          document.querySelector('#df-30f924e1-7854-473b-b4bf-564cb995495c button.colab-df-convert');\n",
              "        buttonEl.style.display =\n",
              "          google.colab.kernel.accessAllowed ? 'block' : 'none';\n",
              "\n",
              "        async function convertToInteractive(key) {\n",
              "          const element = document.querySelector('#df-30f924e1-7854-473b-b4bf-564cb995495c');\n",
              "          const dataTable =\n",
              "            await google.colab.kernel.invokeFunction('convertToInteractive',\n",
              "                                                     [key], {});\n",
              "          if (!dataTable) return;\n",
              "\n",
              "          const docLinkHtml = 'Like what you see? Visit the ' +\n",
              "            '<a target=\"_blank\" href=https://colab.research.google.com/notebooks/data_table.ipynb>data table notebook</a>'\n",
              "            + ' to learn more about interactive tables.';\n",
              "          element.innerHTML = '';\n",
              "          dataTable['output_type'] = 'display_data';\n",
              "          await google.colab.output.renderOutput(dataTable, element);\n",
              "          const docLink = document.createElement('div');\n",
              "          docLink.innerHTML = docLinkHtml;\n",
              "          element.appendChild(docLink);\n",
              "        }\n",
              "      </script>\n",
              "    </div>\n",
              "  </div>\n",
              "  "
            ]
          },
          "metadata": {},
          "execution_count": 9
        }
      ]
    },
    {
      "cell_type": "code",
      "source": [
        "data.shape"
      ],
      "metadata": {
        "colab": {
          "base_uri": "https://localhost:8080/"
        },
        "id": "cGEKQsbXZsl0",
        "outputId": "b1e34e76-6151-4277-c92b-220889b9ecab"
      },
      "execution_count": 10,
      "outputs": [
        {
          "output_type": "execute_result",
          "data": {
            "text/plain": [
              "(25665, 5)"
            ]
          },
          "metadata": {},
          "execution_count": 10
        }
      ]
    },
    {
      "cell_type": "code",
      "source": [
        "data['polarity'] = data['Comment'].apply(lambda x: TextBlob(x).sentiment.polarity)"
      ],
      "metadata": {
        "id": "K8QLmhMrZ1d-"
      },
      "execution_count": 11,
      "outputs": []
    },
    {
      "cell_type": "code",
      "source": [
        "data.head"
      ],
      "metadata": {
        "colab": {
          "base_uri": "https://localhost:8080/"
        },
        "id": "UeI1WRlWZ6HL",
        "outputId": "483ff650-0513-459a-fdb8-aa7ee0fa8d2e"
      },
      "execution_count": 12,
      "outputs": [
        {
          "output_type": "execute_result",
          "data": {
            "text/plain": [
              "<bound method NDFrame.head of                                           Name  \\\n",
              "0                                  Modzfordayz   \n",
              "1                                      unknown   \n",
              "2                                          J2k   \n",
              "3                              Krishna Marandi   \n",
              "4                                    Zoro Unik   \n",
              "...                                        ...   \n",
              "25660                                  BingoKW   \n",
              "25661                            George carder   \n",
              "25662                                ForeverF1   \n",
              "25663                            Natsquirrel12   \n",
              "25664  I’m SUBBING to EVERYONE who SUBBS to ME   \n",
              "\n",
              "                                                 Comment  \\\n",
              "0      <a href=\"https://www.youtube.com/watch?v=DUrBI...   \n",
              "1      Damn this funny as helllll🤣🤣🤣🤣<br>Please do a ...   \n",
              "2      Whos the girl in the blue jacket and skirt wer...   \n",
              "3                           Best date🤯 in dating history   \n",
              "4                                       This one is epic   \n",
              "...                                                  ...   \n",
              "25660                                                 Hi   \n",
              "25661                                              first   \n",
              "25662                         Looks like another banger!   \n",
              "25663                                              first   \n",
              "25664  “Congrats to everyone who is early and found t...   \n",
              "\n",
              "                       Time  Likes  Reply Count  polarity  \n",
              "0      2022-07-06T11:46:56Z      0            0     0.400  \n",
              "1      2022-07-06T10:52:53Z      0            0     0.375  \n",
              "2      2022-07-06T09:34:26Z      0            0     0.000  \n",
              "3      2022-07-06T09:10:51Z      0            0     1.000  \n",
              "4      2022-07-06T08:56:06Z      0            0     0.100  \n",
              "...                     ...    ...          ...       ...  \n",
              "25660  2022-05-29T20:01:26Z      0            0     0.000  \n",
              "25661  2022-05-29T20:01:26Z      0            0     0.250  \n",
              "25662  2022-05-29T20:01:25Z     25            4     0.000  \n",
              "25663  2022-05-29T20:01:25Z      0            0     0.250  \n",
              "25664  2022-05-29T20:01:24Z     29            1     0.100  \n",
              "\n",
              "[25665 rows x 6 columns]>"
            ]
          },
          "metadata": {},
          "execution_count": 12
        }
      ]
    },
    {
      "cell_type": "markdown",
      "source": [
        "# Shuffling the dataset"
      ],
      "metadata": {
        "id": "JziOm9zBZ_kD"
      }
    },
    {
      "cell_type": "code",
      "source": [
        "data = data.sample(frac=1).reset_index(drop=True)"
      ],
      "metadata": {
        "id": "u6lp3skkXcBP"
      },
      "execution_count": 13,
      "outputs": []
    },
    {
      "cell_type": "code",
      "source": [
        "data['pol_cat']  = 0"
      ],
      "metadata": {
        "id": "RGsEIO8UXiYb"
      },
      "execution_count": 14,
      "outputs": []
    },
    {
      "cell_type": "markdown",
      "source": [
        "Continuous to categorical"
      ],
      "metadata": {
        "id": "bv1jy_zpaPwm"
      }
    },
    {
      "cell_type": "code",
      "source": [
        "# data['pol_cat'][data.polarity == 0] = 0\n",
        "data['pol_cat'][data.polarity > 0] = 1\n",
        "data['pol_cat'][data.polarity <= 0] = -1"
      ],
      "metadata": {
        "id": "eqdw2L_AaQZg"
      },
      "execution_count": 15,
      "outputs": []
    },
    {
      "cell_type": "code",
      "source": [
        "data.head()"
      ],
      "metadata": {
        "colab": {
          "base_uri": "https://localhost:8080/",
          "height": 206
        },
        "id": "Cc8Hz1P2aVpR",
        "outputId": "b6252930-c748-4f52-fd8d-f10085c69278"
      },
      "execution_count": 16,
      "outputs": [
        {
          "output_type": "execute_result",
          "data": {
            "text/plain": [
              "              Name                                            Comment  \\\n",
              "0   Eduardo Visbal  Barranquilla is actually a city in Colombia 😂😂...   \n",
              "1    Crustynutzzzz  This video is an hour and 12 mins of w2s cring...   \n",
              "2  Dat1-mexicanboi                                                  💀   \n",
              "3       Polo g Fan  <a href=\"https://www.youtube.com/watch?v=DUrBI...   \n",
              "4           imdave  Who tf did shorddys makeup @1 hour and 3 minut...   \n",
              "\n",
              "                   Time  Likes  Reply Count  polarity  pol_cat  \n",
              "0  2022-05-30T10:46:27Z      0            0       0.1        1  \n",
              "1  2022-05-30T07:45:13Z      2            0       0.0       -1  \n",
              "2  2022-05-29T20:01:35Z      0            0       0.0       -1  \n",
              "3  2022-05-30T01:24:36Z      0            0       0.0       -1  \n",
              "4  2022-06-05T19:12:49Z      0            0       0.0       -1  "
            ],
            "text/html": [
              "\n",
              "  <div id=\"df-cd43929a-d9eb-4039-b590-63936f165570\">\n",
              "    <div class=\"colab-df-container\">\n",
              "      <div>\n",
              "<style scoped>\n",
              "    .dataframe tbody tr th:only-of-type {\n",
              "        vertical-align: middle;\n",
              "    }\n",
              "\n",
              "    .dataframe tbody tr th {\n",
              "        vertical-align: top;\n",
              "    }\n",
              "\n",
              "    .dataframe thead th {\n",
              "        text-align: right;\n",
              "    }\n",
              "</style>\n",
              "<table border=\"1\" class=\"dataframe\">\n",
              "  <thead>\n",
              "    <tr style=\"text-align: right;\">\n",
              "      <th></th>\n",
              "      <th>Name</th>\n",
              "      <th>Comment</th>\n",
              "      <th>Time</th>\n",
              "      <th>Likes</th>\n",
              "      <th>Reply Count</th>\n",
              "      <th>polarity</th>\n",
              "      <th>pol_cat</th>\n",
              "    </tr>\n",
              "  </thead>\n",
              "  <tbody>\n",
              "    <tr>\n",
              "      <th>0</th>\n",
              "      <td>Eduardo Visbal</td>\n",
              "      <td>Barranquilla is actually a city in Colombia 😂😂...</td>\n",
              "      <td>2022-05-30T10:46:27Z</td>\n",
              "      <td>0</td>\n",
              "      <td>0</td>\n",
              "      <td>0.1</td>\n",
              "      <td>1</td>\n",
              "    </tr>\n",
              "    <tr>\n",
              "      <th>1</th>\n",
              "      <td>Crustynutzzzz</td>\n",
              "      <td>This video is an hour and 12 mins of w2s cring...</td>\n",
              "      <td>2022-05-30T07:45:13Z</td>\n",
              "      <td>2</td>\n",
              "      <td>0</td>\n",
              "      <td>0.0</td>\n",
              "      <td>-1</td>\n",
              "    </tr>\n",
              "    <tr>\n",
              "      <th>2</th>\n",
              "      <td>Dat1-mexicanboi</td>\n",
              "      <td>💀</td>\n",
              "      <td>2022-05-29T20:01:35Z</td>\n",
              "      <td>0</td>\n",
              "      <td>0</td>\n",
              "      <td>0.0</td>\n",
              "      <td>-1</td>\n",
              "    </tr>\n",
              "    <tr>\n",
              "      <th>3</th>\n",
              "      <td>Polo g Fan</td>\n",
              "      <td>&lt;a href=\"https://www.youtube.com/watch?v=DUrBI...</td>\n",
              "      <td>2022-05-30T01:24:36Z</td>\n",
              "      <td>0</td>\n",
              "      <td>0</td>\n",
              "      <td>0.0</td>\n",
              "      <td>-1</td>\n",
              "    </tr>\n",
              "    <tr>\n",
              "      <th>4</th>\n",
              "      <td>imdave</td>\n",
              "      <td>Who tf did shorddys makeup @1 hour and 3 minut...</td>\n",
              "      <td>2022-06-05T19:12:49Z</td>\n",
              "      <td>0</td>\n",
              "      <td>0</td>\n",
              "      <td>0.0</td>\n",
              "      <td>-1</td>\n",
              "    </tr>\n",
              "  </tbody>\n",
              "</table>\n",
              "</div>\n",
              "      <button class=\"colab-df-convert\" onclick=\"convertToInteractive('df-cd43929a-d9eb-4039-b590-63936f165570')\"\n",
              "              title=\"Convert this dataframe to an interactive table.\"\n",
              "              style=\"display:none;\">\n",
              "        \n",
              "  <svg xmlns=\"http://www.w3.org/2000/svg\" height=\"24px\"viewBox=\"0 0 24 24\"\n",
              "       width=\"24px\">\n",
              "    <path d=\"M0 0h24v24H0V0z\" fill=\"none\"/>\n",
              "    <path d=\"M18.56 5.44l.94 2.06.94-2.06 2.06-.94-2.06-.94-.94-2.06-.94 2.06-2.06.94zm-11 1L8.5 8.5l.94-2.06 2.06-.94-2.06-.94L8.5 2.5l-.94 2.06-2.06.94zm10 10l.94 2.06.94-2.06 2.06-.94-2.06-.94-.94-2.06-.94 2.06-2.06.94z\"/><path d=\"M17.41 7.96l-1.37-1.37c-.4-.4-.92-.59-1.43-.59-.52 0-1.04.2-1.43.59L10.3 9.45l-7.72 7.72c-.78.78-.78 2.05 0 2.83L4 21.41c.39.39.9.59 1.41.59.51 0 1.02-.2 1.41-.59l7.78-7.78 2.81-2.81c.8-.78.8-2.07 0-2.86zM5.41 20L4 18.59l7.72-7.72 1.47 1.35L5.41 20z\"/>\n",
              "  </svg>\n",
              "      </button>\n",
              "      \n",
              "  <style>\n",
              "    .colab-df-container {\n",
              "      display:flex;\n",
              "      flex-wrap:wrap;\n",
              "      gap: 12px;\n",
              "    }\n",
              "\n",
              "    .colab-df-convert {\n",
              "      background-color: #E8F0FE;\n",
              "      border: none;\n",
              "      border-radius: 50%;\n",
              "      cursor: pointer;\n",
              "      display: none;\n",
              "      fill: #1967D2;\n",
              "      height: 32px;\n",
              "      padding: 0 0 0 0;\n",
              "      width: 32px;\n",
              "    }\n",
              "\n",
              "    .colab-df-convert:hover {\n",
              "      background-color: #E2EBFA;\n",
              "      box-shadow: 0px 1px 2px rgba(60, 64, 67, 0.3), 0px 1px 3px 1px rgba(60, 64, 67, 0.15);\n",
              "      fill: #174EA6;\n",
              "    }\n",
              "\n",
              "    [theme=dark] .colab-df-convert {\n",
              "      background-color: #3B4455;\n",
              "      fill: #D2E3FC;\n",
              "    }\n",
              "\n",
              "    [theme=dark] .colab-df-convert:hover {\n",
              "      background-color: #434B5C;\n",
              "      box-shadow: 0px 1px 3px 1px rgba(0, 0, 0, 0.15);\n",
              "      filter: drop-shadow(0px 1px 2px rgba(0, 0, 0, 0.3));\n",
              "      fill: #FFFFFF;\n",
              "    }\n",
              "  </style>\n",
              "\n",
              "      <script>\n",
              "        const buttonEl =\n",
              "          document.querySelector('#df-cd43929a-d9eb-4039-b590-63936f165570 button.colab-df-convert');\n",
              "        buttonEl.style.display =\n",
              "          google.colab.kernel.accessAllowed ? 'block' : 'none';\n",
              "\n",
              "        async function convertToInteractive(key) {\n",
              "          const element = document.querySelector('#df-cd43929a-d9eb-4039-b590-63936f165570');\n",
              "          const dataTable =\n",
              "            await google.colab.kernel.invokeFunction('convertToInteractive',\n",
              "                                                     [key], {});\n",
              "          if (!dataTable) return;\n",
              "\n",
              "          const docLinkHtml = 'Like what you see? Visit the ' +\n",
              "            '<a target=\"_blank\" href=https://colab.research.google.com/notebooks/data_table.ipynb>data table notebook</a>'\n",
              "            + ' to learn more about interactive tables.';\n",
              "          element.innerHTML = '';\n",
              "          dataTable['output_type'] = 'display_data';\n",
              "          await google.colab.output.renderOutput(dataTable, element);\n",
              "          const docLink = document.createElement('div');\n",
              "          docLink.innerHTML = docLinkHtml;\n",
              "          element.appendChild(docLink);\n",
              "        }\n",
              "      </script>\n",
              "    </div>\n",
              "  </div>\n",
              "  "
            ]
          },
          "metadata": {},
          "execution_count": 16
        }
      ]
    },
    {
      "cell_type": "code",
      "source": [
        "data['pol_cat'].value_counts()"
      ],
      "metadata": {
        "colab": {
          "base_uri": "https://localhost:8080/"
        },
        "id": "KhQXXl-uabcg",
        "outputId": "817451ea-8e48-4722-cd9b-1b9827d99c08"
      },
      "execution_count": 17,
      "outputs": [
        {
          "output_type": "execute_result",
          "data": {
            "text/plain": [
              "-1    16075\n",
              " 1     9590\n",
              "Name: pol_cat, dtype: int64"
            ]
          },
          "metadata": {},
          "execution_count": 17
        }
      ]
    },
    {
      "cell_type": "markdown",
      "source": [
        "Creating separate dataframes for Negative,Positive & Neutral comments"
      ],
      "metadata": {
        "id": "iyyR4Je8afOd"
      }
    },
    {
      "cell_type": "code",
      "source": [
        "data_pos = data[data['pol_cat'] == 1]\n",
        "data_pos = data_pos.reset_index(drop = True)\n",
        "\n",
        "data_neg = data[data['pol_cat'] == -1]\n",
        "data_neg = data_neg.reset_index(drop = True)\n",
        "\n",
        "# data_neutral = data[data['pol_cat'] == 0]\n",
        "# data_neutral = data_neutral.reset_index(drop = True)"
      ],
      "metadata": {
        "id": "lg2DwikUafr_"
      },
      "execution_count": 18,
      "outputs": []
    },
    {
      "cell_type": "code",
      "source": [
        "data_pos.head()"
      ],
      "metadata": {
        "colab": {
          "base_uri": "https://localhost:8080/",
          "height": 206
        },
        "id": "2eVQW3naalA1",
        "outputId": "b88b1412-3429-44bb-d4fc-ade21595d238"
      },
      "execution_count": 19,
      "outputs": [
        {
          "output_type": "execute_result",
          "data": {
            "text/plain": [
              "             Name                                            Comment  \\\n",
              "0  Eduardo Visbal  Barranquilla is actually a city in Colombia 😂😂...   \n",
              "1    Alex Russell  JJ providing the ideas is so underrated this v...   \n",
              "2       NexT NaDe  This was literally the funniest video i have w...   \n",
              "3     Waheeb Said                 HP and Filly is the best duo ever😤   \n",
              "4   Nikolas Silva  This was hilarious and hard to watch I love it...   \n",
              "\n",
              "                   Time  Likes  Reply Count  polarity  pol_cat  \n",
              "0  2022-05-30T10:46:27Z      0            0  0.100000        1  \n",
              "1  2022-06-03T05:03:15Z      0            0  0.200000        1  \n",
              "2  2022-05-29T20:55:46Z      1            0  0.084375        1  \n",
              "3  2022-05-29T20:50:12Z      0            0  1.000000        1  \n",
              "4  2022-06-02T13:43:18Z      3            0  0.236111        1  "
            ],
            "text/html": [
              "\n",
              "  <div id=\"df-0bed6a67-c7bf-4233-9894-5f91d18ad908\">\n",
              "    <div class=\"colab-df-container\">\n",
              "      <div>\n",
              "<style scoped>\n",
              "    .dataframe tbody tr th:only-of-type {\n",
              "        vertical-align: middle;\n",
              "    }\n",
              "\n",
              "    .dataframe tbody tr th {\n",
              "        vertical-align: top;\n",
              "    }\n",
              "\n",
              "    .dataframe thead th {\n",
              "        text-align: right;\n",
              "    }\n",
              "</style>\n",
              "<table border=\"1\" class=\"dataframe\">\n",
              "  <thead>\n",
              "    <tr style=\"text-align: right;\">\n",
              "      <th></th>\n",
              "      <th>Name</th>\n",
              "      <th>Comment</th>\n",
              "      <th>Time</th>\n",
              "      <th>Likes</th>\n",
              "      <th>Reply Count</th>\n",
              "      <th>polarity</th>\n",
              "      <th>pol_cat</th>\n",
              "    </tr>\n",
              "  </thead>\n",
              "  <tbody>\n",
              "    <tr>\n",
              "      <th>0</th>\n",
              "      <td>Eduardo Visbal</td>\n",
              "      <td>Barranquilla is actually a city in Colombia 😂😂...</td>\n",
              "      <td>2022-05-30T10:46:27Z</td>\n",
              "      <td>0</td>\n",
              "      <td>0</td>\n",
              "      <td>0.100000</td>\n",
              "      <td>1</td>\n",
              "    </tr>\n",
              "    <tr>\n",
              "      <th>1</th>\n",
              "      <td>Alex Russell</td>\n",
              "      <td>JJ providing the ideas is so underrated this v...</td>\n",
              "      <td>2022-06-03T05:03:15Z</td>\n",
              "      <td>0</td>\n",
              "      <td>0</td>\n",
              "      <td>0.200000</td>\n",
              "      <td>1</td>\n",
              "    </tr>\n",
              "    <tr>\n",
              "      <th>2</th>\n",
              "      <td>NexT NaDe</td>\n",
              "      <td>This was literally the funniest video i have w...</td>\n",
              "      <td>2022-05-29T20:55:46Z</td>\n",
              "      <td>1</td>\n",
              "      <td>0</td>\n",
              "      <td>0.084375</td>\n",
              "      <td>1</td>\n",
              "    </tr>\n",
              "    <tr>\n",
              "      <th>3</th>\n",
              "      <td>Waheeb Said</td>\n",
              "      <td>HP and Filly is the best duo ever😤</td>\n",
              "      <td>2022-05-29T20:50:12Z</td>\n",
              "      <td>0</td>\n",
              "      <td>0</td>\n",
              "      <td>1.000000</td>\n",
              "      <td>1</td>\n",
              "    </tr>\n",
              "    <tr>\n",
              "      <th>4</th>\n",
              "      <td>Nikolas Silva</td>\n",
              "      <td>This was hilarious and hard to watch I love it...</td>\n",
              "      <td>2022-06-02T13:43:18Z</td>\n",
              "      <td>3</td>\n",
              "      <td>0</td>\n",
              "      <td>0.236111</td>\n",
              "      <td>1</td>\n",
              "    </tr>\n",
              "  </tbody>\n",
              "</table>\n",
              "</div>\n",
              "      <button class=\"colab-df-convert\" onclick=\"convertToInteractive('df-0bed6a67-c7bf-4233-9894-5f91d18ad908')\"\n",
              "              title=\"Convert this dataframe to an interactive table.\"\n",
              "              style=\"display:none;\">\n",
              "        \n",
              "  <svg xmlns=\"http://www.w3.org/2000/svg\" height=\"24px\"viewBox=\"0 0 24 24\"\n",
              "       width=\"24px\">\n",
              "    <path d=\"M0 0h24v24H0V0z\" fill=\"none\"/>\n",
              "    <path d=\"M18.56 5.44l.94 2.06.94-2.06 2.06-.94-2.06-.94-.94-2.06-.94 2.06-2.06.94zm-11 1L8.5 8.5l.94-2.06 2.06-.94-2.06-.94L8.5 2.5l-.94 2.06-2.06.94zm10 10l.94 2.06.94-2.06 2.06-.94-2.06-.94-.94-2.06-.94 2.06-2.06.94z\"/><path d=\"M17.41 7.96l-1.37-1.37c-.4-.4-.92-.59-1.43-.59-.52 0-1.04.2-1.43.59L10.3 9.45l-7.72 7.72c-.78.78-.78 2.05 0 2.83L4 21.41c.39.39.9.59 1.41.59.51 0 1.02-.2 1.41-.59l7.78-7.78 2.81-2.81c.8-.78.8-2.07 0-2.86zM5.41 20L4 18.59l7.72-7.72 1.47 1.35L5.41 20z\"/>\n",
              "  </svg>\n",
              "      </button>\n",
              "      \n",
              "  <style>\n",
              "    .colab-df-container {\n",
              "      display:flex;\n",
              "      flex-wrap:wrap;\n",
              "      gap: 12px;\n",
              "    }\n",
              "\n",
              "    .colab-df-convert {\n",
              "      background-color: #E8F0FE;\n",
              "      border: none;\n",
              "      border-radius: 50%;\n",
              "      cursor: pointer;\n",
              "      display: none;\n",
              "      fill: #1967D2;\n",
              "      height: 32px;\n",
              "      padding: 0 0 0 0;\n",
              "      width: 32px;\n",
              "    }\n",
              "\n",
              "    .colab-df-convert:hover {\n",
              "      background-color: #E2EBFA;\n",
              "      box-shadow: 0px 1px 2px rgba(60, 64, 67, 0.3), 0px 1px 3px 1px rgba(60, 64, 67, 0.15);\n",
              "      fill: #174EA6;\n",
              "    }\n",
              "\n",
              "    [theme=dark] .colab-df-convert {\n",
              "      background-color: #3B4455;\n",
              "      fill: #D2E3FC;\n",
              "    }\n",
              "\n",
              "    [theme=dark] .colab-df-convert:hover {\n",
              "      background-color: #434B5C;\n",
              "      box-shadow: 0px 1px 3px 1px rgba(0, 0, 0, 0.15);\n",
              "      filter: drop-shadow(0px 1px 2px rgba(0, 0, 0, 0.3));\n",
              "      fill: #FFFFFF;\n",
              "    }\n",
              "  </style>\n",
              "\n",
              "      <script>\n",
              "        const buttonEl =\n",
              "          document.querySelector('#df-0bed6a67-c7bf-4233-9894-5f91d18ad908 button.colab-df-convert');\n",
              "        buttonEl.style.display =\n",
              "          google.colab.kernel.accessAllowed ? 'block' : 'none';\n",
              "\n",
              "        async function convertToInteractive(key) {\n",
              "          const element = document.querySelector('#df-0bed6a67-c7bf-4233-9894-5f91d18ad908');\n",
              "          const dataTable =\n",
              "            await google.colab.kernel.invokeFunction('convertToInteractive',\n",
              "                                                     [key], {});\n",
              "          if (!dataTable) return;\n",
              "\n",
              "          const docLinkHtml = 'Like what you see? Visit the ' +\n",
              "            '<a target=\"_blank\" href=https://colab.research.google.com/notebooks/data_table.ipynb>data table notebook</a>'\n",
              "            + ' to learn more about interactive tables.';\n",
              "          element.innerHTML = '';\n",
              "          dataTable['output_type'] = 'display_data';\n",
              "          await google.colab.output.renderOutput(dataTable, element);\n",
              "          const docLink = document.createElement('div');\n",
              "          docLink.innerHTML = docLinkHtml;\n",
              "          element.appendChild(docLink);\n",
              "        }\n",
              "      </script>\n",
              "    </div>\n",
              "  </div>\n",
              "  "
            ]
          },
          "metadata": {},
          "execution_count": 19
        }
      ]
    },
    {
      "cell_type": "code",
      "source": [
        "data_pos.shape"
      ],
      "metadata": {
        "colab": {
          "base_uri": "https://localhost:8080/"
        },
        "id": "gD84aOS2atNi",
        "outputId": "ecfdf33f-890d-4236-b9f6-f692c5cc1d66"
      },
      "execution_count": 20,
      "outputs": [
        {
          "output_type": "execute_result",
          "data": {
            "text/plain": [
              "(9590, 7)"
            ]
          },
          "metadata": {},
          "execution_count": 20
        }
      ]
    },
    {
      "cell_type": "code",
      "source": [
        "data_neg.head()"
      ],
      "metadata": {
        "colab": {
          "base_uri": "https://localhost:8080/",
          "height": 206
        },
        "id": "jxdzkurtav2Q",
        "outputId": "586cc670-4ad0-44ef-d6d4-b57a962906e5"
      },
      "execution_count": 21,
      "outputs": [
        {
          "output_type": "execute_result",
          "data": {
            "text/plain": [
              "              Name                                            Comment  \\\n",
              "0    Crustynutzzzz  This video is an hour and 12 mins of w2s cring...   \n",
              "1  Dat1-mexicanboi                                                  💀   \n",
              "2       Polo g Fan  <a href=\"https://www.youtube.com/watch?v=DUrBI...   \n",
              "3           imdave  Who tf did shorddys makeup @1 hour and 3 minut...   \n",
              "4    Noora Alhajri  girl in the blue dress has my heart <a href=\"h...   \n",
              "\n",
              "                   Time  Likes  Reply Count  polarity  pol_cat  \n",
              "0  2022-05-30T07:45:13Z      2            0       0.0       -1  \n",
              "1  2022-05-29T20:01:35Z      0            0       0.0       -1  \n",
              "2  2022-05-30T01:24:36Z      0            0       0.0       -1  \n",
              "3  2022-06-05T19:12:49Z      0            0       0.0       -1  \n",
              "4  2022-06-03T18:38:27Z      0            0       0.0       -1  "
            ],
            "text/html": [
              "\n",
              "  <div id=\"df-b9955190-8388-4d7c-a38e-564b68f1cc0c\">\n",
              "    <div class=\"colab-df-container\">\n",
              "      <div>\n",
              "<style scoped>\n",
              "    .dataframe tbody tr th:only-of-type {\n",
              "        vertical-align: middle;\n",
              "    }\n",
              "\n",
              "    .dataframe tbody tr th {\n",
              "        vertical-align: top;\n",
              "    }\n",
              "\n",
              "    .dataframe thead th {\n",
              "        text-align: right;\n",
              "    }\n",
              "</style>\n",
              "<table border=\"1\" class=\"dataframe\">\n",
              "  <thead>\n",
              "    <tr style=\"text-align: right;\">\n",
              "      <th></th>\n",
              "      <th>Name</th>\n",
              "      <th>Comment</th>\n",
              "      <th>Time</th>\n",
              "      <th>Likes</th>\n",
              "      <th>Reply Count</th>\n",
              "      <th>polarity</th>\n",
              "      <th>pol_cat</th>\n",
              "    </tr>\n",
              "  </thead>\n",
              "  <tbody>\n",
              "    <tr>\n",
              "      <th>0</th>\n",
              "      <td>Crustynutzzzz</td>\n",
              "      <td>This video is an hour and 12 mins of w2s cring...</td>\n",
              "      <td>2022-05-30T07:45:13Z</td>\n",
              "      <td>2</td>\n",
              "      <td>0</td>\n",
              "      <td>0.0</td>\n",
              "      <td>-1</td>\n",
              "    </tr>\n",
              "    <tr>\n",
              "      <th>1</th>\n",
              "      <td>Dat1-mexicanboi</td>\n",
              "      <td>💀</td>\n",
              "      <td>2022-05-29T20:01:35Z</td>\n",
              "      <td>0</td>\n",
              "      <td>0</td>\n",
              "      <td>0.0</td>\n",
              "      <td>-1</td>\n",
              "    </tr>\n",
              "    <tr>\n",
              "      <th>2</th>\n",
              "      <td>Polo g Fan</td>\n",
              "      <td>&lt;a href=\"https://www.youtube.com/watch?v=DUrBI...</td>\n",
              "      <td>2022-05-30T01:24:36Z</td>\n",
              "      <td>0</td>\n",
              "      <td>0</td>\n",
              "      <td>0.0</td>\n",
              "      <td>-1</td>\n",
              "    </tr>\n",
              "    <tr>\n",
              "      <th>3</th>\n",
              "      <td>imdave</td>\n",
              "      <td>Who tf did shorddys makeup @1 hour and 3 minut...</td>\n",
              "      <td>2022-06-05T19:12:49Z</td>\n",
              "      <td>0</td>\n",
              "      <td>0</td>\n",
              "      <td>0.0</td>\n",
              "      <td>-1</td>\n",
              "    </tr>\n",
              "    <tr>\n",
              "      <th>4</th>\n",
              "      <td>Noora Alhajri</td>\n",
              "      <td>girl in the blue dress has my heart &lt;a href=\"h...</td>\n",
              "      <td>2022-06-03T18:38:27Z</td>\n",
              "      <td>0</td>\n",
              "      <td>0</td>\n",
              "      <td>0.0</td>\n",
              "      <td>-1</td>\n",
              "    </tr>\n",
              "  </tbody>\n",
              "</table>\n",
              "</div>\n",
              "      <button class=\"colab-df-convert\" onclick=\"convertToInteractive('df-b9955190-8388-4d7c-a38e-564b68f1cc0c')\"\n",
              "              title=\"Convert this dataframe to an interactive table.\"\n",
              "              style=\"display:none;\">\n",
              "        \n",
              "  <svg xmlns=\"http://www.w3.org/2000/svg\" height=\"24px\"viewBox=\"0 0 24 24\"\n",
              "       width=\"24px\">\n",
              "    <path d=\"M0 0h24v24H0V0z\" fill=\"none\"/>\n",
              "    <path d=\"M18.56 5.44l.94 2.06.94-2.06 2.06-.94-2.06-.94-.94-2.06-.94 2.06-2.06.94zm-11 1L8.5 8.5l.94-2.06 2.06-.94-2.06-.94L8.5 2.5l-.94 2.06-2.06.94zm10 10l.94 2.06.94-2.06 2.06-.94-2.06-.94-.94-2.06-.94 2.06-2.06.94z\"/><path d=\"M17.41 7.96l-1.37-1.37c-.4-.4-.92-.59-1.43-.59-.52 0-1.04.2-1.43.59L10.3 9.45l-7.72 7.72c-.78.78-.78 2.05 0 2.83L4 21.41c.39.39.9.59 1.41.59.51 0 1.02-.2 1.41-.59l7.78-7.78 2.81-2.81c.8-.78.8-2.07 0-2.86zM5.41 20L4 18.59l7.72-7.72 1.47 1.35L5.41 20z\"/>\n",
              "  </svg>\n",
              "      </button>\n",
              "      \n",
              "  <style>\n",
              "    .colab-df-container {\n",
              "      display:flex;\n",
              "      flex-wrap:wrap;\n",
              "      gap: 12px;\n",
              "    }\n",
              "\n",
              "    .colab-df-convert {\n",
              "      background-color: #E8F0FE;\n",
              "      border: none;\n",
              "      border-radius: 50%;\n",
              "      cursor: pointer;\n",
              "      display: none;\n",
              "      fill: #1967D2;\n",
              "      height: 32px;\n",
              "      padding: 0 0 0 0;\n",
              "      width: 32px;\n",
              "    }\n",
              "\n",
              "    .colab-df-convert:hover {\n",
              "      background-color: #E2EBFA;\n",
              "      box-shadow: 0px 1px 2px rgba(60, 64, 67, 0.3), 0px 1px 3px 1px rgba(60, 64, 67, 0.15);\n",
              "      fill: #174EA6;\n",
              "    }\n",
              "\n",
              "    [theme=dark] .colab-df-convert {\n",
              "      background-color: #3B4455;\n",
              "      fill: #D2E3FC;\n",
              "    }\n",
              "\n",
              "    [theme=dark] .colab-df-convert:hover {\n",
              "      background-color: #434B5C;\n",
              "      box-shadow: 0px 1px 3px 1px rgba(0, 0, 0, 0.15);\n",
              "      filter: drop-shadow(0px 1px 2px rgba(0, 0, 0, 0.3));\n",
              "      fill: #FFFFFF;\n",
              "    }\n",
              "  </style>\n",
              "\n",
              "      <script>\n",
              "        const buttonEl =\n",
              "          document.querySelector('#df-b9955190-8388-4d7c-a38e-564b68f1cc0c button.colab-df-convert');\n",
              "        buttonEl.style.display =\n",
              "          google.colab.kernel.accessAllowed ? 'block' : 'none';\n",
              "\n",
              "        async function convertToInteractive(key) {\n",
              "          const element = document.querySelector('#df-b9955190-8388-4d7c-a38e-564b68f1cc0c');\n",
              "          const dataTable =\n",
              "            await google.colab.kernel.invokeFunction('convertToInteractive',\n",
              "                                                     [key], {});\n",
              "          if (!dataTable) return;\n",
              "\n",
              "          const docLinkHtml = 'Like what you see? Visit the ' +\n",
              "            '<a target=\"_blank\" href=https://colab.research.google.com/notebooks/data_table.ipynb>data table notebook</a>'\n",
              "            + ' to learn more about interactive tables.';\n",
              "          element.innerHTML = '';\n",
              "          dataTable['output_type'] = 'display_data';\n",
              "          await google.colab.output.renderOutput(dataTable, element);\n",
              "          const docLink = document.createElement('div');\n",
              "          docLink.innerHTML = docLinkHtml;\n",
              "          element.appendChild(docLink);\n",
              "        }\n",
              "      </script>\n",
              "    </div>\n",
              "  </div>\n",
              "  "
            ]
          },
          "metadata": {},
          "execution_count": 21
        }
      ]
    },
    {
      "cell_type": "code",
      "source": [
        "data_neg['Comment'][40]"
      ],
      "metadata": {
        "colab": {
          "base_uri": "https://localhost:8080/",
          "height": 35
        },
        "id": "j-RsYhjfa1L6",
        "outputId": "86d5b700-c9ae-4c97-97c0-9ae1f162dbd2"
      },
      "execution_count": 22,
      "outputs": [
        {
          "output_type": "execute_result",
          "data": {
            "text/plain": [
              "'Sheeesh'"
            ],
            "application/vnd.google.colaboratory.intrinsic+json": {
              "type": "string"
            }
          },
          "metadata": {},
          "execution_count": 22
        }
      ]
    },
    {
      "cell_type": "code",
      "source": [
        "data.pol_cat.value_counts().plot.bar()\n",
        "data.pol_cat.value_counts()"
      ],
      "metadata": {
        "colab": {
          "base_uri": "https://localhost:8080/",
          "height": 319
        },
        "id": "B7D-YMWia7Rc",
        "outputId": "9c766575-71ca-4f6a-d74d-39c20d314979"
      },
      "execution_count": 23,
      "outputs": [
        {
          "output_type": "execute_result",
          "data": {
            "text/plain": [
              "-1    16075\n",
              " 1     9590\n",
              "Name: pol_cat, dtype: int64"
            ]
          },
          "metadata": {},
          "execution_count": 23
        },
        {
          "output_type": "display_data",
          "data": {
            "text/plain": [
              "<Figure size 432x288 with 1 Axes>"
            ],
            "image/png": "[encoded data removed]"
          },
          "metadata": {
            "needs_background": "light"
          }
        }
      ]
    },
    {
      "cell_type": "markdown",
      "source": [
        "# Data Preprocessing"
      ],
      "metadata": {
        "id": "pGd7Kqv2bBzK"
      }
    },
    {
      "cell_type": "markdown",
      "source": [
        "Lower casing the text in comments"
      ],
      "metadata": {
        "id": "xZ8ZzcaUbEi5"
      }
    },
    {
      "cell_type": "code",
      "source": [
        "data['Comment'] = data['Comment'].str.lower()"
      ],
      "metadata": {
        "id": "Zh1jSBVIbHSl"
      },
      "execution_count": 24,
      "outputs": []
    },
    {
      "cell_type": "code",
      "source": [
        "data['Comment'].head()"
      ],
      "metadata": {
        "colab": {
          "base_uri": "https://localhost:8080/"
        },
        "id": "bCvD6gmqbM1h",
        "outputId": "fab0a394-19d5-4827-924e-eb62ab456496"
      },
      "execution_count": 25,
      "outputs": [
        {
          "output_type": "execute_result",
          "data": {
            "text/plain": [
              "0    barranquilla is actually a city in colombia 😂😂...\n",
              "1    this video is an hour and 12 mins of w2s cring...\n",
              "2                                                    💀\n",
              "3    <a href=\"https://www.youtube.com/watch?v=durbi...\n",
              "4    who tf did shorddys makeup @1 hour and 3 minut...\n",
              "Name: Comment, dtype: object"
            ]
          },
          "metadata": {},
          "execution_count": 25
        }
      ]
    },
    {
      "cell_type": "code",
      "source": [
        "data.describe()"
      ],
      "metadata": {
        "colab": {
          "base_uri": "https://localhost:8080/",
          "height": 300
        },
        "id": "YhSCrOmKbQCq",
        "outputId": "c98ae71b-7340-4c85-eba4-91601fe54c61"
      },
      "execution_count": 26,
      "outputs": [
        {
          "output_type": "execute_result",
          "data": {
            "text/plain": [
              "              Likes   Reply Count      polarity       pol_cat\n",
              "count  25665.000000  25665.000000  25665.000000  25665.000000\n",
              "mean      26.502513      0.168712      0.149461     -0.252679\n",
              "std      698.800412      2.548069      0.347998      0.967569\n",
              "min        0.000000      0.000000     -1.000000     -1.000000\n",
              "25%        0.000000      0.000000      0.000000     -1.000000\n",
              "50%        0.000000      0.000000      0.000000     -1.000000\n",
              "75%        1.000000      0.000000      0.300000      1.000000\n",
              "max    79684.000000    337.000000      1.000000      1.000000"
            ],
            "text/html": [
              "\n",
              "  <div id=\"df-97b8f047-659b-4245-b18c-68d7418f70fb\">\n",
              "    <div class=\"colab-df-container\">\n",
              "      <div>\n",
              "<style scoped>\n",
              "    .dataframe tbody tr th:only-of-type {\n",
              "        vertical-align: middle;\n",
              "    }\n",
              "\n",
              "    .dataframe tbody tr th {\n",
              "        vertical-align: top;\n",
              "    }\n",
              "\n",
              "    .dataframe thead th {\n",
              "        text-align: right;\n",
              "    }\n",
              "</style>\n",
              "<table border=\"1\" class=\"dataframe\">\n",
              "  <thead>\n",
              "    <tr style=\"text-align: right;\">\n",
              "      <th></th>\n",
              "      <th>Likes</th>\n",
              "      <th>Reply Count</th>\n",
              "      <th>polarity</th>\n",
              "      <th>pol_cat</th>\n",
              "    </tr>\n",
              "  </thead>\n",
              "  <tbody>\n",
              "    <tr>\n",
              "      <th>count</th>\n",
              "      <td>25665.000000</td>\n",
              "      <td>25665.000000</td>\n",
              "      <td>25665.000000</td>\n",
              "      <td>25665.000000</td>\n",
              "    </tr>\n",
              "    <tr>\n",
              "      <th>mean</th>\n",
              "      <td>26.502513</td>\n",
              "      <td>0.168712</td>\n",
              "      <td>0.149461</td>\n",
              "      <td>-0.252679</td>\n",
              "    </tr>\n",
              "    <tr>\n",
              "      <th>std</th>\n",
              "      <td>698.800412</td>\n",
              "      <td>2.548069</td>\n",
              "      <td>0.347998</td>\n",
              "      <td>0.967569</td>\n",
              "    </tr>\n",
              "    <tr>\n",
              "      <th>min</th>\n",
              "      <td>0.000000</td>\n",
              "      <td>0.000000</td>\n",
              "      <td>-1.000000</td>\n",
              "      <td>-1.000000</td>\n",
              "    </tr>\n",
              "    <tr>\n",
              "      <th>25%</th>\n",
              "      <td>0.000000</td>\n",
              "      <td>0.000000</td>\n",
              "      <td>0.000000</td>\n",
              "      <td>-1.000000</td>\n",
              "    </tr>\n",
              "    <tr>\n",
              "      <th>50%</th>\n",
              "      <td>0.000000</td>\n",
              "      <td>0.000000</td>\n",
              "      <td>0.000000</td>\n",
              "      <td>-1.000000</td>\n",
              "    </tr>\n",
              "    <tr>\n",
              "      <th>75%</th>\n",
              "      <td>1.000000</td>\n",
              "      <td>0.000000</td>\n",
              "      <td>0.300000</td>\n",
              "      <td>1.000000</td>\n",
              "    </tr>\n",
              "    <tr>\n",
              "      <th>max</th>\n",
              "      <td>79684.000000</td>\n",
              "      <td>337.000000</td>\n",
              "      <td>1.000000</td>\n",
              "      <td>1.000000</td>\n",
              "    </tr>\n",
              "  </tbody>\n",
              "</table>\n",
              "</div>\n",
              "      <button class=\"colab-df-convert\" onclick=\"convertToInteractive('df-97b8f047-659b-4245-b18c-68d7418f70fb')\"\n",
              "              title=\"Convert this dataframe to an interactive table.\"\n",
              "              style=\"display:none;\">\n",
              "        \n",
              "  <svg xmlns=\"http://www.w3.org/2000/svg\" height=\"24px\"viewBox=\"0 0 24 24\"\n",
              "       width=\"24px\">\n",
              "    <path d=\"M0 0h24v24H0V0z\" fill=\"none\"/>\n",
              "    <path d=\"M18.56 5.44l.94 2.06.94-2.06 2.06-.94-2.06-.94-.94-2.06-.94 2.06-2.06.94zm-11 1L8.5 8.5l.94-2.06 2.06-.94-2.06-.94L8.5 2.5l-.94 2.06-2.06.94zm10 10l.94 2.06.94-2.06 2.06-.94-2.06-.94-.94-2.06-.94 2.06-2.06.94z\"/><path d=\"M17.41 7.96l-1.37-1.37c-.4-.4-.92-.59-1.43-.59-.52 0-1.04.2-1.43.59L10.3 9.45l-7.72 7.72c-.78.78-.78 2.05 0 2.83L4 21.41c.39.39.9.59 1.41.59.51 0 1.02-.2 1.41-.59l7.78-7.78 2.81-2.81c.8-.78.8-2.07 0-2.86zM5.41 20L4 18.59l7.72-7.72 1.47 1.35L5.41 20z\"/>\n",
              "  </svg>\n",
              "      </button>\n",
              "      \n",
              "  <style>\n",
              "    .colab-df-container {\n",
              "      display:flex;\n",
              "      flex-wrap:wrap;\n",
              "      gap: 12px;\n",
              "    }\n",
              "\n",
              "    .colab-df-convert {\n",
              "      background-color: #E8F0FE;\n",
              "      border: none;\n",
              "      border-radius: 50%;\n",
              "      cursor: pointer;\n",
              "      display: none;\n",
              "      fill: #1967D2;\n",
              "      height: 32px;\n",
              "      padding: 0 0 0 0;\n",
              "      width: 32px;\n",
              "    }\n",
              "\n",
              "    .colab-df-convert:hover {\n",
              "      background-color: #E2EBFA;\n",
              "      box-shadow: 0px 1px 2px rgba(60, 64, 67, 0.3), 0px 1px 3px 1px rgba(60, 64, 67, 0.15);\n",
              "      fill: #174EA6;\n",
              "    }\n",
              "\n",
              "    [theme=dark] .colab-df-convert {\n",
              "      background-color: #3B4455;\n",
              "      fill: #D2E3FC;\n",
              "    }\n",
              "\n",
              "    [theme=dark] .colab-df-convert:hover {\n",
              "      background-color: #434B5C;\n",
              "      box-shadow: 0px 1px 3px 1px rgba(0, 0, 0, 0.15);\n",
              "      filter: drop-shadow(0px 1px 2px rgba(0, 0, 0, 0.3));\n",
              "      fill: #FFFFFF;\n",
              "    }\n",
              "  </style>\n",
              "\n",
              "      <script>\n",
              "        const buttonEl =\n",
              "          document.querySelector('#df-97b8f047-659b-4245-b18c-68d7418f70fb button.colab-df-convert');\n",
              "        buttonEl.style.display =\n",
              "          google.colab.kernel.accessAllowed ? 'block' : 'none';\n",
              "\n",
              "        async function convertToInteractive(key) {\n",
              "          const element = document.querySelector('#df-97b8f047-659b-4245-b18c-68d7418f70fb');\n",
              "          const dataTable =\n",
              "            await google.colab.kernel.invokeFunction('convertToInteractive',\n",
              "                                                     [key], {});\n",
              "          if (!dataTable) return;\n",
              "\n",
              "          const docLinkHtml = 'Like what you see? Visit the ' +\n",
              "            '<a target=\"_blank\" href=https://colab.research.google.com/notebooks/data_table.ipynb>data table notebook</a>'\n",
              "            + ' to learn more about interactive tables.';\n",
              "          element.innerHTML = '';\n",
              "          dataTable['output_type'] = 'display_data';\n",
              "          await google.colab.output.renderOutput(dataTable, element);\n",
              "          const docLink = document.createElement('div');\n",
              "          docLink.innerHTML = docLinkHtml;\n",
              "          element.appendChild(docLink);\n",
              "        }\n",
              "      </script>\n",
              "    </div>\n",
              "  </div>\n",
              "  "
            ]
          },
          "metadata": {},
          "execution_count": 26
        }
      ]
    },
    {
      "cell_type": "code",
      "source": [
        "data.info()"
      ],
      "metadata": {
        "colab": {
          "base_uri": "https://localhost:8080/"
        },
        "id": "ZCP2BHJcbUir",
        "outputId": "97efcb4d-28b4-4c1f-ad75-2cd2bee1063c"
      },
      "execution_count": 27,
      "outputs": [
        {
          "output_type": "stream",
          "name": "stdout",
          "text": [
            "<class 'pandas.core.frame.DataFrame'>\n",
            "RangeIndex: 25665 entries, 0 to 25664\n",
            "Data columns (total 7 columns):\n",
            " #   Column       Non-Null Count  Dtype  \n",
            "---  ------       --------------  -----  \n",
            " 0   Name         25664 non-null  object \n",
            " 1   Comment      25665 non-null  object \n",
            " 2   Time         25665 non-null  object \n",
            " 3   Likes        25665 non-null  int64  \n",
            " 4   Reply Count  25665 non-null  int64  \n",
            " 5   polarity     25665 non-null  float64\n",
            " 6   pol_cat      25665 non-null  int64  \n",
            "dtypes: float64(1), int64(3), object(3)\n",
            "memory usage: 1.4+ MB\n"
          ]
        }
      ]
    },
    {
      "cell_type": "code",
      "source": [
        "data['Comment'][0]"
      ],
      "metadata": {
        "colab": {
          "base_uri": "https://localhost:8080/",
          "height": 35
        },
        "id": "J7mlDDJObXuT",
        "outputId": "1f25632b-6f5e-4b7d-d522-a7486e821f84"
      },
      "execution_count": 28,
      "outputs": [
        {
          "output_type": "execute_result",
          "data": {
            "text/plain": [
              "'barranquilla is actually a city in colombia 😂😂 i think filly really likes to mention it for everything'"
            ],
            "application/vnd.google.colaboratory.intrinsic+json": {
              "type": "string"
            }
          },
          "metadata": {},
          "execution_count": 28
        }
      ]
    },
    {
      "cell_type": "code",
      "source": [
        "data['Comment'][0].strip()"
      ],
      "metadata": {
        "colab": {
          "base_uri": "https://localhost:8080/",
          "height": 35
        },
        "id": "rFnRO06fba1T",
        "outputId": "748743aa-8376-4ce1-da85-e3be337cc7bd"
      },
      "execution_count": 29,
      "outputs": [
        {
          "output_type": "execute_result",
          "data": {
            "text/plain": [
              "'barranquilla is actually a city in colombia 😂😂 i think filly really likes to mention it for everything'"
            ],
            "application/vnd.google.colaboratory.intrinsic+json": {
              "type": "string"
            }
          },
          "metadata": {},
          "execution_count": 29
        }
      ]
    },
    {
      "cell_type": "code",
      "source": [
        "import nltk\n",
        "nltk.download(\"stopwords\")"
      ],
      "metadata": {
        "colab": {
          "base_uri": "https://localhost:8080/"
        },
        "id": "Lmbjxx7mbe8B",
        "outputId": "aa96490b-677c-4870-c955-bfe5f2e13bec"
      },
      "execution_count": 30,
      "outputs": [
        {
          "output_type": "stream",
          "name": "stderr",
          "text": [
            "[nltk_data] Downloading package stopwords to /root/nltk_data...\n",
            "[nltk_data]   Unzipping corpora/stopwords.zip.\n"
          ]
        },
        {
          "output_type": "execute_result",
          "data": {
            "text/plain": [
              "True"
            ]
          },
          "metadata": {},
          "execution_count": 30
        }
      ]
    },
    {
      "cell_type": "code",
      "source": [
        "nltk.download(\"punkt\")"
      ],
      "metadata": {
        "colab": {
          "base_uri": "https://localhost:8080/"
        },
        "id": "GVJp2bKXbheD",
        "outputId": "f332b43b-699d-480e-e927-83ce44fd5805"
      },
      "execution_count": 31,
      "outputs": [
        {
          "output_type": "stream",
          "name": "stderr",
          "text": [
            "[nltk_data] Downloading package punkt to /root/nltk_data...\n",
            "[nltk_data]   Unzipping tokenizers/punkt.zip.\n"
          ]
        },
        {
          "output_type": "execute_result",
          "data": {
            "text/plain": [
              "True"
            ]
          },
          "metadata": {},
          "execution_count": 31
        }
      ]
    },
    {
      "cell_type": "code",
      "source": [
        "from nltk.corpus import stopwords\n",
        "from nltk import word_tokenize\n",
        "import string\n",
        "import re\n",
        "import nltk"
      ],
      "metadata": {
        "id": "V7xLaN-2bkRr"
      },
      "execution_count": 32,
      "outputs": []
    },
    {
      "cell_type": "code",
      "source": [
        "print(stopwords.words('english'))"
      ],
      "metadata": {
        "colab": {
          "base_uri": "https://localhost:8080/"
        },
        "id": "dYouH7dwbmeX",
        "outputId": "9c3746af-7c9d-4251-8040-7931626f8af5"
      },
      "execution_count": 33,
      "outputs": [
        {
          "output_type": "stream",
          "name": "stdout",
          "text": [
            "['i', 'me', 'my', 'myself', 'we', 'our', 'ours', 'ourselves', 'you', \"you're\", \"you've\", \"you'll\", \"you'd\", 'your', 'yours', 'yourself', 'yourselves', 'he', 'him', 'his', 'himself', 'she', \"she's\", 'her', 'hers', 'herself', 'it', \"it's\", 'its', 'itself', 'they', 'them', 'their', 'theirs', 'themselves', 'what', 'which', 'who', 'whom', 'this', 'that', \"that'll\", 'these', 'those', 'am', 'is', 'are', 'was', 'were', 'be', 'been', 'being', 'have', 'has', 'had', 'having', 'do', 'does', 'did', 'doing', 'a', 'an', 'the', 'and', 'but', 'if', 'or', 'because', 'as', 'until', 'while', 'of', 'at', 'by', 'for', 'with', 'about', 'against', 'between', 'into', 'through', 'during', 'before', 'after', 'above', 'below', 'to', 'from', 'up', 'down', 'in', 'out', 'on', 'off', 'over', 'under', 'again', 'further', 'then', 'once', 'here', 'there', 'when', 'where', 'why', 'how', 'all', 'any', 'both', 'each', 'few', 'more', 'most', 'other', 'some', 'such', 'no', 'nor', 'not', 'only', 'own', 'same', 'so', 'than', 'too', 'very', 's', 't', 'can', 'will', 'just', 'don', \"don't\", 'should', \"should've\", 'now', 'd', 'll', 'm', 'o', 're', 've', 'y', 'ain', 'aren', \"aren't\", 'couldn', \"couldn't\", 'didn', \"didn't\", 'doesn', \"doesn't\", 'hadn', \"hadn't\", 'hasn', \"hasn't\", 'haven', \"haven't\", 'isn', \"isn't\", 'ma', 'mightn', \"mightn't\", 'mustn', \"mustn't\", 'needn', \"needn't\", 'shan', \"shan't\", 'shouldn', \"shouldn't\", 'wasn', \"wasn't\", 'weren', \"weren't\", 'won', \"won't\", 'wouldn', \"wouldn't\"]\n"
          ]
        }
      ]
    },
    {
      "cell_type": "code",
      "source": [
        "stop_words = set(stopwords.words('english'))"
      ],
      "metadata": {
        "id": "ItPjWaolbpde"
      },
      "execution_count": 34,
      "outputs": []
    },
    {
      "cell_type": "code",
      "source": [
        "data['Comment'] = data['Comment'].str.strip()"
      ],
      "metadata": {
        "id": "f6jFQ72wbsWN"
      },
      "execution_count": 35,
      "outputs": []
    },
    {
      "cell_type": "code",
      "source": [
        "train = data.copy()"
      ],
      "metadata": {
        "id": "R51jySbMbuer"
      },
      "execution_count": 36,
      "outputs": []
    },
    {
      "cell_type": "code",
      "source": [
        "train['Comment'] = train['Comment'].str.strip()"
      ],
      "metadata": {
        "id": "FN_aExG9bwwC"
      },
      "execution_count": 37,
      "outputs": []
    },
    {
      "cell_type": "code",
      "source": [
        "train['Comment'][0]"
      ],
      "metadata": {
        "colab": {
          "base_uri": "https://localhost:8080/",
          "height": 35
        },
        "id": "dhRUhMTrbzp0",
        "outputId": "032a9d0b-1661-46f2-f7b3-c57283c1d80f"
      },
      "execution_count": 38,
      "outputs": [
        {
          "output_type": "execute_result",
          "data": {
            "text/plain": [
              "'barranquilla is actually a city in colombia 😂😂 i think filly really likes to mention it for everything'"
            ],
            "application/vnd.google.colaboratory.intrinsic+json": {
              "type": "string"
            }
          },
          "metadata": {},
          "execution_count": 38
        }
      ]
    },
    {
      "cell_type": "code",
      "source": [
        "def remove_stopwords(line):\n",
        "    word_tokens = word_tokenize(line)\n",
        "    filtered_sentence = [w for w in word_tokens if not w in stop_words]\n",
        "    return \" \".join(filtered_sentence)"
      ],
      "metadata": {
        "id": "x5WrwcK9b2ze"
      },
      "execution_count": 39,
      "outputs": []
    },
    {
      "cell_type": "code",
      "source": [
        "data['stop_comments'] = data['Comment'].apply(lambda x : remove_stopwords(x))"
      ],
      "metadata": {
        "id": "UHipPH7Gb5eq"
      },
      "execution_count": 40,
      "outputs": []
    },
    {
      "cell_type": "code",
      "source": [
        "data.head()"
      ],
      "metadata": {
        "colab": {
          "base_uri": "https://localhost:8080/",
          "height": 354
        },
        "id": "Az5KUAI7b9IF",
        "outputId": "a14519b7-7ea2-4729-fbd5-110e52b3c442"
      },
      "execution_count": 41,
      "outputs": [
        {
          "output_type": "execute_result",
          "data": {
            "text/plain": [
              "              Name                                            Comment  \\\n",
              "0   Eduardo Visbal  barranquilla is actually a city in colombia 😂😂...   \n",
              "1    Crustynutzzzz  this video is an hour and 12 mins of w2s cring...   \n",
              "2  Dat1-mexicanboi                                                  💀   \n",
              "3       Polo g Fan  <a href=\"https://www.youtube.com/watch?v=durbi...   \n",
              "4           imdave  who tf did shorddys makeup @1 hour and 3 minut...   \n",
              "\n",
              "                   Time  Likes  Reply Count  polarity  pol_cat  \\\n",
              "0  2022-05-30T10:46:27Z      0            0       0.1        1   \n",
              "1  2022-05-30T07:45:13Z      2            0       0.0       -1   \n",
              "2  2022-05-29T20:01:35Z      0            0       0.0       -1   \n",
              "3  2022-05-30T01:24:36Z      0            0       0.0       -1   \n",
              "4  2022-06-05T19:12:49Z      0            0       0.0       -1   \n",
              "\n",
              "                                       stop_comments  \n",
              "0  barranquilla actually city colombia 😂😂 think f...  \n",
              "1                  video hour 12 mins w2s cringing 😂  \n",
              "2                                                  💀  \n",
              "3  < href= '' https : //www.youtube.com/watch ? v...  \n",
              "4  tf shorddys makeup @ 1 hour 3 minutes face col...  "
            ],
            "text/html": [
              "\n",
              "  <div id=\"df-287a634c-d524-49ae-a56c-30346d31c6bd\">\n",
              "    <div class=\"colab-df-container\">\n",
              "      <div>\n",
              "<style scoped>\n",
              "    .dataframe tbody tr th:only-of-type {\n",
              "        vertical-align: middle;\n",
              "    }\n",
              "\n",
              "    .dataframe tbody tr th {\n",
              "        vertical-align: top;\n",
              "    }\n",
              "\n",
              "    .dataframe thead th {\n",
              "        text-align: right;\n",
              "    }\n",
              "</style>\n",
              "<table border=\"1\" class=\"dataframe\">\n",
              "  <thead>\n",
              "    <tr style=\"text-align: right;\">\n",
              "      <th></th>\n",
              "      <th>Name</th>\n",
              "      <th>Comment</th>\n",
              "      <th>Time</th>\n",
              "      <th>Likes</th>\n",
              "      <th>Reply Count</th>\n",
              "      <th>polarity</th>\n",
              "      <th>pol_cat</th>\n",
              "      <th>stop_comments</th>\n",
              "    </tr>\n",
              "  </thead>\n",
              "  <tbody>\n",
              "    <tr>\n",
              "      <th>0</th>\n",
              "      <td>Eduardo Visbal</td>\n",
              "      <td>barranquilla is actually a city in colombia 😂😂...</td>\n",
              "      <td>2022-05-30T10:46:27Z</td>\n",
              "      <td>0</td>\n",
              "      <td>0</td>\n",
              "      <td>0.1</td>\n",
              "      <td>1</td>\n",
              "      <td>barranquilla actually city colombia 😂😂 think f...</td>\n",
              "    </tr>\n",
              "    <tr>\n",
              "      <th>1</th>\n",
              "      <td>Crustynutzzzz</td>\n",
              "      <td>this video is an hour and 12 mins of w2s cring...</td>\n",
              "      <td>2022-05-30T07:45:13Z</td>\n",
              "      <td>2</td>\n",
              "      <td>0</td>\n",
              "      <td>0.0</td>\n",
              "      <td>-1</td>\n",
              "      <td>video hour 12 mins w2s cringing 😂</td>\n",
              "    </tr>\n",
              "    <tr>\n",
              "      <th>2</th>\n",
              "      <td>Dat1-mexicanboi</td>\n",
              "      <td>💀</td>\n",
              "      <td>2022-05-29T20:01:35Z</td>\n",
              "      <td>0</td>\n",
              "      <td>0</td>\n",
              "      <td>0.0</td>\n",
              "      <td>-1</td>\n",
              "      <td>💀</td>\n",
              "    </tr>\n",
              "    <tr>\n",
              "      <th>3</th>\n",
              "      <td>Polo g Fan</td>\n",
              "      <td>&lt;a href=\"https://www.youtube.com/watch?v=durbi...</td>\n",
              "      <td>2022-05-30T01:24:36Z</td>\n",
              "      <td>0</td>\n",
              "      <td>0</td>\n",
              "      <td>0.0</td>\n",
              "      <td>-1</td>\n",
              "      <td>&lt; href= '' https : //www.youtube.com/watch ? v...</td>\n",
              "    </tr>\n",
              "    <tr>\n",
              "      <th>4</th>\n",
              "      <td>imdave</td>\n",
              "      <td>who tf did shorddys makeup @1 hour and 3 minut...</td>\n",
              "      <td>2022-06-05T19:12:49Z</td>\n",
              "      <td>0</td>\n",
              "      <td>0</td>\n",
              "      <td>0.0</td>\n",
              "      <td>-1</td>\n",
              "      <td>tf shorddys makeup @ 1 hour 3 minutes face col...</td>\n",
              "    </tr>\n",
              "  </tbody>\n",
              "</table>\n",
              "</div>\n",
              "      <button class=\"colab-df-convert\" onclick=\"convertToInteractive('df-287a634c-d524-49ae-a56c-30346d31c6bd')\"\n",
              "              title=\"Convert this dataframe to an interactive table.\"\n",
              "              style=\"display:none;\">\n",
              "        \n",
              "  <svg xmlns=\"http://www.w3.org/2000/svg\" height=\"24px\"viewBox=\"0 0 24 24\"\n",
              "       width=\"24px\">\n",
              "    <path d=\"M0 0h24v24H0V0z\" fill=\"none\"/>\n",
              "    <path d=\"M18.56 5.44l.94 2.06.94-2.06 2.06-.94-2.06-.94-.94-2.06-.94 2.06-2.06.94zm-11 1L8.5 8.5l.94-2.06 2.06-.94-2.06-.94L8.5 2.5l-.94 2.06-2.06.94zm10 10l.94 2.06.94-2.06 2.06-.94-2.06-.94-.94-2.06-.94 2.06-2.06.94z\"/><path d=\"M17.41 7.96l-1.37-1.37c-.4-.4-.92-.59-1.43-.59-.52 0-1.04.2-1.43.59L10.3 9.45l-7.72 7.72c-.78.78-.78 2.05 0 2.83L4 21.41c.39.39.9.59 1.41.59.51 0 1.02-.2 1.41-.59l7.78-7.78 2.81-2.81c.8-.78.8-2.07 0-2.86zM5.41 20L4 18.59l7.72-7.72 1.47 1.35L5.41 20z\"/>\n",
              "  </svg>\n",
              "      </button>\n",
              "      \n",
              "  <style>\n",
              "    .colab-df-container {\n",
              "      display:flex;\n",
              "      flex-wrap:wrap;\n",
              "      gap: 12px;\n",
              "    }\n",
              "\n",
              "    .colab-df-convert {\n",
              "      background-color: #E8F0FE;\n",
              "      border: none;\n",
              "      border-radius: 50%;\n",
              "      cursor: pointer;\n",
              "      display: none;\n",
              "      fill: #1967D2;\n",
              "      height: 32px;\n",
              "      padding: 0 0 0 0;\n",
              "      width: 32px;\n",
              "    }\n",
              "\n",
              "    .colab-df-convert:hover {\n",
              "      background-color: #E2EBFA;\n",
              "      box-shadow: 0px 1px 2px rgba(60, 64, 67, 0.3), 0px 1px 3px 1px rgba(60, 64, 67, 0.15);\n",
              "      fill: #174EA6;\n",
              "    }\n",
              "\n",
              "    [theme=dark] .colab-df-convert {\n",
              "      background-color: #3B4455;\n",
              "      fill: #D2E3FC;\n",
              "    }\n",
              "\n",
              "    [theme=dark] .colab-df-convert:hover {\n",
              "      background-color: #434B5C;\n",
              "      box-shadow: 0px 1px 3px 1px rgba(0, 0, 0, 0.15);\n",
              "      filter: drop-shadow(0px 1px 2px rgba(0, 0, 0, 0.3));\n",
              "      fill: #FFFFFF;\n",
              "    }\n",
              "  </style>\n",
              "\n",
              "      <script>\n",
              "        const buttonEl =\n",
              "          document.querySelector('#df-287a634c-d524-49ae-a56c-30346d31c6bd button.colab-df-convert');\n",
              "        buttonEl.style.display =\n",
              "          google.colab.kernel.accessAllowed ? 'block' : 'none';\n",
              "\n",
              "        async function convertToInteractive(key) {\n",
              "          const element = document.querySelector('#df-287a634c-d524-49ae-a56c-30346d31c6bd');\n",
              "          const dataTable =\n",
              "            await google.colab.kernel.invokeFunction('convertToInteractive',\n",
              "                                                     [key], {});\n",
              "          if (!dataTable) return;\n",
              "\n",
              "          const docLinkHtml = 'Like what you see? Visit the ' +\n",
              "            '<a target=\"_blank\" href=https://colab.research.google.com/notebooks/data_table.ipynb>data table notebook</a>'\n",
              "            + ' to learn more about interactive tables.';\n",
              "          element.innerHTML = '';\n",
              "          dataTable['output_type'] = 'display_data';\n",
              "          await google.colab.output.renderOutput(dataTable, element);\n",
              "          const docLink = document.createElement('div');\n",
              "          docLink.innerHTML = docLinkHtml;\n",
              "          element.appendChild(docLink);\n",
              "        }\n",
              "      </script>\n",
              "    </div>\n",
              "  </div>\n",
              "  "
            ]
          },
          "metadata": {},
          "execution_count": 41
        }
      ]
    },
    {
      "cell_type": "code",
      "source": [
        "from sklearn.model_selection import train_test_split"
      ],
      "metadata": {
        "id": "FNFGIAGDcBBZ"
      },
      "execution_count": 42,
      "outputs": []
    },
    {
      "cell_type": "code",
      "source": [
        "X_train,X_test,y_train,y_test = train_test_split(data['stop_comments'],data['pol_cat'],test_size = 0.2,random_state = 324)"
      ],
      "metadata": {
        "id": "4rlwHxuocF-P"
      },
      "execution_count": 43,
      "outputs": []
    },
    {
      "cell_type": "code",
      "source": [
        "X_train.shape"
      ],
      "metadata": {
        "colab": {
          "base_uri": "https://localhost:8080/"
        },
        "id": "LavR76UIcISb",
        "outputId": "62e03129-ba77-4978-bae7-7b336fcc7516"
      },
      "execution_count": 44,
      "outputs": [
        {
          "output_type": "execute_result",
          "data": {
            "text/plain": [
              "(20532,)"
            ]
          },
          "metadata": {},
          "execution_count": 44
        }
      ]
    },
    {
      "cell_type": "code",
      "source": [
        "X_test.shape"
      ],
      "metadata": {
        "colab": {
          "base_uri": "https://localhost:8080/"
        },
        "id": "WoTxNvB0cKw4",
        "outputId": "b77030b7-b11f-4037-b9d6-be6953448135"
      },
      "execution_count": 45,
      "outputs": [
        {
          "output_type": "execute_result",
          "data": {
            "text/plain": [
              "(5133,)"
            ]
          },
          "metadata": {},
          "execution_count": 45
        }
      ]
    },
    {
      "cell_type": "code",
      "source": [
        "data['pol_cat'].value_counts()"
      ],
      "metadata": {
        "colab": {
          "base_uri": "https://localhost:8080/"
        },
        "id": "hMA_KcsscN_k",
        "outputId": "5f2b9306-cc60-4cc7-a149-eb067ecb5282"
      },
      "execution_count": 46,
      "outputs": [
        {
          "output_type": "execute_result",
          "data": {
            "text/plain": [
              "-1    16075\n",
              " 1     9590\n",
              "Name: pol_cat, dtype: int64"
            ]
          },
          "metadata": {},
          "execution_count": 46
        }
      ]
    },
    {
      "cell_type": "markdown",
      "source": [
        "# Applying Logistic Regression"
      ],
      "metadata": {
        "id": "6i-YI6m0cTCk"
      }
    },
    {
      "cell_type": "code",
      "source": [
        "from sklearn.feature_extraction.text import CountVectorizer"
      ],
      "metadata": {
        "id": "3TyPaOiqcWMy"
      },
      "execution_count": 47,
      "outputs": []
    },
    {
      "cell_type": "code",
      "source": [
        "from sklearn.feature_extraction.text import CountVectorizer, TfidfVectorizer \n",
        "vect = CountVectorizer()\n",
        "tf_train = vect.fit_transform(X_train)\n",
        "tf_test = vect.transform(X_test)"
      ],
      "metadata": {
        "id": "aIeO2hZxcaTN"
      },
      "execution_count": 48,
      "outputs": []
    },
    {
      "cell_type": "code",
      "source": [
        "tf_train.shape"
      ],
      "metadata": {
        "colab": {
          "base_uri": "https://localhost:8080/"
        },
        "id": "XG8SeT2dcc49",
        "outputId": "d2550f4a-3183-4aa4-d73e-ac2bfe3d8b8c"
      },
      "execution_count": 49,
      "outputs": [
        {
          "output_type": "execute_result",
          "data": {
            "text/plain": [
              "(20532, 10122)"
            ]
          },
          "metadata": {},
          "execution_count": 49
        }
      ]
    },
    {
      "cell_type": "markdown",
      "source": [
        "Printing the Vocabulary"
      ],
      "metadata": {
        "id": "bDDZ7UcxchiP"
      }
    },
    {
      "cell_type": "code",
      "source": [
        "print(vect.vocabulary_)"
      ],
      "metadata": {
        "colab": {
          "base_uri": "https://localhost:8080/"
        },
        "id": "QToDT8LTciKw",
        "outputId": "79c61dc7-935a-4bfd-b8e3-95110968f424"
      },
      "execution_count": 50,
      "outputs": [
        {
          "output_type": "stream",
          "name": "stdout",
          "text": [
            "{'wan': 9579, 'na': 6507, 'see': 7995, 'chunkz': 2706, 'gib': 4565, 'vs': 9531, '20': 429, 'ngl': 6610, 'side': 8171, 'plus': 7228, 'rn': 7795, 'get': 4546, 'membership': 6267, 'jj': 5527, 'motive': 6446, 'behind': 2067, 'questions': 7497, 'br': 2286, 'pinero': 7150, 'filly': 4171, 'carried': 2527, 'icl': 5232, 'got': 4687, 'best': 2094, 'one': 6816, 'funny': 4440, 'selena': 8012, 'anything': 1700, 'salinas': 7886, 'made': 6110, 'video': 9451, 'yesssss': 9975, 'veen': 9410, 'waiting': 9558, 'sidemen': 8178, 'ever': 3875, 'shout': 8139, 'exceeded': 3906, 'expectations': 3930, 'man': 6145, 'legend': 5771, 'funniest': 4436, 'ive': 5462, 'seen': 8003, 'ages': 1529, 'dont': 3538, 'think': 8932, 'destini': 3383, 'shoe': 8117, 'fit': 4235, 'yet': 9990, 'bring': 2330, 'namee': 6531, '39': 881, 'name': 6529, 'purple': 7459, 'girl': 4579, 'far': 4010, 'say': 7925, 'href': 5162, 'https': 5169, 'www': 9863, 'youtube': 10046, 'com': 2840, 'watch': 9605, 'durbixb1q0o': 3631, 'amp': 1657, '46m48s': 1031, '46': 1005, '48': 1068, 'wilding': 9741, 'harry': 4910, 'gon': 4644, 'look': 5996, 'like': 5864, 'kkk': 5654, 'hat': 4924, 'lmao': 5927, 'nah': 6520, 'needs': 6572, 'episode': 3824, 'asap': 1772, 'edition': 3682, 'top': 9075, 'tier': 8988, 'women': 9793, 'created': 3067, 'elite': 3726, 'confidence': 2923, 'makes': 6136, 'content': 2957, 'vet': 9426, 'gyal': 4774, 'put': 7472, 'ina': 5304, 'cage': 2458, 'kinda': 5637, 'felt': 4085, 'saw': 7924, 'ton': 9062, 'make': 6134, 'dem': 3345, 'hilarious': 5057, 'well': 9651, 'done': 3534, 'brother': 2355, 'cry': 3122, 'feeling': 4073, 'bad': 1916, 'fully': 4420, 'meltdown': 6264, 'need': 6568, 'celinas': 2567, 'instagram': 5371, 'guys': 4767, 'mini': 6346, 'powerful': 7301, 'league': 5750, 'team': 8828, 'hp': 5159, 'version': 9420, 'mil': 6319, 'views': 9476, 'abt': 1445, 'hours': 5152, 'banger': 1961, '10000000': 38, 'holy': 5101, 'moly': 6396, 'someone': 8387, 'cool': 2986, 'next': 6602, 'want': 9581, 'cant': 2502, 'wait': 9556, 'jewel': 5510, 'asset': 1789, 'might': 6315, 'aswell': 1807, 'vid': 9447, 'bc': 2013, 'rest': 7727, 'didnt': 3409, 'really': 7598, 'table': 8765, 'heart': 4960, 'comment': 2862, 'section': 7990, 'black': 2169, 'energy': 3780, 'ksi': 5677, 'obssesed': 6744, 'smelling': 8315, 'things': 8930, 'owned': 6926, 'nothing': 6684, 'better': 2107, 'watching': 9612, 'sunday': 8697, 'evening': 3873, '5m52s': 1280, '52': 1182, 'shoes': 8118, 'haha': 4802, 'christian': 2694, 'dior': 3446, 'always': 1632, 'nice': 6614, 'mins': 6350, 'day': 3261, '54m00s': 1218, '54': 1216, '00': 0, 'carry': 2532, '10mill': 82, 'already': 1626, 'xp': 9883, 'part': 6980, 'two': 9218, 'boys': 2281, 'would': 9829, 'absolutely': 1443, 'take': 8772, '10': 33, 'billion': 2140, 'ps': 7427, 'duck': 3611, 'chicken': 2656, 'begging': 2059, 'money': 6409, 'twitter': 9217, 'walking': 9572, 'playing': 7196, 'nuts': 6719, 'short': 8130, 'blog': 2189, 'also': 1628, 'patreon': 7007, 'bros': 2353, 'rizz': 7786, 'crazy': 3051, 'goated': 4610, 'young': 10032, '34m39s': 794, '34': 776, 'slavery': 8284, 'flashbacks': 4257, 'kon': 5673, 'addtition': 1491, 'amazing': 1640, 'type': 9222, 'person': 7074, 'swear': 8736, 'shirt': 8107, 'simon': 8218, 'fillynyou': 4174, 'fan': 4005, 'pound': 7296, 'cut': 3163, 'shower': 8146, 'cryinggg': 3125, 'lot': 6032, 'definitely': 3326, 'favorite': 4043, 'yooo': 10016, 'nurse': 6717, 'gets': 4547, 'second': 7983, 'hand': 4866, 'embarrassment': 3748, 'bruh': 2366, 'bro': 2336, 'thousand': 8956, 'many': 6163, 'time': 8999, 'go': 4605, 'come': 2845, 'back': 1904, 'took': 9067, 'long': 5989, 'finish': 4212, 'madd': 6101, 'sometimes': 8392, 'wonder': 9795, 'devilish': 3393, 'ideas': 5241, 'megamind': 6256, 'quite': 7505, 'literally': 5902, 'ofc': 6751, 'im': 5273, 'allowing': 1614, 'tf': 8870, 'flaps': 4254, 'tell': 8849, 'said': 7878, 'oh': 6772, 'phenomenal': 7104, 'love': 6036, '20v1': 473, 'lads': 5694, 'find': 4200, 'big': 2126, 'gyalist': 4776, 'breaks': 2312, 'never': 6597, 'discomfort': 3467, 'strongly': 8611, 'life': 5852, 'brilliant': 2329, 'started': 8528, 'laughing': 5727, 'notifications': 6692, 'gt': 4744, 'callux': 2473, 'normally': 6672, 'videos': 9457, 'yes': 9963, 'yessssssssssss': 9982, '1m11s': 400, '11': 89, 'yeh': 9953, '000': 1, 'mad': 6100, 'click': 2757, '32m05s': 742, '32': 739, '05': 14, 'thanks': 8878, 'cameraman': 2483, 'shot': 8134, '49m29s': 1105, '49': 1093, '29': 652, 'anyone': 1697, 'know': 5664, 'dress': 3577, '46m40s': 1024, '40': 919, 'randomly': 7539, 'sings': 8234, 'weird': 9647, 'lol': 5979, 'happen': 4885, 'burh': 2435, 'went': 9654, 'bang': 1956, 'order': 6871, 'funyyyyyyyyyyy': 4445, 'ffs': 4100, 'sweden': 8740, 'coming': 2859, 'filming': 4187, 'stockholm': 8569, 'weeks': 9642, 'ago': 1533, 'hella': 4990, 'group': 4738, 'ones': 6819, 'spanking': 8434, 'tings': 9016, 'ig': 5253, 'fkn': 4248, 'tiiiiiiiiiiiiime': 8990, 'tiiiiiiiime': 8991, '48m29s': 1079, 'homo': 5110, 'viks': 9486, 'arms': 1761, 'wham': 9669, 'sideman': 8177, 'breath': 2313, 'fxcken': 4458, 'granddaughter': 4710, 'smashed': 8309, 'floor': 4272, 'rolling': 7817, 'ofcourse': 6752, 'sorry': 8417, '2nd': 699, 'came': 2480, 'within': 9771, 'first': 4234, 'cyprus': 3176, 'merhaba': 6293, 'arabic': 1744, 'please': 7202, 'kill': 5624, 'today': 9042, 'history': 5071, 'right': 7767, 'track': 9106, 'guess': 4751, '15m05s': 134, '15': 129, '15m45s': 142, '45': 978, '22m38s': 509, '22': 497, '38': 866, '25m40s': 590, '25': 584, '50m05s': 1149, '50': 1140, '51m35s': 1180, '51': 1174, '35': 807, 'ill': 5267, 'free': 4360, 'whos': 9710, 'blue': 2204, 'getting': 4550, 'people': 7044, 'revive': 7747, 'channel': 2605, 'give': 4587, 'longevity': 5993, 'underrated': 9279, 'hurts': 5204, 'cap': 2504, 'whole': 9707, 'series': 8040, 'uprising': 9366, 'energetic': 3778, 'goat': 4609, 'uk': 9245, 'comedy': 2849, 'tattooed': 8814, 'crzy': 3131, 'fam': 3998, 'let': 5820, 'end': 3768, 'bucks': 2400, 'saying': 7928, '10b': 48, 'yea': 9918, 'watched': 9608, 'straight': 8588, 'face': 3971, 'level': 5831, 'stuff': 8624, 'faces': 3974, 'preparing': 7339, 'banana': 1954, 'bit': 2162, 'involved': 5422, 'witty': 9778, 'self': 8014, 'could': 3013, 'probably': 7373, 'damn': 3211, 'left': 5768, 'sit': 8244, 'mazza': 6222, 'much': 6469, 'hahahaha': 4812, 'doesnt': 3512, 'sell': 8019, 'idea': 5239, 'stream': 8597, 'longtime': 5995, 'laughed': 5725, 'show': 8144, 'guy': 4766, 'philly': 7115, 'dates': 3253, 'liverpool': 5917, 'champions': 2596, 'trophies': 9166, '43m32s': 953, '43': 939, 'keeper': 5604, 'niko': 6628, 'omilana': 6809, 'tobi': 9037, 'bricked': 2323, 'andrew': 1666, 'tate': 8805, 'peng': 7040, 'dis': 3456, 'uno': 9320, 'indeed': 5321, 'turkish': 9198, 'often': 6769, 'use': 9381, 'selam': 8007, 'peniro': 7043, 'pink': 7156, 'weak': 9628, 'looks': 6001, 'comethazine': 2852, 'imagine': 5277, 'without': 9772, 'ta': 8763, 'rate': 7559, 'sundays': 8698, 'drugs': 3595, 'white': 9700, 'finnaly': 4218, 'believe': 2075, 'woman': 9788, 'million': 6330, 'nahh': 6521, 'moving': 6458, 'maaaddd': 6087, 'though': 8953, 'agh': 1531, 'epic': 3821, 'roast': 7797, 'moment': 6398, 'actually': 1478, 'balls': 1950, 'stephen': 8551, 'tries': 9154, 'paid': 6945, 'yearly': 9934, 'wage': 9552, 'amount': 1655, 'ads': 1502, 'jacket': 5470, 'that': 8883, 'farr': 4014, 'haunted': 4931, 'house': 5153, 'way': 9619, 'less': 5809, 'painful': 6948, 'previouses': 7357, '20v1s': 474, 'goattt': 4616, 'explain': 3937, 'wtf': 9853, 'going': 4639, 'veterinarian': 9427, 'date': 3251, 'half': 4857, 'charisma': 2615, 'set': 8046, 'absolute': 1442, 'tinder': 9011, 'entire': 3812, 'hats': 4930, 'creasing': 3065, 'comments': 2868, 'imma': 5279, 'save': 7917, 'later': 5720, 'loveeeeee': 6040, 'fillyyyy': 4179, 'infinite': 5335, 'times': 9005, 'religious': 7664, 'jokes': 5546, 'hope': 5127, 'liked': 5866, 'isnt': 5442, 'another': 1681, 'omg': 6802, '32m58s': 752, '58': 1248, 'vikk': 9481, 'everything': 3889, 'socials': 8371, 'lovely': 6043, 'lucky': 6058, 'muchas': 6470, 'gracias': 4704, 'afficion': 1514, 'siuuuuuuuuuuuuuuuuu': 8251, 'alert': 1588, 'bangin': 1974, 'entertainer': 3807, 'class': 2739, 'soooo': 8404, 'concentration': 2906, 'here': 5003, '50m04s': 1148, '04': 9, 'read': 7581, 'book': 2235, 'normalised': 6671, 'talk': 8783, 'men': 6273, '6ft': 1297, 'imo': 5285, 'able': 1432, 'fat': 4033, 'awesome': 1857, 'bunda': 2422, 'stole': 8571, 'eart': 3663, 'tho': 8948, 'mehraba': 6260, 'hello': 4994, 'ahahahaha': 1548, 'hail': 4848, '50m00s': 1146, 'posted': 7285, 'scream': 7956, 'combo': 2844, 'disappoints': 3464, 'sick': 8165, '10m20s': 69, 'bookshelf': 2237, 'ability': 1430, 'spot': 8485, 'af': 1511, 'definition': 3327, 'emotional': 3761, 'rollercoaster': 7815, 'wearing': 9633, 'cold': 2810, 'maybe': 6220, 'easily': 3667, 'movies': 6456, 'wanted': 9582, 'keep': 5603, 'hit': 5072, 'diff': 3417, '1girl': 249, 'troops': 9165, 'darkest': 3243, 'yeahhahahhha': 9929, 'maaaad': 6084, 'litreally': 5905, 'thought': 8954, 'cal': 2462, 'styll': 8636, 'jidion': 5516, 'putting': 7478, 'join': 5538, 'clip': 2763, 'reddit': 7627, 'full': 4419, 'fills': 4167, 'dream': 3574, 'passive': 6999, 'ishowspeed': 5439, 'rah': 7522, 'id': 5236, 'eating': 3673, 'sweetcorn': 8742, 'chest': 2651, 'menace': 6274, 'instead': 5376, 'skirt': 8262, 'gal': 4473, 'clown': 2783, 'happening': 4888, 'darseys': 3248, 'media': 6236, 'disrespectful': 3488, 'meant': 6233, 'entertainment': 3810, 'digital': 3431, 'platforms': 7187, 'brav': 2298, 'fw': 4456, 'fillys': 4175, 'gold': 4640, 'ggogg': 4556, 'drink': 3581, 'straw': 8595, 'projecting': 7394, 'great': 4721, 'personality': 7078, 'topping': 9082, 'lv': 6068, 'general': 4524, 'castello': 2542, 'nobody': 6638, 'chloe': 2675, 'outfit': 6895, 'dressed': 3578, 'fresher': 4371, 'boy': 2278, 'college': 2825, 'rhis': 7755, 'asapppp': 1773, '45m08s': 981, '08': 21, 'laura': 5735, 'de': 3274, 'assistent': 1794, 'beautiful': 2035, 'insta': 5370, 'fb': 4053, '5m13s': 1267, '13': 110, 'hahahahaaaa': 4813, 'topped': 9081, 'suuuiiii': 8727, '609th': 1288, 'iconic': 5235, '1v20': 426, '34m45s': 799, 'hary': 4920, 'vic': 9438, 'every': 3884, 'minute': 6355, 'hour': 5151, 'worth': 9827, 'vik': 9477, 'looked': 5998, 'tortured': 9088, 'ron': 7825, 'caught': 2556, '43m53s': 960, '53': 1205, 'tupac': 9194, 'joke': 5543, 'handle': 4868, 'moments': 6401, 'quot': 7507, 'saving': 7923, 'private': 7369, 'ryan': 7867, 'poster': 7286, 'slapped': 8275, 'reaction': 7578, 'subscribe': 8650, 'greatest': 4722, 'year': 9933, 'sauce': 7909, 'timeout': 9003, 'marhaba': 6169, 'rlly': 7793, 'learning': 5756, 'omggg': 6804, 'plzzzz': 7232, 'challange': 2591, 'devil': 3392, 'mode': 6389, 'anger': 1667, 'crypto': 3129, '20vs1': 476, 'played': 7193, 'wasssuuuuuuuup': 9599, 'demon': 3350, '21': 479, '271k': 617, '1vs20': 427, 'vids': 9464, 'single': 8232, 'work': 9816, 'god': 4619, 'http': 5168, 'specialdate': 8444, 'my': 6501, 'idol': 5252, 'hes': 5017, 'aspire': 1785, 'light': 5855, 'bare': 1990, 'memberships': 6268, 'yooooo': 10018, 'doo': 3540, 'chunks': 2704, 'pure': 7455, 'new': 6600, 'bitches': 2163, '46m28s': 1018, '28': 632, 'embarrassement': 3746, 'episodeeeee': 3825, 'braaah': 2287, '1h08m55s': 359, '55': 1226, 'needed': 6570, 'aint': 1573, 'even': 3872, 'typa': 9221, 'fall': 3992, 'laugh': 5724, 'till': 8997, 'cried': 3083, 'boat': 2215, 'chair': 2587, 'sniffing': 8354, 'scene': 7944, 'plz': 7229, 'dead': 3277, 'youtu': 10045, 'be': 2019, 'ktty9cloudu': 5680, 'fair': 3985, 'play': 7189, 'goooo': 4661, 'boots': 2248, 'tbf': 8822, 'darcy': 3237, 'prettiest': 7352, '53m37s': 1210, '37': 845, 'theres': 8908, 'tears': 8832, 'letsss': 5825, 'العربيه': 10110, 'ماتعرف': 10115, 'عربي': 10113, 'darcey': 3232, '48m49s': 1085, 'dying': 3638, 'live': 5915, 'fire': 4224, 'info': 5338, 'darcys': 3238, 'wife': 9728, 'material': 6204, 'frfr': 4374, 'understand': 9281, 'attractive': 1826, 'british': 2333, 'edit': 3680, 'pause': 7010, 'sat': 7906, 'this': 8940, 'reactions': 7579, 'ndl': 6557, 'biggest': 2128, 'undoubtedly': 9287, 'criticise': 3106, 'xddd': 9875, 'crap': 3044, '10billion': 52, 'dude': 3613, 'perfect': 7052, 'ey': 3953, 'hear': 4956, 'jumping': 5574, 'around': 1764, 'room': 7828, 'awkward': 1862, 'tbh': 8823, 'killed': 5625, 'lets': 5822, 'hands': 4871, 'sure': 8713, 'geez': 4517, 'different': 3420, 'four': 4341, 'minutes': 6356, 'found': 4339, 'btec': 2394, 'kim': 5634, 'kardashian': 5590, 'gg': 4553, '12': 100, 'fuckin': 4405, 'roller': 7814, 'coaster': 2795, 'form': 4329, 'lmfao': 5941, 'youre': 10037, 'dat': 3249, 'birds': 2154, 'stone': 8573, 'us': 9378, 'lines': 5883, 'still': 8564, 'fwi': 4457, 'sauuuuucee': 7914, 'excited': 3912, 'curry': 3155, 'yesterday': 9987, 'sudden': 8673, 'shensea': 8087, 'hiding': 5048, 'hahah': 4807, 'feel': 4071, 'hide': 5045, 'cuz': 3170, 'thumb': 8973, 'bumbum': 2419, 'fine': 4203, 'fake': 3988, 'tan': 8793, 'kills': 5632, 'colour': 2836, 'ears': 3662, 'neck': 6564, 'hard': 4896, 'dislike': 3482, 'weekend': 9640, 'saved': 7918, 'dating': 3255, 'entertaining': 3809, 'naturally': 6546, 'nooo': 6660, 'wayyyy': 9624, 'start': 8527, 'adding': 1487, 'background': 1905, 'music': 6489, 'unfair': 9291, 'confident': 2924, 'realized': 7594, 'ima': 5274, 'anyways': 1703, '10bs': 56, '100': 34, 'ruining': 7855, 'vibe': 9433, 'frozen': 4392, 'gone': 4646, 'fuxkin': 4452, 'hell': 4989, 'good': 4649, '36m53s': 842, '36': 825, 'thats': 8887, 'met': 6300, 'father': 4035, '50m10s': 1153, 'uncensored': 9270, 'wants': 9584, 'eliteeeee': 3729, 'slap': 8273, 'crying': 3124, 'nahhh': 6522, 'thing': 8928, 'stop': 8578, 'probs': 7378, 'toby': 9039, 'pls': 7221, 'iyhooo': 5464, 'them': 8895, 'talking': 8788, 'rewatched': 7749, 'walk': 9568, 'incredible': 5319, 'yehhhh': 9955, 'mannnnn': 6158, 'thumbnail': 8974, 'win': 9749, 'award': 1850, 'bored': 2253, 'stuck': 8619, 'douche': 3554, 'goooooooerrreeerrrre': 4669, 'cmon': 2790, 'garrick': 4492, 'modern': 6391, 'warfare': 9588, 'london': 5987, 'bombing': 2231, 'campaign': 2488, 'hate': 4925, 'cringing': 3101, 'honestly': 5114, 'purplish': 7462, 'clothes': 2778, 'sport': 8483, 'smile': 8319, 'bright': 2325, 'smooth': 8335, 'thb': 8889, 'lady': 5695, 'props': 7412, 'due': 3616, 'hrs': 5163, 'complete': 2892, 'collab': 2814, 'low': 6046, 'lem': 5787, 'sniff': 8348, 'fr': 4346, 'understood': 9283, 'ting': 9014, 'switched': 8751, 'seats': 7981, 'completely': 2893, 'control': 2976, 'whas': 9672, 'loved': 6037, 'marhba': 6170, 'language': 5705, 'mean': 6230, 'omfg': 6800, 'crack': 3036, 'up': 9350, 'indescribably': 5324, 'impressive': 5297, 'die': 3410, 'challenge': 2592, 'respect': 7720, 'hai': 4847, 'anna': 1675, 'iam': 5224, 'nagendar': 6519, 'xvideos': 9884, 'age': 1526, '27': 616, 'qualification': 7485, 'medical': 6239, 'lab': 5687, 'techniciany': 8840, 'srpt': 8505, 'lo': 5958, 'jobs': 5535, 'unte': 9341, 'cheppagalaru': 2649, 'with': 9770, 'govt': 4696, 'hardest': 4899, 'last': 5717, 'bill': 2137, 'mill': 6327, 'whats': 9677, 'ucqsw': 9228, 'rsr25cojesjqgob5pq': 7845, 'fucken': 4403, 'vidoeoooo': 9463, 'xdddddddddddddd': 9877, 'jokessss': 5549, 'famm': 4002, 'years': 9935, 'since': 8227, 'paused': 7011, '1h08m34s': 350, 'educational': 3690, 'humor': 5191, 'incredibly': 5320, 'downright': 3565, 'knew': 5659, 'harrycpinero': 4911, 'stupid': 8630, 'ethan': 3859, 'gifted': 4572, 'sooo': 8403, 'germany': 4543, 'shoow': 8126, 'original': 6879, 'actors': 1474, 'job': 5533, '33m09s': 758, '33': 754, '09': 23, 'takin': 8775, 'fourth': 4343, 'thinks': 8935, 'boring': 2255, 'opposite': 6863, '42': 934, 'misex': 6361, 'technicianf': 8839, 'title': 9027, 'wild': 9735, 'personaly': 7080, 'guest': 4754, 'excellent': 3907, 'vickstar': 9444, 'quiet': 7502, 'genuinely': 4536, 'everyone': 3887, 'trying': 9179, 'speedrun': 8457, 'legless': 5780, 'lexi': 5835, 'lexy': 5839, 'tik': 8992, 'toks': 9050, 'shorts': 8132, 'highlights': 5054, 'similar': 8216, 'someday': 8383, 'else': 3734, 'yawn': 9909, 'enthusiastic': 3811, 'giving': 4592, 'pass': 6995, 'hurt': 5201, 'defo': 3328, 'walked': 9570, '52m28s': 1195, 'wamstar123': 9578, 'castillo': 2543, 'sake': 7880, 'stay': 8539, 'violating': 9500, 'females': 4087, 'bruv': 2382, '1h10m09s': 368, 'ayo': 1876, 'interested': 5393, '45m47s': 995, '47': 1041, 'hahaha': 4808, 'halfway': 4858, 'stitches': 8568, 'stamp': 8515, 'calls': 2471, 'clapped': 2729, 'smoothest': 8337, 'tattoo': 8812, 'chick': 2655, '4m51s': 1131, '53m47s': 1212, 'finally': 4195, '30m00s': 711, '30': 704, 'pineiro': 7146, 'il': 5265, 'honest': 5113, 'quality': 7486, 'kind': 5636, 'call': 2467, 'ugly': 9238, 'etc': 3858, 'arent': 1752, 'struggled': 8613, 'xx': 9885, 'drippy': 3585, 'lit': 5898, 'looking': 6000, '38m54s': 878, 'cameran': 2485, 'hero': 5011, 'yo': 10009, 'philadelphia': 7107, 'facking': 3976, 'beat': 2030, 'system': 8758, 'deal': 3285, 'worst': 9826, 'gyals': 4779, 'nervous': 6594, 'ups': 9367, 'filladelfia': 4126, 'seemed': 8001, 'upped': 9359, '1h10m26s': 370, '26': 597, 'vibes': 9434, 'feet': 4078, '5m': 1263, 'ptsd': 7436, 'deeeeeead': 3308, 'cramp': 3043, 'unreal': 9324, 'og': 6770, 'singing': 8230, 'spongebob': 8478, 'brooo': 2345, 'nonstop': 6656, 'beta': 2101, 'squad': 8494, 'beg': 2057, 'wish': 9764, 'telling': 8850, 'yeha': 9954, 'proud': 7419, '500k': 1143, 'sensational': 8028, 'game': 4480, 'nextttt': 6605, 'fitt': 4238, 'choose': 2687, 'cute': 3164, 'subs': 8648, 'easiest': 3666, 'earned': 3657, 'turn': 9201, 'hated': 4926, 'rid': 7764, 'yung': 10060, 'geezer': 4519, 'become': 2041, 'timing': 9008, 'sheesh': 8080, 'forking': 4328, 'fucke': 4402, 'masterpiece': 6196, 'help': 4996, 'italian': 5451, 'friend': 4380, 'says': 7930, 'clapping': 2733, 'fight': 4113, 'fought': 4338, 'wallah': 9576, 'wilder': 9738, 'ignoring': 5257, 'fact': 3977, 'real': 7587, 'cringe': 3093, 'plzz': 7230, 'lmaooo': 5930, '48m50s': 1086, '1h00m06s': 251, '06': 18, 'speak': 8439, 'others': 6885, 'btcc': 2393, 'grid': 4730, 'pitlane': 7170, 'walkabout': 9569, 'sessions': 8045, 'becoz': 2044, 'turned': 9202, 'shawty': 8073, '35m45s': 818, 'freakkkkkk': 4356, 'purples': 7461, 'ish': 5437, 'color': 2832, 'cringes': 3096, 'soooooo': 8407, '1m19s': 402, '19': 223, 'arabi': 1741, 'retard': 7731, 'dog': 3513, 'word': 9813, 'meaning': 6231, 'hi': 5042, '17m17s': 184, '17': 175, '6m20s': 1307, 'uhhhh': 9241, 'castilo': 2544, 'editon': 3685, 'arguably': 1754, 'godlike': 4631, '2h': 667, 'check': 2633, 'compatibility': 2886, 'incompatibly': 5315, 'wjy': 9779, 'branded': 2296, 'cus': 3160, 'now': 6696, 'hot': 5145, 'wings': 9753, 'flirting': 4269, 'infectious': 5333, 'insecure': 5361, 'bamboozled': 1952, 'lie': 5851, 'piece': 7136, 'chocked': 2680, '23m05s': 537, '23': 518, 'struggling': 8615, 'xd': 9873, 'asf': 1774, 'thank': 8876, 'morbius': 6425, 'jacked': 5469, 'hideous': 5046, 'picked': 7126, '4th': 1138, '8m19s': 1361, 'blonde': 2192, 'mate': 6202, 'basic': 2001, 'glad': 4593, 'waste': 9600, 'screw': 7962, 'netflix': 6595, 'okay': 6784, 'paying': 7018, 'asking': 1781, 'specially': 8445, 'wasting': 9603, 'gif': 4570, 'afford': 1515, 'bringing': 2331, 'decision': 3299, 'wholesome': 9709, '2022': 440, 'algrave': 1596, 'caralho': 2514, 'brought': 2357, 'enjoyable': 3788, '46m45s': 1028, 'congealed': 2933, 'embarrasment': 3743, '3m56s': 912, '56': 1236, 'winner': 9755, 'fasho': 4028, 'clean': 2745, 'seeing': 7998, 'speed': 8456, 'pinnero': 7161, 'neeext': 6579, 'w2s': 9538, 'uncharacteristically': 9272, 'knows': 5668, 'stunning': 8628, 'wen': 9653, 'charming': 2623, 'entertain': 3804, 'fffffffffiiiiiiiilllllllyyyyyyyy': 4098, 'boot': 2247, 'head': 4943, 'brooooooooo': 2350, 'tickle': 8983, 'pickle': 7128, 'exclusive': 3915, 'text': 8867, 'dow': 3558, 'finds': 4202, 'lara': 5712, '5m50s': 1279, '1h00m28s': 256, 'close': 2772, '49m13s': 1099, 'git': 4584, 'lil': 5870, 'uzi': 9394, 'considering': 2948, 'buy': 2451, 'scenes': 7945, 'anymore': 1696, 'peoples': 7045, 'feelings': 4074, 'fame': 3999, 'results': 7729, 'search_query': 7976, '23respectcomment': 559, 'respectcomment': 7721, '23ownopinion': 558, 'ownopinion': 6928, 'internet': 5400, 'crazyyy': 3053, 'expressions': 3946, 'oozing': 6851, 'exist': 3924, 'thirsting': 8938, 'clearly': 2750, 'streets': 8600, 'timestamp': 9006, 'teaser': 8833, 'bathroom': 2010, 'fun': 4426, 'gem': 4523, 'viva': 9514, 'colombia': 2829, 'ok': 6783, 'hill': 5060, 'future': 4451, 'baby': 1902, 'mama': 6143, 'smh': 8317, 'spirit': 8469, 'animal': 1670, 'break': 2307, 'lett': 5829, 'meenttaallll': 6250, '5m19s': 1271, '32m00s': 740, 'skills': 8255, 'actual': 1477, 'seek': 7999, 'truly': 9175, 'making': 6140, 'prove': 7421, 'wrong': 9846, 'scripted': 7966, 'sh': 8054, '49m35s': 1108, 'wack': 9548, 'fatality': 4034, 'keeps': 5607, 'enjoyed': 3789, 'psychological': 7433, 'torture': 9087, 'turning': 9203, 'physical': 7122, 'pain': 6946, 'rip': 7775, 'ft': 4399, 'luna': 6062, 'coin': 2805, 'yeah': 9927, 'picking': 7127, 'cort': 3002, 'carrots': 2531, 'bank': 1979, 'alot': 1622, 'lmaoo': 5929, '1000000': 37, 'huge': 5173, 'shirts': 8108, 'released': 7660, 'soo': 8399, 'competition': 2888, 'shows': 8151, 'friends': 4382, 'awe': 1854, '34m40s': 795, 'wat': 9604, 'ancestors': 1662, 'whit': 9699, 'something': 8391, 'creator': 3072, 'dedication': 3306, 'takes': 8774, 'uploads': 9357, 'purchase': 7454, 'idk': 5250, 'straightforward': 8589, 'interesting': 5394, 'guna': 4760, 'clips': 2765, 'upload': 9354, 'tiktok': 8994, 'stealing': 8544, 'eat': 3670, 'captain': 2509, '24m37s': 577, '24': 567, 'executes': 3921, 'gals': 4477, 'regardless': 7642, 'hilariousss': 5059, 'justice': 5582, '46m37s': 1021, 'purposes': 7465, 'ahahaha': 1546, 'she': 8075, 'da': 3180, 'insane': 5359, 'reads': 7584, 'little': 5910, 'mix': 6376, 'yano': 9903, 'embarassement': 3741, 'home': 5104, 'country': 3022, 'city': 2718, 'perfume': 7063, 'chuckz': 2700, 'late': 5718, 'favourite': 4044, 'tells': 8851, 'told': 9051, 'after': 1520, 'funnier': 4434, '60': 1286, '39m28s': 893, 'paaafume': 6936, 'everrrrrrrrrr': 3883, 'wys': 9871, 'suffering': 8677, 'kates': 5595, 'clocked': 2769, 'currently': 3153, 'direction': 3450, 'millions': 6333, 'subscribers': 8653, 'dessert': 3379, 'finished': 4213, 'bursting': 2437, 'laughter': 5731, 'quit': 7504, 'milking': 6326, '46m00s': 1007, 'deserved': 3372, 'yoruba': 10027, 'blunt': 2207, 'mouth': 6450, 'mandem': 6149, 'jeez': 5500, 'forward': 4336, 'sui': 8682, 'happy': 4893, 'platform': 7186, 'outrageous': 6901, 'usually': 9388, 'tie': 8987, 'pausing': 7012, '48m30s': 1080, 'swolestar123': 8753, 'priceless': 7359, 'realised': 7590, 'motorboat': 6448, 'hahahah': 4811, 'flapssss': 4256, 'loooool': 6008, 'boutta': 2272, 'dominate': 3528, 'month': 6416, 'baddies': 1922, 'yk': 10003, 'goood': 4660, 'co': 2791, 'star': 8523, 'performance': 7058, 'magneto': 6119, 'gorgeous': 4680, 'activities': 1471, 'off': 6753, 'her': 5000, 'third': 8937, '3min': 914, '55secs': 1235, 'loool': 6003, 'ca': 2456, 'eh': 3707, '38m53s': 877, 'plsssss': 7224, '50m09s': 1152, 'banged': 1959, 'common': 2875, 'stomach': 8572, 'aching': 1461, 'goats': 4615, 'rspca': 7844, 'question': 7494, 'bird': 2153, '1v': 424, 'along': 1619, 'proven': 7423, 'otherwise': 6887, 'riz': 7785, 'learn': 5754, 'broooo': 2346, '5m12s': 1266, 'hittign': 5075, 'difrent': 3426, 'drop': 3588, 'fillies': 4137, 'bark': 1994, 'course': 3025, 'bag': 1925, 'chase': 2625, 'finna': 4216, 'legendary': 5773, 'period': 7066, 'run': 7860, '10bil': 49, '106': 46, 'combined': 2843, 'magnet': 6117, 'wow': 9833, 'comfort': 2853, 'zone': 10089, 'mic': 6309, '6m40s': 1320, 'sound': 8423, 'brings': 2332, 'dimension': 3436, 'npc': 6700, 'built': 2407, 'default': 3316, 'taste': 8803, 'dyinggggg': 3640, '54m25s': 1219, 'neat': 6561, 'kms': 5655, '37m00s': 848, 'sheeee': 8076, 'farrrrr': 4017, 'may': 6219, 'naaaaa': 6511, 'onlyfans': 6828, 'memories': 6272, 'lowkey': 6049, 'hating': 4929, 'raheem': 7523, 'sterling': 8556, 'named': 6530, 'kate': 5594, 'ong': 6823, 'bruuuuhh': 2379, 'celina': 2565, 'smirks': 8322, 'hereeeeeeeee': 5006, 'goooooooooooo': 4675, 'deffo': 3323, 'number': 6712, 'shoot': 8123, 'retarted': 7733, 'hahahahahhaha': 4831, 'stuuuuuuufff': 8633, 'yeaaahhhhhh': 9925, 'maannnnnnn': 6096, 'interacted': 5390, '1h08m38s': 353, 'cameramen': 2484, 'fugging': 4411, '15m47s': 143, 'becca': 2038, 'voicelining': 9519, '48m18s': 1075, '18': 205, 'meeeeeeeeeeeeeeeee': 6248, 'dynamic': 3644, 'duoooo': 3629, 'the': 8890, 'seems': 8002, 'natural': 6545, 'boyfriend': 2279, 'publicity': 7440, 'striiper': 8604, 'cracks': 3041, 'filllly': 4151, 'mannnn': 6157, '47m27s': 1056, 'roof': 7827, 'pleaaaaase': 7198, 'pleaaase': 7199, 'shock': 8115, 'poor': 7260, 'called': 2469, 'awsome': 1866, 'update': 9351, 'sec': 7982, 'camera': 2482, 'steven': 8557, '37m22s': 855, 'again': 1525, 'ruin': 7853, 'race': 7516, 'dooby': 3541, 'bop': 2250, 'bow': 2273, '1h05m10s': 315, '49m15s': 1101, 'ep': 3819, 'hahahahahahaha': 4825, 'evetything': 3893, 'omgggg': 6805, 'smash': 8308, 'petition': 7091, 'application': 1727, 'dddd': 3270, 'onion': 6825, 'deserves': 3373, 'unbelieveable': 9268, 'couldnt': 3014, 'words': 9814, 'talkin': 8787, 'vikkstar': 9483, 'pipes': 7163, 'bout': 2270, 'npcs': 6701, 'gta': 4745, 'hazmat': 4939, 'suit': 8688, 'area': 1750, 'amazinggggggg': 1642, 'shaka': 8061, 'zulu': 10094, 'contagious': 2953, '2m33s': 685, '1m22s': 405, 'josh': 5558, 'surprised': 8719, 'livvy': 5922, 'chunkzzz': 2709, 'tarmac': 8798, '23m43s': 554, 'link': 5885, 'gooooooo': 4667, 'partnership': 6991, 'hitler': 5073, 'mussolini': 6492, 'together': 9046, 'congrats': 2935, 'early': 3651, 'nevermind': 6598, 'buying': 2452, 'sideplus': 8183, '35m50s': 821, 'how': 5155, 'havent': 4935, 'forever': 4321, 'creature': 3074, 'copie': 2991, 'la': 5686, 'cu': 3132, 'vlad': 9515, 'munteanu': 6483, 'woopty': 9811, 'ohhhh': 6775, 'myyyyyy': 6506, 'daayyzzzzz': 3191, 'öong': 10100, 'deserve': 3371, 'whoever': 9706, 'reading': 7583, 'pray': 7316, 'whatever': 9676, 'worrying': 9824, 'fantastic': 4008, 'leopard': 5797, 'print': 7366, 'bundah': 2423, 'lord': 6025, 'mercy': 6290, 'apart': 1707, 'tops': 9083, 'yellow': 9960, '2m17s': 677, 'bismellah': 2159, 'differentttttt': 3422, 'members': 6266, 'poeple': 7242, 'psychiatric': 7431, 'hospital': 5142, 'five': 4240, 'plzzz': 7231, 'ik': 5262, 'boats': 2216, 'fav': 4040, 'line': 5879, 'leg': 5769, 'guitar': 4758, '16m06s': 159, '16': 154, 'merch': 6288, 'lt': 6055, 'shes': 8089, 'sign': 8196, 'fianlyyyyy': 4106, 'freaky': 4359, '24m14s': 573, '14': 117, 'cracked': 3037, '16m08s': 161, 'τυπάς': 10107, 'είπε': 10103, 'μαλακες': 10105, 'είναι': 10102, 'ιδέα': 10104, 'μου': 10106, 'yessss': 9973, 'almost': 1617, '26m14s': 608, 'guests': 4755, 'speaks': 8442, 'point': 7244, 'freak': 4352, 'sooooooooooooooooo': 8412, 'funyyyyyyyyyyyyyyyyy': 4446, 'haaaaaaaaaaaaaaaaa': 4789, 'haaaaaaaaaaaa': 4788, 'production': 7384, 'fare': 4011, 'social': 8369, 'nearly': 6560, 'jane': 5482, 'jesus': 5508, 'hom': 5103, 'letssss': 5826, 'goooooo': 4665, 'absloloutely': 1439, 'nailed': 6528, '500': 1141, 'alone': 1618, 'tooo': 9068, 'op': 6852, 'mahnn': 6122, 'goddamnnitt': 4625, 'away': 1853, '3zrgeppq8': 918, 'emotion': 3760, 'oml': 6810, 'simply': 8225, 'summed': 8693, 'fillllyyyyyyy': 4155, 'correct': 2999, 'sooooo': 8405, 'baddddd': 1919, 'cos': 3004, 'cringeeeee': 3095, 'human': 5183, 'somewhere': 8393, 'abuse': 1447, 'replacing': 7694, 'jack': 5468, 'fowler': 4344, 'thesssss': 8913, 'superstar': 8709, 'clout': 2781, 'chaser': 2626, '1m21s': 404, 'fily': 4191, 'ay': 1870, 'smoke': 8323, '3rd': 916, 'brooooo': 2347, 'goo': 4648, 'disgust': 3476, 'kumalala': 5683, 'sa': 7869, 'ne': 6558, '052': 15, 'hugs': 5178, 'gooo': 4659, 'rely': 7667, 'homie': 5108, 'fillllllyyyyy': 4147, 'min': 6339, 'gang': 4485, 'billiom': 2139, 'naw': 6553, 'semi': 8023, 'permanent': 7070, 'slot': 8297, '6m41s': 1321, '41': 927, '30m24s': 721, '80': 1348, 'selina': 8017, 'poo': 7257, 'disappear': 3458, 'held': 4987, '52m18s': 1192, 'amirite': 1649, 'fellas': 4082, 'monika': 6412, 'jus': 5579, 'tall': 8790, 'true': 9173, 'notch': 6679, '2m03s': 675, '03': 8, 'beside': 2090, '18m30s': 216, 'virus': 9512, '1h05m02s': 311, '02': 7, 'viral': 9508, 'sounds': 8426, 'tom': 9053, 'jerry': 5505, 'role': 7811, 'quick': 7498, 'unleash': 9309, 'character': 2610, 'delivered': 3341, '20vs': 475, 'clicked': 2758, 'fats': 4038, 'b4z': 1894, 'fillllleeyyyy': 4142, 'allowed': 1613, 'send': 8026, 'monclear': 6407, 'jumper': 5573, 'def': 3315, 'leave': 5760, 'backkkkkkkk': 1909, 'matched': 6199, 'nft': 6608, 'yess': 9966, 'middle': 6313, '37minutes': 865, 'sadge': 7874, '1m58s': 414, 'loving': 6045, 'night': 6625, 'everyday': 3886, 'either': 3714, 'breed': 2318, 'ya': 9888, 'subscribed': 8651, 'shouting': 8140, 'pretty': 7353, 'brave': 2299, 'beast': 2028, 'sitting': 8247, '48m55s': 1090, 'dropped': 3590, 'shooting': 8124, 'ooooo': 6845, 'fillllyyyy': 4153, 'uses': 9385, 'fulfil': 4418, 'fantasies': 4007, '58m44s': 1253, '44': 966, 'lazars': 5743, 'beams': 2022, 'sis': 8241, 'green': 4726, 'wicket': 9722, 'tattoos': 8816, 'wildin': 9740, 'filter': 4189, 'mintues': 6353, 'seconds': 7986, 'chunk': 2703, 'brown': 2359, 'legs': 5783, 'guyyyss': 4769, 'soon': 8400, '1d': 245, 'sounded': 8424, 'historical': 5070, 'liking': 5869, 'tommyinnit': 9058, 'main': 6126, 'srsly': 8507, 'silly': 8211, 'leo': 5796, 'reached': 7573, 'near': 6559, 'taking': 8776, 'uhhhhhh': 9242, 'ummmmmmm': 9257, '1h00m37s': 260, 'emily': 3756, 'willis': 9746, 'init': 5348, 'mums': 6481, 'lilac': 5872, 'fgs': 4101, 'unecessary': 9289, 'ggggg': 4554, 'fvcking': 4454, 'unbelievable': 9266, 'wifey': 9729, 'mental': 6278, 'smoooooth': 8331, '1h09m28s': 362, 'zip': 10084, 'wildly': 9742, 'ear': 3648, 'frezzy': 4373, 'nextt': 6603, 'boxing': 2277, 'tournament': 9099, 'versus': 9423, 'jumped': 5572, 'launch': 5734, 'shelf': 8084, 'bed': 2046, 'sed': 7994, 'loud': 6034, 'safely': 7877, 'nowww': 6699, 'youtuber': 10047, 'viewers': 9474, 'vybz': 9535, 'bredda': 2317, 'yh': 9998, 'szn': 8760, 'sniffs': 8356, 'seat': 7980, 'slightly': 8294, 'confused': 2932, 'tunde': 9190, 'traumatising': 9131, 'ppl': 7306, '48m51s': 1087, 'questioning': 7496, 'red': 7626, 'alarms': 1585, 'controversial': 2977, 'groups': 4739, 'world': 9821, 'chemistry': 2648, 'banging': 1975, 'relate': 7655, 'duo': 3628, 'faster': 4031, 'math': 6206, 'problem': 7375, 'ayoooo': 1879, 'fck': 4055, '48m00s': 1070, 'nevertheless': 6599, 'gdamn': 4512, 'bil': 2135, 'waffling': 9551, '39m35s': 898, 'milli': 6328, 'fights': 4115, 'row': 7839, 'convinced': 2982, 'easy': 3668, 'foot': 4309, 'freeze': 4366, 'ice': 5227, 'cream': 3060, 'mn': 6383, 'gettin': 4549, 'hmmmm': 5084, 'fillus': 4169, 'deposit': 3359, 'range': 7541, 'mum': 6480, 'dad': 3193, 'vio': 9496, 'destoryed': 3385, 'recovery': 7621, 'algarve': 1594, 'exchange': 3911, 'poop': 7259, 'liar': 5845, 'interest': 5392, 'activity': 1472, 'nose': 6675, 'plugs': 7227, 'goggles': 4637, 'sort': 8418, 'guard': 4748, '10k': 58, 'reasonable': 7602, 'facial': 3975, 'protection': 7418, 'persuaded': 7085, '100k': 41, 'provided': 7425, 'puke': 7442, 'bruhv': 2371, 'joy': 5559, 'brain': 2293, 'laughs': 5729, 'tv': 9206, 'phil': 7106, 'firmed': 4233, 'farrrr': 4016, 'lmaoooo': 5931, 'binley': 2152, 'mega': 6255, 'chippies': 2671, '15m50s': 145, 'loves': 6044, '1h07m55s': 339, '07': 20, 'impression': 5296, 'fell': 4080, 'ur': 9373, 'smahed': 8305, 'stayed': 8540, 'prob': 7372, 'mateee': 6203, 'follow': 4296, 'collaboration': 2818, 'sub': 8640, 'ladies': 5693, 'gentlemen': 4534, 'example': 3903, 'crime': 3087, 'colourised': 2838, '15m52s': 147, 'harassment': 4895, 'marmite': 6178, '9m54s': 1389, 'thinkin': 8933, 'shorty': 8133, 'tats': 8808, 'killer': 5626, '1h08m51s': 355, 'craziest': 3049, 'crush': 3118, 'banter': 1983, 'sidesquad': 8186, 'killing': 5628, 'meeeeeee': 6247, 'calling': 2470, 'kiwi': 5652, 'ooooooof': 6846, 'subbed': 8641, 'alright': 1627, 'gangster': 4486, '17m50s': 203, '22m55s': 514, '34m03s': 781, '1h05m00s': 310, 'challenges': 2593, 'plan': 7179, 'tasks': 8802, 'dry': 3598, '45m45s': 993, 'yoooo': 10017, 'hype': 5215, 'pay': 7014, 'hearing': 4959, 'enough': 3797, 'slim': 8295, 'badly': 1924, 'old': 6787, 'days': 3263, 'means': 6232, 'dub': 3603, 'suddenly': 8674, '99': 1375, 'unbeatable': 9264, 'agree': 1535, 'generations': 4528, 'tubers': 9187, 'ded': 3303, 'week': 9639, 'became': 2037, '2007': 431, 'perfected': 7053, 'art': 1769, '1h08m36s': 352, 'protect': 7415, 'ban': 1953, 'gravenberch': 4718, '43m50s': 958, 'clock': 2768, 'crazyyyy': 3054, 'lad': 5691, 'yew': 9994, 'madness': 6113, 'tobis': 9038, 'drip': 3583, 'super': 8707, 'fk': 4244, '1h02m24s': 283, 'meet': 6252, 'prolly': 7395, 'hardly': 4900, 'input': 5358, '23justiceforsidhumoosewala': 531, 'justiceforsidhumoosewala': 5583, 'trainers': 9118, 'flower': 4275, 'appeared': 1723, '8m10s': 1355, 'queen': 7491, 'phone': 7119, 'blessed': 2182, 'missy': 6370, 'choice': 2682, 'is': 5435, 'mind': 6340, 'savage': 7915, '50m12s': 1154, 'vu': 9533, '18m10s': 209, 'dare': 3239, 'jeesh': 5499, 'gunna': 4761, '24m56s': 582, 'jit': 5525, 'smelled': 8313, 'died': 3411, 'pınero': 7480, 'expect': 3929, 'bless': 2181, 'fillyyy': 4178, 'himmm': 5064, 'sniffed': 8349, 'gotten': 4691, 'bots': 2263, 'em': 3738, 'vile': 9489, 'sniffiin': 8352, 'cousin': 3026, 'walks': 9574, 'lmaooooo': 5932, 'uncomfortable': 9274, 'ck': 2719, 'do': 3507, 'staged': 8514, 'least': 5758, 'recover': 7618, 'notification': 6691, 'fast': 4030, 'deji': 3335, 'fella': 4081, '8m24s': 1365, 'slew': 8291, 'scripting': 7967, 'hasnt': 4922, '24hours': 569, 'decade': 3291, 'evil': 3895, 'vieeeewss': 9469, 'baaaalamori': 1896, 'obviously': 6746, 'rather': 7562, '30m16s': 719, 'yawning': 9911, 'twice': 9211, 'deeeeead': 3307, 'names': 6532, 'forgot': 4327, 'tag': 8766, 'shawtys': 8074, 'replace': 7692, 'dudes': 3614, 'mofo': 6392, 'itttt': 5456, 'yourseif': 10039, 'power': 7300, 'talked': 8784, 'wise': 9762, '1m24s': 406, 'weirdest': 9648, 'sheet': 8081, 'earlyyyy': 3653, 'slots': 8298, 'doubt': 3553, 'ylo': 10005, 'pausinnnnnn': 7013, 'highest': 5051, 'viewed': 9472, '47m50s': 1065, 'sweet': 8741, 'ignore': 5255, 'farted': 4020, 'twise': 9213, 'leaving': 5762, '50m38s': 1168, 'street': 8599, 'damm': 3203, '6m21s': 1308, 'serious': 8041, 'tryna': 9181, 'ed': 3676, 'remember': 7671, 'commented': 2864, 'zerkas': 10075, 'post': 7284, 'trailer': 9116, 'open': 6853, 'mans': 6161, 'haunting': 4932, 'sleep': 8288, 'willy': 9747, 'piss': 7164, '16m': 155, 'veterinary': 9428, 'bangs': 1977, 'cancelled': 2492, 'total': 9090, 'liiit': 5862, 'lying': 6070, 'joined': 5539, '1h10m45s': 372, 'funeral': 4429, 'uhm': 9243, 'must': 6493, 'bideo': 2125, 'expected': 3931, 'heck': 4971, 'nico': 6619, 'prank': 7313, 'inaudible': 5307, 'lmfaoo': 5942, 'ayyyyy': 1887, '25m59s': 594, '59': 1255, 'ıs': 10101, 'craze': 3047, 'meraba': 6287, 'yt': 10054, 'embodiment': 3751, 'unmatched': 9316, '29m10s': 656, 'round': 7838, 'applause': 1725, 'situation': 8248, 'cuddling': 3135, '16m07s': 160, 'follower': 4297, 'yoo': 10014, '15m00s': 133, 'taaaallll': 8764, '4m21s': 1127, 'any': 1688, 'starring': 8525, '49m59s': 1113, 'cals': 2476, 'instant': 5373, 'classic': 2740, '37m12s': 851, 'ohh': 6773, 'cares': 2521, 'episodes': 3826, 'special': 8443, 'vickram': 9443, 'asked': 1780, 'spanked': 8433, 'faygo': 4049, 'dumb': 3620, 'creators': 3073, 'geezus': 4521, 'cleo': 2754, 'wanting': 9583, 'dsee': 3600, 'lesss': 5813, 'movin': 6457, 'looooose': 6014, 'tooooo': 9070, 'lavender': 5739, 'gorl': 4681, '19m52s': 241, 'tha': 8875, 'dated': 3252, '1h00m45s': 263, 'king': 5639, 'waffle': 9550, 'laptop': 5711, 'lmaoooooo': 5933, 'maaad': 6086, '46m47s': 1030, 'focking': 4288, 'madnesss': 6114, 'holding': 5093, 'standup': 8522, 'lap': 5709, 'deadass': 3278, 'finalyyyyyyyyyyyyyy': 4199, 'shenseea': 8088, 'weakkk': 9630, '1mil': 416, 'screamed': 7957, 'funnyy': 4442, 'xdxd': 9878, 'whileee': 9693, 'unspoken': 9332, 'loooooool': 6012, 'puts': 7476, 'empirical': 3764, 'proof': 7407, 'prefer': 7329, 'wonderful': 9797, 'dirty': 3454, 'comfortable': 2854, 'compared': 2884, 'normal': 6669, 'legends': 5777, 'discount': 3469, 'code': 2800, 'aged': 1527, 'past': 7000, 'comes': 2850, '23m18s': 547, 'vikks': 9482, 'geniusssss': 4530, '31m40s': 734, '31': 730, 'google': 4657, 'forms': 4331, 'slick': 8292, 'longer': 5990, 'woods': 9803, '18m50s': 220, 'everrr': 3879, 'besttttttttt': 2099, 'family': 4001, 'woaaahhhhhh': 9782, 'hugging': 5176, 'deeeeeeeeep': 3309, 'yall': 9899, 'mood': 6420, 'swing': 8747, 'chill': 2663, 'dammit': 3205, 'shhhhssshshs': 8090, '6m23s': 1310, 'illegal': 5268, 'hoe': 5090, '17m41s': 201, 'behavior': 2065, 'tatted': 8809, 'lesgo': 5804, 'finlly': 4215, 'hub': 5171, 'popular': 7269, 'demand': 3346, '55m08s': 1229, 'digest': 3428, 'everytime': 3891, 'cantttt': 2503, 'danny': 3230, 'aaron': 1423, 'asian': 1776, '17m26s': 189, 'shallow': 8064, '8m18s': 1360, 'disre': 3487, 'spectrum': 8453, 'likes': 5868, 'meady': 6229, 'hahahahahaha': 4822, 'dinner': 3441, 'singular': 8235, 'jay': 5490, 'swingler': 8748, 'rommel': 7824, 'luke': 6061, 'pafume': 6943, 'pinky': 7160, 'promise': 7396, 'downs': 3566, '40m34s': 924, '40m48s': 926, 'looorrddd': 6016, 'mention': 6282, 'makeup': 6137, 'blind': 2184, '48m09s': 1073, 'carmella': 2523, 'veronica': 9415, 'waisting': 9555, 'fillyyyyy': 4180, 'gassed': 4499, 'certified': 2582, 'apparently': 1720, 'harder': 4898, 'key': 5614, 'exam': 3902, 'miserable': 6359, 'inviting': 5421, '28m10s': 637, '22m50s': 513, 'meme': 6269, '23m03s': 536, 'format': 4330, 'wit': 9768, 'sirrrrr': 8240, 'struggle': 8612, 'bruva': 2383, 'tattood': 8813, 'mazzalini': 6223, 'consept': 2944, 'someon': 8386, 'sht': 8157, 'arab': 1740, 'ten': 8854, 'lick': 5848, '37m14s': 852, 'maw': 6216, 'walker': 9571, 'callum': 2472, 'among': 1652, 'bits': 2167, 'bullshit': 2415, 'greek': 4725, 'trends': 9148, '46m50s': 1033, 'shi': 8092, 'helloooooo': 4995, 'safe': 7876, 'it': 5450, 'choked': 2684, 'lookin': 5999, 'juicy': 5569, 'cop': 2990, '1h10m08s': 367, 'contestant': 2960, 'bangerrrr': 1965, '8m12s': 1356, 'fans': 4006, 'wolves': 9787, 'season': 7978, 'log': 5969, 'brainier': 2294, 'boundaries': 2269, 'kevin': 5613, 'eyyyyu': 3961, 'filiii': 4121, 'innit': 5354, 'relentless': 7662, 'deserving': 3374, '13m45s': 115, 'chane': 2600, 'throw': 8964, 'punch': 7452, 'shown': 8150, 'treat': 9137, 'dancing': 3224, 'doodoo': 3542, 'yay': 9914, 'tuning': 9193, 'in': 5303, '14m45s': 125, 'forfeits': 4322, 'slaps': 8280, 'san': 7894, 'diego': 3413, 'california': 2466, 'usa': 9379, 'epico': 3822, 'barking': 1996, 'closes': 2774, 'eyes': 3957, 'move': 6451, 'promised': 7397, 'pm': 7235, '48m21s': 1076, 'inside': 5365, 'sofa': 8374, '45m10s': 982, 'weighing': 9645, '150': 130, 'pounds': 7297, 'member': 6265, 'irl': 5428, 'rude': 7849, '38m14s': 870, 'ruthless': 7865, 'selling': 8020, 'dope': 3547, 'thiissss': 8926, 'oneee': 6817, 'attempt': 1818, 'cause': 2557, 'be4': 2020, '15m': 132, '9m': 1377, 'wondering': 9798, 'logan': 5970, 'paul': 7009, 'guyyyy': 4770, 'leeeegend': 5765, 'irrelevant': 5432, 'dark': 3242, 'hs': 5164, 'sdmn': 7969, 'mains': 6128, 'dominated': 3529, 'nexttt': 6604, 'yesss': 9971, 'yeaaaahhhhhh': 9922, 'mannnnnnn': 6160, 'happened': 4887, 'budget': 2401, 'megan': 6257, 'fox': 4345, 'hacker': 4799, 'diogo': 3445, 'disse': 3492, 'discord': 3468, 'que': 7490, 'fazia': 4052, 'ceebeebies': 2562, 'onere': 6818, 'ahahahhahahahahha': 1557, 'lokw': 5978, 'snifff': 8351, 'list': 5892, 'apply': 1728, 'tarmacking': 8800, 'consider': 2945, '1h03m49s': 295, 'guh': 4757, '34m50s': 802, 'leng': 5789, '50m13s': 1155, 'final': 4192, 'ad': 1482, 'gains': 4472, 'nawwww': 6555, 'thinking': 8934, 'speechless': 8455, 'throughout': 8963, 'before': 2054, 'ways': 9621, 'sits': 8245, 'ghosted': 4562, 'style': 8634, 'showing': 8148, 'authority': 1838, 'soul': 8421, 'yeaaah': 9924, 'reason': 7601, 'commit': 2871, 'sucid': 8670, 'waited': 9557, 'potential': 7291, 'stand': 8516, 'comedian': 2847, '1m18s': 401, 'cypriot': 3173, 'kicks': 5621, '6m26s': 1313, 'hang': 4879, 'truely': 9174, 'moist': 6393, 'technically': 8837, 'northern': 6674, '20m53s': 466, 'react': 7575, 'collabs': 2820, 'suggestions': 8681, 'yous': 10042, 'tingg': 9015, 'leaves': 5761, '27m53s': 628, 'expecting': 3932, 'assignment': 1790, '1m25s': 407, 'numb': 6711, 'he': 4942, 'unbelievably': 9267, 'aloud': 1624, '17m20s': 185, 'clipped': 2764, 'grinch': 4732, 'esteemed': 3854, 'narration': 6537, '50m07s': 1150, 'harlow': 4903, 'yesyesyesyes': 9989, '8m17s': 1359, 'huuuuuuuuu': 5207, 'yesssssssssssssss': 9983, 'letsssssssss': 5828, 'gooooooooooo': 4674, 'surely': 8714, 'managed': 6147, 'present': 7341, 'matter': 6210, 'shiih': 8098, 'failing': 3981, 'build': 2406, 'luv': 6066, 'alive': 1605, 'brkwkbssnndbsjskdjjd': 2335, 'embarasment': 3739, '48m53s': 1089, 'horrible': 5135, 'oof': 6837, 'billy': 2147, 'billions': 2144, 'whatchu': 9675, 'random': 7538, 'subscriber': 8652, 'spar': 8435, 'beaten': 2031, '55m07s': 1228, 'literately': 5903, 'itch': 5452, 'throat': 8960, 'laggin': 5696, 'multiple': 6478, '1h04m03s': 303, 'lives': 5918, 'pineapple': 7145, 'tree': 9142, 'judging': 5565, 'attire': 1822, 'imaginable': 5276, 'ironically': 5430, 'reversed': 7744, 'videoo': 9454, 'overtake': 6923, 'eminem': 3757, 'lmaoi': 5928, '16m00s': 156, 'missing': 6367, 'chances': 2599, 'forget': 4323, 'add': 1485, 'thesee': 8910, 'no': 6637, 'pinkflaps': 7157, 'opening': 6855, 'timeeee': 9002, 'sees': 8005, 'theyll': 8915, 'enjoy': 3787, '46m51s': 1034, 'mo': 6384, 'omd': 6792, 'risk': 7779, 'hahaahhaha': 4805, 'gary': 4493, 'payton': 7021, 'jr': 5560, 'warriors': 9591, '11m00s': 94, 'sideprofile': 8184, 'bruddah': 2365, 'frontview': 4391, 'skyrocket': 8266, 'troll': 9163, 'fours': 4342, 'fur': 4447, 'invalid': 5413, 'zcsafez': 10073, 'del': 3337, 'hermosa': 5009, 'elección': 3719, 'javnippon': 5488, 'los': 6027, 'mejores': 6262, 'conciertos': 2914, '22m22s': 502, 'senada': 8024, 'hermoso': 5010, 'hotter': 5147, 'hopi': 5130, 'sweeter': 8743, 'yoongi': 10015, 'butter': 2446, 'amor': 1654, 'momentos': 6400, 'alfiora': 1592, 'preety': 7328, 'alana': 1584, 'joonie': 5552, 'cooler': 2987, 'son': 8397, 'unos': 9321, 'puede': 7441, 'ir': 5427, 'pero': 7072, 'solo': 8381, 'verlos': 9414, 'desde': 3368, 'pantalla': 6963, 'se': 7970, 'estuvo': 3856, 'sorprendente': 8416, 'zifn': 10081, '15m55s': 148, 'treats': 9141, 'unbeaten': 9265, 'ooooh': 6844, 'teasing': 8834, 'noty': 6694, 'seem': 8000, 'mfs': 6305, 'performing': 7062, '57m30s': 1244, '57': 1238, 'goin': 4638, 'selfridges': 8015, '20m58s': 468, 'embarrassed': 3745, 'godamm': 4620, '7m56s': 1345, 'gave': 4507, 'ick': 5230, 'toped': 9077, 'accent': 1450, 'chuncks': 2702, 'pick': 7125, 'disgusted': 3477, 'cured': 3144, 'depression': 3361, 'witnessed': 9774, 'dwl': 3635, 'ye': 9917, 'gim': 4577, 'niqa': 6631, 'ahahhahaa': 1560, 'button': 2449, '9m38s': 1385, '47m31s': 1060, '40m04s': 921, 'mariah': 6172, 'carey': 2522, 'fillia': 4135, 'gooddd': 4650, 'strive': 8607, 'addition': 1488, 'sabotage': 7871, 'sweater': 8738, 'aside': 1778, 'bloody': 2195, 'goes': 4636, 'unhealthy': 9296, '23m44s': 555, '43m49s': 957, 'miss': 6364, 'sooooooooooo': 8411, 'ayyoo': 1884, 'blow': 2197, 'mark': 6174, 'optics': 6866, 'sus': 8724, 'slowed': 8300, '25x': 596, 'infamous': 5332, 'movie': 6455, 'heroine': 5013, 'shoots': 8125, 'villain': 9491, 'shots': 8135, 'screaming': 7958, 'foe': 4291, '52m11s': 1187, 'massive': 6192, 'immaculate': 5280, 'born': 2256, 'channels': 2607, 'quagmire': 7483, 'harryl': 4912, 'enjoying': 3791, 'cherry': 2650, 'apologizing': 1716, 'pulls': 7447, 'honesty': 5115, 'humour': 5193, 'joseph': 5557, 'yaaaawwd': 9892, 'youth': 10044, 'embarassment': 3742, 'charlie': 2619, 'jacks': 5472, 'toms': 9061, 'for': 4314, 'mvp': 6499, 'woulda': 9830, 'werent': 9655, 'complaining': 2891, 'ayyy': 1885, 'trending': 9147, 'uploaded': 9355, 'somebody': 8382, 'eye': 3954, 'tracker': 9107, '2m50s': 695, 'clothing': 2779, 'drops': 3592, 'birthday': 2156, '4m28s': 1128, 'breadddddd': 2306, 'german': 4542, 'meningitis': 6276, '663': 1292, 'bf': 2114, 'parts': 6992, 'physically': 7123, 'bruhh': 2367, 'harrow': 4907, 'mentioned': 6283, '6m22s': 1309, 'nahhhh': 6523, '8m15s': 1358, 'player': 7194, 'shift': 8095, 'uncle': 9273, 'hold': 5092, 'punched': 7453, '5k': 1262, 'consistently': 2949, 'fave': 4041, 'proper': 7409, 'gyat': 4781, 'match': 6198, 'lesssgoooo': 5814, 'living': 5920, 'page': 6944, 'zipped': 10085, 'awkwardly': 1864, 'taken': 8773, 'basically': 2002, 'catfish': 2555, 'joking': 5550, 'afterwards': 1523, 'generally': 4525, 'strangers': 8592, 'missed': 6365, 'wowwwwwwwwwwww': 9839, 'reminded': 7675, 'yoh': 10011, 'diseases': 3473, 'bast': 2007, 'od': 6748, '3m09s': 906, 'exactly': 3901, 'used': 9382, 'armpits': 1760, 'inna': 5352, 'looool': 6007, 'eliiiteeeeeee': 3723, 'coz': 3031, 'par': 6966, 'chunkzzzzz': 2711, 'jaring': 5485, 'untill': 9343, 'someones': 8389, 'clocks': 2770, 'seriously': 8042, 'ayy': 1882, 'carries': 2529, 'filllyyy': 4161, 'filllyyyyy': 4163, 'familiar': 4000, 'genius': 4529, 'onm': 6829, 'hblackk': 4940, 'pll': 7218, 'nowaddayys': 6698, '49m12s': 1098, 'everyones': 3888, 'shifted': 8096, 'outta': 6907, 'pocket': 7240, 'taught': 8819, '600k': 1287, 'composed': 2898, 'omgggggg': 6807, 'amazeeeeee': 1638, 'bubdaa': 2398, 'thooooooooo': 8950, 'astonishing': 1803, 'me': 6227, 'wood': 9802, 'emberassment': 3749, '69th': 1296, 'ws': 9849, 'somehow': 8385, 'charts': 2624, 'education': 3689, 'trauma': 9128, 'altogether': 1631, 'memes': 6270, 'omggggg': 6806, 'non': 6650, 'bussin': 2441, 'sup': 8706, 'smell': 8311, 'tweaking': 9208, 'prinero': 7365, '49m58s': 1112, 'ghahahahah': 4558, 'attraction': 1825, '34m43s': 797, 'types': 9223, 'conjure': 2938, 'blur': 2208, 'include': 5311, 'knowledge': 5666, 'juxtaposition': 5585, 'gentelman': 4532, 'broww': 2360, '50m16s': 1158, '34m30s': 787, '32m13s': 743, 'sweating': 8739, 'finding': 4201, 'easier': 3665, 'place': 7176, 'nyash': 6728, '50m46s': 1171, '47m10s': 1046, 'theo': 8900, 'traumatized': 9132, 'thu': 8972, '8m20s': 1362, 'gives': 4590, 'starts': 8531, 'dese': 3369, 'bilion': 2136, 'waaaaatch': 9540, 'aaaaaaaaaaaa': 1414, 'unlucky': 9314, 'lead': 5747, 'slapping': 8276, 'sentence': 8033, 'mercyy': 6291, 'dancer': 3222, 'calluxs': 2474, '30m40s': 725, 'ssy': 8510, 'flapss': 4255, 'exposure': 3943, '17m40s': 200, 'revenge': 7740, '1m20s': 403, 'whilst': 9695, 'planet': 7180, 'phily': 7118, 'agrees': 1539, 'max': 6217, 'legenddddary': 5776, '21m12s': 482, '50m28s': 1165, 'film': 4185, 'deep': 3310, 'realise': 7589, 'floral': 4274, 'couple': 3023, 'months': 6418, '0m25s': 28, 'stopped': 8579, 'searched': 7977, 'subscribing': 8657, 'scantily': 7935, 'clad': 2725, '10million': 83, '20bil': 443, 'fil': 4120, 'gd': 4511, 'lmfaooooooooooooooooo': 5952, 'plssss': 7223, 'copped': 2993, 'girlfriend': 4580, 'cking': 2722, 'christ': 2693, 'insulting': 5381, 'was': 9593, 'whenss': 9686, 'untouchable': 9345, 'influencer': 5337, 'raised': 7530, 'biggup': 2131, 'brudda': 2364, '900': 1371, 'kom': 5672, '10m07s': 62, 'pants': 6964, '3m50s': 910, '45m57s': 1002, 'brutal': 2374, 'needa': 6569, 'upppppp': 9364, '20m00s': 445, 'pf': 7094, 'respectful': 7722, '2012': 434, '2013': 435, 'loveeeeeeee': 6041, 'smart': 8307, 'clever': 2755, '17m55s': 204, 'refreshed': 7637, 'baker': 1938, 'pinaro': 7143, 'pleaseeeee': 7205, 'istg': 5449, 'changes': 2603, 'gorrila': 4682, 'glue': 4599, 'hairspray': 4855, 'oblivion': 6741, 'anywhere': 1704, '21m17s': 485, 'offender': 6756, 'champion': 2595, '53m25s': 1209, '52m00s': 1183, 'taher': 8768, '15m08s': 135, 'behaviour': 2066, '0k': 25, 'aš': 1892, 'gejus': 4522, '1st': 423, 'baddie': 1921, 'alexander': 1590, 'mcqueen': 6225, 'cardigan': 2516, 'fireeee': 4229, 'forced': 4316, 'headphones': 4948, 'wtfffffff': 9857, 'tommyinit': 9057, 'hood': 5119, 'mixed': 6377, 'picky': 7131, '35m24s': 811, 'beatiful': 2032, 're': 7570, 'womens': 9794, '32m31s': 746, 'carrying': 2533, 'convo': 2984, 'trynna': 9182, 'lose': 6028, 'folly': 4300, 'eliteeee': 3728, '17m39s': 199, 'happend': 4886, 'hgahahah': 5027, '50m33s': 1167, '1h00m47s': 264, '31m30s': 733, 'ammunition': 1651, 'payday': 7016, 'chads': 2586, 'ah': 1541, 'ivs': 5463, 'noticed': 6688, 'curling': 3149, 'omds': 6795, 'act': 1464, 'certain': 2579, '1h05m11s': 316, 'wiping': 9761, 'corn': 2995, 'anydays': 1693, 'sm': 8302, 'ab': 1426, 'spicyyy': 8466, 'difference': 3419, 'chance': 2598, 'audacity': 1827, 'acc': 1449, 'upset': 9368, '47m13s': 1047, 'totally': 9092, 'freaking': 4355, '9m56s': 1390, 'mr': 6464, 'bean': 2023, 'lost': 6031, 'daughter': 3256, 'definetly': 3325, 'nix': 6632, 'swipe': 8749, 'con': 2904, 'simple': 8223, 'backroom': 1912, 'english': 3785, 'summers': 8695, 'summer': 8694, 'collections': 2822, 'hoodies': 5121, 'brotha': 2354, 'hook': 5122, 'double': 3552, 'mac': 6098, 'neighbours': 6587, 'island': 5441, 'aware': 1851, 'flavor': 4259, 'coarse': 2793, 'earpiece': 3660, 'mates': 6205, '17m': 179, 'suii': 8684, 'si': 8164, 'youngfilly': 10035, 'south': 8428, 'feature': 4062, '25m06s': 587, 'strength': 8601, 'deadly': 3283, 'combination': 2841, 'wwww': 9864, 'jsnsnwbs': 5561, 'naaah': 6513, 'definately': 3324, 'videooo': 9455, 'his': 5068, 'proved': 7422, 'pull': 7443, '1h03m53s': 298, 'xjmnezqioma': 9882, 'thirsty': 8939, 'thoo': 8949, 'cringy': 3102, 'overreactions': 6921, 'folabi': 4294, 'staying': 8541, 'timee': 9001, 'dejiiiii': 3336, 'scared': 7937, 'spain': 8430, 'offered': 6759, '2k': 670, 'besttttt': 2097, 'nhhh': 6612, 'towards': 9101, 'maddd': 6102, '23m00s': 534, 'pleaseeeeeendo': 7209, 'tinderrrr': 9012, 'filllyyyy': 4162, 'steel': 8547, 'proves': 7424, 'fear': 4059, 'stephan': 8550, 'misspelled': 6369, 'bar': 1985, 'covid': 3029, 'sidehub': 8174, 'den': 3354, 'smoking': 8327, '6min': 1325, 'hv': 5208, 'mf': 6304, 'filmed': 4186, 'regularly': 7650, 'yessssss': 9976, 'step': 8549, 'heard': 4957, 'awhile': 1860, 'worse': 9825, '37m04s': 849, 'write': 9842, 'devious': 3396, 'working': 9818, 'out': 6889, 'letting': 5830, '20m56s': 467, 'charismatic': 2616, 'sales': 7882, 'rocketing': 7805, 'mess': 6297, 'yett': 9991, 'kunta': 5684, 'kinte': 5646, 'hesitation': 5019, '10bn': 55, 'lightwork': 5858, 'jokesss': 5548, 'married': 6180, 'business': 2438, 'dam': 3200, 'crew': 3081, 'pffft': 7096, 'breakfast': 2310, 'tea': 8825, 'loyal': 6053, 'adore': 1500, 'summarise': 8692, '48m48s': 1084, 'limits': 5876, 'cambodia': 2479, '48m01s': 1071, '01': 3, '10bill': 50, 'couch': 3009, 'besides': 2091, 'diors': 3447, 'bismillah': 2161, 'wheres': 9688, 'charity': 2617, 'shorter': 8131, 'stoned': 8574, 'ent': 3798, '1h11m20s': 382, 'educate': 3688, 'generation': 4526, 'changed': 2602, 'trio': 9159, '20m37s': 458, 'europe': 3865, 'recycling': 7625, 'concepts': 2908, 'lungs': 6065, 'melt': 6263, 'ohilly': 6778, 'culture': 3139, '3333': 756, '2m20s': 679, 'hoes': 5091, '50m08s': 1151, 'kissing': 5651, 'pranks': 7315, 'fkng': 4249, 'nutss': 6720, 'hahahahahhahahahaa': 4832, 'trust': 9176, 'cells': 2570, 'dumbest': 3621, 'forgetting': 4325, 'envy': 3818, 'charm': 2620, 'allow': 1612, 'marry': 6181, '51m05s': 1176, 'outro': 6902, 'song': 8398, 'realest': 7588, 'poker': 7247, 'cameras': 2486, 'cards': 2517, 'pokerstars': 7248, 'professional': 7385, 'dealer': 3286, 'standing': 8520, 'brutally': 2375, 'template': 8853, '57m51s': 1245, 'harryp': 4913, 'armpit': 1759, 'national': 6542, 'treasure': 9136, 'shitted': 8111, 'sir': 8239, 'whaaat': 9665, 'herbs': 5002, 'illness': 5269, 'injection': 5349, 'cure': 3143, 'importance': 5288, 'testimonies': 8865, 'online': 6826, 'herpes': 5015, 'hiv': 5077, 'diabetics': 3399, 'cancer': 2494, 'dr': 3569, 'herbal': 5001, 'medicine': 6240, 'decided': 3297, 'contact': 2951, 'nature': 6547, 'heal': 4952, 'diagnosed': 3400, 'omemna': 6798, 'referred': 7633, 'aunt': 1833, 'husband': 5205, 'immediately': 5283, 'interfering': 5396, 'purposely': 7464, 'ask': 1779, 'unnecessary': 9319, 'jubilee': 5562, 'celebrating': 2563, 'england': 3784, 'cup': 3140, 'ref': 7631, 'offside': 6768, 'édition': 10097, 'ayee': 1872, 'happiness': 4892, 'positive': 7277, 'attitude': 1823, 'shocked': 8116, 'bottom': 2266, 'consideration': 2946, 'propz': 7413, 'ftw': 4400, 'horribly': 5136, 'fark': 4013, 'deliver': 3340, 'too': 9066, 'flirt': 4268, 'versatile': 9418, 'reacting': 7577, 'panero': 6962, 'thn': 8947, 'sharkz': 8071, '47th': 1067, 'problematic': 7376, 'eventful': 3874, 'phub': 7121, 'rewatch': 7748, 'shy': 8163, 'try': 9178, 'killinggg': 5629, 'uplifting': 9353, 'talent': 8779, 'levels': 5833, 'laughhhhed': 5726, 'pleaseeeeeedd': 7207, 'army': 1762, 'thign': 8922, 'personified': 7081, 'kenny': 5609, '20m46s': 463, '20k': 444, '46m30s': 1019, 'joining': 5540, 'crazzzyyy': 3059, 'shiii': 8100, 'japan': 5484, 'transplant': 9124, 'tourism': 9098, 'research': 7708, 'association': 1795, 'president': 7344, 'chinese': 2668, 'communist': 2879, 'party': 6993, 'kentaro': 5610, 'inagaki': 5305, 'ccp': 2560, 'pandemic': 6960, 'concealing': 2905, 'truth': 9177, 'despite': 3378, 'continued': 2964, 'push': 7467, 'hegemony': 4978, 'condemning': 2918, 'pushing': 7470, 'international': 5399, 'community': 2880, 'began': 2058, 'attention': 1820, 'rights': 7769, 'abuses': 1448, 'vicious': 9441, 'issue': 5446, 'organ': 6873, 'harvesting': 4919, 'falun': 3997, 'gong': 4647, 'practitioners': 7310, 'uyghurs': 9393, 'aligning': 1603, 'ideology': 5245, 'unprecedented': 9323, 'atrocity': 1816, 'possible': 7282, 'universal': 9305, 'declaration': 3301, 'barbaric': 1987, 'practice': 7308, 'horror': 5139, 'promotes': 7402, 'totalitarianism': 9091, 'enable': 3767, 'concluded': 2915, 'jayjay': 5491, 'idiooot': 5247, 'chu': 2696, 'june': 5576, 'gag': 4469, 'reflexes': 7636, '41m00s': 928, 'messed': 6298, 'water': 9613, 'sittin': 8246, 'contemplating': 2954, '100000000000': 40, 'books': 2236, 'p2': 6934, 'attracted': 1824, 'funderived': 4427, 'videso': 9459, 'likely': 5867, 'extend': 3948, 'lifespan': 5853, 'footage': 4310, 'violated': 9498, 'awkwardlly': 1863, 'stress': 8602, 'trough': 9168, 'brawl': 2302, 'stars': 8526, 'automatically': 1843, 'v1': 9395, 'existed': 3925, '1h01m41s': 272, 'indian': 5326, 'scammer': 7934, 'payment': 7019, 'toilet': 9047, 'ygm': 9997, 'nxt': 6726, 'cheeks': 2640, 'reality': 7592, '200': 430, 'committed': 2874, '39m32s': 896, 'purfume': 7456, 'earlyyyyy': 3654, 'craaazy': 3034, 'duke': 3618, 'lux': 6067, 'edge': 3679, 'avengers': 1847, 'flippin': 4266, 'gyalis': 4775, '33m44s': 773, 'overall': 6914, '5m00s': 1264, '43m30s': 952, '22m34s': 506, 'smoothhhh': 8339, 'hopefully': 5129, 'becomes': 2042, 'regular': 7649, 'cutegirls': 3165, 'cam': 2478, 'techniciane': 8838, '36m37s': 835, 'handstand': 4877, 'society': 8372, 'jme': 5532, 'kiiiiiiiiiiiiiiiiiiing': 5623, 'possibly': 7283, 'cringed': 3094, 'ellite': 3732, 'leggings': 5778, 'prada': 7311, 'yayyy': 9915, '25m50s': 592, 'scorpio': 7953, 'vaseline': 9405, 'idgaf': 5246, 'homeless': 5106, 'ily': 5271, 'reflex': 7635, '52m38s': 1201, 'packing': 6941, '8th': 1368, 'thou': 8952, 'goddamn': 4624, 'ogs': 6771, '19m20s': 230, '19m40s': 236, 'sped': 8454, 'gnome': 4604, 'block': 2188, 'everybody': 3885, '47m30s': 1059, '1h': 250, 'realy': 7599, 'bruuuuuuuuuuuuuh': 2381, 'trend': 9145, '4ft': 1114, 'yesssssss': 9978, 'anyhing': 1694, '46m13s': 1012, 'fashooo': 4029, 'lexie': 5836, 'gooooo': 4663, 'dontai': 3539, 'fng': 4286, '53m08s': 1207, 'pun': 7451, 'fails': 3982, 'neeed': 6573, 'mid': 6312, 'rejected': 7653, 'piggy': 7140, 'toooooo': 9071, 'efficiency': 3695, 'anyway': 1702, '38m58s': 880, 'spittin': 8471, 'facts': 3978, 'yeeeessss': 9949, 'woody': 9804, 'toy': 9105, 'story': 8585, '4m00s': 1117, '1h01m58s': 274, 'portugal': 7273, 'phased': 7102, 'signed': 8197, 'fckrs': 4058, '1h06m42s': 334, 'major': 6132, 'filllllllyyyyy': 4146, 'fuckinnnnnn': 4406, 'bluddd': 2203, 'playboy': 7192, 'breather': 2315, 'watchin': 9611, '24m01s': 571, 'handled': 4869, 'crumbled': 3117, 'dangerous': 3226, 'errrr': 3839, 'blud': 2201, 'clix': 2766, 'offline': 6767, '28m40s': 644, 'stit': 8567, 'poking': 7249, '3v3r': 917, 'babe': 1899, 'knowing': 5665, 'cyps': 3178, 'livs': 5921, 'slag': 8270, 'cleannn': 2747, 'hoping': 5131, 'substitute': 8663, 'beloved': 2081, 'shouldve': 8138, 'ij': 5261, '46m19s': 1013, 'position': 7276, 'insults': 5382, 'extremely': 3952, 'appreciate': 1729, 'sad': 7873, 'ends': 3774, '23freejacksparrow': 529, 'freejacksparrow': 4364, 'creepy': 3077, 'legit': 5779, 'bends': 2088, 'card': 2515, 'goddddd': 4628, 'wildest': 9739, 'yungfilly': 10061, 'heartless': 4962, 'stepping': 8555, 'handshake': 4873, 'cutie': 3167, 'hug': 5172, 'mon': 6406, 'pet': 7090, 'healing': 4953, 'skip': 8259, 'thick': 8919, 'guessing': 4753, 'haryy': 4921, 'comin': 2858, 'yno': 10008, 'huh': 5179, '33m40s': 772, 'sent': 8032, 'slavory': 8285, '45m54s': 1000, 'lmaoooooooooo': 5935, 'ysl': 10053, 'heels': 4976, 'gravy': 4720, 'phrase': 7120, '34m38s': 793, 'teeth': 8845, 'rockin': 7806, 'veneers': 9411, '50k': 1144, 'locked': 5966, 'screen': 7961, 'only': 6827, 'cancels': 2493, 'bog': 2220, 'ended': 3770, 'sigma': 8195, 'handsome': 4876, 'trahan': 9115, '30day': 709, '1penny': 419, 'lessssgoooooooo': 5817, 'mann': 6153, 'bs': 2391, '46m49s': 1032, 'wass': 9598, 'aa': 1412, 'viooooooolationnn': 9506, 'leaderboard': 5749, 'joooookes': 5555, '34m20s': 784, 'appearance': 1722, 'outa': 6890, 'delightful': 3338, 'whho': 9690, '0_0': 24, 'hinting': 5066, '16m53s': 171, 'impressed': 5295, 'crowd': 3114, 'ultimate': 9248, 'attack': 1817, 'outtt': 6908, 'object': 6739, 'dennis': 3355, 'female': 4086, 'bruuh': 2376, '50m27s': 1164, 'absent': 1438, 'hum': 5182, 'grand': 4709, 'lauren': 5736, 'glum': 4601, 'constantly': 2950, '9m06s': 1380, 'wth': 9859, 'boxer': 2276, 'ittt': 5455, 'advantage': 1506, 'showers': 8147, 'retired': 7735, 'basketball': 2004, '04m53s': 13, '53m50s': 1214, 'certi': 2581, 'viddd': 9448, 'realize': 7593, 'whenever': 9684, 'passes': 6997, 'thru': 8967, 'size': 8253, 'youtubers': 10048, '17m16s': 183, 'whileeeeee': 9694, 'se2jc9nay6i': 7971, 'pleasant': 7201, 'surprise': 8718, 'hadddd': 4800, 'weakkkk': 9631, 'simons': 8220, 'grave': 4717, 'gyallll': 4777, '58m46s': 1254, 'hurting': 5203, 'park': 6976, 'personalities': 7077, 'switch': 8750, '49m17s': 1102, '6m17s': 1304, '1h08m53s': 357, '31st': 738, 'filli': 4134, 'popcorn': 7262, '41m24s': 930, 'classics': 2741, 'akward': 1581, 'bois': 2227, 'prime': 7362, 'available': 1845, 'australia': 1836, '2060': 442, 'mom': 6397, 'cryin': 3123, 'checking': 2635, '10m16s': 66, '188': 207, 'centimetres': 2576, 'falling': 3994, 'gentleman': 4533, 'blushing': 2211, '26m06s': 604, 'hebsnsbjdueebvdx': 4970, 'lolo': 5984, '2teufigk8_u': 703, 'relationship': 7658, 'tradition': 9111, '21m15s': 483, 'salute': 7890, 'whattttttt': 9680, '3m00s': 905, 'appreciation': 1731, 'actions': 1469, 'twin': 9212, '40m40s': 925, 'theeeeeeeee': 8893, 'w2w': 9539, 'soooooooooo': 8410, 'funnnnyyyyy': 4438, 'piniero': 7155, 'fillyyyyyy': 4181, 'neeeed': 6574, 'footlong': 4313, 'outgoing': 6897, 'rahhhh': 7525, 'gasped': 4497, 'havnt': 4936, 'pushin': 7469, 'farther': 4021, 'disgusting': 3478, 'moreeeeeeee': 6429, '53m07s': 1206, 'rizzzz': 7788, '10m50s': 80, 'guuuuuuuyyyyyyyyyyyyyyyyy': 4765, 'especially': 3847, 'dribbled': 3579, 'exams': 3904, 'fhilly': 4102, 'silence': 8208, 'bhaahahahah': 2116, 'essex': 3850, 'facebook': 3972, 'goodman': 4651, 'known': 5667, 'thief': 8920, 'suffered': 8676, 'broken': 2342, 'therefore': 8907, 'ready': 7585, 'cometh': 2851, 'matthew': 6211, 'repent': 7690, '5am': 1260, 'flinch': 4263, '27m51s': 627, 'earliest': 3650, 'wont': 9800, 'usual': 9387, 'pute': 7473, 'pscychopath': 7429, 'yanoo': 9904, 'leveled': 5832, 'gawd': 4508, 'dominican': 3531, 'fello': 4083, 'stoked': 8570, 'lightworkkk': 5859, 'goaatttt': 4606, 'quandale': 7488, 'dingle': 3440, 'brunette': 2373, 'flame': 4252, 'geeeeeeeeeeez': 4515, 'filing': 4122, 'hole': 5095, '8m00s': 1352, 'yelling': 9959, 'unwatchable': 9347, 'horrifying': 5138, 'chubs': 2697, 'steamer': 8546, 'watved': 9615, 'rare': 7552, 'usally': 9380, 'godanm': 4621, '33m52s': 775, '72': 1332, 'babes': 1900, 'woth': 9828, 'converse': 2980, 'steal': 8543, 'wing': 9751, 'fkin': 4246, 'gammeeeee': 4484, 'whose': 9711, 'africa': 1517, 'sickkk': 8167, 'opinion': 6859, 'daammmnnnnnn': 3189, 'saudi': 7913, 'arabia': 1742, 'masey': 6188, 'profiles': 7388, '30m10s': 718, 'everythings': 3890, 'viewing': 9475, '46m57s': 1038, '21m57s': 495, 'nec': 6562, '38m27s': 873, 'spoiler': 8473, 'exceptionnal': 3910, '44m55s': 977, 'pineros': 7151, 'collldddd': 2828, 'ohhh': 6774, 'dayz': 3267, '360': 826, 'fett': 4096, 'oscar': 6882, 'pipe': 7162, 'laughting': 5732, 'fukin': 4415, 'gahd': 4470, 'bravo': 2301, 'commentary': 2863, 'mee': 6241, 'yep': 9962, 'confirms': 2929, 'intelligent': 5386, 'shag': 8060, 'album': 1586, 'insanely': 5360, 'dehyum': 3333, 'ouuuytttt': 6911, 'unpopular': 9322, 'catered': 2554, 'teens': 8844, 'reacted': 7576, 'pt': 7434, 'maad': 6090, 'ahaahhhahahahha': 1543, 'darcies': 3236, 'loading': 5961, 'sense': 8029, 'hottest': 5148, 'annoying': 1679, 'champ': 2594, 'crystal': 3130, 'vidoe': 9462, 'abso': 1440, 'deddddd': 3304, 'nahhhhhh': 6524, 'dawg': 3259, 'ache': 1459, 'celinaaaaa': 2566, 'participate': 6983, '29m14s': 658, 'onnn': 6830, 'costs': 3007, 'standards': 8518, 'bet': 2100, 'geordie': 4539, 'sprinted': 8492, '36m25s': 831, 'sweetheart': 8745, 'car': 2512, 'drives': 3586, '23leglesslexiforpresident': 532, 'leglesslexiforpresident': 5781, 'tommy': 9056, 'ahahahahahahah': 1551, '2m51s': 696, 'strut': 8617, 'juice': 5567, 'fits': 4237, 'itz': 5460, '1h08m52s': 356, 'vikkstar123': 9484, '17m38s': 198, 'eazzzyyyyyyyyyy': 3674, 'braid': 2292, 'æø': 10096, 'turns': 9204, 'mikescomedy': 6318, 'lippy': 5889, 'disrespecting': 3489, '46m59s': 1040, 'ing': 5343, 'gna': 4603, 'arse': 1767, 'fly': 4281, 'amputate': 1659, 'scatting': 7942, 'continuously': 2967, 'per': 7048, '3700th': 846, 'olin': 6790, 'dahm': 3197, 'crease': 3061, '7m47s': 1342, 'gud': 4750, 'bangerrr': 1964, 'udo': 9230, 'votes': 9528, 'brothers': 2356, 'teach': 8826, 'on': 6814, 'ordered': 6872, 'azul': 1890, '30m55s': 729, 'box': 2274, 'stick': 8563, 'ditch': 3498, 'deserts': 3370, 'talkfootball92': 8786, '1k': 397, 'baddest': 1920, 'yout': 10043, 'hahahahha': 4836, 'height': 4984, 'intimidating': 5407, 'darcie': 3235, 'dish': 3480, '10m32s': 75, 'clear': 2749, 'appretiated': 1733, 'racially': 7517, 'motivated': 6444, 'master': 6193, 'turkısh': 9200, 'arabs': 1746, 'loop': 6019, 'colabs': 2809, 'numero': 6715, 'fiver': 4241, 'lmaooooooooooo': 5936, 'milly': 6336, 'momokatingal': 6404, 'vip': 9507, 'youngboy': 10033, 'listening': 5895, 'waist': 9554, 'scatman': 7940, '11h29m28s': 92, 'penggg': 7041, 'destroyed': 3387, 'overreacting': 6920, 'prayers': 7318, 'brah': 2291, 'whould': 9714, 'sisterv': 8243, 'closier': 2775, 'smooooooth': 8329, 'bullying': 2417, 'yup': 10062, 'hyping': 5218, 'simone': 8219, 'gift': 4571, 'yehhhhhhhh': 9956, 'sequel': 8036, 'dropping': 3591, 'contend': 2955, 'part2': 6981, 'bruhhh': 2368, '46m38s': 1022, 'masculinity': 6187, 'thoroughly': 8951, 'yoww': 10050, 'disrespects': 3490, 'gf': 4552, 'speaking': 8441, 'inappropriately': 5306, 'ayoo': 1877, 'sidemenv20s': 8181, '43m20s': 948, '29m31s': 660, 'disappointment': 3463, '37m23s': 856, 'spectator': 8451, '1h11m00s': 376, 'dubai': 3604, 'porta': 7272, 'parties': 6987, 'capping': 2508, 'phill': 7109, '32m03s': 741, '33m36s': 771, 'strongest': 8610, 'promo': 7399, 'motor': 6447, 'hahahha': 4840, 'haahah': 4793, 'ahahhaha': 1559, 'happens': 4889, 'choosing': 2688, 'iykyk': 5465, 'omggggggggggg': 6808, 'fireeeeee': 4231, 'gooooooooo': 4671, 'adltqxos3qa': 1494, 'notes': 6682, 'demeanor': 3349, '1000': 35, 'momma': 6402, 'lineup': 5884, '37m15s': 853, 'forsure': 4332, 'substances': 8661, 'btw': 2396, 'nd': 6556, 'tht': 8971, 'headlock': 4946, 'to': 9032, 'harold': 4904, '38m08s': 868, 'manzo': 6165, 'zoned': 10090, 'accents': 1451, 'cristiano': 3104, 'ronaldo': 7826, 'siuuuu': 8250, 'multiverse': 6479, 'cdzrazu2wlk': 2561, 'jade': 5474, 'towie': 9102, 'leesss': 5767, 'ggooooo': 4557, 'oozes': 6850, 'change': 2601, 'amazin': 1639, 'loww': 6052, '1h10m57s': 375, 'such': 8669, 'offended': 6755, 'proceeds': 7380, '39m13s': 886, 'ugliest': 9237, 'gather': 4506, 'elsewhere': 3736, 'hahahahhahaha': 4838, 'mmhhhk': 6380, 'mhhhh': 6307, 'hm': 5080, 'kk': 5653, '392': 882, 'nope': 6667, 'pines': 7153, 'lips': 5890, 'evilll': 3896, '49m10s': 1096, 'headphone': 4947, 'return': 7736, 'amsterdam': 1660, 'somethin': 8390, 'tomorrow': 9060, '2am': 665, 'morning': 6435, 'guts': 4764, 'treadmill': 9135, 'complain': 2890, 'calux': 2477, 'wipe': 9760, 'chalaange': 2589, 'parcour': 6971, 'w00': 9537, 'g1rl': 4466, 'actaully': 1465, 'amazed': 1637, 'compliment': 2895, 'effect': 3694, 'stronger': 8609, 'monthly': 6417, 'iv': 5461, '23fillyvs20': 526, 'fillyvs20': 4176, 'simp': 8221, 'scattered': 7941, '38m47s': 875, 'kuch': 5681, 'bhi': 2119, 'drug': 3594, 'shady': 8059, 'introvert': 5411, 'jungle': 5577, 'pretend': 7350, 'european': 3866, 'hitting': 5076, 'stands': 8521, 'term': 8858, '45m48s': 996, 'john': 5537, 'terry': 8861, 'wayne': 9620, 'bridge': 2324, 'millz': 6337, 'sware': 8734, 'subscriptions': 8660, 'sister': 8242, '45m43s': 992, 'realising': 7591, 'presenter': 7343, 'failures': 3984, 'letsssssss': 5827, 'goooooooooo': 4672, 'videossssssass': 9458, 'fawking': 4046, 'lmfaoooo': 5944, 'kinds': 5638, 'harrys': 4915, 'chaos': 2608, 'ruins': 7856, 'r1bchpltssy': 7511, '0m00s': 26, 'alexis': 1591, 'prediction': 7325, 'ithygjpuirw': 5454, 'heres': 5007, 'thst': 8970, 'wore': 9815, 'unserious': 9328, '16m18s': 165, '10x': 88, 'wins': 9758, 'impeccable': 5287, 'posters': 7287, 'titanic': 9026, 'joker': 5544, 'breathe': 2314, '43m55s': 962, 'yourself': 10040, '17m35s': 197, 'glowing': 4597, 'giv': 4586, 'wholes': 9708, 'thumbs': 8975, 'tech': 8835, 'certus': 2583, 'farrrrrr': 4018, 'eight': 3711, 'heared': 4958, '26m03s': 601, 'kakak': 5589, 'bloodclaut': 2194, '4m04s': 1120, 'north': 6673, 'cypriots': 3174, 'hannah': 4882, 'jidions': 5518, 'bants': 1984, 'solidifies': 8380, 'extra': 3950, '04m31s': 11, 'mj': 6378, 'unspeakable': 9331, 'shoulder': 8137, 'arm': 1758, '55m45s': 1233, 'galdem': 4475, 'hundred': 5194, 'icks': 5231, '49m00s': 1094, '50m30s': 1166, 'thankful': 8877, '49m30s': 1106, 'woah': 9783, '47min': 1066, 'nauscous': 6551, 'eliano': 3722, 'milano': 6320, 'flipping': 4267, 'instigators': 5378, 'scary': 7939, 'rewatching': 7750, 'small': 8306, '5m36s': 1276, 'record': 7616, 'chunkzz': 2708, 'rocky': 7807, 'unbelivable': 9269, '15m56s': 149, '35m51s': 822, '11m18s': 96, '23m20s': 548, 'monday': 6408, 'india': 5325, 'drowning': 3593, 'misery': 6360, 'varane': 9404, 'wig': 9731, 'talented': 8780, 'virgin': 9509, 'recruit': 7622, 'nuve': 6724, 'betasquade': 2104, '5m14s': 1268, 'threw': 8959, 'zipping': 10087, 'howling': 5157, '32m36s': 747, 'nooooooooo': 6664, '47m09s': 1045, 'wt': 9852, 'pleeeeeease': 7215, 'boooooook': 2242, 'desperately': 3377, '49m14s': 1100, 'represents': 7703, 'fyp': 4463, 'offering': 6760, 'doing': 3520, 'pleaseeee': 7204, 'demeaning': 3348, 'just': 5580, 'smt': 8342, '47m29s': 1058, 'actor': 1473, '43m24s': 949, 'winz': 9759, 'hesitate': 5018, 'millisecond': 6334, 'orange': 6869, 'belly': 2079, 'tatts': 8818, '69k': 1295, '6k': 1299, 'mandam': 6148, 'toast': 9033, 'fumbles': 4423, '1h03m22s': 289, 'smuggled': 8343, 'perf': 7051, 'smells': 8316, 'split': 8472, 'smellin': 8314, 'chairs': 2588, 'bread': 2305, 'fukiin': 4414, 'bruuuh': 2378, 'zerkka': 10076, 'gosh': 4683, 'nut': 6718, 'hits': 5074, 'ooo': 6841, 'backlash': 1910, 'pissed': 7165, 'offer': 6758, 'quid': 7501, '1million': 417, 'dig': 3427, 'excavation': 3905, '1h12m45s': 393, 'aiii': 1570, 'inssaaannee': 5369, 'checked': 2634, 'clap': 2728, 'broo': 2344, 'lethal': 5821, 'coc': 2797, 'body': 2218, 'shrivel': 8155, 'maddest': 6107, 'violet': 9505, 'c3ezzsbxu7k': 2455, 'hooow': 5125, 'contribute': 2972, 'yow': 10049, 'embarrassing': 3747, 'specteum': 8452, 'akwardness': 1582, 'wave': 9616, 'audio': 1829, 'th': 8874, 'naa': 6508, 'asthma': 1802, 'pump': 7448, 'kingggggggggg': 5642, 'trouble': 9167, 'maker': 6135, 'expressionsoozing': 3947, 'ksis': 5678, '1h08m54s': 358, '19m50s': 240, 'xddddddd': 9876, 'naaa': 6509, 'fu': 4401, 'ked': 5602, 'ahhahaha': 1564, 'jidons': 5520, 'fix': 4242, 'yanno': 9902, 'across': 1463, 'tundes': 9191, 'skinny': 8258, 'suggested': 8678, '333': 755, 'lav': 5738, 'yu': 10055, 'awwwww': 1868, 'whiff': 9691, 'dip': 3448, 'bun': 2420, 'tooooooo': 9072, 'kai': 5588, 'cenat': 2572, 'more': 6426, 'covering': 3028, 'outed': 6894, '52m15s': 1190, 'whaat': 9667, 'incoming': 5314, 'onto': 6833, 'plant': 7182, 'daaaa': 3182, 'maannn': 6094, 'jobb': 5534, '47m24s': 1055, 'ridiculous': 7766, 'vik1': 9478, '1h06m00s': 325, '1h06m20s': 331, '38m52s': 876, 'broke': 2341, 'munted': 6484, 'rullz': 7859, 'heeeeeeeeee': 4973, 'rates': 7561, 'saludos': 7889, 'bogotá': 2223, 'salena': 7881, 'faaaaaar': 3964, 'atm': 1811, 'unided': 9298, 'scores': 7952, 'goal': 4607, 'pre': 7320, 'imdontai': 5278, 'steam': 8545, 'feels': 4075, '10m': 59, 'intro': 5408, 'parfume': 6975, 'bold': 2229, '47m15s': 1049, '35m27s': 813, 'african': 1518, 'treatment': 9140, 'violent': 9504, 'slave': 8283, 'traders': 9110, '32m59s': 753, '26m05s': 603, 'skjdsk': 8263, 'ez': 3962, 'motivation': 6445, 'muchhhh': 6471, 'wooooow': 9809, 'honorary': 5117, 'mentions': 6284, 'sooooooo': 8408, 'invite': 5419, 'featuring': 4065, 'philllly': 7113, 'bares': 1992, '11m28s': 97, 'goattttt': 4618, 'endure': 3775, 'bromis': 2343, '23fillyeffect': 524, 'fillyeffect': 4172, '5m10s': 1265, '6m19s': 1306, 'miniminter': 6347, 'mint': 6351, 'fraction': 4348, 'notice': 6687, 'hates': 4928, 'emotions': 3763, '1ehhk7kul_e': 247, 'tissue': 9025, 'jizz': 5526, 'numbers': 6714, 'dehumanizing': 3332, 'force': 4315, 'nation': 6541, 'jewels': 5511, 'recovered': 7619, 'baited': 1937, 'wasnt': 9597, 'aaayyeee': 1422, '12m': 104, 'purpose': 7463, 'colombian': 2830, 'coast': 2794, 'enjoyment': 3792, '_ノ': 1410, 'トー仝ーイ': 10120, 'ミ土彡': 10121, 'ѽξξξξξξξd': 10108, 'commenters': 2865, 'beleve': 2072, 'flowy': 4278, 'ratio': 7564, 'wall': 9575, 'communicating': 2878, 'unsub': 9334, 'ahaha': 1544, 'texted': 8868, '22m59s': 517, 'holds': 5094, 'logo': 5974, 'perfection': 7054, 'producing': 7383, 'bangers': 1968, '46m20s': 1014, 'fifteen': 4110, 'wach': 9547, 'confetti': 2921, 'concert': 2912, 'emoji': 3758, 'corner': 2996, '1h09m29s': 363, 'wasted': 9601, 'opportunity': 6861, 'der': 3362, 'expression': 3945, 'anxiety': 1687, 'gaddammn': 4468, '1h02m52s': 284, 'personal': 7076, 'ant': 1686, 'asre': 1786, 'homophobic': 5111, '48m28s': 1078, 'whaam': 9666, 'gym': 4784, 'treating': 9139, 'phillybis': 7116, 'mock': 6387, 'jump': 5570, 'fillly': 4160, 'goatedddd': 4611, 'somone': 8396, 'thier': 8921, 'account': 1455, '23m23s': 550, 'ap': 1706, 'theodore': 8901, 'advice': 1510, 'barely': 1991, 'clappeddddd': 2731, '120k': 101, 'performed': 7060, 'handedly': 4867, 'saves': 7920, 'delivers': 3342, 'learnt': 5757, 'moves': 6454, 'onnnn': 6831, '18m26s': 215, 'thatttt': 8888, 'slappppppppp': 8278, 'eps': 3829, 'maddness': 6108, '36m43s': 838, '5star': 1283, 'brand': 2295, '53m48s': 1213, '10m35s': 76, 'jjs': 5528, 'ducking': 3612, 'alltime': 1616, 'falls': 3995, 'added': 1486, 'bonus': 2233, '234th': 520, 'mimi': 6338, 'ni': 6613, 'sanamu': 7895, 'hotstean': 5146, 'daima': 3198, 'ziko': 10082, 'moyoni': 6461, 'mwangu': 6500, 'kesho': 5612, 'sijui': 8206, 'wao': 9585, 'moja': 6394, 'matamasha': 6197, 'bora': 2251, 'everrrrrr': 3880, 'litttttt': 5913, 'ger': 4541, 'bssss': 2392, 'flying': 4282, 'dinosaur': 3443, 'noise': 6644, 'ahhhh': 1567, 'nods': 6641, 'agreement': 1538, '23m26s': 551, '13m00s': 113, 'given': 4588, 'freedom': 4362, '41m31s': 932, '1h04m11s': 304, 'fail': 3980, 'uh': 9239, 'specify': 8448, 'request': 7706, 'vikstar': 9487, 'ohhhhhh': 6777, 'flabbergasted': 4251, 'yeesss': 9951, '8m45s': 1367, 'subtle': 8666, 'requests': 7707, '1h05m13s': 318, 'wowwww': 9835, 'ohohoh': 6779, 'pig': 7139, 'audience': 1828, 'meps': 6286, 'joint': 5541, 'efforts': 3701, 'several': 8050, 'countries': 3021, 'attended': 1819, 'condemned': 2917, 'crimes': 3088, 'urged': 9375, 'parliament': 6979, 'curb': 3142, 'enhance': 3786, 'regulation': 7651, 'transparency': 9123, 'mep': 6285, 'maria': 6171, 'arena': 1751, 'hosted': 5144, 'subcommittee': 8643, 'auditing': 1830, 'critical': 3105, 'deeper': 3311, 'discussions': 3472, 'explore': 3940, 'influence': 5336, 'china': 2667, 'limited': 5874, 'legal': 5770, 'aspects': 1784, 'options': 6868, 'considered': 2947, 'eu': 3863, 'plenary': 7216, 'meetings': 6254, 'isabel': 5436, 'santos': 7903, 'data': 3250, 'elliott': 3731, 'industrial': 5330, 'scale': 7932, 'urgency': 9376, 'stopping': 8580, 'organizations': 6875, 'forces': 4317, 'tragedy': 9113, 'cases': 2539, 'persecuted': 7073, 'victims': 9446, 'humanity': 5185, 'explained': 3938, 'classifying': 2742, 'criminal': 3089, 'benefit': 2089, 'criminals': 3090, 'maría': 6185, 'soraya': 8414, 'rodríguez': 7808, 'ramos': 7533, 'institute': 5379, 'laws': 5741, 'prevent': 7355, 'organs': 6876, 'entering': 3802, 'exists': 3927, '21st': 496, 'century': 2578, 'raphael': 7548, 'glucksmann': 4598, 'france': 4350, 'agreed': 1536, 'earth': 3664, 'front': 4390, 'compressed': 2901, 'kiss': 5648, 'wudda': 9860, '4m05s': 1121, 'charmed': 2621, 'feminist': 4089, 'fighting': 4114, 'customers': 3162, 'contrary': 2970, 'gass': 4498, 'spotlight': 8486, '00th': 2, 'sold': 8378, 'impacful': 5286, '24h': 568, 'orussspuu': 6880, 'coocuuguu': 2985, 'hstikkytokky': 5167, 'parfum': 6974, 'ummm': 9255, 'subscription': 8659, '10m06s': 61, 'engaged': 3782, 'soonnn': 8402, 'tune': 9192, 'model': 6390, 'mg': 6306, 'hyped': 5216, 'vud': 9534, '44m18s': 969, 'surname': 8715, 'hooking': 5124, 'gyally': 4778, 'medallion': 6235, 'mail': 6125, '49m11s': 1097, 'gassedd': 4500, 'manage': 6146, 'previous': 7356, 'hhahaha': 5029, 'hygiene': 5214, 'earpods': 3661, 'rock': 7802, '22m37s': 508, 'reverse': 7743, 'reply': 7696, 'throwing': 8966, 'friendzoned': 4385, 'masterclass': 6194, 'represented': 7701, 'dons': 3537, 'ths': 8968, 'cinfident': 2715, '58m15s': 1251, 'aye': 1871, 'lexis': 5838, 'inlove': 5351, 'moneyyy': 6411, 'boonda': 2240, 'yeeeeeaaaassss': 9941, 'betasquad': 2103, '17k': 178, 'ayooooo': 1880, '36m00s': 827, 'lel': 5786, 'tat': 8804, 'apologize': 1713, 'freaakkkkk': 4351, '9000': 1372, 'conversation': 2978, 'tearing': 8831, 'bangerssss': 1969, 'spoke': 8475, 'effin': 3696, '47m17s': 1050, '23m55s': 557, 'icing': 5229, 'cake': 2460, '540th': 1217, 'robot': 7801, 'aiiiiiiiight': 1571, 'unsubscribed': 9337, 'officially': 6764, 'jaw': 5489, 'dj': 3504, 'denz': 3356, 'rooster': 7830, '100v1': 43, 'moreeeeeeeeeeeeeeeeeeeeeeeeeeeeeeeeeeeeeeeeeeeeeeeeeeee': 6430, 'pus': 7466, 'hypocritical': 5219, 'typical': 9224, 'delusional': 3344, 'ego': 3705, 'maniac': 6152, 'yikes': 10001, 'surprisingly': 8721, '47m00s': 1042, 'vidéo': 9466, 'decoration': 3302, 'improvise': 5300, 'dsting': 3601, 'jheezee': 5514, 'lenggg': 5793, 'nu': 6704, 'rasssss': 7558, 'debate': 3288, 'executed': 3920, 'perfectly': 7055, 'bravest': 2300, 'none': 6653, '20m04s': 446, 'segment': 8006, 'stiches': 8562, 'litch': 5900, 'food': 4304, 'secret': 7988, 'beyond': 2113, 'connection': 2940, 'compatabilipi': 2885, 'mario': 6173, 'kart': 5592, 'commands': 2860, 'focused': 4290, 'features': 4064, '25m10s': 588, 'pronounce': 7406, 'postes': 7288, 'flawless': 4260, 'pat': 7002, 'pepé': 7047, 'le': 5745, 'pew': 7093, 'npmsa48jkdu': 6703, 'everlast': 3876, 'loose': 6020, '47m19s': 1052, '22m14s': 500, 'shittest': 8113, 'whys': 9719, 'register': 7645, '36m26s': 832, 'thiiisss': 8923, 'videeoooo': 9450, 'joookeeesssssss': 5553, '1h05m19s': 322, 'cheeky': 2641, 'wink': 9754, 'hey': 5022, '22m20s': 501, '14m01s': 122, 'lmfaaooo': 5940, '12m44s': 108, 'lmaaooo': 5926, 'twerked': 9210, 'effort': 3698, 'weve': 9660, 'm7xqedkhtv0': 6072, 'perspective': 7084, '25m53s': 593, 'hahahahayahahaha': 4834, 'hps': 5160, 'undisclosed': 9284, 'fee': 4068, 'boiiiiii': 2225, 'letss': 5824, 'sundayy': 8699, 'pressure': 7347, '52m12s': 1188, '54m34s': 1222, 'looovveeee': 6018, 'diarrhea': 3403, 'argument': 1756, 'lesgooooo': 5806, '35m00s': 808, 'twenty': 9209, 'sidelines': 8175, 'vote': 9526, '1h08m01s': 343, 'voice': 9518, 'singer': 8229, 'meek': 6249, 'skin': 8256, 'booty': 2249, 'ojdc2ihlt6w': 6782, 'oldemen': 6788, 'jarring': 5486, 'pops': 7267, 'impress': 5294, 'aaaahhhhh': 1421, 'lighten': 5856, 'filllaaaaaaayyyy': 4141, 'lessgo': 5810, '17m34s': 196, 'icon': 5234, '12m08s': 106, 'remind': 7674, 'fillyyyyyyy': 4182, 'emerged': 3755, 'lengers': 5791, 'todayyyy': 9043, 'bismilallha': 2160, 'subbing': 8642, 'care': 2518, 'fathered': 4036, 'protecting': 7417, 'yeses': 9964, 'uca391ghur8vfwhkivpe0dcg': 9226, 'ganna': 4487, '1h01m45s': 273, 'ohhhhh': 6776, 'shiihhhhh': 8099, 'bunch': 2421, 'losers': 6029, 'kinggg': 5641, '28m25s': 639, 'dooshane': 3546, 'goals': 4608, 'whereas': 9687, 'jojo': 5542, 'club': 2785, '45m05s': 980, 'kings': 5643, 'skipped': 8260, 'jean': 5496, 'heyy': 5024, 'ash': 1775, '43m58s': 965, 'projectile': 7393, '19m25s': 232, '42m55s': 938, 'rule': 7857, 'redo': 7630, 'testiment': 8864, 'spent': 8462, '300k': 707, 'view': 9471, 'weirdo': 9649, 'nella': 6589, 'rose': 7833, '2o': 700, '20m12s': 450, 'streamer': 8598, '43m56s': 963, 'quietest': 7503, 'dominating': 3530, 'blend': 2180, 'cringey': 3097, 'six': 8252, 'beige': 2069, '10m05s': 60, 'appear': 1721, 'logged': 5972, '50m20s': 1161, 'alie': 1601, 'ethans': 3860, 'mtv': 6467, 'impractical': 5293, 'jokers': 5545, 'backkkk': 1908, '43m54s': 961, '10th': 87, 'fellow': 4084, '24m46s': 579, 'loooove': 6015, 'concept': 2907, 'skipping': 8261, 'astafrallah': 1799, 'outstanding': 6906, '341st': 777, 'ayhahah': 1874, 'shine': 8103, 'depends': 3358, 'dunks': 3625, 'except': 3908, 'amazingly': 1644, 'talia': 8782, 'randolph': 7537, 'harrypinero': 4914, 'ooh': 6839, 'pegged': 7034, 'itttttt': 5458, 'beats': 2034, '1h04m02s': 302, 'knees': 5658, 'description': 3367, 'hammer': 4863, 'chisel': 2673, 'tones': 9064, 'hides': 5047, 'algarave': 1593, '1s': 421, 'smiling': 8321, 'nicest': 6616, '43m11s': 944, 'beforehand': 2055, 'ball': 1942, 'morbin': 6424, 'skull': 8264, 'violations': 9502, 'continues': 2965, 'jidionpremium': 5517, 'note': 6680, 'knocked': 5663, 'convincing': 2983, 'finest': 4208, '30m05s': 715, '46m24s': 1016, '43m51s': 959, '38m21s': 872, '46m55s': 1037, 'mandom': 6150, 'smoooooottthhh': 8330, 'weew': 9643, '69': 1293, 'sniffin': 8353, 'accounts': 1456, 'chole': 2686, 'yassss': 9907, 'correction': 3000, 'occupied': 6747, 'turkey': 9197, 'mommy': 6403, 'nuttin': 6721, '2016': 437, 'eveeeerrrr': 3871, 'resembles': 7710, 'ahahahahah': 1549, 'deadest': 3281, '24m31s': 576, '15m18s': 138, 'visual': 9513, '47m01s': 1043, 'seasons': 7979, '1h11m42s': 391, 'rahhhhh': 7526, 'downloads': 3560, '30m46s': 727, 'lila': 5871, 'yourrage': 10038, '36m51s': 841, '23m15s': 544, 'tattoed': 8811, 'suave': 8639, 'unmatchable': 9315, 'magnetic': 6118, 'presence': 7340, 'cancel': 2490, 'ughhh': 9235, 'disappoint': 3460, 'bussiness': 2442, 'fumbled': 4422, 'noh': 6643, 'bils': 2149, '35m49s': 820, 'wavelengths': 9618, 'maaaaad': 6081, 'daaaaamn': 3186, 'prayed': 7317, 'grandmother': 4713, 'silent': 8209, 'burst': 2436, 'adverts': 1509, 'peach': 7023, '28m34s': 641, 'showtime': 8152, 'absolut': 1441, 'baaaaaanggggeeeerrrrrr': 1895, 'videoooooooooo': 9456, 'problems': 7377, 'hahahahahah': 4821, 'representation': 7699, '2m56s': 697, 'lmfaoooooooo': 5947, '29m00s': 653, 'centered': 2575, 'girlfriends': 4581, 'skyrocketed': 8267, 'extreme': 3951, 'clicking': 2759, 'ew': 3898, 'technique': 8841, 'reset': 7711, '46m21s': 1015, 'spam': 8431, 'tinders': 9013, 'wee': 9637, 'tarmacing': 8799, '16m14s': 164, 'balamory': 1939, 'sang': 7899, 'theme': 8896, '20m45s': 462, 'cryinggggggggggggggg': 3126, 'instigator': 5377, '1h00m30s': 257, '18m11s': 210, 'loyalty': 6054, 'suck': 8671, 'theee': 8892, '2m36s': 687, 'sor': 8413, '27m00s': 618, 'catch': 2550, 'yawns': 9913, 'asp': 1783, '19m30s': 234, 'godess': 4630, 'childish': 2661, 'bugging': 2405, 'buggin': 2404, 'popeyes': 7263, 'biscuit': 2157, 'wrote': 9848, 'continuing': 2966, 'wiseman': 9763, 'fundraiser': 4428, 'jealous': 5495, 'whamstar123': 9671, 'saturday': 7908, 'drill': 3580, 'coulnd': 3016, 'tough': 9097, 'golden': 4642, 'suiiii': 8685, 'ropes': 7832, '2m22s': 681, 'ooohhhh': 6843, 'secretly': 7989, '6m45s': 1322, 'siiccckkkkk': 8201, 'yettt': 9992, 'damnnn': 3215, 'useless': 9383, 'videob': 9452, 'staring': 8524, 'idiots': 5249, 'noone': 6659, 'youg': 10029, 'homies': 5109, '1h08m30s': 348, 'unchallenged': 9271, '3nqnpec5dwo': 915, 'neeeeds': 6575, 'yessman': 9970, 'paint': 6952, 'bhahha': 2117, '16m52s': 170, 'tok': 9048, 'incomplete': 5316, 'chunzz': 2713, 'cl': 2723, 'racism': 7518, 'turskish': 9205, 'geographically': 4538, 'hstickytokky': 5165, 'characters': 2611, 'hahaa': 4803, 'crl': 3108, 'assim': 1792, 'sim': 8212, '20v': 472, 'calfreezy': 2465, 'blood': 2193, 'mute': 6497, 'reach': 7572, 'killlllled': 5630, '8m13s': 1357, 'him': 5063, 'jimmy': 5524, 'zhang': 10080, 'marvelous': 6184, 'boom': 2238, 'upppp': 9362, '52m32s': 1197, 'holla': 5097, 'blindfold': 2185, 'daniel': 3227, 'bryan': 2390, 'wwe': 9862, 'fzurumk8gmw': 4465, 'shell': 8085, 'boi': 2224, 'rosie': 7835, 'jim': 5523, 'ahahahah': 1547, 'sidmen': 8189, '43m00s': 940, 'unless': 9310, 'purley': 7457, 'pulling': 7446, 'naughty²': 6550, 'films': 4188, 'thus': 8977, 'innocent': 5357, 'chiles': 2662, 'bangeerrrrrr': 1960, 'thee': 8891, 'je': 5494, 'noo': 6657, '1h02m22s': 281, 'gyels': 4783, 'instantly': 5374, 'hooked': 5123, '48m52s': 1088, 'holes': 5096, 'personally': 7079, 'aarons': 1424, 'pieface': 7138, '1742': 176, 'bessssst': 2093, 'dose': 3549, 'claim': 2726, 'tickets': 8982, 'hereee': 5005, '1h11m15s': 380, 'cappin': 2507, 'showman': 8149, 'element': 3721, '04m08s': 10, 'picssss': 7133, 'eighth': 3712, 'khloe': 5617, 'listen': 5893, 'maddddd': 6104, '10000': 36, 'sidemn': 8182, '34m51s': 803, 'male': 6141, 'gwaaaaaaad': 4772, '30m30s': 722, 'cheek': 2639, 'fathering': 4037, 'padreando': 6942, '37m45s': 861, 'petiton': 7092, 'unlimited': 9312, 'unfiltered': 9293, 'ahahah': 1545, 'jiggy': 5522, 'ring': 7770, 'collabing': 2815, 'mahraban': 6123, 'yessssssirrrr': 9977, 'plotting': 7220, 'hall': 4859, '16m01s': 157, '33m35s': 770, 'zeimbut': 10074, 'host': 5143, 'nyoungboy': 6733, 'invited': 5420, 'waayy': 9545, 'when': 9683, '58m43s': 1252, 'omdsss': 6796, '50m15s': 1157, 'shook': 8120, 'grips': 4735, 'selenaaa': 8013, '15m51s': 146, 'promoting': 7403, 'heavent': 4967, 'bait': 1936, 'hunting': 5199, '20th': 471, '36m50s': 840, 'wunderbar': 9861, '23m40s': 553, '2048': 441, 'nottingham': 6693, 'forest': 4320, 'promoted': 7401, 'prem': 7334, 'lfgggggggggooooo': 5844, 'booost': 2244, 'pair': 6954, '41m41s': 933, 'polite': 7252, '31m27s': 732, 'doe': 3511, 'gyattt': 4782, 'hahahahh': 4835, 'blew': 2183, 'censored': 2574, 'longest': 5992, 'overdrijf': 6916, '1h08m13s': 345, 'reverb': 7742, 'auto': 1840, '55m35s': 1232, 'spiking': 8467, 'eyyo': 3960, 'suuuuuuuuuuuuure': 8728, '4m08s': 1123, 'moo': 6419, 'snuckle': 8363, 'bts': 2395, 'wats': 9614, 'adorable': 1499, 'price': 7358, 'individual': 5327, 'eddie': 3677, 'murphy': 6486, 'nutty': 6723, 'professor': 7386, 'toooooooooo': 9074, 'smooooth': 8333, 'gial': 4563, 'fiona': 4221, 'shrek': 8154, 'creases': 3063, 'crossover': 3113, 'timestamps': 9007, '22m00s': 498, '22m23s': 503, 'strippers': 8606, 'laid': 5699, 'terrible': 8860, '⁰000': 10119, 'justed': 5581, 'centric': 2577, 'maaaan': 6085, 'entertainers': 3808, 'liiittt': 5863, 'curious': 3146, 'featured': 4063, 'ferrell': 4092, 'hart': 4918, 'hybrid': 5212, 'sam': 7891, '9m30s': 1384, 'average': 1848, 'yukno': 10058, 'recently': 7608, 'idiot': 5248, 'participant': 6982, 'rewindable': 7752, '52m02s': 1184, '1h04m57s': 309, 'absoulutely': 1444, 'wiling': 9743, 'lauryn': 5737, 'bruhhhh': 2369, '1h08m56s': 360, 'lesbian': 5801, 'arghhhhhhh': 1753, 'bangggggg': 1972, 'bu': 2397, 'gasp': 4496, 'creased': 3062, 'trees': 9143, 'filllllllllly': 4143, 'faze': 4051, 'rug': 7851, 'dint': 3444, '1h07m57s': 341, 'messy': 6299, 'bigggggggg': 2129, 'relationships': 7659, 'reminds': 7678, 'axel': 1869, 'fooking': 4307, 'fook': 4305, 'nar': 6535, 'search': 7975, 'shut': 8160, 'rooting': 7831, 'smooooothhh': 8332, 'yelled': 9957, 'belongs': 2080, 'chux': 2714, 'wayy': 9622, 'sikkkk': 8207, 'bendleft': 2087, '30m06s': 716, 'thiss': 8942, '16m49s': 169, 'category': 2553, 'wierd': 9727, 'collins': 2827, 'highbury': 5049, 'esta': 3851, 'emenda': 3754, 'envia': 3815, 'uma': 9251, 'mensagem': 6277, 'clara': 2735, 'não': 6734, 'toleraremos': 9052, 'tais': 8771, 'atos': 1814, 'terríveis': 8862, 'ter': 8857, 'apreciado': 1737, 'os': 6881, 'esforços': 3846, 'dos': 3548, 'seus': 8049, 'colegas': 2812, 'introdução': 5409, 'apoio': 1711, 'salientou': 7884, 'apesar': 1710, 'acumulação': 1480, 'provas': 7420, 'sobre': 8368, 'atrocidades': 1815, 'curso': 3157, 'colheita': 2813, 'órgãos': 10099, 'pcc': 7022, 'negou': 6584, 'todas': 9041, 'alegações': 1587, 'assunto': 1798, 'confiou': 2925, 'oms': 6812, 'para': 6967, 'ilibar': 5266, 'qualquer': 7487, 'ato': 1813, 'ilícito': 5272, 'dispõe': 3486, 'um': 9250, 'mecanismo': 6234, 'independente': 5323, 'avaliação': 1846, 'conformidade': 2931, 'por': 7270, 'peritos': 7068, 'confia': 2922, 'governo': 4694, 'partido': 6986, 'comunista': 2903, 'chinês': 2669, 'dizendo': 3503, 'simplesmente': 8224, 'tal': 8778, 'acontece': 1462, 'afirmou': 1516, 'ele': 3718, 'concluiu': 2916, 'importância': 5291, 'desta': 3382, 'pontos': 7256, 'específicos': 3848, 'lei': 5785, 'irá': 5434, 'abordar': 1433, 'coisa': 2807, 'mais': 6130, 'importante': 5290, 'este': 3853, 'noite': 6647, 'faz': 4050, 'enviar': 3816, 'muito': 6474, 'contra': 2968, 'humanidade': 5184, 'faremos': 4012, 'pelo': 7037, 'povo': 7299, 'progress': 7391, 'setting': 8048, 'bars': 1999, 'higher': 5050, 'eeeewww': 3692, '26m08s': 606, 'lacking': 5690, 'crown': 3115, '23m16s': 545, 'musk': 6490, 'state': 8533, 'preference': 7331, 'obvious': 6745, 'trans': 9120, 'guyz': 4771, 'there': 8905, 'idc': 5237, 'uppercut': 9360, 'fawwwk': 4047, 'israel': 5443, 'rattling': 7565, 'highly': 5055, 'humble': 5187, '4m': 1116, 'trippin': 9161, 'regret': 7646, 'maaaaadddd': 6082, 'rt': 7846, 'laras': 5713, 'zipper': 10086, 'sleeping': 8289, '25m00s': 585, 'cues': 3136, 'en4vnhj_5n4': 3766, 'share': 8069, 'mite': 6374, 'metooed': 6303, 'kisses': 5650, '52m10s': 1186, 'mula': 6476, 'squirm': 8499, 'peakin': 7027, '24m00s': 570, '37m16s': 854, 'fracking': 4347, 'lessss': 5815, 'ran': 7535, 'doggo': 3515, 'clarting': 2738, 'slappp': 8277, 'prop': 7408, 'hunt': 5198, '23cancelhp': 522, 'cancelhp': 2491, 'handstands': 4878, 'kept': 5611, 'shii': 8097, '24m48s': 580, 'excuse': 3916, 'yellowish': 9961, 'multibillionaires': 6477, 'panerio': 6961, 'focus': 4289, '5th': 1284, 'gas': 4494, 'anybody': 1690, 'lmfaooooo': 5945, 'lowky': 6050, '2hours': 668, 'fillt': 4168, 'diamond': 3402, 'ruff': 7850, 'peep': 7031, 'unreleased': 9326, '43m13s': 945, 'gased': 4495, 'credit': 3075, 'popo': 7264, 'rahhh': 7524, '26m02s': 600, 'faced': 3973, 'mask': 6189, 'readyyy': 7586, 'jkstarmovies07': 5531, 'unnatural': 9318, 'güzel': 4785, 'icerikler': 5228, 'grossed': 4737, 'sprinkles': 8491, 'cupcake': 3141, 'scammed': 7933, 'simpppp': 8226, 'licks': 5850, 'kons': 5674, 'ranking': 7546, '20m27s': 455, 'immediate': 5282, '1h03m30s': 290, 'dubbb': 3605, 'nowadays': 6697, 'gross': 4736, 'fckn': 4057, 'load': 5959, 'acutually': 1481, 'woo': 9801, 'wo': 9781, 'waitt': 9559, 'swearrrrr': 8737, 'goofyahh': 4656, '18m25s': 214, 'azing': 1889, 'pressing': 7346, 'nelk': 6588, 'drinking': 3582, 'apple': 1726, 'cash': 2540, 'endorse': 3773, 'collaborated': 2817, 'connect': 2939, 'clicks': 2760, 'guarantee': 4746, 'anytime': 1701, 'stops': 8583, 'ayyyy': 1886, 'pleasure': 7212, 'digging': 3430, 'gram': 4706, 'beer': 2052, '14m00s': 121, 'sammy': 7893, 'davis': 3258, 'dance': 3221, 'tried': 9153, 'rrrrread': 7843, 'cray': 3046, 'sweetest': 8744, 'desperate': 3376, 'honey': 5116, 'wwwwwww': 9866, 'experience': 3934, 'grab': 4699, '49m08s': 1095, '37m48s': 862, 'overly': 6919, 'aggressive': 1530, 'manner': 6154, 'msh4bzuqpgu': 6466, 'can': 2489, 'flaws': 4261, 'american': 1648, 'auditions': 1832, '15m22s': 140, 'dethroned': 3390, 'native': 6544, 'portuguese': 7274, 'pained': 6947, 'correctly': 3001, 'wouldnt': 9831, 'yawned': 9910, 'awful': 1858, 'ha': 4786, 'advertising': 1508, 'rrnvkqngjnk': 7842, 'rick': 7762, 'roll': 7812, 'payed': 7017, 'katie': 5597, '1h05m14s': 319, 'grandma': 4712, 'snuggles': 8365, '20m14s': 452, 'goofy': 4655, 'ahh': 1562, 'nect': 6567, 've': 9409, 'goddamnnn': 4626, '6m10s': 1301, '36m04s': 828, '34m00s': 780, 'randy': 7540, 'bext': 2111, 'twas': 9207, 'ek': 3716, 'mujhe': 6475, 'koi': 5671, 'support': 8710, 'nahin': 6526, 'karta': 5593, 'pokemon': 7246, 'ke': 5599, 'banata': 1955, 'fyr': 4464, 'dammnn': 3209, 'fest': 4093, '1h11m38s': 389, 'fifties': 4112, 'fineee': 4204, 'broda': 2339, 'unreallll': 9325, 'caked': 2461, 'matching': 6201, 'singinggg': 8231, 'headfucks': 4945, 'important': 5289, 'task': 8801, 'deez': 3314, 'galz': 4478, 'igs': 5258, 'bellow': 2078, 'lovedddddddd': 6038, '9m10s': 1381, 'disgrace': 3474, 'decadence': 3292, 'stupidity': 8631, 'smashin': 8310, 'yeet': 9952, 'sime': 8213, 'healthy': 4955, 'fuy': 4453, 'adds': 1490, 'kneeeeeewwwww': 5657, '4m49s': 1130, 'redeem': 7628, 'mile': 6321, 'faaarrr': 3968, 'colorful': 2834, 'inspid': 5367, '10s': 86, 'standard': 8517, 'becuse': 2045, 'vinicus': 9495, 'vini': 9494, 'isss': 5445, 'bangerrrrr': 1966, 'supposed': 8712, 'compete': 2887, 'retarded': 7732, 'yah': 9896, 'jamaica': 5479, 'phillie': 7110, 'refreshing': 7638, 'disgustingly': 3479, 'fever': 4097, 'count': 3019, 'yoooooooooo': 10024, 'candidat': 2496, 'strap': 8593, 'amazaing': 1636, 'unsung': 9339, 'traits': 9119, 'tragic': 9114, 'daddy': 3194, 'issues': 5447, 'preee': 7326, '15m13s': 136, 'heroes': 5012, 'unintentionally': 9301, 'genuine': 4535, 'friendships': 4384, 'discrimination': 3471, 'cemented': 2571, 'butterz': 2448, 'uou': 9349, 'talks': 8789, 'monotone': 6414, 'judge': 5563, 'respond': 7724, 'dankeschön': 3228, 'interactions': 5391, 'loads': 5962, 'meh': 6258, 'hangover': 4881, 'quando': 7489, 'ouves': 6912, 'algum': 1597, 'herois': 5014, 'mar': 6167, 'nobre': 6639, 'pinkie': 7158, 'damned': 3212, 'entertained': 3805, '1h02m20s': 279, 'tiny': 9020, 'yourtube': 10041, 'sellykc': 8021, 'redemption': 7629, 'arc': 1747, 'editioooooonnnnn': 3684, 'yyyooooooo': 10069, '23signjakepaul2prime': 562, 'signjakepaul2prime': 8199, '29m48s': 662, 'neeky': 6583, 'jeeez': 5498, 'hahahahahahahaha': 4826, 'funnyyyyyy': 4443, '2million': 698, '6hrs': 1298, 'commenting': 2867, 'biiig': 2133, 'backpack': 1911, 'cringgge': 3098, 'breathes': 2316, '37m24s': 857, 'mall': 6142, 'peak': 7025, '45m00s': 979, 'aj': 1577, 'shabeel': 8056, 'flowers': 4276, 'dubs': 3610, 'deaaad': 3276, 'turk': 9196, 'unattractive': 9261, 'youd': 10028, 'richest': 7761, '49m44s': 1109, 'rofl': 7809, 'kicking': 5620, 'darci': 3234, 'mane': 6151, 'wouldve': 9832, 'passed': 6996, 'colors': 2835, 'somg': 8394, 'ozzy': 6933, 'r35': 7512, 'tin': 9010, 'boost': 2245, 'doin': 3519, 'thiis': 8925, 'alr': 1625, 'diying': 3502, 'hahahhaha': 4841, 'brev': 2320, 'slaped': 8274, '10m11s': 64, '2m39s': 690, 'mine': 6343, 'oi': 6780, '47m28s': 1057, 'criiiieeedddd': 3086, 'stumbling': 8626, 'upon': 9358, 'statistics': 8536, 'stacked': 8511, 'lots': 6033, 'burgers': 2434, 'makeups': 6138, 'persona': 7075, 'immature': 5281, 'coldest': 2811, 'pine': 7144, 'salty': 7888, 'kool': 5675, 'hu': 5170, 'moreeeeee': 6428, 'thissssssss': 8945, 'unsubscribing': 9338, 'fillayyyyyy': 4129, 'yeaa': 9919, 'gott': 4690, 'once': 6815, '51m21s': 1178, 'apologizes': 1715, 'banna': 1980, 'lock': 5965, '45m36s': 990, 'voted': 9527, 'intros': 5410, 'outnumber': 6898, 'lessssgooo': 5816, 'misy': 6373, 'endddd': 3769, 'referring': 7634, 'games': 4483, 'darceys': 3233, '28m07s': 634, 'dayzzz': 3268, '20m10s': 449, '20women': 478, 'heeeeeeeella': 4974, 'bix': 2168, 'witnessing': 9775, 'mentally': 6280, 'lewis': 5834, 'directive': 3452, 'ss': 8508, 'pity': 7172, 'didn': 3408, 'gratefull': 4716, 'vibing': 9437, 'thinner': 8936, 'official': 6763, 'bager': 1926, 'wingman': 9752, 'widemen': 9725, 'fillllyyyyyyyyyyyy': 4157, 'lmaooooooooooooo': 5937, 'bruvvv': 2386, 'trade': 9109, 'precalling': 7321, '7m': 1336, 'earn': 3656, '6m32s': 1317, 'hesss': 5020, 'wrongggggggg': 9847, 'crazier': 3048, 'booming': 2239, 'yaasiin': 9895, 'aburaas': 1446, 'stg': 8560, 'awh': 1859, 'flirty': 4270, 'tainted': 8770, 'goshhh': 4684, 'maaaaaaaaaaaaannnnnnn': 6076, 'losing': 6030, 'freya': 4372, 'very': 9424, 'filllllyyyy': 4149, 'hj': 5079, 'from': 4389, '52m17s': 1191, 'freaked': 4353, 'ballamory': 1944, '26m04s': 602, 'penghhhhg': 7042, 'three': 8958, 'fricken': 4375, 'fill': 4125, 'niga': 6622, '51m30s': 1179, 'local': 5964, 'crackhead': 3038, 'opinions': 6860, 'wished': 9765, 'swsing': 8754, 'replies': 7695, 'interview': 5403, 'fashionable': 4027, 'feelin': 4072, 'teh': 8846, 'compliments': 2896, 'simping': 8222, 'chuckle': 2698, 'freakin': 4354, 'horrendous': 5134, 'intimate': 5406, 'captivating': 2511, 'glued': 4600, 'risking': 7780, 'improvises': 5301, '46m52s': 1035, '48m47s': 1083, 'greatness': 4724, 'aj4osk22uyg': 1578, '10m26s': 72, '50m17s': 1159, 'resigned': 7715, 'existence': 3926, '10billy': 53, 'willyy': 9748, 'cutest': 3166, 'ride': 7765, 'emotionally': 3762, 'overwhelmed': 6925, '6million': 1324, 'bomb': 2230, 'spoken': 8476, 'leagues': 5751, 'tripping': 9162, 'arabian': 1743, 'gooi': 4658, '50m26s': 1163, 'choke': 2683, '11m': 93, 'serial': 8039, 'sniffer': 8350, '30m43s': 726, 'girlies': 4582, 'lm': 5923, 'hungry': 5196, 'contest': 2959, 'pfffff': 7095, 'fitch': 4236, 'unlocked': 9313, '23m07s': 539, 'mcgueen': 6224, 'godda': 4622, 'misogyny': 6362, 'beginning': 2061, 'cries': 3085, 'remove': 7679, 'instructions': 5380, 'billi': 2138, 'admit': 1497, 'answer': 1684, 'broh': 2340, 'holllyyy': 5100, 'becoming': 2043, 'catching': 2552, 'fillarious': 4127, 'sniper': 8357, 'chunkzzzz': 2710, 'waitttt': 9561, 'blown': 2199, 'amen': 1646, 'shade': 8057, 'pits': 7171, 'barked': 1995, 'cringiness': 3100, 'al': 1583, 'ahahahahahhahahahahah': 1552, 'isit': 5440, 'offff': 6761, 'oooh': 6842, 'app': 1718, 'websites': 9636, '6m25s': 1312, 'yeahh': 9928, 'propper': 7411, 'however': 5156, 'parcel': 6970, 'candidate': 2497, 'yeahhhhhh': 9932, 'mannnnnn': 6159, '1m35s': 410, '59m53s': 1256, '1h00m20s': 255, 'recognized': 7615, 'cyprusss': 3177, 'fillyy': 4177, 'lool': 6002, 'aloof': 1621, 'fiiillllyyyyyyyyyyy': 4118, 'roses': 7834, 'babatunde': 1898, '26m44s': 613, 'daydreaming': 3262, 'pit': 7168, 'raises': 7531, 'halve': 4862, 'seconde': 7984, 'sexiest': 8052, 'ti': 8981, 'bludclart': 2202, 'poppin': 7266, 'what': 9673, '5min': 1281, '71k': 1331, '10millions': 84, 'trrrrusst': 9172, '45m55s': 1001, 'o_o': 6736, '2m': 672, 'futcrunch': 4450, 'renamed': 7682, 'madman': 6112, 'memorable': 6271, 'gata': 4503, 'status': 8537, 'tobeys': 9036, 'mathews': 6208, 'mostly': 6439, 'wavelength': 9617, 'spanish': 8432, 'elton': 3737, 'chris': 2692, 'muslim': 6491, '5mins': 1282, 'daahhhhh': 3188, '52m50s': 1203, 'goatttt': 4617, 'yeeeeessssss': 9948, 'beeen': 2049, 'womans': 9790, '59m54s': 1257, 'same': 7892, 'huhhhhhh': 5180, 'owns': 6929, 'birmingham': 2155, 'perv': 7086, 'hahahahaahah': 4814, 'smoothhh': 8338, 'secured': 7992, 'miles': 6322, 'packed': 6940, 'works': 9820, '345k': 779, 'artist': 1770, 'practiced': 7309, 'worked': 9817, 'snot': 8360, 'un': 9258, 'cutoff': 3168, '1billion': 244, 'lollll': 5982, 'ruined': 7854, 'bogchamp': 2221, '14m18s': 124, 'landed': 5704, 'recognize': 7614, 'parla': 6978, 'hahahahaha': 4818, 'm8': 6073, '55m10s': 1230, 'jordan': 5556, 'poole': 7258, '1h05m12s': 317, '17m00s': 180, 'cloe': 2771, 'lessgoo': 5811, 'racists': 7519, 'creasin': 3064, 'company': 2882, 'evolution': 3897, 'grind': 4733, 'agjctcvfw0a': 1532, '18m38s': 218, 'tee': 8842, 'stephentries': 8553, 'amanzing': 1635, '34m36s': 791, 'rdy': 7569, 'sequence': 8037, 'fashion': 4026, 'jeee': 5497, 'creps': 3079, 'tear': 8830, 'specs': 8449, 'everywhere': 3892, '20min': 469, 'queria': 7493, 'ver': 9412, 'bglh': 2115, 'mas': 6186, 'entendo': 3799, 'nada': 6518, 'inglês': 5344, 'infelizmente': 5334, 'tem': 8852, 'legenda': 5772, 'qual': 7484, 'foi': 4293, 'põe': 7479, 'aí': 1891, 'cara': 2513, 'mith': 6375, 'closed': 2773, 'fingers': 4211, 'crossed': 3111, 'brrrrrrrrrrrrazy': 2361, 'guessed': 4752, 'tink': 9018, 'lesbion': 5802, 'successful': 8668, 'ending': 3771, 'reall': 7596, 'swallow': 8732, '0m26s': 29, 'looollll': 6004, 'we': 9627, '21m20s': 486, 'mayo': 6221, 'knock': 5662, 'medias': 6237, 'filled': 4130, 'fillis': 4139, 'givin': 4591, 'maaaaaann': 6080, 'jessica': 5506, 'lolz': 5986, 'filipi': 4124, 'torn': 9085, 'susana': 8725, 'youll': 10031, '13m28s': 114, 'yyoooooooo': 10067, 'certainly': 2580, 'bestttt': 2096, 'vidddd': 9449, 'phillipe': 7111, 'french': 4368, 'grim': 4731, 'nocap': 6640, 'handsdown': 4872, 'nextttttt': 6606, '1h06m05s': 326, 'deaddddd': 3280, 'dfkm': 3397, 'accepted': 1453, 'cheerleading': 2643, 'awww': 1867, 'and': 1665, '44m12s': 968, 'diet': 3416, 'naahhhh': 6517, '33m15s': 762, 'snuckel': 8362, 'wondered': 9796, 'douchebags': 3555, 'sayign': 7926, '44m06s': 967, '42m10s': 936, 'brv': 2389, 'fhily': 4103, 'gossip': 4686, 'reminding': 7677, 'crusty': 3121, 'crab': 3035, 'pizza': 7173, '33m25s': 765, 'scout': 7954, 'raid': 7528, 'sincerely': 8228, 'wishes': 9766, 'gassing': 4502, 'butters': 2447, 'using': 9386, 'market': 6175, 'fiply': 4222, 'office': 6762, 'versions': 9421, 'ittttt': 5457, '43m57s': 964, 'shush': 8159, 'hows': 5158, 'boogie': 2234, 'beebies': 2047, 'myth': 6504, 'retire': 7734, 'premise': 7336, 'selections': 8010, 'sleepy': 8290, 'goooood': 4664, 'lolll': 5981, 'linked': 5886, 'populair': 7268, 'describes': 3366, 'brada': 2290, '1h11m23s': 384, 'whalla': 9668, 'cleanssss': 2748, 'jumpsuit': 5575, '51m12s': 1177, 'logannnnnnnn': 5971, 'pleaseeeeee': 7206, 'hectic': 4972, 'written': 9844, '5m16s': 1270, 'behalf': 2063, 'selection': 8009, 'destroy': 3386, 'entirety': 3813, 'casual': 2547, 'gam': 4479, 'sinking': 8237, 'loosing': 6021, '4m07s': 1122, 'yuck': 10056, 'amuse': 1661, 'jake': 5478, 'fresh': 4370, 'errected': 3837, '1h11m40s': 390, 'headstand': 4950, '54m30s': 1220, 'oogway': 6838, '15m19s': 139, 'seennn': 8004, 'pumped': 7449, '24m45s': 578, 'shops': 8128, '4m02s': 1118, 'tuck': 9188, '33m12s': 760, 'hod': 5089, 'holyyyy': 5102, '23teampinkflaps': 563, 'teampinkflaps': 8829, 'bias': 2122, 'luck': 6057, 'cartoon': 2536, '33m10s': 759, 'vanoss': 9402, 'manz': 6164, 'failure': 3983, 'fruity': 4395, '4tg': 1137, 'vices': 9440, 'cheering': 2642, 'ayyyyyy': 1888, '1h04m00s': 301, 'moresidemen': 6433, '75': 1333, 'lfg': 5843, 'bone': 2232, 'ucf2kbxce7krxokumqfngv4w': 9227, 'qwandel': 7510, 'fn': 4285, 'school': 7947, 'vandal': 9400, 'calfreaszy': 2464, 'epi': 3820, 'chosen': 2691, '20m44s': 461, '30m37s': 724, 'favs': 4045, '29m08s': 655, 'prizes': 7370, 'fearless': 4060, 'writing': 9843, 'reference': 7632, 'soil': 8375, '30m50s': 728, 'chipo': 2670, 'harsh': 4917, 'reasons': 7603, 'glorious': 4595, 'scholar': 7946, 'roster': 7836, '1h11m01s': 377, 'chat': 2629, 'paypal': 7020, 'ideal': 5240, 'mygod': 6503, 'releasing': 7661, 'limitless': 5875, 'ninja': 6630, 'warrior': 9590, 'hahahahah': 4817, 'shoutout': 8141, 'prince': 7364, 'leak': 5752, 'gpnna': 4698, 'nail': 6527, 'chaaamp': 2584, '18m08s': 208, 'warden': 9587, 'censor': 2573, 'apologized': 1714, 'perform': 7057, 'adored': 1501, 'bisexual': 2158, 'les': 5800, 'approaching': 1735, 'era': 3835, 'autism': 1839, 'lmaaao': 5924, 'eyo': 3958, '43m07s': 941, '2pac': 702, 'slays': 8287, 'chose': 2690, 'ugh': 9234, 'ballon': 1949, 'everr': 3878, 'entered': 3801, 'performer': 7061, 'yong': 10013, 'killin': 5627, '10m30s': 74, 'expert': 3936, 'shxt': 8162, 'woow': 9812, 'til': 8996, 'lay': 5742, 'ommmgggg': 6811, 'fammmm': 4003, 'arabicccccc': 1745, 'nahhhhhhh': 6525, 'confirm': 2926, '11m31s': 99, 'lightyears': 5860, 'vets': 9429, '25m03s': 586, 'sniffling': 8355, 'touching': 9095, 'hair': 4851, 'fallen': 3993, 'plzzzzzzzzzz': 7234, 'kwame': 5685, 'abit': 1431, 'any1': 1689, 'brightens': 2326, 'roommm': 7829, 'tommyint': 9059, 'yyyyyyyyyyyyyyyyyeeeeeeeeeeeeeeeeeeeeeeeeeesssssssssssssssssssssssssssssss': 10070, 'dislikes': 3484, 'feminists': 4090, 'comedic': 2848, 'superb': 8708, '20m26s': 454, 'lmfaooooooooo': 5948, 'barranquilla': 1998, 'loveeeeeeeeeeed': 6042, 'screams': 7959, 'cartooln': 2535, 'comic': 2856, 'collette': 2826, 'fantasy': 4009, 'hmm': 5082, 'produced': 7382, 'jasmine': 5487, 'dwayne': 3634, 'jaz': 5492, 'running': 7861, 'playboi': 7190, 'clarti': 2737, 'sauceeeeeeeeeeeeeeeeeeeeeeeeeeeeeeeeeeeeeeeeeeeeeeeeeeee': 7911, 'properly': 7410, 'patient': 7005, 'grateful': 4715, '20mins': 470, 'rewind': 7751, 'hahaahhahaha': 4806, 'pleassseeeeeee': 7210, 'yesssssssssssssssssss': 9984, '6m12s': 1303, 'fuckery': 4404, 'nonsense': 6655, 'waaaay': 9541, 'evee': 3870, 'forehead': 4319, 'nyashiolitis': 6731, 'jeezy': 5501, 'dest': 3381, 'dol': 3522, 'whith': 9704, 'latin': 5722, 'unhinged': 9297, 'md': 6226, 'highlight': 5052, 'cheesin': 2645, 'casually': 2548, 'woke': 9786, 'juicing': 5568, 'yeahhhhh': 9931, 'finallyyyyyy': 4197, 'tgf': 8871, 'needing': 6571, 'gained': 4471, 'billllllllion': 2145, 'booooooay': 2241, 'potterpottyperciooo': 7293, '1h10m44s': 371, 'plain': 7178, 'wildd': 9736, 'moms': 6405, 'lee': 5764, 'evans': 3869, 'bellend': 2077, '48m56s': 1091, 'eff': 3693, 'ar': 1739, 'ee': 3691, 'kay': 5598, '1h10m00s': 366, 'zinga': 10083, 'understands': 9282, 'assignments': 1791, 'hii': 5056, 'childeren': 2659, 'currenty': 3154, '1h11m24s': 385, 'receives': 7605, '1h02m23s': 282, 'dear': 3287, 'sanity': 7900, 'chasers': 2627, 'acts': 1476, 'noes': 6642, 'finnally': 4217, 'aynt': 1875, '4m42s': 1129, 'degree': 3331, 'lmk': 5954, 'sight': 8194, 'ganto': 4488, 'pala': 6956, 'mamili': 6144, 'boss': 2258, 'dogie': 3517, '39m10s': 885, '27m10s': 619, 'biased': 2123, 'inner': 5353, 'excused': 3917, 'fcckin': 4054, 'smoothhhhhh': 8340, 'vlogs': 9516, 'hahahahahahah': 4824, 'pov': 7298, 'embrrassment': 3753, 'fillyyyyyyyyyy': 4183, 'maaaaaaaaaaad': 6077, 'damnnnnn': 3217, 'yuh': 10057, '28m43s': 645, '45m21s': 986, 'epitome': 3827, 'nyashhhhhhhhhhhhhh': 6729, 'guitare': 4759, 'hahahaah': 4810, 'stinks': 8566, '0m38s': 30, '43m48s': 956, '45m46s': 994, '1h03m51s': 297, 'pleas': 7200, '27m55s': 629, 'blast': 2178, 'seedy': 7996, 'nights': 6627, 'fittest': 4239, 'inspiration': 5368, 'aitch': 1576, 'gurl': 4762, 'goooooooo': 4670, 'banned': 1981, 'pulled': 7444, 'gyalss': 4780, 'breaker': 2309, 'behave': 2064, '3m26s': 908, 'filliy': 4140, 'squidward': 8498, 'sponge': 8477, 'sundayyyyyyyy': 8700, 'hala': 4856, 'madrid': 6115, 'wnt': 9780, 'garl': 4491, '10m42s': 78, 'halloween': 4860, 'bunk': 2428, 'massacre': 6190, 'replaced': 7693, 'rly': 7794, 'atleast': 1810, '5bill': 1261, '2m21s': 680, 'disbelief': 3465, '20m38s': 459, '27m11s': 620, 'probely': 7374, 'wwwwwwwwwwwwwww': 9868, 'flustered': 4280, 'destiny': 3384, 'humiliating': 5189, 'dm': 3505, 'jk': 5529, 'violation': 9501, 'alll': 1609, 'colombians': 2831, 'phd': 7103, 'bundoligy': 2425, 'lessgooo': 5812, 'subtitle': 8664, '48am': 1069, 'turd': 9195, 'suited': 8689, 'details': 3389, 'shelby': 8083, 'courage': 3024, 'godly': 4632, 'littlemix': 5911, 'tenner': 8855, '23m06s': 538, 'war': 9586, 'gradually': 4705, 'rising': 7778, '70': 1327, 'boredom': 2254, 'lack': 5688, 'ironic': 5429, 'accept': 1452, '45m35s': 989, 'sooner': 8401, 'lmfaoooooooooo': 5949, 'yeeeeah': 9939, 'symphony': 8756, 'mpua': 6462, 'lengerz': 5792, 'majority': 6133, '28m48s': 647, 'mentalll': 6279, 'tired': 9024, 'uneasy': 9288, 'styling': 8635, 'dragging': 3570, 'mrbeast': 6465, 'sayinh': 7929, '15m59s': 151, 'bur': 2433, 'mu': 6468, 'su': 8638, 'cracking': 3039, 'zesty': 10079, 'heyyyy': 5026, 'yahhh': 9897, 'onward': 6834, 'rarity': 7554, 'bottle': 2265, 'sea': 7972, 'wtfffffffff': 9858, 'tessss': 8863, 'curled': 3148, 'shud': 8158, 'famous': 4004, 'então': 3814, 'já': 5587, 'cá': 3179, 'esteve': 3855, 'bem': 2083, '39m30s': 895, 'ppaaaaaaaaafiumeeeeeeeee': 7305, 'nierian': 6621, 'loks': 5977, 'vido': 9461, 'funy': 4444, 'whybis': 9718, 'lmoa': 5956, 'earlier': 3649, '21m33s': 488, 'thy': 8979, 'fl': 4250, 'fired': 4226, 'recognise': 7612, 'dah': 3196, 'offkee': 6766, 'humorous': 5192, 'eww': 3899, 'maud': 6214, 'filthy': 4190, '1m': 398, '2hrs': 669, 'changing': 2604, 'ibr': 5225, 'percent': 7049, 'suomi': 8705, 'maailmanmestari': 6092, 'spiced': 8464, 'grow': 4740, 'worldclass': 9822, 'wonna': 9799, 'follows': 4299, 'twisted': 9215, 'beating': 2033, 'ao': 1705, 'squished': 8501, 'peaked': 7026, 'grams': 4708, 'inclined': 5310, 'hahahahahahhaah': 4829, '690k': 1294, '36m54s': 843, '1zywqiaowji': 428, 'bday': 2018, '29th': 664, 'handles': 4870, 'clue': 2786, '26m00s': 599, 'vdo': 9407, 'tym': 9220, 'yn': 10006, 'lip': 5888, 'bite': 2165, 'tiptoe': 9023, 'upward': 9372, 'blush': 2210, 'watcha': 9606, '55m00s': 1227, '04m50s': 12, 'grabbing': 4702, 'drawing': 3572, 'don': 3532, 'fakeup': 3989, 'hoped': 5128, 'stadium': 8512, 'bbc': 2012, 'remaining': 7668, 'invincible': 5417, 'toes': 9045, 'synced': 8757, 'watchable': 9607, 'yooooooooo': 10023, 'bruve': 2384, 'pearly': 7029, 'gates': 4505, 'acting': 1467, 'fukking': 4417, 'smokes': 8326, 'recycled': 7624, 'automatic': 1842, 'filler': 4131, '50m40s': 1169, '28m37s': 643, 'irony': 5431, 'epsiode': 3830, 'shades': 8058, 'foundation': 4340, 'bunkers': 2429, '22m40s': 511, 'toping': 9078, 'cliff': 2761, '100x': 44, 'degrading': 3330, 'arons': 1763, 'ignorant': 5254, 'dave': 3257, 'remeber': 7670, 'monitor': 6413, 'leather': 5759, 'trousers': 9171, 'dammnnnnn': 3210, 'voilating': 9522, 'bb': 2011, 'hy': 5211, 'vbvvvvvvvvh': 9406, 'hhhyh': 5040, 'yhhh': 9999, 'yhvvyvvvvhhhvvvv': 10000, 'hh': 5028, 'hyvyvhhh': 5221, 'yyyhhh': 10068, 'hhhh': 5031, 'hhhhh': 5032, 'hhhhhhh': 5033, 'hhhhhhhhhvy': 5039, 'hav': 4933, 'vhhh': 9431, 'hhhhhhhhh': 5034, 'hhhhhhhhhhhhhhhhhhhhhhhhhhhhhhhhhhhhhhhhhh': 5036, 'hhhhhhhhhhhhhhhhhhhhhhhhhhhhhhhhhhhhhhhhhhhhhhhh': 5037, 'hhhhhhhhhhhhhhhhhhhhhhhhhhhhhhhhhhhhhhhhhhhhhhvhhhhhhhhhhhhhhhhhhhhhhhhhhhhhhhhhhhhhhhhhhhhhhhhhhhhhhhhhhhhhhh': 5038, 'hvhhhhhhhhhhhvhhhhhhhhvhhhh': 5210, 'hhh': 5030, 'hhvhhh': 5041, 'stunned': 8627, '35m59s': 824, 'heha': 4979, 'of': 6750, 'tatto': 8810, 'soooooooo': 8409, 'unique': 9302, 'lauched': 5723, 'babies': 1901, '20m30s': 456, 'hmmm': 5083, 'subscribesd': 8655, 'dump': 3622, 'wash': 9594, 'stepped': 8554, 'allll': 1610, '46m43s': 1026, '1h06m15s': 329, 'columbian': 2839, 'dollars': 3525, 'your': 10036, 'wss': 9851, 'mmmmadd': 6382, '34m35s': 790, 'firecracker': 4225, 'broads': 2337, 'wowww': 9834, 'menaces': 6275, 'kendall': 5608, 'jenner': 5503, 'unlike': 9311, 'cheats': 2632, 'shiiiiii': 8101, 'anjay': 1674, 'dubbing': 3608, 'ga': 4467, 'value': 9398, 'mannn': 6156, 'gordon': 4679, 'ramsey': 7534, 'rp': 7841, 'utterly': 9391, 'whatsoever': 9678, '662': 1291, 'recognition': 7613, 'finessed': 4207, 'sc': 7931, 'lowe': 6047, '1m47s': 411, 'large': 5714, 'millioners': 6332, 'milion': 6324, 'quadrillion': 7482, 'bru': 2362, 'naaahh': 6514, 'heaven': 4966, 'seeegzzz': 7997, '43m10s': 943, 'primary': 7361, 'sooooon': 8406, 'undefeated': 9276, 'themes': 8897, 'muck': 6472, 'mai': 6124, 'daayyzzz': 3190, '2ould': 701, 'wooow': 9810, 'deceiving': 3294, 'pgtob3qthmw': 7099, 'mow': 6459, '57m05s': 1240, 'hahahhhhhahahahaha': 4845, 'pa': 6935, 'mundo': 6482, 'partition': 6989, 'tank': 8794, 'starting': 8530, 'interact': 5389, 'basis': 2003, 'lagging': 5697, 'flood': 4271, 'taller': 8791, '45m13s': 983, 'perfectt': 7056, 'guestt': 4756, 'yessirrrr': 9969, 'nuno': 6716, 'tavares': 8820, 'bass': 2005, 'licensing': 5847, 'states': 8535, 'led': 5763, 'clinging': 2762, 'express': 3944, 'feat': 4061, 'hiya': 5078, 'impossible': 5292, 'congradulations': 2934, 'er': 3834, 'zahra': 10071, 'str8': 8587, 'keeping': 5606, 'reaching': 7574, 'particularly': 6985, 'iz': 5466, '7k': 1335, '26m17s': 609, '1h00m50s': 265, '46m46s': 1029, 'offensive': 6757, 'cruel': 3116, 'ute': 9390, 'dnt': 3506, 'tooooooooo': 9073, '4m52s': 1132, '53m59s': 1215, 'viking': 9480, 'wdym': 9626, 'bundy': 2427, 'suzanna': 8729, 'clappedddd': 2730, 'ergenut': 3836, 'angliiska': 1668, 'versiq': 9422, 'debating': 3289, 'sections': 7991, 'virgins': 9511, 'wishing': 9767, '26m40s': 612, 'adisgusting': 1492, 'spice': 8463, 'nuh': 6707, 'inu': 5412, 'mi': 6308, 'daag': 3187, 'uc25tzmgm9onqriwflvzpg2a': 9225, '32m30s': 745, '31m55s': 737, 'eitteeeee': 3715, 'des': 3364, 'nehs': 6585, 'literal': 5901, 'commend': 2861, 'vics': 9445, 'tilted': 8998, '34m44s': 798, '10m19s': 68, '2m37s': 688, 'dictionary': 3405, 'traumatised': 9130, 'hoodie': 5120, 'wwwww': 9865, 'onese': 6820, 'fm': 4283, 'cked': 2720, 'board': 2214, 'fillllyyy': 4152, 'secons': 7987, 'aired': 1574, 'hahahahahhahahahahahahahah': 4833, 'alternate': 1629, 'decency': 3295, 'coincidence': 2806, 'asylum': 1808, 'winners': 9756, 'yesses': 9967, 'grt': 4743, 'gloves': 4596, 'direct': 3449, 'suppose': 8711, 'hurtful': 5202, 'sharing': 8070, 'congratulations': 2936, 'romell': 7823, '52m39s': 1202, 'performances': 7059, 'liners': 5882, 'saint': 7879, 'dacry': 3192, 'da7sssssss': 3181, 'coffee': 2803, 'onnnnn': 6832, 'liiiiifffeee': 5861, 'damnn': 3214, 'preet': 7327, 'michael': 6310, 'dapaah': 3231, 'curl': 3147, 'elseeeee': 3735, 'creep': 3076, 'umar': 9252, 'lovable': 6035, 'backstage': 1914, 'subtitles': 8665, 'bcx': 2016, 'giddy': 4569, 'moth': 6440, 'faka': 3987, 'topp': 9080, 'wowwwwww': 9837, 'downnnnnnnnn': 3564, 'charged': 2614, 'villan': 9492, 'moreover': 6432, 'continue': 2963, 'buenardo': 2402, 'el': 3717, 'vídeo': 9536, '21m35s': 489, 'sayin': 7927, 'outside': 6904, 'brazyyyyy': 2304, 'tu': 9185, 'pac': 6939, 'ishen': 5438, 'kiprea': 5647, 'mesa': 6295, 'yessir': 9968, 'wayyyyyy': 9625, 'yesssnsi': 9972, 'goddssssssss': 4629, 'lighting': 5857, '8m21s': 1363, 'slacking': 8269, 'goddam': 4623, '37m36s': 858, 'charmer': 2622, 'perked': 7069, 'meerkat': 6251, 'executor': 3922, '49m45s': 1110, 'ddnt': 3273, 'undercover': 9278, 'barks': 1997, '35m52s': 823, 'predicting': 7324, 'relatable': 7654, 'alongside': 1620, 'playful': 7195, 'crazyy': 3052, 'monster': 6415, 'choking': 2685, 'fxcking': 4459, 'nothin': 6683, 'freestyle': 4365, '142': 118, '51m04s': 1175, 'callback': 2468, 'fixed': 4243, 'looove': 6017, '3am': 902, 'planing': 7181, '16m11s': 162, 'ouuuff': 6910, 'damnnnn': 3216, '6m31s': 1316, 'giggity': 4574, '9m00s': 1378, 'nuke': 6710, 'fiancé': 4105, 'derserved': 3363, 'sum': 8690, 'mug': 6473, '8m23s': 1364, 'operator': 6858, 'medic': 6238, 'blond': 2191, 'lmfaoooooo': 5946, 'bahahaha': 1931, 'pg': 7098, '23sideman': 560, 'herry': 5016, 'peinaro': 7035, '54m32s': 1221, 'bend': 2086, 'magic': 6116, 'finger': 4210, 'aaaaaand': 1419, 'es': 3842, 'toxic': 9104, 'hawt': 4938, 'mirhaba': 6358, 'turks': 9199, 'extension': 3949, 'gigiggity': 4575, 'gigity': 4576, 'nvm': 6725, 'godmen': 4633, '45m50s': 998, 'happeing': 4884, 'tatood': 8807, 'april': 1738, '6th': 1326, 'lmfaooo': 5943, 'rub': 7847, 'afterwords': 1524, 'moved': 6452, 'panama': 6959, 'powerwalking': 7304, 'riot': 7774, 'hustling': 5206, '28m49s': 648, 'gooooood': 4666, 'devils': 3394, 'shitid': 8109, '10000000000': 39, '48m45s': 1082, 'presentation': 7342, 'selective': 8011, 'habibii': 4795, 'instanly': 5372, 'tube': 9186, 'fifth': 4111, 'loooooong': 6011, 'struggles': 8614, 'violate': 9497, 'ahahahahha': 1553, 'wallahi': 9577, 'susannah': 8726, '23xix': 565, 'xix': 9881, 'realizing': 7595, 'kinks': 5645, 'hack': 4797, 'comprehend': 2900, 'lmaooooooo': 5934, 'hailrious': 4850, 'heyyy': 5025, 'rocked': 7803, 'nnnnneeeeeeedddddd': 6636, 'asl': 1782, 'heavy': 4969, '53m24s': 1208, 'stewie': 8558, 'deffinetly': 3322, '1h02m21s': 280, '48m31s': 1081, '9m13s': 1382, 'disappeared': 3459, 'wya': 9869, 'broooooooooooooooooooooo': 2352, 'buss': 2440, '46m03s': 1010, '1h00m08s': 252, 'volume': 9523, 'frm': 4387, 'worried': 9823, 'abi': 1429, 'talo': 8792, 'sobe': 8367, 'mower': 6460, '1hr12mins': 396, 'cast': 2541, 'sara': 7904, 'ahahhahahahahhahahaha': 1561, '45m22s': 987, 'whammm': 9670, '52m29s': 1196, 'swole': 8752, 'stutter': 8632, 'wroetoshaw': 9845, 'charecter': 2612, 'vice': 9439, 'versa': 9417, 'chad': 2585, '40m20s': 923, 'keepers': 5605, 'learned': 5755, 'festish': 4094, '700k': 1328, 'gots': 4689, 'breeeeeed': 2319, 'savesoil': 7921, 'conscious': 2942, 'letsmakeithappen': 5823, 'spreading': 8489, 'massage': 6191, 'awareness': 1852, 'driving': 3587, 'policy': 7251, '193': 224, 'nations': 6543, 'toward': 9100, 'raising': 7532, 'maintaining': 6129, 'organic': 6874, 'soils': 8376, 'minimum': 6348, 'apparent': 1719, 'grammatical': 4707, 'error': 3838, 'yeaaaah': 9921, 'hyvä': 5222, 'younger': 10034, 'bestttttttt': 2098, 'myyyy': 6505, 'hstikiytokky': 5166, 'ray': 7567, 'sunlight': 8702, 'window': 9750, 'musttttt': 6494, 'doggg': 3514, 'houirrrr': 5150, 'spending': 8461, 'cleaning': 2746, 'furiously': 4448, '1ei82e9qcjcmupc1mcyzkaapzqavugimqa': 248, 'screwed': 7963, 'belief': 2074, 'restore': 7728, 'faith': 3986, '33m18s': 763, 'whaaaaatttttttttt': 9664, 'roy': 7840, 'keane': 5600, 'snm': 8359, '7wphnjdhrg8': 1347, 'deaaaaad': 3275, 'dødsing': 3646, 'ponaro': 7254, 'whtevr': 9715, 'spelling': 8459, 'technecly': 8836, 'haary': 4794, 'tremendous': 9144, '21m21s': 487, 'dies': 3415, 'nick': 6617, 'ghar': 4559, 'sh1t': 8055, 'including': 5312, 'space': 8429, 'nuff': 6706, 'penero': 7039, 'mainly': 6127, 'fascinating': 4025, 'nonce': 6651, 'weekly': 9641, 'ugkx8iyklgfx': 9236, 'cu9wyy8gtvjazbey5i9ni2m': 3133, 'goatedddddd': 4613, '27m30s': 622, '1min': 418, 'surpasses': 8717, '44m45s': 975, '48m25s': 1077, '1h02m19s': 278, 'gusse': 4763, 'behz': 2068, 'recent': 7607, 'fillers': 4132, 'nhaaaa': 6611, 'shitin': 8110, 'comming': 2870, '12m00s': 105, 'blame': 2175, 'nyashilitus': 6730, 'balled': 1945, '_n8h0iu34ru': 1409, 'waaae': 9542, 'wraps': 9841, '33m26s': 766, 'clowey': 2782, 'spell': 8458, 'kissed': 5649, 'gatekeeping': 4504, 'wasteman': 9602, '17m04s': 181, 'strong': 8608, 'channeled': 2606, 'chloes': 2677, 'although': 1630, 'yeeaaaah': 9937, 'maaan': 6089, '47m20s': 1053, 'weh': 9644, 'trash': 9127, 'yessssssss': 9979, 'ro': 7796, 'statement': 8534, 'animation': 1672, 'ain': 1572, 'frustration': 4396, 'noises': 6645, 'void': 9521, 'oat': 6737, '38m55s': 879, 'possibility': 7281, 'hacked': 4798, 'whitehall': 9701, 'providing': 7426, 'animals': 1671, 'hahaahah': 4804, 'hé': 5223, 'fireeeee': 4230, 'lexys': 5840, 'tugaaaaaaaaaaaaaaaaaaaaaaaaaaaaaaaaaaaaaaaaaaaaaaaaaaaaaaaaaaaaaaaaaaaaaaaaaaaaaaaaaaaaaaaaaaaaaaaaaaaaaaaaaaaaaaaaaaaaaaaaaaaaaaaaaaaaaaaaaaaaaaaaaaaaaaaaaaaaaaaaaaaaaaaaaa': 9189, 'brits': 2334, 'savages': 7916, 'yestges': 9988, 'yews': 9995, 'profile': 7387, 'pictures': 7134, '34m37s': 792, 'loove': 6023, '47m36s': 1061, 'cringiest': 3099, 'filipe': 4123, 'guyyy': 4768, 'yeaaaahhhyeaeaehaheh': 9923, 'unstoppable': 9333, '7m57s': 1346, 'sauceeeee': 7910, 'sporting': 8484, 'investment': 5416, 'cliché': 2756, 'germz': 4544, 'wiggins': 9733, 'raise': 7529, 'hurry': 5200, '6m11s': 1302, '49m32s': 1107, 'hahahahahaahahaahaahha': 4819, 'buisnessman': 2410, 'broooooooooooooooo': 2351, 'touchy': 9096, 'feely': 4076, 'mma': 6379, 'momento': 6399, 'waayyyyy': 9546, 'forgiving': 4326, 'hollering': 5098, 'siiickkkkkkk': 8202, 'pk': 7174, 'yeeeesssss': 9950, '43m09s': 942, '52m34s': 1199, '1h00m36s': 259, 'phillys': 7117, 'blueish': 2205, 'tint': 9019, 'dirtyyyy': 3455, 'ahahahha': 1556, 'narrative': 6538, 'speaker': 8440, 'diahrea': 3401, 'fro': 4388, '10gs': 57, 'breaking': 2311, 'checkout': 2636, 'documented': 3509, 'alguém': 1598, 'esse': 3849, 'didillyap': 3406, 'child': 2658, 'marking': 6177, 'streak': 8596, 'jheez': 5512, 'dome': 3527, 'subscribidid': 8656, 'hearts': 4963, '7m46s': 1341, '50m': 1145, 'troop': 9164, 'outsiders': 6905, '34m34s': 789, 'funnest': 4433, 'shawdy': 8072, 'wich': 9720, '39m22s': 891, '27m49s': 626, '42m54s': 937, '48m03s': 1072, '57m21s': 1242, '1h05m06s': 313, '1h06m16s': 330, '10m23s': 71, 'horse': 5141, 'cuddle': 3134, 'telepathy': 8847, 'ho': 5085, 'lass': 5716, '33m23s': 764, 'leaned': 5753, 'fillay': 4128, 'godddd': 4627, 'priorities': 7367, '8m02s': 1353, '1v1': 425, 'rawww': 7566, 'befriend': 2056, 'barging': 1993, 'huns': 5197, '28m05s': 633, '30m09s': 717, '37m40s': 859, 'corttelle': 3003, '59m57s': 1259, '180th': 206, 'viewer': 9473, 'cryinggggh': 3127, 'sidhu': 8188, 'moosewala': 6423, 'case': 2538, 'odd': 6749, 'kudos': 5682, 'inch': 5309, '20m06s': 448, 'zoom': 10092, 'dunno': 3626, 'suggestion': 8680, 'blm': 2186, 'unsubscribe': 9336, 'yal': 9898, 'rollinh': 7818, 'blacks': 2171, 'nuccas': 6705, 'dares': 3240, 'geezers': 4520, '1h03m50s': 296, 'overdue': 6917, 'editors': 3686, 'disappointed': 3461, 'earlyyy': 3652, 'boads': 2213, '28m46s': 646, '1h03m37s': 292, 'khadar': 5616, 'instas': 5375, 'thatbunda': 8884, '17m33s': 195, '19m22s': 231, 'oath': 6738, 'debt': 3290, '35m35s': 815, 'womean': 9792, 'hahahhahahaha': 4843, 'ghese': 4560, '29m11s': 657, '6m24s': 1311, 'kidding': 5622, 'fomo': 4301, 'regarding': 7641, '1h04m42s': 307, 'deadddd': 3279, 'goted': 4688, 'unsettling': 9329, 'archive': 1748, '24m02s': 572, 'sank': 7901, 'exes': 3923, '05m13s': 16, 'recipe': 7609, 'broccoli': 2338, 'pie': 7135, 'salmon': 7887, '27m48s': 625, 'bangerrrrrr': 1967, '46m44s': 1027, 'coulsnt': 3017, 'thankss': 8879, 'skill': 8254, 'dammmnn': 3207, 'rename': 7681, '52m06s': 1185, '32m56s': 750, 'lamo': 5701, '5m35s': 1275, 'dimes': 3437, 'nexttttttttttttt': 6607, 'excuses': 3918, 'bruvvvvvv': 2388, 'maxed': 6218, 'laughtrack': 5733, 'hellllaaaaa': 4992, 'madddddd': 6105, 'shooes': 8119, '27m57s': 631, 'zitti': 10088, 'buoni': 2432, 'faaaar': 3966, 'eliteee': 3727, 'sth': 8561, 'finalllllyyyyy': 4194, '20m39s': 460, '14m51s': 127, 'yaaas': 9893, 'eliminated': 3724, 'awkwardness': 1865, 'intertainer': 5401, 'neeko': 6582, '5x2q080zens': 1285, 'raahhhh': 7515, 'om': 6791, 'nom': 6648, 'bullied': 2414, 'bcs': 2014, 'pickup': 7130, 'cheesy': 2646, 'omddd': 6794, 'frrr': 4393, 'intefering': 5383, 'crossing': 3112, 'disliked': 3483, '39m44s': 901, 'gargamel': 4490, 'aha': 1542, 'voiceovers': 9520, 'fookin': 4306, 'carrot': 2530, 'contender': 2956, 'prompts': 7405, '1h07m32s': 336, 'bald': 1941, 'judgmental': 5566, '15m15s': 137, '1h03m58s': 300, 'sarah': 7905, 'bags': 1929, 'cushions': 3161, 'quickest': 7499, 'ossgvsk6rvw': 6883, '1h05m48s': 324, 'chillin': 2664, 'sheit': 8082, 'throats': 8962, 'hillarious': 5061, 'trigger': 9155, 'funerals': 4430, 'merebah': 6292, '27m42s': 624, '23m01s': 535, '43m15s': 946, 'faking': 3990, 'whosever': 9712, '3m24s': 907, 'jamie': 5481, 'ahahha': 1558, '36m13s': 829, 'reckon': 7611, '30k': 710, 'goldddddd': 4641, 'onwards': 6835, 'cell': 2569, 'theses': 8912, '39m39s': 900, 'theyve': 8917, 'gir': 4578, 'le7dsuogcaw': 5746, '57m52s': 1246, 'sipping': 8238, 'waiiit': 9553, 'crazzzy': 3058, 'appreciative': 1732, 'spread': 8488, 'positivity': 7279, 'rated': 7560, 'mannerisms': 6155, 'earlyyyyyyy': 3655, 'watchhh': 9610, 'backwards': 1915, 'humbled': 5188, 'torturing': 9089, 'residue': 7714, '1h05m09s': 314, 'fyck': 4460, 'calm': 2475, 'lifey': 5854, 'smacks': 8304, '1h01m40s': 271, 'casting': 2545, 'chlo': 2674, 'effortlessly': 3700, '23m09s': 540, 'puted': 7474, 'sensitive': 8030, 'hahahahahahaahaha': 4823, 'kebab': 5601, 'chippy': 2672, 'haaaave': 4792, 'smoothness': 8341, 'darkmode': 3245, 'option': 6867, 'intertaining': 5402, 'omfds': 6799, 'binge': 2151, 'forty': 4335, 'yr': 10051, 'falou': 3996, 'vamos': 9399, 'lokey': 5976, 'siht': 8200, 'hundreds': 5195, 'sunny': 8703, 'hater': 4927, 'stfu': 8559, '18m52s': 221, 'universe': 9306, 'abeg': 1428, 'clarify': 2736, 'premier': 7335, 'football': 4312, '1h06m21s': 332, 'haircut': 4852, 'farrr': 4015, 'balling': 1948, '52m20s': 1194, 'looooool': 6010, 'billionaire': 2141, 'ans': 1683, 'helppp': 4998, '23m50s': 556, 'fillllyyyyyy': 4154, 'bussing': 2443, 'checks': 2637, 'gooooooooooooooo': 4676, 'normalisation': 6670, 'repeated': 7688, 'yassssssss': 9908, 'bein': 2071, '40m00s': 920, 'itd': 5453, 'ben': 2084, 'shining': 8105, 'based': 2000, 'relation': 7657, '52m35s': 1200, 'amber': 1645, 'trendiest': 9146, 'wew': 9661, 'slutty': 8301, 'sumin': 8691, 'cutting': 3169, 'vikram': 9485, 'presume': 7349, 'regretted': 7648, 'permanently': 7071, 'kingg': 5640, 'locking': 5968, 'neek': 6581, 'dammnit': 3208, 'sheeesh': 8078, 'naaaa': 6510, 'mush': 6488, 'fiddy': 4108, 'collector': 2823, 'giat': 4564, 'juts': 5584, 'cairo': 2459, 'leos': 5798, '40m17s': 922, 'plug': 7226, 'delivery': 3343, 'screws': 7964, 'posting': 7289, 'contacted': 2952, '1h05m28s': 323, 'dogs': 3518, 'bi': 2121, '28m35s': 642, 'astaghfirullah': 1801, 'lackin': 5689, '5m21s': 1273, 'resputia': 7726, 'norbit': 6668, 'damaaaggggeeeee': 3201, '17m32s': 194, 'tjay': 9029, '1h01m00s': 266, 'winning': 9757, 'egypt': 3706, 'advertisement': 1507, 'kin': 5635, '50m14s': 1156, '50m41s': 1170, '52m13s': 1189, 'ripoff': 7776, 'fillet': 4133, 'litrelly': 5906, '1h07m53s': 337, 'apology': 1717, 'pleaseeeeeeee': 7208, '10m15s': 65, '60kg': 1290, 'leeess': 5766, 'ckin': 2721, 'vibey': 9435, 'yessssasssss': 9974, '45m58s': 1003, 'leshhh': 5808, '35m41s': 816, 'vidéos': 9467, '1man': 415, 'fireee': 4228, 'arseholes': 1768, 'pride': 7360, '34m16s': 783, 'noooooo': 6663, 'morpheus': 6437, '60k': 1289, 'hid': 5043, 'di': 3398, 'intentionally': 5388, 'wid': 9723, 'fi': 4104, 'representing': 7702, 'clan': 2727, 'bodyguard': 2219, 'lmki': 5955, 'revesered': 7745, 'tshirt': 9183, 'cheese': 2644, 'talker': 8785, 'costallo': 3006, 'rizzz': 7787, 'navy': 6552, 'coat': 2796, 'loveeee': 6039, 'viedos': 9468, 'sigh': 8191, '41m12s': 929, 'craziness': 3050, 'banher': 1978, 'violence': 9503, '5m20s': 1272, 'naaaaaa': 6512, '22m58s': 516, 'bagged': 1927, 'thsi': 8969, 'insert': 5363, 'begins': 2062, 'reacts': 7580, 'craaaaazy': 3033, 'bothered': 2262, 'disinterested': 3481, '50th': 1173, 'aaaaaaaaaaaaaaa': 1415, 'notepad': 6681, 'surprising': 8720, 'spark': 8436, '4m19s': 1125, 'residual': 7713, 'guaranteed': 4747, 'embarassed': 3740, 'morhers': 6434, 'latest': 5721, 'janet': 5483, 'jackson': 5473, '5000': 1142, 'downnn': 3562, 'matthews': 6212, '36m15s': 830, 'dojo2damoon': 3521, 'ahhh': 1565, 'treated': 9138, 'kno': 5661, 'outdone': 6893, 'additions': 1489, 'yesssssssss': 9980, 'careful': 2520, 'intimacy': 5405, 'strummed': 8616, 'source': 8427, 'paafume': 6938, '23contentgod': 523, 'contentgod': 2958, '44m33s': 971, 'contribution': 2974, 'maguire': 6121, 'defence': 3318, '2m23s': 682, 'ex': 3900, 'positives': 7278, 'inclusion': 5313, 'reveals': 7739, '1h11m55s': 392, 'farts': 4023, 'zoning': 10091, 'welp': 9652, 'shame': 8065, 'hahahahahh': 4830, 'tight': 8989, 'cultivation': 3138, 'ampretty': 1658, 'putin': 7475, 'overhyped': 6918, 'walahi': 9567, '1m54s': 413, 'vick': 9442, '23m14s': 543, 'efvuipxferm': 3702, 'thursday': 8976, 'ikyky': 5264, 'corny': 2997, 'buim7bduxaa': 2408, 'grown': 4742, 'exceptional': 3909, 'omfggggggggg': 6801, '18m19s': 213, 'dissapointed': 3491, '46m39s': 1023, '43m19s': 947, 'quitting': 7506, 'over': 6913, 'homeboy': 5105, 'subdays': 8645, '28m18s': 638, '29m30s': 659, '2m35s': 686, 'fiiiiishyyyy': 4117, 'noooo': 6661, 'idec': 5242, 'fosho': 4337, 'tensed': 8856, 'nephew': 6591, 'horney': 5133, 'wowwwwwww': 9838, 'huggin': 5175, '34m29s': 786, 'fuel': 4410, 'garbage': 4489, '1h04m44s': 308, '57m01s': 1239, 'omdd': 6793, 'dc': 3269, 'swapped': 8733, 'places': 7177, 'enjoywithme': 3793, '46m01s': 1008, 'krystelle': 5676, 'peaches': 7024, 'pt2': 7435, 'lunatic': 6063, '15m48s': 144, 'ayooo': 1878, 'bih': 2132, 'drumstick': 3596, 'squishy': 8503, '12m20s': 107, 'clothed': 2777, 'sun': 8696, 'while': 9692, '45m59s': 1004, 'preform': 7333, 'slickest': 8293, 'ide': 5238, 'have': 4934, 'hanging': 4880, 'trouser': 9170, 'longerthan': 5991, 'comon': 2881, '3m51s': 911, 'admire': 1495, 'smiles': 8320, 'collaborations': 2819, '21m55s': 494, 'wooo': 9806, 'pop': 7261, 'actress': 1475, 'soulmate': 8422, 'engage': 3781, 'donno': 3535, 'fillipe': 4138, 'psyched': 7430, 'gospel': 4685, 'hahahahhahahahahahhahaha': 4839, 'standers': 8519, 'updated': 9352, 'invested': 5415, 'cross': 3110, 'pond': 7255, 'hew': 5021, 'all': 1606, 'subscribes': 8654, 'gona': 4645, 'goody': 4654, 'pretended': 7351, 'map': 6166, 'yeeeeeee': 9942, 'reusing': 7738, 'communicate': 2877, 'bobblehead': 2217, 'oriental': 6877, 'equivalent': 3833, '47m46s': 1064, 'sewy': 8051, '1m26s': 408, 'tapped': 8796, 'eva': 3867, 'eyooo': 3959, 'droping': 3589, 'litter': 5908, '17m22s': 187, 'ought': 6888, 'candy': 2498, 'shop': 8127, 'ipl': 5426, 'beckham': 2039, '1h11m22s': 383, 'purpleish': 7460, 'ffiillllyyyyyyy': 4099, 'faacckinnngg': 3969, 'geemmmmmmm': 4516, 'dryyyyy': 3599, 'rass': 7557, 'dum': 3619, 'flap': 4253, 'trainer': 9117, 'jesussss': 5509, 'fabrizio': 3970, 'romano': 7819, 'transfer': 9121, 'cameo': 2481, 'yellin': 9958, 'corporation': 2998, 'frl': 4386, 'expensive': 3933, '2019': 438, 'thingg': 8929, '17m28s': 190, 'filllyyyyyy': 4164, 'hockey': 5088, 'championship': 2597, 'hahahhahahha': 4844, 'undisputedly': 9286, 'gggggggggggggggg': 4555, 'hopping': 5132, 'adam': 1483, 'interference': 5395, 'tomms': 9055, 'screeam': 7960, 'gibbbb': 4566, 'cloud': 2780, 'argue': 1755, 'laughingggggg': 5728, 'gears': 4513, 'approach': 1734, '1h00m35s': 258, 'yoooooooo': 10022, 'charge': 2613, 'naah': 6516, 'silently': 8210, 'agreeing': 1537, 'richer': 7760, 'showed': 8145, '36m49s': 839, 'merci': 6289, 'lend': 5788, 'lobby': 5963, 'headache': 4944, 'chucks': 2699, 'austin': 1835, 'powers': 7303, 'urban': 9374, 'dreading': 3573, 'tikkytokky': 8993, 'enteraining': 3800, 'parents': 6973, 't5': 8762, 'outttt': 6909, 'smokee': 8324, '18m17s': 211, 'duos': 3630, 'hugger': 5174, 'alllllllll': 1611, 'tgis': 8873, 'ticky': 8985, 'tocky': 9040, 'flipped': 4265, 'alott': 1623, 'participating': 6984, 'ignored': 5256, 'invisible': 5418, 'rightly': 7768, 'ersonality': 3841, 'dookie': 3543, 'hahahahaahahahah': 4815, 'rizzzzzzzzzzzz': 7791, 'editions': 3683, 'sidemens': 8180, 'wigged': 9732, 'mod': 6388, 'lesgoooooo': 5807, 'powerleague': 7302, 'revenue': 7741, '8v1': 1369, 'b4': 1893, 'theyre': 8916, '7m00s': 1337, 'doctor': 3508, 'slone': 8296, 'fortnite': 4334, 'fineeeeeeeeeeee': 4206, 'haaaaaaaa': 4787, 'laught': 5730, '54m51s': 1224, 'squads': 8495, 'looolllll': 6005, '1h07m58s': 342, 'dushane': 3632, 'bahck': 1934, 'blandford': 2177, 'pinerro': 7152, 'dinero': 3439, 'listend': 5894, 'teachers': 8827, '46m02s': 1009, '1h11m26s': 387, 'wtfff': 9855, 'curtis': 3159, 'suicidal': 8683, 'spoon': 8482, '1b': 243, 'lipstick': 5891, 'uhhh': 9240, 'beetlejuice': 2053, 'everlasting': 3877, '49m50s': 1111, 'woofin': 9805, '35m30s': 814, 'script': 7965, '35m43s': 817, '36m34s': 833, 'henry': 4999, 'anyones': 1698, 'hindi': 5065, 'combine': 2842, 'asure': 1804, 'obsessed': 6742, 'western': 9657, 'lyk': 6071, 'aight': 1569, 'wrap': 9840, 'assume': 1796, 'sides': 8185, 'ssoooo': 8509, '20m20s': 453, 'scroll': 7968, 'tiktoks': 8995, '1h11m18s': 381, 'wooooooooooo': 9808, 'spat': 8437, 'xxd': 9886, 'saver': 7919, 'tryn': 9180, 'chalk': 2590, 'recovering': 7620, 'logic': 5973, 'whipped': 9696, 'videoes': 9453, 'handsoff': 4875, 'greg': 4728, '15m57s': 150, 'creative': 3070, 'unskippable': 9330, 'blair': 2174, 'shouts': 8143, 'gasses': 4501, 'hypes': 5217, 'rings': 7772, 'umjfummmy': 9253, 'scenarios': 7943, 'cricket': 3082, 'rapy': 7551, 'patiently': 7006, 'toe': 9044, 'hellenes': 4991, 'witch': 9769, 'bundas': 2424, '6m18s': 1305, 'businessman': 2439, 'diedddd': 3412, '22m48s': 512, 'weaknesss': 9632, 'smoooth': 8334, 'wifing': 9730, '4m03s': 1119, 'gyaaat': 4773, 'following': 4298, 'seldom': 8008, 'upstaged': 9369, 'signing': 8198, 'algarveeeee': 1595, '39m00s': 883, 'anyday': 1692, '90': 1370, 'phillly': 7114, 'biting': 2166, 'butha': 2445, 'contract': 2969, 'dough': 3556, '48min': 1092, 'wet': 9658, 'dosen': 3550, 'depressed': 3360, '26m28s': 611, 'pushed': 7468, 'wheezing': 9682, 'bruuhhh': 2377, 'paaarfum': 6937, 'ingredients': 5345, 'iis': 5260, 'differentttt': 3421, 'rocker': 7804, 'ditching': 3499, 'satisfying': 7907, 'cockyness': 2799, 'pranked': 7314, '42m00s': 935, 'jazzyguns': 5493, 'از': 10109, 'خنده': 10111, 'فک': 10114, 'مه': 10117, 'درد': 10112, 'گرفت': 10118, 'goateddddd': 4612, 'rep': 7686, '34m32s': 788, 'cotton': 3008, 'midlands': 6314, 'sack': 7872, 'wtffffff': 9856, 'filllyyyyyyy': 4165, 'finland': 4214, 'library': 5846, 'fillv': 4170, 'numberrrssss': 6713, 'wicked': 9721, 'pissing': 7167, 'decent': 3296, 'token': 9049, 'suiiiiiiiiiiiiiiiiiiiiiiiiiiiiiiiiiiiiiiiiiiiiiiiiiiiiiiiiiiiiiiiiiiiiiiiiiiiiiiiiiiiiiiiiiiiiiiiiiiiiiiiiiiiiiiiiiiiiiiiiiiiiiiiiiiiiiiiiiiiiiiiiiiiiiiiiiiiiiiiiiiiiiiiiiiiiiiiiiiiiiiiiiiiiiiiiiiiiiiiiiiiiiiiiiiiiiiiiiiiiiiiiiiiiiiiiiiiiiiiiiiiiiiiiiiiiiiiiiiiiiiiiiiiiiiiiiiiiiiiiiiiiiiiiiiiiiiiiiiiiiiiiiiiiiiiiiiiiiiiiiiiiiiiiiiiiiiiiiiiiiiiiiiiiiiiiiiiiiiiiiiiiiiiiiiiiiiiiiiiiiiiiiiiiiiiiiiiiiiiiiiiiiiiiiiiiiiiiiiiiiiiiiiiiiiiiiiiiiiiiiiiiiiiiiiiiiiiiiiiiiiiiiiiiiiiiiiiiiiiiiiiiiiiiiiiiiiiiiiiiiiiiiiiiiiiiiiiiiiiiiiiiiiiiiiiiiiiiiiiiiiiiiiiiiiiiiiiiiiiiiiiiiiiiiiiiiiiiiiiiiiiiiiiiiiiiiiiiiiiiiiiiiiiiiiiiiiiiiiiiiiiiiiiiiiiiiiiiiiiiiiiiiiiiiiiiiiiiiiiiiiiiiiiiiiiiiiiiiiiiiiiiiiiiiiiiiiiiiiiiiiiiiiiiiiiiiiiiiiiiiiiiiiiiiiiiiiiiiiiiiiiiiiiiiiiiiiiiiiiiiiiiiiiiiiiiiiiiiiiiiiiiiiiiiiiiiiiiiiiiiiiiiiiiiiiiiiiiiiiiiiiiiiiiiiiiiiiiiiiiiiiiiiiiiiiiiiiiiiiiiiiiiiiiiiiiiiiiiiiiiiiiiiiiiiiiiiiiiiiiiiiiiiiiiiiiiiiiiiiiiiiiiiiiiiiiiiiiiiiiiiiiiiiiiiiiiiiiiiiiiiiiiiiiiiiiiiiiiiiiiiiiiiiiiiiiiiiiiiiiiiiiiiiiiiiiiiiiiiiiiiiiiiiiiiiiiiiiiiiiiiiiiiiiiiiiiiiiiiiiiiiiiiiiiiiiiiiiiiiiiiiiiiiiiiiiiiiiiiiiiiiiiiiiiiiiiiiiiiiiiiiiiiiiiiiiiiiiiiiiiiiiiiiiiiiiiiiiiiiiiiiiiiiiiiiiiiiiiiiiiiiiiiiiiiiiiiiiiiiiiiiiiiiiiiiiiiiiiiiiiiiiiiiiiiiiiiiiiiiiiiiiiiiiiiiiiiiiiiiiiiiiiiiiiiiiiiiiiiiiiiiiiiiiiiiiiiiiiiiiiiiiiiiiiiiiiiiiiiiiiiiiiiiiiiiiiiiiiiiiiiiiiiiiiiiiiiiiiiiiiiiiiiiiiiiiiiiiiiiiiiiiiiiiiiiiiiiiiiiiiiiiiiiiiiiiiiiiiiiiiiiiiiiiiiiiiiiiiiiiiiiiiiiiiiiiiiiiiiiiiiiiiiiiiiiiiiiiiiiiiiiiiiiiiiiiiiiiiiiiiiiiiiiiiiiiiiiiiiiiiiiiiiiiiiiiiiiiiiiiiiiiiiiiiiiiiiiiiiiiiiiiiiiiiiiiiiiiiiiiiiiiiiiiiiiiiiiiiiiiiiiiiiiiiiiiiiiiiiiiiiiiiiiiiiiiiiiiiiiiiiiiiiiiiiiiiiiiiiiiiiiiiiiiiiiiiiiiiiiiiiiiiiiiiiiiiiiiiiiiiiiiiiiiiiiiiiiiiiiiiiiiiiiiiiiiiiiiiiiiiiiiiiiiiiiiiiiiiiiiiiiiiiiiiiiiiiiiiiiiiiiiiiiiiiiiiiiiiiiiiiiiiiiiiiiiiiiiiiiiiiiiiiiiiiiiiiiiiiiiiiiiiiiiiiiiiiiiiiiiiiiiiiiiiiiiiiiiiiiiiiiiiiiiiiiiiiiiiiiiiiiiiiiiiiiiiiiiiiiiiiiiiiiiiiiiiiiiiiiiiiiiiiiiiiiiiiiiiiiiiiiiiiiiiiiiiiiiiiiiiiiiiiiiiiiiiiiiiiiiiiiiiiiiiiiiiiiiiiiiiiiiiiiiiiiiiiiiiiiiiiiiiiiiiiiiiiiiiiiiiiiiiiiiiiiiiiiiiiiiiiiiiiiiiiiiiiiiiiiiiiiiiiiiiiiiiiiiiiiiiiiiiiiiiiiiiiiiiiiiiiiiiiiiiiiiiiiiiiiiiiiiiiiiiiiiiiiiiiiiiiiiiiiiiiiiiiiiiiiiiiiiiiiiiiiiiiiiiiiiiiiiiiiiiiiiiiiiiiiiiiiiiiiiiiiiiiiiiiiiiiiiiiiiiiiiiiiiiiiiiiiiiiiiiiiiiiiiiiiiiiiiiiiiiiiiiiiiiiiiiiiiiiiiiiiiiiiiiiiiiiiiiiiiiiiiiiiiiiiiiiiiiiiiiiiiiiiiiiiiiiiiiiiiiiiiiiiiiiiiiiiiiiiiiiiiiiiiiiiiiiiiiiiiiiiiiiiiiiiiiiiiiiiiiiiiiiiiiiiiiiiiiiiiiiiiiiiiiiiiiiiiiiiiiiiiiiiiiiiiiiiiiiiiiiiiiiiiiiiiiiiiiiiiiiiiiiiiiiiiiiiiiiiiiiiiiiiiiiiiiiiiiiiiiiiiiiiiiiiiiiiiiiiiiiiiiiiiiiiiiiiiiiiiiiiiiiiiiiiiiiiiiiiiiiiiiiiiiiiiiiiiiiiiiiiiiiiiiiiiiiiiiiiiiiiiiiiiiiiiiiiiiiiiiiiiiiiiiiiiiiiiiiiiiiiiiiiiiiiiiiiiiiiiiiiiiiiiiiiiiiiiiiiiiiiiiiiiiiiiiiiiiiiiiiiiiiiiiiiiiiiiiiiiiiiiiiiiiiiiiiiiiiiiiiiiiiiiiiiiiiiiiiiiiiiiiiiiiiiiiiiiiiiiiiiiiiiiiiiiiiiiiiiiiiiiiiiiiiiiiiiiiiiiiiiiiiiiiiiiiiiiiiiiiiiiiiiiiiiiiiiiiiiiiiiiiiiiiiiiiiiiiiiiiiiiiiiiiiiiiiiiiiiiiiiiiiiiiiiiiiiiiiiiiiiiiiiiiiiiiiiiiiiiiiiiiiiiiiiiiiiiiiiiiiiiiiiiiiiiiiiiiiiiiiiiiiiiiiiiiiiiiiiiiiiiiiiiiiiiiiiiiiiiiiiiiiiiiiiiiiiiiiiiiiiiiiiiiiiiiiiiiiiiiiiiiiiiiiiiiiiiiiiiiiiiiiiiiiiiiiiiiiiiiiiiiiiiiiiiiiiiiiiiiiiiiiiiiiiiiiiiiiiiiiiiiiiiiiiiiiiiiiiiiiiiiiiiiiiiiiiiiiiiiiiiiiiiiiiiiiiiiiiiiiiiiiiiiiiiiiiiiiiiiiiiiiiiiiiiiiiiiiiiiiiiiiiiiiiiiiiiiiiiiiiiiiiiiiiiiiiiiiiiiiiiiiiiiiiiiiiiiiiiiiiiiiiiiiiiiiiiiiiiiiiiiiiiiiiiiiiiiiiiiiiiiiiiiiiiiiiiiiiiiiiiiiiiiiiiiiiiiiiiiiiiiiiiiiiiiiiiiiiiiiiiiiiiiiiiiiiiiiiiiiiiiiiiiiiiiiiiiiiiiiiiiiiiiiiiiiiiiiiiiiiiiiiiiiiiiiiiiiiiiiiiiiiiiiiiiiiiiiiiiiiiiiiiiiiiiiiiiiiiiiiiiiiiiiiiiiiiiiiiiiiiiiiiiiiiiiiiiiiiiiiiiiiiiiiiiiiiiiiiiiiiiiiiiiiiiiiiiiiiiiiiiiiiiiiiiiiiiiiiiiiiiiiiiiiiiiiiiiiiiiiiiiiiiiiiiiiiiiiiiiiiiiiiiiiiiiiiiiiiiiiiiiiiiiiiiiiiiiiiiiiiiiiiiiiiiiiiiiiiiiiiiiiiiiiiiiiiiiiiiiiiiiiiiiiiiiiiiiiiiiiiiiiiiiiiiiiiiiiiiiiiiiiiiiiiiiiiiiiiiiiiiiiiiiiiiiiiiiiiiiiiiiiiiiiiiiiiiiiiiiiiiiiiiiiiiiiiiiiiiiiiiiiiiiiiiiiiiiiiiiiiiiiiiiiiiiiiiiiiiiiiiiiiiiiiiiiiiiiiiiiiiiiiiiiiiiiiiiiiiiiiiiiiiiiiiiiiiiiiiiiiiiiiiiiiiiiiiiiiiiiiiiiiiiiiiiiiiiiiiiiiiiiiiiiiiiiiiiiiiiiiiiiiiiiiiiiiiiiiiiiiiiiiiiiiiiiiiiiiiiiiiiiiiiiiiiiiiiiiiiiiiiiiiiiiiiiiiiiiiiiiiiiiiiiiiiiiiiiiiiiiiiiiiiiiiiiiiiiiiiiiiiiiiiiiiiiiiiiiiiiiiiiiiiiiiiiiiiiiiiiiiiiiiiiiiiiiiiiiiiiiiiiiiiiiiiiiiiiiiiiiiiiiiiiiiiiiiiiiiiiiiiiiiiiiiiiiiiiiiiiiiiiiiiiiiiiiiiiiiiiiiiiiiiiiiiiiiiiiiiiiiiiiiiiiiiiiiiiiiiiiiiiiiiiiiiiiiiiiiiiiiiiiiiiiiiiiiiiiiiiiiiiiiiiiiiiiiiiiiiiiiiiiiiiiiiiiiiiiiiiiiiiiiiiiiiiiiiiiiiiiiiiiiiiiiiiiiiiiiiiiiiiiiiiiiiiiiiiiiiiiiiiiiiiiiiiiiiiiiiiiiiiiiiiiiiiiiiiiiiiiiiiiiiiiiiiiiiiiiiiiiiiiiiiiiiiiiiiiiiiiiiiiiiiiiiiiiiiiiiiiiiiiiiiiiiiiiiiiiiiiiiiiiiiiiiiiiiiiiiiiiiiiiiiiiiiiiiiiiiiiiiiiiiiiiiiiiiiiiiiiiiiiiiiiiiiiiiiiiiiiiiiiiiiiiiiiiiiiiiiiiiiiiiiiiiiiiiiiiiiiiiiiiiiiiiiiiiiiiiiiiiiiiiiiiiiiiiiiiiiiiiiiiiiiiiiiiiiiiiiiiiiiiiiiiiiiiiiiiiiiiiiiiiiiiiiiiiiiiiiiiiiiiiiiiiiiiiiiiiiiiiiiiiiiiiiiiiiiiiiiiiiiiiiiiiiiiiiiiiiiiiiiiiiiiiiiiiiiiiiiiiiiiiiiiiiiiiiiiiiiiiiiiiiiiiiiiiiiiiiiiiiiiiiiiiiiiiiiiiiiiiiiiiiiiiiiiiiiiiiiiiiiiiiiiiiiiiiiiiiiiiiiiiiiiiiiiiiiiiiiiiiiiiiiiiiiiiiiiiiiiiiiiiiiiiiiiiiiiiiiiiiiiiiiiiiiiiiiiiiiiiiiiiiiiiiiiiiiiiiiiiiiiiiiiiiiiiiiiiiiiiiiiiiiiiiiiiiiiiiiiiiiiiiiiiiiiiiiiiiiiiiiiiiiiiiiiiiiiiiiiiiiiiiiiiiiiiiiiiiiiiiiiiiiiiiiiiiiiiiiiiiiiiiiiiiiiiiiiiiiiiiiiiiiiiiiiiiiiiiiiiiiiiiiiiiiiiiiiiiiiiiiiiiiiiiiiiiiiiiiiiiiiiiiiiiiiiiiiiiiiiiiiiiiiiiiiiiiiiiiiiiiiiiiiiiiiiiiiiiiiiiiiiiiiiiiiiiiiiiiiiiiiiiiiiiiiiiiiiiiiiiiiiiiiiiiiiiiiiiiiiiiiiiiiiiiiiiiiiiiiiiiiiiiiiiiiiiiiiiiiiiiiiiiiiiiiiiiiiiiiiiiiiiiiiiiiiiiiiiiiiiiiiiiiiiiiiiiiiiiiiiiiiiiiiiiiiiiiiiiiiiiiiiiiiiiiiiiiiiiiiiiiiiiiiiiiiiiiiiiiiiiiiiiiiiiiiiiiiiiiiiiiiiiiiiiiiiiiiiiiiiiiiiiiiiiiiiiiiiiiiiiiiiiiiiiiiiiiiiiiiiiiiiiiiiiiiiiiiiiiiiiiiiiiiiiiiiiiiiiiiiiiiiiiiiiiiiiiiiiiiiiiiiiiiiiiiiiiiiiiiiiiiiiiiiiiiiiiiiiiiiiiiiiiiiiiiiiiiiiiiiiiiiiiiiiiiiiiiiiiiiiiiiiiiiiiiiiiiiiiiiiiiiiiiiiiiiiiiiiiiiiiiiiiiiiiiiiiiiiiiiiiiiiiiiiiiiiiiiiiiiiiiiiiiiiiiiiiiiiiiiiiiiiiiiiiiiiiiiiiiiiiiiiiiiiiiiiiiiiiiiiiiiiiiiiiiiiiiiiiiiiiiiiiiiiiiiiiiiiiiiiiiiiiiiiiiiiiiiiiiiiiiiiiiiiiiiiiiiiiiiiiiiiiiiiiiiiiiiiiiiiiiiiiiiiiiiiiiiiiiiiiiiiiiiiiiiiiiiiiiiiiiiiiiiiiiiiiiiiiiiiiiiiiiiiiiiiiiiiiiiiiiiiiiiiiiiiiiiiiiiiiiiiiiiiiiiiiiiiiiiiiiiiiiiiiiiiiiiiiiiiiiiiiiiiiiiiiiiiiiiiiiiiiiiiiiiiiiiiiiiiiiiiiiiiiiiiiiiiiiiiiiiiiiiiiiiiiiiiiiiiiiiiiiiiiiiiiiiiiiiiiiiiiiiiiiiiiiiiiiiiiiiiiiiiiiiiiiiiiiiiiiiiiiiiiiiiiiiiiiiiiiiiiiiiiiiiiiiiiiiiiiiiiiiiiiiiiiiiiiiiiiiiiiiiiiiiiiiiiiiiiiiiiiiiiiiiiiiiiiiiiiiiiiiiiiiiiiiiiiiiiiiiiiiiiiiiiiiiiiiiiiiiiiiiiiiiiiiiiiiiiiiiiiiiiiiiiiiiiiiiiiiiiiiiiiiiiiiiiiiiiiiiiiiiiiiiiiiiiiiiiiiiiiiiiiiiiiiiiiiiiiiiiiiiiiiiiiiiiiiiiiiiiiiiiiiiiiiiiiiiiiiiiiiiiiiiiiiiiiiiiiiiiiiiiiiiiiiiiiiiiiiiiiiiiiiiiiiiiiiiiiiiiiiiiiiiiiiiiiiiiiiiiiiiiiiiiiiiiiiiiiiiiiiiiiiiiiiiiiiiiiiiiiiiiiiiiiiiiiiiiiiiiiiiiiiiiiiiiiiiiiiiiiiiiiiiiiiiiiiiiiiiiiiiiiiiiiiiiiiiiiiiiiiiiiiiiiiiiiiiiiiiiiiiiiiiiiiiiiiiiiiiiiiiiiiiiiiiiiiiiiiiiiiiiiiiiiiiiiiiiiiiiiiiiiiiiiiiiiiiiiiiiiiiiiiiiiiiiiiiiiiiiiiiiiiiiiiiiiiiiiiiiiiiiiiiiiiiiiiiiiiiiiiiiiiiiiiiiiiiiiiiiiiiiiiiiiiiiiiiiiiiiiiiiiiiiiiiiiiiiiiiiiiiiiiiiiiiiiiiiiiiiiiiiiiiiiiiiiiiiiiiiiiiiiiiiiiiiiiiiiiiiiiiiiiiiiiiiiiiiiiiiiiiiiiiiiiiiiiiiiiiiiiiiiiiiiiiiiiiiiiiiiiiiiiiiiiiiiiiiiiiiiiiiiiiiiiiiiiiiiiiiiiiiiiiiiiiiiiiiiiiiiiiiiiiiiiiiiiiiiiiiiiiiiiiiiiiiiiiiiiiiiiiiiiiiiiiiiiiiiiiiiiiiiiiiiiiiiiiiiiiiiiiiiiiiiiiiiiiiiiiiiiiiiiiiiiiiiiiiiiiiiiiiiiiiiiiiiiiiiiiiiiiiiiiiiiiiiiiiiiiiiiiiiiiiiiiiiiiiiiiiiiiiiiiiiiiiiiiiiiiiiiiiiiiiiiiiiiiiiiiiiiiiiiiiiiiiiiiiiiiiiiiiiiiiiiiiiiiiiiiiiiiiiiiiiiiiiiiiiiiiiiiiiiiiiiiiiiiiiiiiiiiiiiiiiiiiiiiiiiiiiiiiiiiiiiiiiiiiiiiiiiiiiiiiiiiiiiiiiiiiiiiiiiiiiiiiiiiiiiiiiiiiiiiiiiiiiiiiiiiiiiiiiiiiiiiiiiiiiiiiiiiiiiiiiiiiiiiiiiiiiiiiiiiiiiiiiiiiiiiiiiiiiiiiiiiiiiiiiiiiiiiiiiiiiiiiiiiiiiiiiiiiiiiiiiiiiiiiiiiiiiiiiiiiiiiiiiiiiiiiiiiiiiiiiiiiiiiiiiiiiiiiiiiiiiiiiiiiiiiiiiiiiiiiiiiiiiiiiiiiiiiiiiiiiiiiiiiiiiiiiiiiiiiiiiiiiiiiiiiiiiiiiiiiiiiiiiiiiiiiiiiiiiiiiiiiiiiiiiiiiiiiiiiiiiiiiiiiiiiiiiiiiiiiiiiiiiiiiiiiiiiiiiiiiiiiiiiiiiiiiiiiiiiiiiiiiiiiiiiiiiiiiiiiiiiiiiiiiiiiiiiiiiiiiiiiiiiiiiiiiiiiiiiiiiiiiiiiiiiiiiiiiiiiiiiiiiiiiiiiiiiiiiiiiiiiiiiiiiiiiiiiiiiiiiiiiiiiiiiiiiiiiiiiiiiiiiiiiiiiiiiiiiiiiiiiiiiiiiiiiiiiiiiiiiiiiiiiiiiiiiiiiiiiiiiiiiiiiiiiiiiiiiiiiiiiiiiiiiiiiiiiiiiiiiiiiiiiiiiiiiiiiiiiiiiiiiiiiiiiiiiiiiiiiiiiiiiiiiiiiiiiiiiiiiiiiiiiiiiiiiiiiiiiiiiiiiiiiiiiiiiiiiiiiiiiiiiiiiiiiiiiiiiiiiiiiiiiiiiiiiiiiiiiiiiiiiiiiiiiiiiiiiiiiiiiiiiiiiiiiiiiiiiiiiiiiiiiiiiiiiiiiiiiiiiiiiiiiiiiiiiiiiiiiiiiiiiiiiiiiiiiiiiiiiiiiiiiiiiiiiiiiiiiiiiiiiiiiiiiiiiiiiiiiiiiiiiiiiiiiiiiiiiiiiiiiiiiiiiiiiiiiiiiiiiiiiiiiiiiiiiiiiiiiiiiiiiiiiiiiiiiiiiiiiiiiiiiiiiiiiiiiiiiiiiiiiiiiiiiiiiiiiiiiiiiiiiiiiiiiiiiiiiiiiiiiiiiiiiiiiiiiiiiiiiiiiiiiiiiiiiiiiiiiiiiiiiiiiiiiiiiiiiiiiiiiiiiiiiiiiiiiiiiiiiiiiiiiiiiiiiiiiiiiiiiiiiiiiiiiiiiiiiiiiiiiiiiiiiiiiiiiiiiiiiiiiiiiiiiiiiiiiiiiiiiiiiiiiiiiiiiiiiiiiiiiiiiiiiiiiiiiiiiiiiiiiiiiiiiiiiiiiiiiiiiiiiiiiiiiiiiiiiiiiiiiiiiiiiiiiiiiiiiiiiiiiiiiiiiiiiiiiiiiiiiiiiiiiiiiiiiiiiiiiiiiiiiiiiiiiiiiiiiiiiiiiiiiiiiiiiiiiiiiiiiiiiiiiiiiiiiiiiiiiiiiiiiiiiiiiiiiiiiiiiiiiiiiiiiiiiiiiiiiiiiiiiiiiiiiiiiiiiiiiiiiiiiiiiiiiiiiiiiiiiiiiiiiiiiiiiiiiiiiiiiiiiiiiiiiiiiiiiiiiiiiiiiiiiiiiiiiiiiiiiiiiiiiiiiiiiiiiiiiiiiiiiiiiiiiiiiiiiiiiiiiiiiiiiiiiiiiiiiiiiiiiiiiiiiiiiiiiiiiiiiiiiiiiiiiiiiiiiiiiiiiiiiiiiiiiiiiiiiiiiiiiiiiiiiiiiiiiiiiiiiiiiiiiiiiiiiiiiiiiiiiiiiiiiiiiiiiiiiiiiiiiiiiiiiiiiiiiiiiiiiiiiiiiiiiiiiiiiiiiiiiiiiiiiiiiiiiiiiiiiiiiiiiiiiiiiiiiiiiiiiiiiiiiiiiiiiiiiiiiiiiiiiiiiiiiiiiiiiiiiiiiiiiiiiiiiiiiiiiiiiiiiiiiiiiiiiiiiiiiiiiiiiiiiiiiiiiiiiiiiiiiiiiiiiiiiiiiiiiiiiiiiiiiiiiiiiiiiiiiiiiiiiiiiiiiiiiiiiiiiiiiiiiiiiiiiiiiiiiiiiiiiiiiiiiiiiiiiiiiiiiiiiiiiiiiiiiiiiiiiiiiiiiiiiiiiiiiiiiiiiiiiiiiiiiiiiiiiiiiiiiiiiiiiiiiiiiiiiiiiiiiiiiiiiiiiiiiiiiiiiiiiiiiiiiiiiiiiiiiiiiiiiiiiiiiiiiiiiiiiiiiiiiiiiiiiiiiiiiiiiiiiiiiiiiiiiiiiiiiiiiiiiiiiiiiiiiiiiiiiiiiiiiiiiiiiiiiiiiii': 8687, 'greatestttt': 4723, '1hr': 395, 'plzzzzzz': 7233, 'digger': 3429, 'divided': 3500, 'gameeeee': 4481, '23unilife': 564, 'unilife': 9299, '14m17s': 123, 'undersrand': 9280, 'harem': 4902, 'chunkzy': 2707, 'welcome': 9650, 'rangerover': 7543, 'ownership': 6927, 'specials': 8446, 'infront': 5342, 'posh': 7275, '9incher': 1376, 'fatty': 4039, 'beauty': 2036, 'dun': 3623, 'boil': 2226, 'rd': 7568, 'killllls': 5631, '23fire': 527, 'honeslty': 5112, 'pillow': 7142, 'botta': 2264, '78th': 1334, 'store': 8584, '39m18s': 890, 'wears': 9634, 'skinned': 8257, '19m42s': 237, 'galaxy': 4474, 'praying': 7319, 'recorded': 7617, 'aswel': 1806, '1h09m26s': 361, 'maaadness': 6088, 'wide': 9724, 'vietnam': 9470, 'bitcoin': 2164, '3fvsespk2jjsgotnggemtexgqbhztl1n5z': 903, 'security': 7993, 'rework': 7753, 'shin': 8102, 'pervy': 7089, 'moreeeee': 6427, '2m19s': 678, 'sid': 8170, 'decades': 3293, '23freegamefromfilly': 528, 'freegamefromfilly': 4363, 'electric': 3720, 'distance': 3495, 'violateeee': 9499, 'haaaaahhhaaaaaaaa': 4791, 'bahaaaaaa': 1930, '44m40s': 973, 'snitch': 8358, 'meeting': 6253, 'fuming': 4425, 'romantically': 7822, '7m54s': 1344, 'omdssss': 6797, 'var': 9403, 'rio': 7773, 'success': 8667, 'fungalg': 4432, 'amamazinb': 1634, 'icllll': 5233, '28m55s': 651, 'continuation': 2962, 'creatives': 3071, 'bigger': 2127, '56m26s': 1237, '200k': 433, 'cost': 3005, 'shelled': 8086, 'lindas': 5878, 'primeiro': 7363, 'lugar': 6060, 'juntas': 5578, 'números': 6735, 'morena': 6431, 'outra': 6900, 'loira': 5975, 'seria': 8038, 'injusto': 5350, 'escolhece': 3845, 'fo': 4287, 'duas': 3602, 'são': 8761, 'minhas': 6345, 'preferidas': 7332, 'topo': 9079, 'beleza': 2073, 'feminina': 4088, 'watches': 9609, '9m17s': 1383, 'scooped': 7950, 'hairline': 4854, 'hilariously': 5058, '21m36s': 490, '21m40s': 492, 'peeped': 7032, 'motyani': 6449, 'yvela': 10065, 'vinc': 9493, 'ki': 5618, 'gitxra': 4585, 'wakoxe': 9564, 'wakoxeee': 9565, '37m44s': 860, 'poll': 7253, 'activate': 1470, 'lessssssgggoooo': 5819, 'adssss': 1503, 'hahahhahah': 4842, 'paracetamol': 6968, '8m': 1351, 'gameeeeeeeeee': 4482, 'singlehandedly': 8233, 'timer': 9004, 'baddiessss': 1923, 'smoooooooth': 8328, 'belter': 2082, 'dove': 3557, 'finallyyyyy': 4196, 'crepes': 3078, 'brazy': 2303, '45m20s': 985, 'disgraceful': 3475, 'witness': 9773, 'fucksakes': 4408, 'verse': 9419, 'about': 1435, 'score': 7951, 'disapointed': 3457, 'ngg': 6609, 'atmosphere': 1812, 'tractor': 9108, 'oot': 6849, 'yanooo': 9905, '37m': 847, 'cypruian': 3175, 'barbers': 1988, '26m22s': 610, '11m11s': 95, 'sickoo': 8169, 'subcribers': 8644, 'plezzz': 7217, 'rangers': 7544, 'pakistani': 6955, 'loll': 5980, 'coloured': 2837, 'smhhh': 8318, 'spit': 8470, 'heavier': 4968, '46m31s': 1020, '8m06s': 1354, 'filllllyyyyyy': 4150, '46m58s': 1039, 'snuggle': 8364, 'fet': 4095, 'fuk': 4413, 'refusal': 7639, '45m53s': 999, '39m08s': 884, 'omgg': 6803, 'yayyyyyyyyiii': 9916, '1h09m30s': 364, 'secondhand': 7985, '10m22s': 70, 'pineo': 7147, 'nn': 6635, 'gooooooooood': 4673, '9m40s': 1387, 'predicted': 7323, 'socially': 8370, 'nightmare': 6626, 'wars': 9592, 'diarrhoea': 3404, 'ion': 5425, 'mauro': 6215, 'icardi': 5226, 'nominate': 6649, '44m19s': 970, 'nigeria': 6623, 'naww': 6554, '17m21s': 186, 'bangle': 1976, 'concerts': 2913, 'crazyyyyyyy': 3055, 'geeza': 4518, 'booooooring': 2243, '1h02m00s': 275, 'conversations': 2979, '15mil': 152, '47m18s': 1051, 'crushed': 3119, 'doooshane': 3545, 'backkk': 1907, 'itttttttttttttt': 5459, 'promote': 7400, '32m29s': 744, 'lmfaaaaoooooooo': 5938, 'doggy': 3516, 'commentery': 2866, 'themmm': 8898, 'demoralizing': 3353, 'livest': 5919, 'eathan': 3671, 'shoutouts': 8142, 'degenerate': 3329, 'specifically': 8447, 'comfortably': 2855, '34m48s': 800, 'damnnnnnn': 3218, 'childhood': 2660, '21m39s': 491, 'involvement': 5423, 'persons': 7083, 'bland': 2176, 'uninspired': 9300, 'ahahahahaha': 1550, 'bunds': 2426, 'lucy': 6059, 'liu': 5914, 'philby': 7108, '300': 705, '30000': 706, 'subscibed': 8649, 'thankyou': 8881, 'creating': 3068, 'aweaone': 1855, 'namibia': 6533, 'promotion': 7404, 'blatantly': 2179, 'fruitiest': 4394, 'demons': 3352, 'rollin': 7816, 'bicthes': 2124, 'embarrass': 3744, 'pleeeeease': 7214, 'feedback': 4069, 'ty': 9219, 'hehhe': 4983, 'nonexistent': 6654, '1h01m16s': 269, 'agony': 1534, '0m01s': 27, 'timed': 9000, 'users': 9384, '20vs2': 477, 'mintes': 6352, 'announced': 1677, 'commercial': 2869, 'fastest': 4032, '28m08s': 635, 'trinity': 9158, 'bracelet': 2289, 'vdos': 9408, '12s': 109, '7m41s': 1340, 'byy': 2454, 'faaaaarrr': 3965, '4m58s': 1134, '51m58s': 1181, 'acctually': 1457, 'subscriced': 8658, 'drunk': 3597, 'eplays': 3828, 'lolololo': 5985, 'west': 9656, 'virginia': 9510, 'america': 1647, 'aaaaaaaaaaaaaaaaaaaaaaaaaaaaaaaaa': 1416, 'fing': 4209, '21m16s': 484, 'ood': 6836, 'faaar': 3967, 'vibez': 9436, '25m24s': 589, 'countour': 3020, '35m47s': 819, 'feeeetttt': 4070, '1sidemen': 422, 'raaaa': 7513, 'prepared': 7338, 'vidz': 9465, '39m37s': 899, 'study': 8622, 'whitney': 9705, 'houston': 5154, 'nooooo': 6662, 'vexed': 9430, 'bear': 2024, 'verdi': 9413, 'wetting': 9659, '200b': 432, '2m01s': 673, '23m10s': 541, 'earphone': 3659, '1h08m35s': 351, 'absence': 1437, 'naughtiest': 6548, 'marcus': 6168, 'rashford': 7555, 'coping': 2992, 'annam': 1676, 'golly': 4643, 'tips': 9022, 'vanilla': 9401, 'jessusssss': 5507, 'pressed': 7345, '45m40s': 991, 'cryinnngggg': 3128, 'stud': 8620, 'inhaled': 5346, 'personnal': 7082, 'fascinated': 4024, 'predator': 7322, 'potentially': 7292, 'claaaass': 2724, '1h11m27s': 388, 'tattos': 8817, 'ate': 1809, 'mesmerising': 6296, 'maan': 6093, 'cannooootttt': 2499, 'elon': 3733, 'authorial': 1837, 'intent': 5387, 'disslike': 3494, 'wsg': 9850, 'yeahhh': 9930, 'misreads': 6363, 'dissing': 3493, 'vikery': 9479, 'heights': 4985, 'uuhhg': 9392, 'someoneee': 8388, 'dyinnngggggggg': 3643, '2m12s': 676, 'quickly': 7500, 'mustve': 6495, 'bye': 2453, 'helllll': 4993, 'a1': 1411, '2funny': 666, 'besttt': 2095, 'hysterics': 5220, 'grabbed': 4700, 'they': 8914, 'assesment': 1788, 'bouta': 2271, 'coughing': 3012, 'jheeze': 5513, 'tob': 9034, 'fsss': 4398, 'darkestman': 3244, 'vest': 9425, 'notifacation': 6690, '10m54s': 81, 'darling': 3246, 'anime': 1673, 'leader': 5748, '6m04s': 1300, 'biggie': 2130, 'duets': 3617, 'improvising': 5302, 'carryyyy': 2534, 'fillllllllllyyy': 4144, 'sensor': 8031, 'rarely': 7553, '4m20s': 1126, 'dungarees': 3624, 'blah': 2173, '23botfirstcomment': 521, 'botfirstcomment': 2260, 'putsex': 7477, 'television': 8848, 'unsusribe': 9340, 'bangezzzzzzz': 1971, 'codes': 2801, 'backs': 1913, 'cheeck': 2638, 'bahahahahah': 1933, 'criedddddddddd': 3084, '30am': 708, 'pua': 7437, 'danm': 3229, 'wha': 9663, 'auyy': 1844, 'deepin': 3312, '1h11m14s': 379, 'potty': 7294, '10m17s': 67, 'answered': 1685, 'studying': 8623, 'respectfully': 7723, 'triple': 9160, 'swashbucklers': 8735, 'lesssss': 5818, 'approved': 1736, '48m12s': 1074, 'dyinnnggg': 3642, 'toooo': 9069, 'buisness': 2409, 'difficult': 3423, 'commits': 2873, 'jackpot': 5471, 'sane': 7898, 'unfathomable': 9292, 'shied': 8093, 'survive': 8723, '23lnf': 533, 'lnf': 5957, 'outdid': 6892, 'umm': 9254, 'locker': 5967, 'harassed': 4894, 'clearrrrrrrrr': 2753, 'hr': 5161, 'meaaaah': 6228, 'yan': 9900, 'fung': 4431, 'yilly': 10002, '1h10m55s': 374, 'brighter': 2327, 'rich': 7757, 'boyz': 2284, 'slayed': 8286, 'divock': 3501, 'origi': 6878, 'gootttta': 4678, 'excitement': 3913, 'boosts': 2246, 'po': 7237, 'thoughts': 8955, '21m49s': 493, 'heel': 4975, 'zoomed': 10093, 'directors': 3453, 'peinero': 7036, 'madest': 6111, 'picasso': 7124, '1h07m54s': 338, 'backh': 1906, 'seagull': 7973, 'wewww': 9662, 'bcz': 2017, 'carnival': 2524, 'awaited': 1849, 'appreciated': 1730, 'talents': 8781, 'remembered': 7672, 'flops': 4273, 'uncomfy': 9275, 'quote': 7508, '24m28s': 575, 'workit': 9819, 'texture': 8869, '37m06s': 850, 'concerned': 2910, 'admires': 1496, '58m14s': 1250, 'these': 8909, '90000': 1373, '19m45s': 238, '2021': 439, 'equals': 3832, 'movement': 6453, 'looooooooool': 6013, 'rl': 7792, 'srry': 8506, 'fuh': 4412, 'hehe': 4980, '1h03m42s': 293, 'canoeee': 2501, 'morph': 6436, 'deciding': 3298, 'stranger': 8591, 'kg': 5615, 'takk': 8777, 'baller': 1946, 'makin': 6139, 'desires': 3375, 'ddddddddddddddddd': 3271, 'parent': 6972, 'darg': 3241, 'yeeeeeaaaaaah': 9940, 'yng': 10007, 'sheer': 8079, '14m54s': 128, 'rizzzzzz': 7790, 'inshallah': 5364, 'tone': 9063, 'happiest': 4890, 'concerns': 2911, '2014': 436, '0rh6auvfouu': 32, 'limbs': 5873, 'unzipped': 9348, 'brick': 2322, 'sri': 8504, 'lankan': 5707, 'maddy': 6109, 'narhhhhhhhhhhhhhhh': 6536, 'slapppppppppppppppppp': 8279, 'ahhhahahahahahaha': 1566, '100mill': 42, 'bant': 1982, 'unison': 9303, 'purp': 7458, '4m53s': 1133, 'gods': 4635, 'image': 5275, 'yoooooooooooooooooooooooooooooo': 10025, 'fillllyyyyyyyyyyyyyyyy': 4158, 'contributes': 2973, 'substile': 8662, 'datew': 3254, 'dosnt': 3551, 'joookess': 5554, 'x7': 9872, 'resuming': 7730, 'pnk': 7236, 'flps': 4279, 'leyssssssaaasaaaa': 5841, 'sososmdmjfodisbvshasjsbjendnsnjsjddvssb': 8420, 'unthinkable': 9342, '17m29s': 191, 'yooooooo': 10020, 'action': 1468, 'tonight': 9065, 'officialy': 6765, 'plasure': 7185, 'blurred': 2209, 'dairy': 3199, 'loot': 6022, 'millino': 6329, 'snife': 8347, 'sneef': 8346, '43m47s': 955, 'throated': 8961, 'nuhh': 6708, '26m55s': 615, '57m56s': 1247, 'desserve': 3380, 'pinerio': 7149, 'goodmorning': 4652, '35m10s': 809, 'gucci': 4749, 'transferred': 9122, 'scar': 7936, 'upping': 9361, 'footasylum': 4311, 'painted': 6953, 'wil': 9734, 'bratha': 2297, 'bruhhhhh': 2370, 'evaluating': 3868, 'bets': 2106, '01h00m10s': 4, '43m29s': 951, 'romantic': 7821, 'bagger': 1928, 'lengendary': 5790, 'chunz': 2712, 'describe': 3365, 'exciteness': 3914, 'yesssssssssssssssssssssssssssssss': 9986, 'strutting': 8618, 'xdxdxd': 9879, 'gmt': 4602, 'pepsi': 7046, 'blues': 2206, 'languages': 5706, '01h01m45s': 5, 'bat': 2008, 'gent': 4531, '1h02m14s': 276, 'onethousanth': 6822, 'tizz': 9028, '0m39s': 31, '6m27s': 1314, 'bearded': 2026, 'hisstory': 5069, 'queens': 7492, 'kilt': 5633, 'distasteful': 3496, 'anyhow': 1695, 'onesie': 6821, 'holllllllllly': 5099, 'bhai': 2118, 'maje': 6131, 'lera': 5799, 'bench': 2085, 'fillie': 4136, 'thereeee': 8906, 'shorddys': 8129, 'ringing': 7771, 'confirmed': 2928, 'deodorant': 3357, 'dubbbbbb': 3606, 'effing': 3697, 'noses': 6676, 'annoyed': 1678, 'praise': 7312, 'stonks': 8575, 'emojis': 3759, 'damage': 3202, 'iss': 5444, 'muted': 6498, 'arises': 1757, 'dismay': 3485, 'sinister': 8236, 'horrors': 5140, 'ricky': 7763, 'martin': 6183, 'prestige': 7348, '57m23s': 1243, 'digits': 3432, 'selinas': 8018, 'ancestral': 1663, 'oppressed': 6865, 'luciano': 6056, 'narsingh': 6540, 'chloë': 2679, 'pains': 6951, 'suffer': 8675, '3m33s': 909, 'minds': 6341, 'kicked': 5619, 'nicely': 6615, 'website': 9635, '4million': 1135, 'damnnnnnnnnnn': 3220, 'ahahahahhaha': 1554, 'chills': 2666, 'spine': 8468, 'wayyy': 9623, 'fricking': 4377, 'volumes': 9524, 'necesseraly': 6563, 'prefered': 7330, 'terms': 8859, 'bangersssssss': 1970, 'cbbs': 2559, 'olatunji': 6786, 'hyenas': 5213, 'objectify': 6740, 'doll': 3523, 'stephennnn': 8552, 'chloé': 2678, 'effortless': 3699, 'brilliance': 2328, 'dances': 3223, 'te': 8824, 'practically': 7307, 'consent': 2943, 'lined': 5881, 'sighn': 8192, 'yoooooo': 10019, 'dubbed': 3607, '464': 1006, 'sorely': 8415, 'mistaken': 6372, 'playlist': 7197, 'pl0nmpbow6rqyanudd1v': 7175, 'hm1_0mzqefxmt': 5081, 'yeeeeeeeaaaaaaaaah': 9943, 'maaaaaaaaaaan': 6078, 'diffarent': 3418, 'grevy': 4729, 'bother': 2261, 'abs': 1436, 'flexed': 4262, 'harries': 4906, 'unbearably': 9263, 'yuuuuuuung': 10064, 'fiiilllyyyy': 4119, 'frequency': 4369, 'hahshdidisjsjs': 4846, '32m57s': 751, 'cougar': 3010, '1h11m25s': 386, 'kneww': 5660, 'felipe': 4079, 'protected': 7416, 'yeeeeeeeaaaaaahhhhhh': 9944, 'maaaaaaaaaaaaannnn': 6075, '37m49s': 863, '49m24s': 1103, 'thw': 8978, 'hahahahahahahahh': 4827, 'seriousness': 8043, 'neeeeeed': 6577, '46m25s': 1017, 'stoppp': 8581, '11m30s': 98, 'beard': 2025, '________': 1397, '_____________': 1402, '_______': 1396, '______': 1395, '_________': 1398, '_____': 1394, '__': 1391, '____________': 1401, '__________': 1399, '___': 1392, '_____________________': 1408, '____': 1393, '______________': 1403, '___________': 1400, '_______________': 1404, '_________________': 1405, '___________________': 1406, '____________________': 1407, '20m34s': 457, '20m48s': 464, '21m10s': 481, '23m22s': 549, '24m55s': 581, '27m38s': 623, '28m54s': 650, '36m57s': 844, '54m35s': 1223, '1h01m01s': 267, '1h03m03s': 286, '1h03m33s': 291, '1h05m16s': 321, 'perfuume': 7064, 'suggesting': 8679, 'idek': 5243, 'ahahahh': 1555, 'boyfriends': 2280, 'current': 3152, 'fking': 4247, 'dyingggg': 3639, 'stinker': 8565, 'phew': 7105, 'resist': 7716, '231quintillion': 519, '1quintillion': 420, '58m00s': 1249, '1h01m18s': 270, 'neva': 6596, 'svndz': 8730, 'rizzzzz': 7789, 'daysss': 3264, 'whitest': 9703, 'tttttt': 9184, 'breakdown': 2308, 'thiing': 8924, 'bound': 2268, 'stood': 8576, 'alerted': 1589, 'traumatic': 9129, '19th': 242, '30m22s': 720, 'naughty': 6549, 'saucy': 7912, 'plants': 7183, 'aaaaah': 1420, 'knowww': 5669, 'thankyall': 8880, 'joggers': 5536, 'thingy': 8931, '10bln': 54, 'bln': 2187, 'neighbourhood': 6586, 'chestt': 2653, 'closing': 2776, 'straighttttttt': 8590, 'yard': 9906, 'shaqs': 8068, 'hawk': 4937, 'dammmn': 3206, 'begin': 2060, '34m54s': 805, 'thin': 8927, 'masterminds': 6195, '17m30s': 192, 'forcing': 4318, 'sunshine': 8704, 'premium': 7337, 'pog': 7243, 'anychance': 1691, 'touches': 9094, 'woahman': 9784, 'rough': 7837, 'karma': 5591, 'playboiclaarti': 7191, '2m32s': 684, 'aaaaaaaaaahahahahahahahahaha': 1417, 'youj': 10030, '195th': 226, 'chloeee': 2676, 'aaaa': 1413, '29m34s': 661, '41m30s': 931, '59m55s': 1258, 'witted': 9776, 'ratings': 7563, 'yutes': 10063, 'separate': 8034, '23m30s': 552, 'haaaaaaaaard': 4790, 'idkkk': 5251, 'realllll': 7597, 'thr': 8957, 'bunny': 2431, '10billi': 51, 'mee2d': 6242, 'dw': 3633, 'pinks': 7159, 'timmeee': 9009, 'yeeeeeessssss': 9946, 'dreaming': 3575, 'spoilt': 8474, 'lyin': 6069, '37m59s': 864, '979': 1374, 'wilde': 9737, 'bing': 2150, 'chilling': 2665, 'boyy': 2282, 'caption': 2510, '46m53s': 1036, 'career': 2519, 'responds': 7725, 'eyebrows': 3955, 'nan': 6534, 'unruly': 9327, 'apathetic': 1708, 'legoo': 5782, 'bouncer': 2267, 'ballamorey': 1943, '18m18s': 212, 'pieces': 7137, '24m26s': 574, 'yaaaaaaaaa': 9889, 'handshakes': 4874, 'en': 3765, 'repeating': 7689, 'fonsho': 4302, '16m05s': 158, 'tingssss': 9017, 'ummmm': 9256, 'mentined': 6281, 'yeaahh': 9926, 'fs': 4397, 'lion': 5887, 'sighs': 8193, 'chrome': 2695, 'opens': 6856, '1h09m48s': 365, 'asab': 1771, 'meterial': 6301, 'assumption': 1797, 'sets': 8047, 'schultz': 7948, 'moose': 6422, 'wala': 9566, 'betasquads': 2105, 'spend': 8460, 'therapy': 8904, 'but': 2444, '38m30s': 874, 'situations': 8249, 'niz': 6633, 'happily': 4891, '17m42s': 202, 'mission': 6368, 'bangah': 1957, 'daaaaaaaamn': 3183, '17m15s': 182, '145': 119, '4k': 1115, '195': 225, 'baranquilla': 1986, 'pics': 7132, 'cooooooooooool': 2989, 'coolest': 2988, 'sickest': 8166, 'overboard': 6915, 'currency': 3151, 'peeps': 7033, 'reviewing': 7746, 'uploading': 9356, 'regrets': 7647, 'simeon': 8215, '2m40s': 691, '1h04m20s': 306, 'sock': 8373, 'triggering': 9156, 'sorted': 8419, 'afro': 1519, 'buuk': 2450, 'nerve': 6593, 'hve': 5209, 'critikal': 3107, 'molested': 6395, 'aisian': 1575, 'roger': 7810, 'auntie': 1834, 'helen': 4988, 'ii': 5259, 'finals': 4198, '46m06s': 1011, 'pigs': 7141, '22m30s': 505, 'resitting': 7717, '50m03s': 1147, '25m48s': 591, 'easyyyy': 3669, 'ut': 9389, 'environment': 3817, 'pending': 7038, 'mothers': 6442, 'othervideos': 6886, 'compare': 2883, 'undisputed': 9285, 'folding': 4295, 'alhan': 1599, 'collects': 2824, 'directions': 3451, '23m17s': 546, 'interviewing': 5404, 'composure': 2899, 'podcast': 7241, 'amont': 1653, 'cring': 3092, 'fence': 4091, 'mabey': 6097, 'funnynes': 4441, '33m00s': 757, '1h05m05s': 312, 'ali': 1600, 'zaki': 10072, 'bogo': 2222, 'tagging': 8767, '05m29s': 17, '6m33s': 1318, 'miraa': 6357, 'epiiiic': 3823, 'twitch': 9216, '1devspud1': 246, 'internally': 5398, 'mindset': 6342, 'matches': 6200, 'asw': 1805, 'complacent': 2889, 'pisses': 7166, 'randal': 7536, 'rea': 7571, 'pattern': 7008, 'magnificent': 6120, 'necks': 6566, 'ooooooshhhhhhhh': 6848, 'ilovefilly': 5270, 'dyin': 3637, 'chocolate': 2681, 'squirts': 8500, 'edits': 3687, 'ord': 6870, 'eachother': 3647, 'pervert': 7088, '20m13s': 451, 'cancle': 2495, 'wider': 9726, 'creation': 3069, 'expanding': 3928, 'increasing': 5317, 'progression': 7392, 'insight': 5366, 'relevant': 7663, '35m25s': 812, 'downn': 3561, 'muscles': 6487, 'execute': 3919, 'twist': 9214, 'gally': 4476, 'innnnsaaaaneeeeee': 5356, '23sidemen': 561, 'risky': 7782, 'capitalise': 2505, 'buisnnes': 2411, 'runs': 7863, 'fadding': 3979, '3hrs': 904, '1h11m06s': 378, 'yessssssssssssssssssssssssssssss': 9985, 'chhhunks': 2654, 'brov': 2358, 'dieing': 3414, 'information': 5340, 'hobbies': 5086, 'batch': 2009, 'pervers': 7087, 'sidemenclothing': 8179, 'ruthlesss': 7866, 'lezgooo': 5842, 'yang': 9901, '25mins': 595, '1h00m10s': 253, 'roasts': 7799, '14m50s': 126, 'trim': 9157, 'helping': 4997, 'offence': 6754, 'pasty': 7001, 'honourary': 5118, 'tbat': 8821, '1h10m15s': 369, 'freaks': 4358, '16m29s': 166, 'throwback': 8965, 'grace': 4703, 'tommorow': 9054, '43m27s': 950, 'why': 9717, '0841m': 22, '11h': 91, 'obsession': 6743, 'improving': 5299, 'pitch': 7169, 'starters': 8529, 'shoooooooooowwers': 8121, '800': 1349, 'subed': 8646, '16m42s': 168, 'plss': 7222, 'causes': 2558, 'blagging': 2172, 'salesman': 7883, 'lengggggg': 5794, '12am': 103, 'elit': 3725, 'beverly': 2110, 'hills': 5062, '19m27s': 233, 'shake': 8062, 'fckin': 4056, 'rank': 7545, 'hahahahahahahahhahaah': 4828, 'deffff': 3321, '19m04s': 229, '34m41s': 796, 'ykk': 10004, 'darse': 3247, 'grinding': 4734, 'weakest': 9629, 'marshall': 6182, 'mathers': 6207, 'rolled': 7813, 'everrrrrrrr': 3881, 'themself': 8899, '39m33s': 897, 'oy': 6932, 'older': 6789, 'dimples': 3438, 'weight': 9646, 'couldve': 3015, 'waaayyyyy': 9544, 'omw': 6813, 'heheheh': 4982, '22m24s': 504, 'ennnnnn': 3796, 'meeeeee': 6246, 'immense': 5284, 'crisis': 3103, 'coherently': 2804, 'carp': 2525, 'whitely': 9702, 'lowly': 6051, 'peripheral': 7067, 'adjoining': 1493, 'ancient': 1664, 'noodle': 6658, '4sure': 1136, 'thé': 8980, 'genuis': 4537, 'actif': 1466, 'carrier': 2528, 'whuaaah': 9716, '16mins': 174, 'blowing': 2198, 'wod': 9785, '4m12s': 1124, 'knee': 5656, 'siittin': 8204, 'naaahhhh': 6515, 'texas': 8866, '7m30s': 1339, 'chopping': 2689, 'bloxk': 2200, 'shape': 8067, '15million': 153, '2m26s': 683, 'chasing': 2628, 'flattering': 4258, '23fuckside': 530, 'fuckside': 4409, 'conditions': 2919, 'embrrassement': 3752, '1991': 227, 'marketing': 6176, 'waking': 9563, '2m38s': 689, 'ace': 1458, 'theseeeeeeeee': 8911, 'soaring': 8366, 'aftert': 1522, '6mil': 1323, 'siiiick': 8203, 'crine': 3091, '29m05s': 654, 'dollar': 3524, 'micheal': 6311, 'neef': 6580, 'outclassed': 6891, 'nyc': 6732, 'phillipsdancer': 7112, 'thissss': 8943, 'lesgghoo': 5803, '38m00s': 867, 'travel': 9133, 'engineering': 3783, '45m24s': 988, 'greetings': 4727, 'dayum': 3265, 'whatttttttttttt': 9681, 'crackinggggggg': 3040, 'betterr': 2108, 'somlia': 8395, 'tobey': 9035, 'yun': 10059, '7m53s': 1343, 'lmaaaooo': 5925, 'downside': 3567, 'aka': 1579, 'demarcus': 3347, 'chests': 2652, 'yetttt': 9993, 'sadly': 7875, 'parce': 6969, 'milk': 6325, 'spotted': 8487, '18m36s': 217, 'unfunniest': 9294, 'harryyy': 4916, '3m58s': 913, 'clwasss': 2788, 'beeeennn': 2048, 'dyed': 3636, '10m29s': 73, '06m04s': 19, 'slow': 8299, 'motion': 6443, 'fed': 4067, 'balance': 1940, 'tnx': 9031, 'down': 3559, 'eidnsibxus': 3710, 'pleaseee': 7203, 'cover': 3027, 'alight': 1602, '19m34s': 235, '45m19s': 984, 'creasinggg': 3066, 'questionable': 7495, 'program': 7390, '1h15m30s': 394, 'litttt': 5912, 'dilion': 3434, 'harper': 4905, 'nickname': 6618, 'gravity': 4719, 'tickling': 8984, 'bubr618gwek': 2399, '10m37s': 77, 'ape': 1709, '2m02s': 674, 'anyonw': 1699, 'baba': 1897, 'russ': 7864, 'beactause': 2021, 'vodca': 9517, 'colab': 2808, 'ammmmmazing': 1650, 'ahha': 1563, '43m46s': 954, 'theese': 8894, '1m27s': 409, 'suiiiiiiiiiii': 8686, 'mehn': 6259, 'smokeeee': 8325, '47m14s': 1048, '8k': 1350, 'woooo': 9807, 'sucked': 8672, 'aayyy': 1425, 'rage': 7521, 'gooooooosh': 4677, 'clled': 2767, 'yf': 9996, 'mature': 6213, 'upstanding': 9370, 'catches': 2551, 'comeback': 2846, 'aguerooooooo': 1540, 'jeff': 5502, 'wittek': 9777, 'fir': 4223, 'banggggggerrrr': 1973, '32m42s': 748, 'okey': 6785, 'fax': 4048, 'bloooody': 2196, 'craft': 3042, 'enternainer': 3803, '6m30s': 1315, 'shitten': 8112, 'goatee': 4614, 'slaaaaaap': 8268, 'mingle': 6344, 'striped': 8605, 'whosoever': 9713, 'shall': 8063, 'romans': 7820, 'adulterers': 1504, 'adulteresses': 1505, 'friendship': 4383, 'enmity': 3794, 'enemy': 3777, 'james': 5480, 'nigh': 6624, 'unto': 9344, 'saveth': 7922, 'contrite': 2975, 'psalms': 7428, 'tornado': 9086, 'funnnyyyy': 4439, 'bruvvvv': 2387, 'fuckn': 4407, 'tattooo': 8815, 'figure': 4116, 'nyansh': 6727, 'rules': 7858, 'bangerr': 1962, '27m56s': 630, '6m34s': 1319, 'clappppeddd': 2734, 'ristricted': 7784, 'yeeeeeees': 9945, 'asians': 1777, 'diffrenetly': 3424, 'tribe': 9150, 'rugby': 7852, 'reject': 7652, 'pan': 6958, 'siiuuu': 8205, 'zeros': 10078, 'capp': 2506, 'touch': 9093, 'tmr': 9030, '1h03m00s': 285, 'xdxdxdxdxdxdxd': 9880, 'prostitute': 7414, 'carr': 2526, 'hidding': 5044, 'murder': 6485, 'finale': 4193, 'litirly': 5904, '70m': 1330, 'comical': 2857, '2m46s': 693, 'disappointedddddd': 3462, 'deading': 3282, 'trey': 9149, 'richards': 7758, '4ye': 1139, '33m46s': 774, 'ultra': 9249, 'ranger': 7542, 'betasqaurd': 2102, 'yoooooool': 10021, '16million': 173, 'unkind': 9307, 'migraine': 6316, '1h08m31s': 349, 'lesgoooo': 5805, '23youngfilly': 566, 'gibo': 4568, '23m11s': 542, 'solid': 8379, '16m12s': 163, '50m24s': 1162, 'dammed': 3204, 'shoulda': 8136, 'yeeeees': 9947, 'fireeeeeeeeeere': 4232, 'dooo': 3544, 'harrryyyyyyyy': 4909, 'lately': 5719, '33m27s': 767, '39m16s': 888, 'ayyo': 1883, 'believed': 2076, 'habitat': 4796, 'wym': 9870, 'cm': 2789, 'washing': 9596, 'mansion': 6162, 'haired': 4853, 'dolph': 3526, 'bloke': 2190, 'internal': 5397, 'overshirt': 6922, 'repetitive': 7691, 'beasssttttt': 2027, 'energetically': 3779, 'chaotic': 2609, 'nooooooooooooooooooooooooooooooooooooooooooooooooooooooooooooooooooooooooooooooooooooooooooooooooooooooooooooooooooooooooooooooo': 6666, 'defend': 3319, 'fried': 4379, 'grassed': 4714, 'waaass': 9543, 'onggggg': 6824, 'wtff': 9854, 'grande': 4711, 'mejor': 6261, 'hasta': 4923, 'fecha': 4066, 'las': 5715, 'citas': 2716, 'clappedn': 2732, 'cannottttt': 2500, 'rahter': 7527, 'vikstar123': 9488, 'biillion': 2134, 'yoda': 10010, 'rent': 7683, 'painfully': 6950, 'veronicas': 9416, 'devilssssss': 3395, 'yeaaaa': 9920, 'dayumm': 3266, 'looooonnnnggg': 6009, 'favor': 4042, 'dei': 3334, 'risada': 7777, 'sem': 8022, 'nem': 6590, 'sabe': 7870, 'falava': 3991, 'conference': 2920, 'fillllyyyyyyyyyy': 4156, 'tghr': 8872, 'picks': 7129, 'hugh': 5177, 'hefner': 4977, 'ayeeeeeeeee': 1873, 'thissssss': 8944, 'oohh': 6840, 'lived': 5916, 'stunningggg': 8629, 'voy': 9530, 'yaaaas': 9891, '35m20s': 810, 'platinum': 7188, 'mother': 6441, 'sand': 7897, 'boyzzzzz': 2285, '31m51s': 736, 'noit': 6646, 'torl': 9084, 'inhg': 5347, 'rented': 7684, 'hahahahahaahahah': 4820, 'jokess': 5547, 'agenda': 1528, 'ot': 6884, 'nikooo': 6629, '5m37s': 1277, 'innnn': 5355, 'noooooooooo': 6665, 'whens': 9685, '18m55s': 222, 'repeat': 7687, 'chck': 2631, 'funnnnnnny': 4437, '38m16s': 871, 'crawling': 3045, 'lankier': 5708, 'y3s': 9887, 'allgrave': 1608, 'economic': 3675, 'downturn': 3568, 'earning': 3658, 'returns': 7737, '13days': 112, 'fumble': 4421, '22m39s': 510, 'owt': 6930, 'equally': 3831, 'clutch': 2787, 'caaaaap': 2457, 'chem': 2647, 'freezy': 4367, '47m21s': 1054, 'are': 1749, 'psycho': 7432, 'brummy': 2372, 'swung': 8755, 'brfore': 2321, 'heychpee': 5023, 'bangerre': 1963, 'uierhuerhre': 9244, 'skunked': 8265, 'fart': 4019, 'lame': 5700, 'wome': 9791, 'sidema': 8176, 'vs20': 9532, 'pllllss': 7219, 'beilliant': 2070, 'amaizing': 1633, 'humans': 5186, '33m34s': 769, 'fillllllyyyyyyyyy': 4148, 'bn': 2212, '22m10s': 499, 'borrow': 2257, 'whisper': 9698, 'jail': 5475, 'hadouken': 4801, 'eyeing': 3956, '44m54s': 976, 'defecate': 3317, 'longgg': 5994, 'pleeeease': 7213, 'meee': 6243, 'harrowwwww': 4908, '2k22': 671, 'reminder': 7676, 'pearl': 7028, 'necklace': 6565, 'halsey': 4861, '1h06m07s': 328, 'heads': 4949, 'jideon': 5515, 'afters': 1521, 'uemsv3uliy4': 9232, 'betterve': 2109, 'lawd': 5740, '125k': 102, 'washed': 9595, '7m15s': 1338, 'mike': 6317, 'george': 4540, 'afar': 1512, 'nutts': 6722, 'studio': 8621, 'lazy': 5744, 'mobile': 6386, 'popped': 7265, 'broooooo': 2348, 'everrrrrrrrr': 3882, '1h10m54s': 373, 'allowit': 1615, '54m55s': 1225, 'health': 4954, 'beefing': 2051, '46m41s': 1025, '1h08m24s': 346, 'humiliation': 5190, 'willing': 9745, 'chuknz': 2701, 'heree': 5004, '1m49s': 412, 'godot': 4634, 'land': 5703, 'stopppp': 8582, 'metoo': 6302, 'eatin': 3672, '30m01s': 712, '10m46s': 79, 'hailee': 4849, 'steinfeld': 8548, 'dunya': 3627, '1m00s': 399, 'sidewoman': 8187, 'millionaires': 6331, 'output': 6899, 'pinera': 7148, 'squat': 8496, 'billionn': 2143, 'ddm': 3272, 'gestures': 4545, 'deff': 3320, '17m25s': 188, 'walkout': 9573, 'notif': 6689, 'yearsssssss': 9936, 'foggin': 4292, 'sqaud': 8493, 'lindahotparty': 5877, '50m18s': 1160, '39m29s': 894, 'dilly': 3435, 'unah': 9259, 'listennnnn': 5896, '34m26s': 785, 'getti': 4548, 'cougars': 3011, 'yessssssssss': 9981, '9m41s': 1388, 'hhhhhhhhhhh': 5035, 'wowwwww': 9836, 'lmfaoooooooooooooooo': 5951, 'shieett': 8094, 'friendly': 4381, '15m40s': 141, '20m05s': 447, '22m35s': 507, '1h03m15s': 287, '1h03m55s': 299, '1h02m15s': 277, '1h04m12s': 305, '1h06m06s': 327, '1h07m13s': 335, 'becky': 2040, 'gee': 4514, 'vidio': 9460, 'recycle': 7623, 'hired': 5067, 'remains': 7669, 'aaaaaahhhhhhh': 1418, 'maaaaaaaaad': 6079, '32m55s': 749, 'achieve': 1460, 'conifdence': 2937, 'fvvcking': 4455, 'oiled': 6781, 'machine': 6099, 'flows': 4277, 'buffering': 2403, '28m30s': 640, 'hahahaaa': 4809, 'yawnnn': 9912, 'clearrrr': 2752, '1h00m13s': 254, 'nuisance': 6709, 'sickkkkk': 8168, 'hbo': 4941, 'pocahontas': 7239, 'ballermory': 1947, 'destruction': 3388, 'painfull': 6949, 'surpassed': 8716, 'reg': 7640, 'dino': 3442, 'downnnnnn': 3563, 'adapts': 1484, '52m33s': 1198, 'hardon': 4901, 'bulge': 2412, 'pinheiro': 7154, '17m31s': 193, 'stoooooopid': 8577, 'polar': 7250, 'opposites': 6864, 'maths': 6209, '269': 598, 'casanova': 2537, 'fyi': 4462, '10a': 47, 'amazingggg': 1641, '26m53s': 614, 'reappeared': 7600, 'perefect': 7050, 'ehh': 3708, 'integrity': 5384, 'bhunda': 2120, 'theory': 8902, 'insecurity': 5362, 'slavary': 8282, '1780': 177, '1h05m15s': 320, 'sidebar': 8172, 'peel': 7030, 'bruda': 2363, 'goodness': 4653, 'taht': 8769, '13millions': 116, 'nerf': 6592, 'unexpected': 9290, '47m40s': 1062, 'outshone': 6903, 'established': 3852, 'shined': 8104, 'snow': 8361, 'bunnies': 2430, 'abortion': 1434, 'pro': 7371, 'spring': 8490, 'loaded': 5960, 'confirmation': 2927, 'smella': 8312, 'underated': 9277, 'euro': 3864, 'profit': 7389, '1h00m44s': 262, 'hahahahaahhaha': 4816, 'explode': 3939, 'sounding': 8425, 'ooooooooh': 6847, 'pusiio': 7471, 'anotherone': 1682, 'lorain': 6024, 'baddd': 1918, 'sundress': 8701, 'lolllzz': 5983, '1h03m21s': 288, 'cyap': 3171, 'explosive': 3941, 'deets': 3313, 'missys': 6371, 'rispect': 7783, 'headtop': 4951, 'billssss': 2146, 'akhi': 1580, 'mortgage': 6438, 'lexiiii': 5837, 'litarlly': 5899, 'thiught': 8946, 'ph': 7100, 'siminem': 8217, 'spectacular': 8450, 'curse': 3156, 'pulledddd': 7445, '2m41s': 692, 'roasting': 7798, 'actualy': 1479, 'thisa': 8941, 'tickytocky': 8986, 'highlighted': 5053, 'curiosity': 3145, 'squishing': 8502, 'yaah': 9894, '5m32s': 1274, 'frickin': 4376, 'entertainement': 3806, '29m57s': 663, 'resemble': 7709, '20m52s': 465, 'commitment': 2872, 'payback': 7015, '36m40s': 836, 'hearted': 4961, 'storyline': 8586, 'blacked': 2170, 'lookalike': 5997, 'gawddamn': 4509, 'styllllll': 8637, '24m58s': 583, '110': 90, 'stage': 8513, 'moan': 6385, '49m27s': 1104, 'giveon': 4589, 'smacked': 8303, 'wana': 9580, 'town': 9103, 'apologised': 1712, 'overtook': 6924, '55m47s': 1234, 'freakkssss': 4357, 'yohhhhh': 10012, 'meeee': 6244, 'awkard': 1861, 'stuffed': 8625, 'boyyyyyy': 2283, '21m00s': 480, 'pubg': 7438, 'roayal': 7800, '26m07s': 605, 'ayoooooo': 1881, 'jonny': 5551, 'bairstow': 1935, '44m37s': 972, 'beasts': 2029, 'squid': 8497, '16mil': 172, 'daaaaaamn': 3184, 'shivered': 8114, 'gown': 4697, 'invest': 5414, 'f3ck3n': 3963, 'shooooow': 8122, '28m09s': 636, 'smoother': 8336, 'intelligence': 5385, '33m33s': 768, 'colored': 2833, 'clearr': 2751, 'deadpool': 3284, 'improv': 5298, 'fillyyyyyyyyyyy': 4184, 'nothp': 6685, 'allah': 1607, 'lengthy': 5795, 'mqgwkr_mrtg': 6463, 'bruvv': 2385, 'bey': 2112, '39m15s': 887, 'womannnnnnnnnnnnnnn': 9789, 'hottttttttttttttttt': 5149, 'potassium': 7290, 'calcium': 2463, 'gettt': 4551, 'someeeeeee': 8384, 'ladieeeeeeeeeeeeeeeees': 5692, 'promiseeeeeee': 7398, 'pharrell': 7101, 'williams': 9744, '9m39s': 1386, 'patches': 7003, 'hobby': 5087, 'collecting': 2821, 'spontaneous': 8481, 'didint': 3407, 'pouds': 7295, 'neeeeed': 6576, 'fineeee': 4205, '47m44s': 1063, 'firee': 4227, 'scariest': 7938, 'farthest': 4022, 'vai': 9396, 'croi': 3109, 'mydelf': 6502, 'legsy': 5784, 'whipping': 9697, 'amazingggggggggggggggggggggggg': 1643, 'diffrent': 3425, 'hapen': 4883, 'crushing': 3120, 'auditioning': 1831, 'hulk': 5181, 'astagfirullah': 1800, 'billys': 2148, 'ghost': 4561, 'uptight': 9371, 'vialation': 9432, 'inducted': 5329, 'tipe': 9021, 'disturbed': 3497, 'ikyk': 5263, 'hahahahhahah': 4837, 'endz': 3776, 'curtain': 3158, 'flip': 4264, 'alike': 1604, 'tarantino': 8797, 'plsssssss': 7225, '10m10s': 63, '700th': 1329, 'showw': 8153, 'gcse': 4510, 'swerving': 8746, 'operation': 6857, 'lordddddd': 6026, 'uppppp': 9363, 'dragon': 3571, 'unfunny': 9295, 'laps': 5710, 'ko': 5670, 'missi': 6366, 'villa': 9490, 'yeee': 9938, 'londonnis': 5988, 'licking': 5849, 'ucw5rpcopprxcbmgrvzklq': 9229, 'ufo': 9233, 'identify': 5244, '1h08m25s': 347, 'angry': 1669, '39m17s': 889, 'emberessement': 3750, 'simeminem': 8214, '10mm': 85, '52m19s': 1193, 'possessive': 7280, 'funnies': 4435, 'cretin': 3080, 'applauded': 1724, 'unsubbing': 9335, 'demonitized': 3351, 'maaaaannn': 6083, 'fillllyyyyyyyyyyyyyyyyy': 4159, 'nicoooo': 6620, 'relise': 7665, 'celena': 2564, 'looookkkssss': 6006, 'whata': 9674, '39m27s': 892, 'meeeee': 6245, '1h08m02s': 344, 'dreams': 3576, 'oxygen': 6931, 'tatoo': 8806, 'represeçnting': 7704, 'arriba': 1766, 'papii': 6965, 'jajajajaj': 5477, 'bumba': 2418, '36m36s': 834, 'frame': 4349, 'eg': 3703, 'cat': 2549, 'hampster': 4865, 'fml': 4284, 's4': 7868, 'maadd': 6091, 'litterally': 5909, '53m38s': 1211, 'uppppppppp': 9365, 'shutup': 8161, 'horrid': 5137, '57m10s': 1241, 'crazyyyyyyyy': 3056, 'moneyy': 6410, 'listens': 5897, 'waittt': 9560, 'camp': 2487, 'nou': 6695, 'barca': 1989, 'renting': 7685, 'sidegents': 8173, '26m12s': 607, 'compromise': 2902, 'hometorturer': 5107, 'cozy': 3032, 'erryday': 3840, 'ukno': 9246, '28m52s': 649, 'esay': 3843, 'jidon': 5519, 'untouched': 9346, 'dodged': 3510, 'bullet': 2413, '5m15s': 1269, 'jajajaja': 5476, '16m41s': 167, 'concern': 2909, 'fuking': 4416, 'passionate': 6998, 'borderline': 2252, '22m56s': 515, 'dethrowned': 3391, 'dubbzies': 3609, 'milfy': 6323, 'freeak': 4361, 'boiz': 2228, 'noti': 6686, 'bamboo': 1951, 'exposes': 3942, 'teenagers': 8843, 'zero': 10077, 'fume': 4424, '31m41s': 735, 'partners': 6990, '27m23s': 621, '1h08m49s': 354, 'babyyy': 1903, 'generational': 4527, 'attentively': 1821, 'shipping': 8106, 'celine': 2568, 'hardddddd': 4897, 'marriage': 6179, 'aweful': 1856, 'slags': 8271, 'shamed': 8066, '50m48s': 1172, 'cockney': 2798, 'rhyming': 7756, 'slang': 8272, 'hejaaaaa': 4986, 'charles': 2618, 'ennglish': 3795, 'salina': 7885, '1h00m40s': 261, 'fkg': 4245, 'outfits': 6896, '5m47s': 1278, 'متتتت': 10116, '34m06s': 782, 'mmmm': 6381, 'news': 6601, 'rapper': 7549, 'yxngfilly': 10066, 'arrested': 1765, 'stratory': 8594, 'rape': 7547, 'spicy': 8465, 'girlses': 4583, 'thatd': 8885, 'shht': 8091, 'grabbin': 4701, 'besr': 2092, 'removed': 7680, 'beeest': 2050, 'not': 6678, 'zuu': 10095, 'moooooore': 6421, '34m49s': 801, '34m52s': 804, 'xdd': 9874, 'scientific': 7949, 'bcus': 2015, 'goooooood': 4668, 'amouof': 1656, 'waddled': 9549, 'industry': 5331, 'pathetic': 7004, '47m03s': 1044, 'dedicated': 3305, 'rapping': 7550, '30m03s': 713, 'daaaaammmmmmmmmmmmnnnnnn': 3185, '36m42s': 837, 'porna': 7271, 'dzae4': 3645, 'ab_channel': 1427, 'basskarma633': 2006, 'palm': 6957, 'ksy': 5679, 'lowk': 6048, 'kath': 5596, 'furrys': 4449, 'legendddd': 5775, 'top3': 9076, '30m35s': 723, '52m55s': 1204, '1h01m02s': 268, '1h06m25s': 333, '1h07m56s': 340, 'nlol': 6634, 'snatch': 8345, 'hehehe': 4981, 'dang': 3225, 'perhaps': 7065, 'experiencing': 3935, 'cow': 3030, 'uebd': 9231, 'dudkakavwbeisabddjdj': 3615, 'likeable': 5865, '105k': 45, 'sheeeeesh': 8077, 'millwall': 6335, 'dripping': 3584, 'fyee': 4461, 'yooow': 10026, 'wwwwwwwwwwwwww': 9867, 'classy': 2744, 'ahhhhhhhhhhhh': 1568, 'filllllllllyyyy': 4145, 'cyperius': 3172, 'valid': 9397, 'castrooo': 2546, 'whatttttt': 9679, 'finsheddddd': 4220, 'dyinggggggggggg': 3641, 'pumps': 7450, '18m44s': 219, 'bossed': 2259, 'remembering': 7673, 'heated': 4964, 'boxed': 2275, 'sexist': 8053, 'rubbish': 7848, 'raah': 7514, 'bangbros': 1958, 'madddd': 6103, 'dawgggggg': 3260, 'enjoyement': 3790, 'nostalgia': 6677, 'lmfaooooooooooooooo': 5950, 'afer': 1513, '9m03s': 1379, 'jigglebacks': 5521, 'bully': 2416, 'opened': 6854, 'heater': 4965, 'staunton': 8538, 'resolution': 7718, 'council': 3018, 'residents': 7712, 'reports': 7697, 'republic': 7705, 'sponsored': 8479, 'prisoners': 7368, 'conscience': 2941, 'global': 4594, 'trafficking': 9112, 'component': 2897, 'involves': 5424, 'coerced': 2802, 'individuals': 5328, 'traveling': 9134, 'procedures': 7379, 'transplantation': 9125, 'increasingly': 5318, 'prevalent': 7354, 'readily': 7582, 'discoverable': 3470, 'recipients': 7610, 'unaware': 9262, 'donors': 3536, 'whether': 9689, 'donated': 3533, 'procured': 7381, 'voluntarily': 9525, 'accordance': 1454, 'ethical': 3861, 'growing': 4741, 'evidence': 3894, 'sponsoring': 8480, 'ethnic': 3862, 'minority': 6349, 'dafa': 3195, 'independent': 5322, 'partisan': 6988, 'governmental': 4693, 'tribunals': 9152, 'coalition': 2792, 'etac': 3857, 'tribunal': 9151, 'united': 9304, 'representatives': 7700, 'unanimously': 9260, 'adopted': 1498, '343': 778, 'systemic': 8759, 'sanctioned': 7896, 'government': 4692, 'public': 7439, 'nonconsensual': 6652, 'received': 7604, 'eighty': 3713, 'september': 8035, 'urging': 9377, 'inform': 5339, 'informed': 5341, 'assist': 1793, 'resolved': 7719, 'serving': 8044, 'surrounding': 8722, 'region': 7644, 'risks': 7781, 'transplants': 9126, 'citizens': 2717, 'unknowingly': 9308, 'receiving': 7606, 'opposes': 6862, 'copy': 2994, 'governor': 4695, 'commonwealth': 2876, 'senators': 8025, 'sends': 8027, 'jkman': 5530, 'istfg': 5448, 'sealed': 7974, 'escape': 3844, 'collaborate': 2816, 'lags': 5698, 'dignity': 3433, 'selfs': 8016, 'plastic': 7184, 'therapist': 8903, 'soke': 8377, 'ít': 10098, 'juѕt': 5586, 'pαrfumє': 7481, '01h08m35s': 6, 'brace': 2288, 'annyone': 1680, 'finny': 4219, 'yesh': 9965, '1300': 111, '55m11s': 1231, 'classsss': 2743, '30m04s': 714, 'reloading': 7666, 'bahahahah': 1932, '31m04s': 731, 'lmfaaaooo': 5939, 'troughout': 9169, 'chicks': 2657, 'pftt': 7097, 'racks': 7520, 'legendaryyyyy': 5774, 'bruuuuuuh': 2380, 'stays': 8542, 'slapt': 8281, '19m47s': 239, 'context': 2961, 'brooooooo': 2349, 'pleassssssssssssssssssssssssssssssse': 7211, 'foo': 4303, 'yrs': 10052, 'gibber': 4567, 'field': 4109, 'izzy': 5467, 'hop': 5126, 'billionaires': 2142, 'convince': 2981, 'vouching': 9529, 'narrrsyinggg': 6539, 'hammered': 4864, 'jumpa': 5571, 'swagger': 8731, '34m57s': 806, 'irrirated': 5433, 'judgements': 5564, 'chunkssssss': 2705, 'qué': 7509, 'pasa': 6994, 'hermano': 5008, 'neeeeeeeeeeds': 6578, 'richarlison': 7759, '15k': 131, 'merlin': 6294, 'eggsy': 3704, 'kingsman': 5644, 'lunch': 6064, 'friday': 4378, '38m11s': 869, 'decisions': 3300, 'represent': 7698, 'damnitttttttttttt': 3213, 'eliteeeeeeeeeeeee': 3730, '2m48s': 694, '44m42s': 974, 'spawned': 8438, 'tape': 8795, 'ulot': 9247, '14m': 120, 'shrooms': 8156, 'npkn2nlahj4': 6702, 'damnnnnnnn': 3219, 'crazzyyy': 3057, 'points': 7245, 'filllyyyyyyyy': 4166, 'starving': 8532, 'submissive': 8647, 'clowned': 2784, 'jerk': 5504, 'edited': 3681, 'mutch': 6496, '8m36s': 1366, 'ehrenmann': 3709, 'rasho': 7556, 'eddy': 3678, 'delirious': 3339, 'litt': 5907, 'gooood': 4662, 'thanos': 8882, 'snap': 8344, 'thatll': 8886, 'poc': 7238, 'sifemen': 8190, 'weeeeeeeeeee': 9638, 'cuff': 3137, 'unmatchef': 9317, 'curly': 3150, 'badd': 1917, 'lana': 5702, 'rey': 7754, 'incel': 5308, '33m13s': 761, 'thia': 8918, 'yaaaaaaaaaaahhhhhh': 9890, 'maaaaaaaaaaaaaaaaaan': 6074, 'linebacker': 5880, 'endless': 3772, 'runny': 7862, 'related': 7656, 'chatting': 2630, 'disclaimers': 3466, 'fees': 4077, 'waivers': 9562, 'complicit': 2894, 'fool': 4308, '1995': 228, 'parks': 6977, '1h03m46s': 294, 'lmfaoooooooooooooooooooooo': 5953, 'autobots': 1841, 'assemble': 1787, 'contrast': 2971, 'forgeth': 4324, 'conflicted': 2930, 'gigachad': 4573, 'maannnn': 6095, 'warm': 9589, 'regards': 7643, 'madder': 6106, 'fiction': 4107, 'santan': 7902, 'forsureee': 4333, 'stressful': 8603, 'scrappy': 7955, 'minuets': 6354, '23fillyforpresident': 525, 'fillyforpresident': 4173, '45m49s': 997}\n"
          ]
        }
      ]
    },
    {
      "cell_type": "code",
      "source": [
        "vocab = vect.vocabulary_"
      ],
      "metadata": {
        "id": "KKBuOn9lc1tS"
      },
      "execution_count": 51,
      "outputs": []
    },
    {
      "cell_type": "code",
      "source": [
        "# for key,value in vocab.items():\n",
        "#     if(value == 162):\n",
        "#         print(key)"
      ],
      "metadata": {
        "id": "bQlONe66c37v"
      },
      "execution_count": 52,
      "outputs": []
    },
    {
      "cell_type": "markdown",
      "source": [
        "Importing the logistic regression classifer and fitting on the training dataset"
      ],
      "metadata": {
        "id": "FOJgs6tjc6ws"
      }
    },
    {
      "cell_type": "code",
      "source": [
        "from sklearn.linear_model import LogisticRegression\n",
        "lr = LogisticRegression()\n",
        "lr.fit(tf_train,y_train)"
      ],
      "metadata": {
        "colab": {
          "base_uri": "https://localhost:8080/"
        },
        "id": "3lTnGu39c7Xj",
        "outputId": "1ff9b4c5-1a23-4805-f7d1-3e064646e0e8"
      },
      "execution_count": 53,
      "outputs": [
        {
          "output_type": "execute_result",
          "data": {
            "text/plain": [
              "LogisticRegression()"
            ]
          },
          "metadata": {},
          "execution_count": 53
        }
      ]
    },
    {
      "cell_type": "markdown",
      "source": [
        "# Accuracy Scores, Confusion Matrix & F1 Score"
      ],
      "metadata": {
        "id": "XuxE4Cu8dCVm"
      }
    },
    {
      "cell_type": "markdown",
      "source": [
        "Accuracy score on training dataset"
      ],
      "metadata": {
        "id": "_5feS-XgdFP7"
      }
    },
    {
      "cell_type": "code",
      "source": [
        "lr.score(tf_train,y_train)"
      ],
      "metadata": {
        "colab": {
          "base_uri": "https://localhost:8080/"
        },
        "id": "bVVzGGK3dG0b",
        "outputId": "1a1788a6-13b9-44fb-e2ac-33786db8749a"
      },
      "execution_count": 54,
      "outputs": [
        {
          "output_type": "execute_result",
          "data": {
            "text/plain": [
              "0.9634716540035068"
            ]
          },
          "metadata": {},
          "execution_count": 54
        }
      ]
    },
    {
      "cell_type": "markdown",
      "source": [
        "Accuracy score on test dataset i.e got from the splitting"
      ],
      "metadata": {
        "id": "w2ArrfLhdLIU"
      }
    },
    {
      "cell_type": "code",
      "source": [
        "lr.score(tf_test,y_test)"
      ],
      "metadata": {
        "colab": {
          "base_uri": "https://localhost:8080/"
        },
        "id": "Pd4wrdNjdLhz",
        "outputId": "556fd21b-3eb4-4b47-8081-9e7bbca5f43f"
      },
      "execution_count": 55,
      "outputs": [
        {
          "output_type": "execute_result",
          "data": {
            "text/plain": [
              "0.9470095460744204"
            ]
          },
          "metadata": {},
          "execution_count": 55
        }
      ]
    },
    {
      "cell_type": "markdown",
      "source": [
        "Make predictions on the test dataset i.e. unseen data to the model"
      ],
      "metadata": {
        "id": "1zVQ-fmqdmg0"
      }
    },
    {
      "cell_type": "code",
      "source": [
        "expected = y_test\n",
        "predicted = lr.predict(tf_test)"
      ],
      "metadata": {
        "id": "tcUlYqQ6dnO9"
      },
      "execution_count": 56,
      "outputs": []
    },
    {
      "cell_type": "markdown",
      "source": [
        "Plotting confusion matrix for the test dataset"
      ],
      "metadata": {
        "id": "G9uIoxqEdps2"
      }
    },
    {
      "cell_type": "code",
      "source": [
        "from mlxtend.plotting import plot_confusion_matrix\n",
        "import matplotlib.pyplot as plt\n",
        "import numpy as np"
      ],
      "metadata": {
        "id": "uvvtkq5WdsW5"
      },
      "execution_count": 57,
      "outputs": []
    },
    {
      "cell_type": "code",
      "source": [
        "pip install mlxtend"
      ],
      "metadata": {
        "colab": {
          "base_uri": "https://localhost:8080/"
        },
        "id": "IK55OzVudww6",
        "outputId": "ce479f6b-e753-4163-84f8-1b8544888bb4"
      },
      "execution_count": 58,
      "outputs": [
        {
          "output_type": "stream",
          "name": "stdout",
          "text": [
            "Looking in indexes: https://pypi.org/simple, https://us-python.pkg.dev/colab-wheels/public/simple/\n",
            "Requirement already satisfied: mlxtend in /usr/local/lib/python3.7/dist-packages (0.14.0)\n",
            "Requirement already satisfied: scikit-learn>=0.18 in /usr/local/lib/python3.7/dist-packages (from mlxtend) (1.0.2)\n",
            "Requirement already satisfied: setuptools in /usr/local/lib/python3.7/dist-packages (from mlxtend) (57.4.0)\n",
            "Requirement already satisfied: matplotlib>=1.5.1 in /usr/local/lib/python3.7/dist-packages (from mlxtend) (3.2.2)\n",
            "Requirement already satisfied: numpy>=1.10.4 in /usr/local/lib/python3.7/dist-packages (from mlxtend) (1.21.6)\n",
            "Requirement already satisfied: scipy>=0.17 in /usr/local/lib/python3.7/dist-packages (from mlxtend) (1.4.1)\n",
            "Requirement already satisfied: pandas>=0.17.1 in /usr/local/lib/python3.7/dist-packages (from mlxtend) (1.3.5)\n",
            "Requirement already satisfied: cycler>=0.10 in /usr/local/lib/python3.7/dist-packages (from matplotlib>=1.5.1->mlxtend) (0.11.0)\n",
            "Requirement already satisfied: kiwisolver>=1.0.1 in /usr/local/lib/python3.7/dist-packages (from matplotlib>=1.5.1->mlxtend) (1.4.3)\n",
            "Requirement already satisfied: pyparsing!=2.0.4,!=2.1.2,!=2.1.6,>=2.0.1 in /usr/local/lib/python3.7/dist-packages (from matplotlib>=1.5.1->mlxtend) (3.0.9)\n",
            "Requirement already satisfied: python-dateutil>=2.1 in /usr/local/lib/python3.7/dist-packages (from matplotlib>=1.5.1->mlxtend) (2.8.2)\n",
            "Requirement already satisfied: typing-extensions in /usr/local/lib/python3.7/dist-packages (from kiwisolver>=1.0.1->matplotlib>=1.5.1->mlxtend) (4.1.1)\n",
            "Requirement already satisfied: pytz>=2017.3 in /usr/local/lib/python3.7/dist-packages (from pandas>=0.17.1->mlxtend) (2022.1)\n",
            "Requirement already satisfied: six>=1.5 in /usr/local/lib/python3.7/dist-packages (from python-dateutil>=2.1->matplotlib>=1.5.1->mlxtend) (1.15.0)\n",
            "Requirement already satisfied: joblib>=0.11 in /usr/local/lib/python3.7/dist-packages (from scikit-learn>=0.18->mlxtend) (1.1.0)\n",
            "Requirement already satisfied: threadpoolctl>=2.0.0 in /usr/local/lib/python3.7/dist-packages (from scikit-learn>=0.18->mlxtend) (3.1.0)\n"
          ]
        }
      ]
    },
    {
      "cell_type": "code",
      "source": [
        "cf = metrics.confusion_matrix(expected,predicted,labels = [1,-1])\n",
        "print(cf)\n",
        "## this command is only for google collab \n",
        "## in the below figure \" 1 is actually showing -1 and 0 is actually showing 1\"\n",
        "fig, ax = plot_confusion_matrix(conf_mat = cf)\n",
        "                                \n",
        "## It canbe used in any platform\n",
        "# fig, ax = plot_confusion_matrix(conf_mat = cf, class_names = [1,-1])\n",
        "plt.show()"
      ],
      "metadata": {
        "colab": {
          "base_uri": "https://localhost:8080/",
          "height": 315
        },
        "id": "gtRWLStMd0nB",
        "outputId": "494a2580-b4b7-4919-b13a-56c2799493ee"
      },
      "execution_count": 59,
      "outputs": [
        {
          "output_type": "stream",
          "name": "stdout",
          "text": [
            "[[1739  195]\n",
            " [  77 3122]]\n"
          ]
        },
        {
          "output_type": "display_data",
          "data": {
            "text/plain": [
              "<Figure size 432x288 with 1 Axes>"
            ],
            "image/png": "[encoded data removed]"
          },
          "metadata": {
            "needs_background": "light"
          }
        }
      ]
    },
    {
      "cell_type": "markdown",
      "source": [
        "Precision, Recall, F1-score, Support for -1 & 1. \n",
        "Accuracy, macro average & weighted average."
      ],
      "metadata": {
        "id": "3tVn6itpd7gJ"
      }
    },
    {
      "cell_type": "code",
      "source": [
        "from sklearn import metrics\n",
        "print(metrics.classification_report(expected, predicted))\n",
        "# print(metrics.confusion_matrix(expected,predicted))"
      ],
      "metadata": {
        "colab": {
          "base_uri": "https://localhost:8080/"
        },
        "id": "rwlPbot6eRvY",
        "outputId": "0af883f5-5f18-4b15-f202-2e2a0b048cb4"
      },
      "execution_count": 60,
      "outputs": [
        {
          "output_type": "stream",
          "name": "stdout",
          "text": [
            "              precision    recall  f1-score   support\n",
            "\n",
            "          -1       0.94      0.98      0.96      3199\n",
            "           1       0.96      0.90      0.93      1934\n",
            "\n",
            "    accuracy                           0.95      5133\n",
            "   macro avg       0.95      0.94      0.94      5133\n",
            "weighted avg       0.95      0.95      0.95      5133\n",
            "\n"
          ]
        }
      ]
    },
    {
      "cell_type": "markdown",
      "source": [
        "F1 Score"
      ],
      "metadata": {
        "id": "cqerUDOOeX9t"
      }
    },
    {
      "cell_type": "code",
      "source": [
        "from sklearn.metrics import f1_score\n",
        "f1_score(expected, predicted, average='macro')"
      ],
      "metadata": {
        "colab": {
          "base_uri": "https://localhost:8080/"
        },
        "id": "NANW3pOweaQN",
        "outputId": "9f37c550-640b-4aa2-bef7-f96151e69040"
      },
      "execution_count": 61,
      "outputs": [
        {
          "output_type": "execute_result",
          "data": {
            "text/plain": [
              "0.9428616329036219"
            ]
          },
          "metadata": {},
          "execution_count": 61
        }
      ]
    }
  ]
}